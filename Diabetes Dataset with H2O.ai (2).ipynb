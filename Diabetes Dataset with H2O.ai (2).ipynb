{
 "cells": [
  {
   "cell_type": "markdown",
   "metadata": {},
   "source": [
    "# Diabetes Dataset with H2O.ai(2)\n",
    "\n",
    "**By: Yashasvi Jariwala**\n",
    "\n",
    "Dataset : Diabetes (\"https://www.kaggle.com/mehdidag/pima-indians\")"
   ]
  },
  {
   "cell_type": "code",
   "execution_count": 3,
   "metadata": {},
   "outputs": [
    {
     "name": "stderr",
     "output_type": "stream",
     "text": [
      "/anaconda3/lib/python3.6/importlib/_bootstrap.py:219: RuntimeWarning: numpy.dtype size changed, may indicate binary incompatibility. Expected 96, got 88\n",
      "  return f(*args, **kwds)\n"
     ]
    }
   ],
   "source": [
    "import h2o\n",
    "from h2o.automl import H2OAutoML\n",
    "import random, os, sys\n",
    "from datetime import datetime\n",
    "import pandas as pd\n",
    "import logging\n",
    "import csv\n",
    "import optparse\n",
    "import time\n",
    "import json\n",
    "from distutils.util import strtobool\n"
   ]
  },
  {
   "cell_type": "code",
   "execution_count": 1,
   "metadata": {},
   "outputs": [
    {
     "data": {
      "text/plain": [
       "'/Users/yashasvijariwala'"
      ]
     },
     "execution_count": 1,
     "metadata": {},
     "output_type": "execute_result"
    }
   ],
   "source": [
    "pwd"
   ]
  },
  {
   "cell_type": "code",
   "execution_count": 2,
   "metadata": {},
   "outputs": [
    {
     "name": "stdout",
     "output_type": "stream",
     "text": [
      "/Users/yashasvijariwala/Desktop\n"
     ]
    }
   ],
   "source": [
    "cd Desktop"
   ]
  },
  {
   "cell_type": "code",
   "execution_count": 4,
   "metadata": {},
   "outputs": [],
   "source": [
    "data_path=None\n",
    "all_variables=None\n",
    "test_path=None\n",
    "target=None\n",
    "nthreads=1 \n",
    "min_mem_size=6 \n",
    "run_time=333\n",
    "classification=False\n",
    "scale=False\n",
    "max_models=9    \n",
    "model_path=None\n",
    "balance_y=False \n",
    "balance_threshold=0.2\n",
    "name=None \n",
    "server_path=None  \n",
    "analysis=0"
   ]
  },
  {
   "cell_type": "code",
   "execution_count": 5,
   "metadata": {},
   "outputs": [],
   "source": [
    "# Functions\n",
    "\n",
    "def alphabet(n):\n",
    "  alpha='0123456789abcdefghijklmnopqrstuvwxyzABCDEFGHIJKLMNOPQRSTUVWXYZ'    \n",
    "  str=''\n",
    "  r=len(alpha)-1   \n",
    "  while len(str)<n:\n",
    "    i=random.randint(0,r)\n",
    "    str+=alpha[i]   \n",
    "  return str\n",
    "  \n",
    "  \n",
    "def set_meta_data(run_id,analysis,target,run_time,classification,scale,model,balance,balance_threshold,name,nthreads,min_mem_size):\n",
    "  m_data={}\n",
    "  m_data['run_id'] =run_id\n",
    "  m_data['start_time'] = time.time()\n",
    "  m_data['target']=target\n",
    "  m_data['max_models']=model\n",
    "  m_data['run_time']=run_time\n",
    "  m_data['scale']=scale\n",
    "  m_data['classification']=classification\n",
    "  m_data['scale']=False\n",
    "  m_data['balance']=balance\n",
    "  m_data['balance_threshold']=balance_threshold\n",
    "  m_data['project'] =name\n",
    "  m_data['end_time'] = time.time()\n",
    "  m_data['execution_time'] = 0.0\n",
    "  m_data['nthreads'] = nthreads\n",
    "  m_data['min_mem_size'] = min_mem_size\n",
    "  m_data['analysis'] = analysis\n",
    "  return m_data\n",
    "\n",
    "\n",
    "def dict_to_json(dct,n):\n",
    "  j = json.dumps(dct, indent=4)\n",
    "  f = open(n, 'w')\n",
    "  print(j, file=f)\n",
    "  f.close()\n",
    "  \n",
    "  \n",
    "def stackedensemble(mod):\n",
    "    coef_norm=None\n",
    "    try:\n",
    "      metalearner = h2o.get_model(mod.metalearner()['name'])\n",
    "      coef_norm=metalearner.coef_norm()\n",
    "    except:\n",
    "      pass        \n",
    "    return coef_norm\n",
    "\n",
    "def stackedensemble_df(df):\n",
    "    bm_algo={ 'GBM': None,'GLM': None,'DRF': None,'XRT': None,'Dee': None}\n",
    "    for index, row in df.iterrows():\n",
    "      if len(row['model_id'])>3:\n",
    "        key=row['model_id'][0:3]\n",
    "        if key in bm_algo:\n",
    "          if bm_algo[key] is None:\n",
    "                bm_algo[key]=row['model_id']\n",
    "    bm=list(bm_algo.values()) \n",
    "    bm=list(filter(None.__ne__, bm))             \n",
    "    return bm\n",
    "\n",
    "def se_stats(modl):\n",
    "    d={}\n",
    "    d['algo']=modl.algo\n",
    "    d['model_id']=modl.model_id   \n",
    "    d['auc']=modl.auc()   \n",
    "    d['roc']=modl.roc()\n",
    "    d['mse']=modl.mse()   \n",
    "    d['null_degrees_of_freedom']=modl.null_degrees_of_freedom()\n",
    "    d['null_deviance']=modl.null_deviance()\n",
    "    d['residual_degrees_of_freedom']=modl.residual_degrees_of_freedom()   \n",
    "    d['residual_deviance']=modl.residual_deviance()\n",
    "    d['rmse']=modl.rmse()\n",
    "    return d\n",
    "\n",
    "def get_model_by_algo(algo,models_dict):\n",
    "    mod=None\n",
    "    mod_id=None    \n",
    "    for m in list(models_dict.keys()):\n",
    "        if m[0:3]==algo:\n",
    "            mod_id=m\n",
    "            mod=h2o.get_model(m)      \n",
    "    return mod,mod_id     \n",
    "    \n",
    "    \n",
    "def gbm_stats(modl):\n",
    "    d={}\n",
    "    d['algo']=modl.algo\n",
    "    d['model_id']=modl.model_id   \n",
    "    d['varimp']=modl.varimp()  \n",
    "    return d\n",
    "    \n",
    "    \n",
    "def dl_stats(modl):\n",
    "    d={}\n",
    "    d['algo']=modl.algo\n",
    "    d['model_id']=modl.model_id   \n",
    "    d['varimp']=modl.varimp()  \n",
    "    return d\n",
    "    \n",
    "    \n",
    "def drf_stats(modl):\n",
    "    d={}\n",
    "    d['algo']=modl.algo\n",
    "    d['model_id']=modl.model_id   \n",
    "    d['varimp']=modl.varimp()  \n",
    "    d['roc']=modl.roc()      \n",
    "    return d\n",
    "    \n",
    "def xrt_stats(modl):\n",
    "    d={}\n",
    "    d['algo']=modl.algo\n",
    "    d['model_id']=modl.model_id   \n",
    "    d['varimp']=modl.varimp()  \n",
    "    d['roc']=modl.roc()      \n",
    "    return d\n",
    "    \n",
    "    \n",
    "def glm_stats(modl):\n",
    "    d={}\n",
    "    d['algo']=modl.algo\n",
    "    d['model_id']=modl.model_id   \n",
    "    d['coef']=modl.coef()  \n",
    "    d['coef_norm']=modl.coef_norm()      \n",
    "    return d\n",
    "    \n",
    "def model_performance_stats(perf):\n",
    "    d={}\n",
    "    try:    \n",
    "      d['mse']=perf.mse()\n",
    "    except:\n",
    "      pass      \n",
    "    try:    \n",
    "      d['rmse']=perf.rmse() \n",
    "    except:\n",
    "      pass      \n",
    "    try:    \n",
    "      d['null_degrees_of_freedom']=perf.null_degrees_of_freedom()\n",
    "    except:\n",
    "      pass      \n",
    "    try:    \n",
    "      d['residual_degrees_of_freedom']=perf.residual_degrees_of_freedom()\n",
    "    except:\n",
    "      pass      \n",
    "    try:    \n",
    "      d['residual_deviance']=perf.residual_deviance() \n",
    "    except:\n",
    "      pass      \n",
    "    try:    \n",
    "      d['null_deviance']=perf.null_deviance() \n",
    "    except:\n",
    "      pass      \n",
    "    try:    \n",
    "      d['aic']=perf.aic() \n",
    "    except:\n",
    "      pass      \n",
    "    try:\n",
    "      d['logloss']=perf.logloss() \n",
    "    except:\n",
    "      pass    \n",
    "    try:\n",
    "      d['auc']=perf.auc()\n",
    "    except:\n",
    "      pass  \n",
    "    try:\n",
    "      d['gini']=perf.gini()\n",
    "    except:\n",
    "      pass    \n",
    "    return d\n",
    "    \n",
    "def impute_missing_values(df, x, scal=False):\n",
    "    # determine column types\n",
    "    ints, reals, enums = [], [], []\n",
    "    for key, val in df.types.items():\n",
    "        if key in x:\n",
    "            if val == 'enum':\n",
    "                enums.append(key)\n",
    "            elif val == 'int':\n",
    "                ints.append(key)            \n",
    "            else: \n",
    "                reals.append(key)    \n",
    "    _ = df[reals].impute(method='mean')\n",
    "    _ = df[ints].impute(method='median')\n",
    "    if scal:\n",
    "        df[reals] = df[reals].scale()\n",
    "        df[ints] = df[ints].scale()    \n",
    "    return\n",
    "\n",
    "\n",
    "def get_independent_variables(df, targ):\n",
    "    C = [name for name in df.columns if name != targ]\n",
    "    # determine column types\n",
    "    ints, reals, enums = [], [], []\n",
    "    for key, val in df.types.items():\n",
    "        if key in C:\n",
    "            if val == 'enum':\n",
    "                enums.append(key)\n",
    "            elif val == 'int':\n",
    "                ints.append(key)            \n",
    "            else: \n",
    "                reals.append(key)    \n",
    "    x=ints+enums+reals\n",
    "    return x\n",
    "    \n",
    "def get_all_variables_csv(i):\n",
    "    ivd={}\n",
    "    try:\n",
    "      iv = pd.read_csv(i,header=None)\n",
    "    except:\n",
    "      sys.exit(1)    \n",
    "    col=iv.values.tolist()[0]\n",
    "    dt=iv.values.tolist()[1]\n",
    "    i=0\n",
    "    for c in col:\n",
    "      ivd[c.strip()]=dt[i].strip()\n",
    "      i+=1        \n",
    "    return ivd\n",
    "    \n",
    "    \n",
    "\n",
    "def check_all_variables(df,dct,y=None):     \n",
    "    targ=list(dct.keys())     \n",
    "    for key, val in df.types.items():\n",
    "        if key in targ:\n",
    "          if dct[key] not in ['real','int','enum']:                      \n",
    "            targ.remove(key)  \n",
    "    for key, val in df.types.items():\n",
    "        if key in targ:            \n",
    "          if dct[key] != val:\n",
    "            print('convert ',key,' ',dct[key],' ',val)\n",
    "            if dct[key]=='enum':\n",
    "                try:\n",
    "                  df[key] = df[key].asfactor() \n",
    "                except:\n",
    "                  targ.remove(key)                 \n",
    "            if dct[key]=='int': \n",
    "                try:                \n",
    "                  df[key] = df[key].asnumeric() \n",
    "                except:\n",
    "                  targ.remove(key)                  \n",
    "            if dct[key]=='real':\n",
    "                try:                \n",
    "                  df[key] = df[key].asnumeric()  \n",
    "                except:\n",
    "                  targ.remove(key)                  \n",
    "    if y is None:\n",
    "      y=df.columns[-1] \n",
    "    if y in targ:\n",
    "      targ.remove(y)\n",
    "    else:\n",
    "      y=targ.pop()            \n",
    "    return targ    \n",
    "    \n",
    "def predictions(mod,data,run_id):\n",
    "    test = h2o.import_file(data)\n",
    "    mod_perf=mod_best.model_performance(test)\n",
    "              \n",
    "    stats_test={}\n",
    "    stats_test=model_performance_stats(mod_perf)\n",
    "\n",
    "    n=run_id+'_test_stats.json'\n",
    "    dict_to_json(stats_test,n) \n",
    "\n",
    "    try:    \n",
    "      cf=mod_perf.confusion_matrix(metrics=[\"f1\",\"f2\",\"f0point5\",\"accuracy\",\"precision\",\"recall\",\"specificity\",\"absolute_mcc\",\"min_per_class_accuracy\",\"mean_per_class_accuracy\"])\n",
    "      cf_df=cf[0].table.as_data_frame()\n",
    "      cf_df.to_csv(run_id+'_test_confusion_matrix.csv')\n",
    "    except:\n",
    "      pass\n",
    "\n",
    "    predictions = mod_best.predict(test)\n",
    "    predictions_df=test.cbind(predictions).as_data_frame() \n",
    "    predictions_df.to_csv(run_id+'_predictions.csv')\n",
    "    return\n",
    "\n",
    "def predictions_test(mod,test,run_id):\n",
    "    mod_perf=mod_best.model_performance(test)          \n",
    "    stats_test={}\n",
    "    stats_test=model_performance_stats(mod_perf)\n",
    "    n=run_id+'_test_stats.json'\n",
    "    dict_to_json(stats_test,n) \n",
    "    try:\n",
    "      cf=mod_perf.confusion_matrix(metrics=[\"f1\",\"f2\",\"f0point5\",\"accuracy\",\"precision\",\"recall\",\"specificity\",\"absolute_mcc\",\"min_per_class_accuracy\",\"mean_per_class_accuracy\"])\n",
    "      cf_df=cf[0].table.as_data_frame()\n",
    "      cf_df.to_csv(run_id+'_test_confusion_matrix.csv')\n",
    "    except:\n",
    "      pass\n",
    "    predictions = mod_best.predict(test)    \n",
    "    predictions_df=test.cbind(predictions).as_data_frame() \n",
    "    predictions_df.to_csv(run_id+'_predictions.csv')\n",
    "    return predictions\n",
    "\n",
    "def check_X(x,df):\n",
    "    for name in x:\n",
    "        if name not in df.columns:\n",
    "          x.remove(name)  \n",
    "    return x    \n",
    "    \n",
    "    \n",
    "def get_stacked_ensemble(lst):\n",
    "    se=None\n",
    "    for model in model_set:\n",
    "      if 'BestOfFamily' in model:\n",
    "        se=model\n",
    "    if se is None:     \n",
    "      for model in model_set:\n",
    "        if 'AllModels'in model:\n",
    "          se=model           \n",
    "    return se       \n",
    "    \n",
    "def get_variables_types(df):\n",
    "    d={}\n",
    "    for key, val in df.types.items():\n",
    "        d[key]=val           \n",
    "    return d    \n",
    "    \n",
    "#  End Functions"
   ]
  },
  {
   "cell_type": "code",
   "execution_count": 6,
   "metadata": {},
   "outputs": [],
   "source": [
    "data_path='Diabetes.csv'"
   ]
  },
  {
   "cell_type": "code",
   "execution_count": 7,
   "metadata": {},
   "outputs": [],
   "source": [
    "data_path = os.path.join(os.path.abspath(os.curdir),data_path)"
   ]
  },
  {
   "cell_type": "code",
   "execution_count": 8,
   "metadata": {},
   "outputs": [],
   "source": [
    "all_variables=None"
   ]
  },
  {
   "cell_type": "code",
   "execution_count": 9,
   "metadata": {},
   "outputs": [
    {
     "name": "stdout",
     "output_type": "stream",
     "text": [
      "aJOlAQdcF\n"
     ]
    }
   ],
   "source": [
    "run_id=alphabet(9)\n",
    "# run_id to std out\n",
    "print (run_id)"
   ]
  },
  {
   "cell_type": "code",
   "execution_count": 10,
   "metadata": {},
   "outputs": [],
   "source": [
    "server_path=os.path.abspath(os.curdir)\n",
    "os.chdir(server_path) \n",
    "run_dir = os.path.join(server_path,run_id)\n",
    "os.mkdir(run_dir)\n",
    "os.chdir(run_dir)"
   ]
  },
  {
   "cell_type": "code",
   "execution_count": 11,
   "metadata": {},
   "outputs": [
    {
     "name": "stdout",
     "output_type": "stream",
     "text": [
      "Checking whether there is an H2O instance running at http://localhost:10091..... not found.\n",
      "Attempting to start a local H2O server...\n",
      "  Java Version: java version \"1.8.0_161\"; Java(TM) SE Runtime Environment (build 1.8.0_161-b12); Java HotSpot(TM) 64-Bit Server VM (build 25.161-b12, mixed mode)\n",
      "  Starting server from /anaconda3/lib/python3.6/site-packages/h2o/backend/bin/h2o.jar\n",
      "  Ice root: /var/folders/1p/9ykp1qd57gd26nrw11zjq09c0000gn/T/tmpjpidovyf\n",
      "  JVM stdout: /var/folders/1p/9ykp1qd57gd26nrw11zjq09c0000gn/T/tmpjpidovyf/h2o_yashasvijariwala_started_from_python.out\n",
      "  JVM stderr: /var/folders/1p/9ykp1qd57gd26nrw11zjq09c0000gn/T/tmpjpidovyf/h2o_yashasvijariwala_started_from_python.err\n",
      "  Server is running at http://127.0.0.1:10091\n",
      "Connecting to H2O server at http://127.0.0.1:10091... successful.\n"
     ]
    },
    {
     "data": {
      "text/html": [
       "<div style=\"overflow:auto\"><table style=\"width:50%\"><tr><td>H2O cluster uptime:</td>\n",
       "<td>01 secs</td></tr>\n",
       "<tr><td>H2O cluster timezone:</td>\n",
       "<td>America/New_York</td></tr>\n",
       "<tr><td>H2O data parsing timezone:</td>\n",
       "<td>UTC</td></tr>\n",
       "<tr><td>H2O cluster version:</td>\n",
       "<td>3.20.0.3</td></tr>\n",
       "<tr><td>H2O cluster version age:</td>\n",
       "<td>3 months and 21 days !!!</td></tr>\n",
       "<tr><td>H2O cluster name:</td>\n",
       "<td>H2O_from_python_yashasvijariwala_21yqk4</td></tr>\n",
       "<tr><td>H2O cluster total nodes:</td>\n",
       "<td>1</td></tr>\n",
       "<tr><td>H2O cluster free memory:</td>\n",
       "<td>5.750 Gb</td></tr>\n",
       "<tr><td>H2O cluster total cores:</td>\n",
       "<td>4</td></tr>\n",
       "<tr><td>H2O cluster allowed cores:</td>\n",
       "<td>4</td></tr>\n",
       "<tr><td>H2O cluster status:</td>\n",
       "<td>accepting new members, healthy</td></tr>\n",
       "<tr><td>H2O connection url:</td>\n",
       "<td>http://127.0.0.1:10091</td></tr>\n",
       "<tr><td>H2O connection proxy:</td>\n",
       "<td>None</td></tr>\n",
       "<tr><td>H2O internal security:</td>\n",
       "<td>False</td></tr>\n",
       "<tr><td>H2O API Extensions:</td>\n",
       "<td>XGBoost, Algos, AutoML, Core V3, Core V4</td></tr>\n",
       "<tr><td>Python version:</td>\n",
       "<td>3.6.5 final</td></tr></table></div>"
      ],
      "text/plain": [
       "--------------------------  ----------------------------------------\n",
       "H2O cluster uptime:         01 secs\n",
       "H2O cluster timezone:       America/New_York\n",
       "H2O data parsing timezone:  UTC\n",
       "H2O cluster version:        3.20.0.3\n",
       "H2O cluster version age:    3 months and 21 days !!!\n",
       "H2O cluster name:           H2O_from_python_yashasvijariwala_21yqk4\n",
       "H2O cluster total nodes:    1\n",
       "H2O cluster free memory:    5.750 Gb\n",
       "H2O cluster total cores:    4\n",
       "H2O cluster allowed cores:  4\n",
       "H2O cluster status:         accepting new members, healthy\n",
       "H2O connection url:         http://127.0.0.1:10091\n",
       "H2O connection proxy:\n",
       "H2O internal security:      False\n",
       "H2O API Extensions:         XGBoost, Algos, AutoML, Core V3, Core V4\n",
       "Python version:             3.6.5 final\n",
       "--------------------------  ----------------------------------------"
      ]
     },
     "metadata": {},
     "output_type": "display_data"
    }
   ],
   "source": [
    "# 65535 Highest port no\n",
    "port_no=random.randint(5555,55555)\n",
    "h2o.init(strict_version_check=False,min_mem_size_GB=min_mem_size,port=port_no)"
   ]
  },
  {
   "cell_type": "code",
   "execution_count": 12,
   "metadata": {},
   "outputs": [
    {
     "name": "stdout",
     "output_type": "stream",
     "text": [
      "{'run_id': 'aJOlAQdcF', 'start_time': 1541098161.5768268, 'target': None, 'max_models': 9, 'run_time': 333, 'scale': False, 'classification': False, 'balance': False, 'balance_threshold': 0.2, 'project': None, 'end_time': 1541098161.576829, 'execution_time': 0.0, 'nthreads': 1, 'min_mem_size': 6, 'analysis': 0}\n"
     ]
    }
   ],
   "source": [
    "# meta data\n",
    "meta_data = set_meta_data(run_id,analysis,target,run_time,classification,scale,max_models,balance_y,balance_threshold,name,nthreads,min_mem_size)\n",
    "print(meta_data)"
   ]
  },
  {
   "cell_type": "code",
   "execution_count": 13,
   "metadata": {},
   "outputs": [
    {
     "name": "stdout",
     "output_type": "stream",
     "text": [
      "/Users/yashasvijariwala/Desktop/Diabetes.csv\n"
     ]
    }
   ],
   "source": [
    "print(data_path)\n"
   ]
  },
  {
   "cell_type": "code",
   "execution_count": 14,
   "metadata": {},
   "outputs": [
    {
     "name": "stdout",
     "output_type": "stream",
     "text": [
      "Parse progress: |█████████████████████████████████████████████████████████| 100%\n"
     ]
    }
   ],
   "source": [
    "df = h2o.import_file(data_path)"
   ]
  },
  {
   "cell_type": "code",
   "execution_count": 17,
   "metadata": {},
   "outputs": [
    {
     "data": {
      "text/html": [
       "<table>\n",
       "<thead>\n",
       "<tr><th style=\"text-align: right;\">  C1</th><th style=\"text-align: right;\">  C2</th><th style=\"text-align: right;\">  C3</th><th style=\"text-align: right;\">  C4</th><th style=\"text-align: right;\">  C5</th><th style=\"text-align: right;\">  C6</th><th style=\"text-align: right;\">   C7</th><th style=\"text-align: right;\">  C8</th><th style=\"text-align: right;\">  C9</th></tr>\n",
       "</thead>\n",
       "<tbody>\n",
       "<tr><td style=\"text-align: right;\">   6</td><td style=\"text-align: right;\"> 148</td><td style=\"text-align: right;\">  72</td><td style=\"text-align: right;\">  35</td><td style=\"text-align: right;\">   0</td><td style=\"text-align: right;\">33.6</td><td style=\"text-align: right;\">0.627</td><td style=\"text-align: right;\">  50</td><td style=\"text-align: right;\">   1</td></tr>\n",
       "<tr><td style=\"text-align: right;\">   1</td><td style=\"text-align: right;\">  85</td><td style=\"text-align: right;\">  66</td><td style=\"text-align: right;\">  29</td><td style=\"text-align: right;\">   0</td><td style=\"text-align: right;\">26.6</td><td style=\"text-align: right;\">0.351</td><td style=\"text-align: right;\">  31</td><td style=\"text-align: right;\">   0</td></tr>\n",
       "<tr><td style=\"text-align: right;\">   8</td><td style=\"text-align: right;\"> 183</td><td style=\"text-align: right;\">  64</td><td style=\"text-align: right;\">   0</td><td style=\"text-align: right;\">   0</td><td style=\"text-align: right;\">23.3</td><td style=\"text-align: right;\">0.672</td><td style=\"text-align: right;\">  32</td><td style=\"text-align: right;\">   1</td></tr>\n",
       "<tr><td style=\"text-align: right;\">   1</td><td style=\"text-align: right;\">  89</td><td style=\"text-align: right;\">  66</td><td style=\"text-align: right;\">  23</td><td style=\"text-align: right;\">  94</td><td style=\"text-align: right;\">28.1</td><td style=\"text-align: right;\">0.167</td><td style=\"text-align: right;\">  21</td><td style=\"text-align: right;\">   0</td></tr>\n",
       "<tr><td style=\"text-align: right;\">   0</td><td style=\"text-align: right;\"> 137</td><td style=\"text-align: right;\">  40</td><td style=\"text-align: right;\">  35</td><td style=\"text-align: right;\"> 168</td><td style=\"text-align: right;\">43.1</td><td style=\"text-align: right;\">2.288</td><td style=\"text-align: right;\">  33</td><td style=\"text-align: right;\">   1</td></tr>\n",
       "<tr><td style=\"text-align: right;\">   5</td><td style=\"text-align: right;\"> 116</td><td style=\"text-align: right;\">  74</td><td style=\"text-align: right;\">   0</td><td style=\"text-align: right;\">   0</td><td style=\"text-align: right;\">25.6</td><td style=\"text-align: right;\">0.201</td><td style=\"text-align: right;\">  30</td><td style=\"text-align: right;\">   0</td></tr>\n",
       "<tr><td style=\"text-align: right;\">   3</td><td style=\"text-align: right;\">  78</td><td style=\"text-align: right;\">  50</td><td style=\"text-align: right;\">  32</td><td style=\"text-align: right;\">  88</td><td style=\"text-align: right;\">31  </td><td style=\"text-align: right;\">0.248</td><td style=\"text-align: right;\">  26</td><td style=\"text-align: right;\">   1</td></tr>\n",
       "<tr><td style=\"text-align: right;\">  10</td><td style=\"text-align: right;\"> 115</td><td style=\"text-align: right;\">   0</td><td style=\"text-align: right;\">   0</td><td style=\"text-align: right;\">   0</td><td style=\"text-align: right;\">35.3</td><td style=\"text-align: right;\">0.134</td><td style=\"text-align: right;\">  29</td><td style=\"text-align: right;\">   0</td></tr>\n",
       "<tr><td style=\"text-align: right;\">   2</td><td style=\"text-align: right;\"> 197</td><td style=\"text-align: right;\">  70</td><td style=\"text-align: right;\">  45</td><td style=\"text-align: right;\"> 543</td><td style=\"text-align: right;\">30.5</td><td style=\"text-align: right;\">0.158</td><td style=\"text-align: right;\">  53</td><td style=\"text-align: right;\">   1</td></tr>\n",
       "<tr><td style=\"text-align: right;\">   8</td><td style=\"text-align: right;\"> 125</td><td style=\"text-align: right;\">  96</td><td style=\"text-align: right;\">   0</td><td style=\"text-align: right;\">   0</td><td style=\"text-align: right;\"> 0  </td><td style=\"text-align: right;\">0.232</td><td style=\"text-align: right;\">  54</td><td style=\"text-align: right;\">   1</td></tr>\n",
       "</tbody>\n",
       "</table>"
      ]
     },
     "metadata": {},
     "output_type": "display_data"
    },
    {
     "data": {
      "text/plain": []
     },
     "execution_count": 17,
     "metadata": {},
     "output_type": "execute_result"
    }
   ],
   "source": [
    "df.head()"
   ]
  },
  {
   "cell_type": "code",
   "execution_count": 18,
   "metadata": {},
   "outputs": [
    {
     "name": "stdout",
     "output_type": "stream",
     "text": [
      "Rows:768\n",
      "Cols:9\n",
      "\n",
      "\n"
     ]
    },
    {
     "data": {
      "text/html": [
       "<table>\n",
       "<thead>\n",
       "<tr><th>       </th><th>C1               </th><th>C2                </th><th>C3                </th><th>C4                </th><th>C5                </th><th>C6               </th><th>C7                </th><th>C8                </th><th>C9                 </th></tr>\n",
       "</thead>\n",
       "<tbody>\n",
       "<tr><td>type   </td><td>int              </td><td>int               </td><td>int               </td><td>int               </td><td>int               </td><td>real             </td><td>real              </td><td>int               </td><td>int                </td></tr>\n",
       "<tr><td>mins   </td><td>0.0              </td><td>0.0               </td><td>0.0               </td><td>0.0               </td><td>0.0               </td><td>0.0              </td><td>0.078             </td><td>21.0              </td><td>0.0                </td></tr>\n",
       "<tr><td>mean   </td><td>3.845052083333336</td><td>120.89453125      </td><td>69.10546874999994 </td><td>20.536458333333357</td><td>79.79947916666666 </td><td>31.99257812500003</td><td>0.4718763020833334</td><td>33.240885416666615</td><td>0.3489583333333333 </td></tr>\n",
       "<tr><td>maxs   </td><td>17.0             </td><td>199.0             </td><td>122.0             </td><td>99.0              </td><td>846.0             </td><td>67.1             </td><td>2.42              </td><td>81.0              </td><td>1.0                </td></tr>\n",
       "<tr><td>sigma  </td><td>3.36957806269887 </td><td>31.972618195136224</td><td>19.355807170644777</td><td>15.952217567727642</td><td>115.24400235133803</td><td>7.884160320375441</td><td>0.331328595012775 </td><td>11.760231540678689</td><td>0.47695137724279896</td></tr>\n",
       "<tr><td>zeros  </td><td>111              </td><td>5                 </td><td>35                </td><td>227               </td><td>374               </td><td>11               </td><td>0                 </td><td>0                 </td><td>500                </td></tr>\n",
       "<tr><td>missing</td><td>0                </td><td>0                 </td><td>0                 </td><td>0                 </td><td>0                 </td><td>0                </td><td>0                 </td><td>0                 </td><td>0                  </td></tr>\n",
       "<tr><td>0      </td><td>6.0              </td><td>148.0             </td><td>72.0              </td><td>35.0              </td><td>0.0               </td><td>33.6             </td><td>0.627             </td><td>50.0              </td><td>1.0                </td></tr>\n",
       "<tr><td>1      </td><td>1.0              </td><td>85.0              </td><td>66.0              </td><td>29.0              </td><td>0.0               </td><td>26.6             </td><td>0.351             </td><td>31.0              </td><td>0.0                </td></tr>\n",
       "<tr><td>2      </td><td>8.0              </td><td>183.0             </td><td>64.0              </td><td>0.0               </td><td>0.0               </td><td>23.3             </td><td>0.672             </td><td>32.0              </td><td>1.0                </td></tr>\n",
       "<tr><td>3      </td><td>1.0              </td><td>89.0              </td><td>66.0              </td><td>23.0              </td><td>94.0              </td><td>28.1             </td><td>0.167             </td><td>21.0              </td><td>0.0                </td></tr>\n",
       "<tr><td>4      </td><td>0.0              </td><td>137.0             </td><td>40.0              </td><td>35.0              </td><td>168.0             </td><td>43.1             </td><td>2.288             </td><td>33.0              </td><td>1.0                </td></tr>\n",
       "<tr><td>5      </td><td>5.0              </td><td>116.0             </td><td>74.0              </td><td>0.0               </td><td>0.0               </td><td>25.6             </td><td>0.201             </td><td>30.0              </td><td>0.0                </td></tr>\n",
       "<tr><td>6      </td><td>3.0              </td><td>78.0              </td><td>50.0              </td><td>32.0              </td><td>88.0              </td><td>31.0             </td><td>0.248             </td><td>26.0              </td><td>1.0                </td></tr>\n",
       "<tr><td>7      </td><td>10.0             </td><td>115.0             </td><td>0.0               </td><td>0.0               </td><td>0.0               </td><td>35.3             </td><td>0.134             </td><td>29.0              </td><td>0.0                </td></tr>\n",
       "<tr><td>8      </td><td>2.0              </td><td>197.0             </td><td>70.0              </td><td>45.0              </td><td>543.0             </td><td>30.5             </td><td>0.158             </td><td>53.0              </td><td>1.0                </td></tr>\n",
       "<tr><td>9      </td><td>8.0              </td><td>125.0             </td><td>96.0              </td><td>0.0               </td><td>0.0               </td><td>0.0              </td><td>0.232             </td><td>54.0              </td><td>1.0                </td></tr>\n",
       "</tbody>\n",
       "</table>"
      ]
     },
     "metadata": {},
     "output_type": "display_data"
    }
   ],
   "source": [
    "df.describe()"
   ]
  },
  {
   "cell_type": "code",
   "execution_count": 19,
   "metadata": {},
   "outputs": [],
   "source": [
    "# dependent variable\n",
    "# assign target and inputs for classification or regression\n",
    "if target==None:\n",
    "  target=df.columns[-1]   \n",
    "y = target"
   ]
  },
  {
   "cell_type": "code",
   "execution_count": 20,
   "metadata": {},
   "outputs": [
    {
     "name": "stdout",
     "output_type": "stream",
     "text": [
      "C9\n"
     ]
    }
   ],
   "source": [
    "print(y)"
   ]
  },
  {
   "cell_type": "code",
   "execution_count": 21,
   "metadata": {},
   "outputs": [
    {
     "name": "stdout",
     "output_type": "stream",
     "text": [
      "None\n"
     ]
    }
   ],
   "source": [
    "print(all_variables)"
   ]
  },
  {
   "cell_type": "code",
   "execution_count": 22,
   "metadata": {},
   "outputs": [],
   "source": [
    "if all_variables is not None:\n",
    "  ivd=get_all_variables_csv(all_variables)\n",
    "  print(ivd)    \n",
    "  X=check_all_variables(df,ivd,y)\n",
    "  print(X)"
   ]
  },
  {
   "cell_type": "code",
   "execution_count": 23,
   "metadata": {},
   "outputs": [
    {
     "name": "stdout",
     "output_type": "stream",
     "text": [
      "Rows:768\n",
      "Cols:9\n",
      "\n",
      "\n"
     ]
    },
    {
     "data": {
      "text/html": [
       "<table>\n",
       "<thead>\n",
       "<tr><th>       </th><th>C1               </th><th>C2                </th><th>C3                </th><th>C4                </th><th>C5                </th><th>C6               </th><th>C7                </th><th>C8                </th><th>C9                 </th></tr>\n",
       "</thead>\n",
       "<tbody>\n",
       "<tr><td>type   </td><td>int              </td><td>int               </td><td>int               </td><td>int               </td><td>int               </td><td>real             </td><td>real              </td><td>int               </td><td>int                </td></tr>\n",
       "<tr><td>mins   </td><td>0.0              </td><td>0.0               </td><td>0.0               </td><td>0.0               </td><td>0.0               </td><td>0.0              </td><td>0.078             </td><td>21.0              </td><td>0.0                </td></tr>\n",
       "<tr><td>mean   </td><td>3.845052083333336</td><td>120.89453125      </td><td>69.10546874999994 </td><td>20.536458333333357</td><td>79.79947916666666 </td><td>31.99257812500003</td><td>0.4718763020833334</td><td>33.240885416666615</td><td>0.3489583333333333 </td></tr>\n",
       "<tr><td>maxs   </td><td>17.0             </td><td>199.0             </td><td>122.0             </td><td>99.0              </td><td>846.0             </td><td>67.1             </td><td>2.42              </td><td>81.0              </td><td>1.0                </td></tr>\n",
       "<tr><td>sigma  </td><td>3.36957806269887 </td><td>31.972618195136224</td><td>19.355807170644777</td><td>15.952217567727642</td><td>115.24400235133803</td><td>7.884160320375441</td><td>0.331328595012775 </td><td>11.760231540678689</td><td>0.47695137724279896</td></tr>\n",
       "<tr><td>zeros  </td><td>111              </td><td>5                 </td><td>35                </td><td>227               </td><td>374               </td><td>11               </td><td>0                 </td><td>0                 </td><td>500                </td></tr>\n",
       "<tr><td>missing</td><td>0                </td><td>0                 </td><td>0                 </td><td>0                 </td><td>0                 </td><td>0                </td><td>0                 </td><td>0                 </td><td>0                  </td></tr>\n",
       "<tr><td>0      </td><td>6.0              </td><td>148.0             </td><td>72.0              </td><td>35.0              </td><td>0.0               </td><td>33.6             </td><td>0.627             </td><td>50.0              </td><td>1.0                </td></tr>\n",
       "<tr><td>1      </td><td>1.0              </td><td>85.0              </td><td>66.0              </td><td>29.0              </td><td>0.0               </td><td>26.6             </td><td>0.351             </td><td>31.0              </td><td>0.0                </td></tr>\n",
       "<tr><td>2      </td><td>8.0              </td><td>183.0             </td><td>64.0              </td><td>0.0               </td><td>0.0               </td><td>23.3             </td><td>0.672             </td><td>32.0              </td><td>1.0                </td></tr>\n",
       "<tr><td>3      </td><td>1.0              </td><td>89.0              </td><td>66.0              </td><td>23.0              </td><td>94.0              </td><td>28.1             </td><td>0.167             </td><td>21.0              </td><td>0.0                </td></tr>\n",
       "<tr><td>4      </td><td>0.0              </td><td>137.0             </td><td>40.0              </td><td>35.0              </td><td>168.0             </td><td>43.1             </td><td>2.288             </td><td>33.0              </td><td>1.0                </td></tr>\n",
       "<tr><td>5      </td><td>5.0              </td><td>116.0             </td><td>74.0              </td><td>0.0               </td><td>0.0               </td><td>25.6             </td><td>0.201             </td><td>30.0              </td><td>0.0                </td></tr>\n",
       "<tr><td>6      </td><td>3.0              </td><td>78.0              </td><td>50.0              </td><td>32.0              </td><td>88.0              </td><td>31.0             </td><td>0.248             </td><td>26.0              </td><td>1.0                </td></tr>\n",
       "<tr><td>7      </td><td>10.0             </td><td>115.0             </td><td>0.0               </td><td>0.0               </td><td>0.0               </td><td>35.3             </td><td>0.134             </td><td>29.0              </td><td>0.0                </td></tr>\n",
       "<tr><td>8      </td><td>2.0              </td><td>197.0             </td><td>70.0              </td><td>45.0              </td><td>543.0             </td><td>30.5             </td><td>0.158             </td><td>53.0              </td><td>1.0                </td></tr>\n",
       "<tr><td>9      </td><td>8.0              </td><td>125.0             </td><td>96.0              </td><td>0.0               </td><td>0.0               </td><td>0.0              </td><td>0.232             </td><td>54.0              </td><td>1.0                </td></tr>\n",
       "</tbody>\n",
       "</table>"
      ]
     },
     "metadata": {},
     "output_type": "display_data"
    }
   ],
   "source": [
    "df.describe()"
   ]
  },
  {
   "cell_type": "code",
   "execution_count": 24,
   "metadata": {},
   "outputs": [],
   "source": [
    "\n",
    "# independent variables\n",
    "\n",
    "X = []  \n",
    "if all_variables is None:\n",
    "  X=get_independent_variables(df, target)  \n",
    "else: \n",
    "  ivd=get_all_variables_csv(all_variables)    \n",
    "  X=check_all_variables(df, ivd)\n",
    "\n",
    "\n",
    "X=check_X(X,df)\n",
    "\n",
    "\n",
    "# Add independent variables\n",
    "\n",
    "meta_data['X']=X  \n",
    "\n",
    "\n",
    "# impute missing values\n",
    "\n",
    "_=impute_missing_values(df,X, scale)"
   ]
  },
  {
   "cell_type": "code",
   "execution_count": 25,
   "metadata": {},
   "outputs": [],
   "source": [
    "if analysis == 3:\n",
    "  classification=False\n",
    "elif analysis == 2:\n",
    "  classification=True\n",
    "elif analysis == 1:\n",
    "  classification=True"
   ]
  },
  {
   "cell_type": "code",
   "execution_count": 26,
   "metadata": {},
   "outputs": [
    {
     "name": "stdout",
     "output_type": "stream",
     "text": [
      "False\n"
     ]
    }
   ],
   "source": [
    "print(classification)"
   ]
  },
  {
   "cell_type": "code",
   "execution_count": 27,
   "metadata": {},
   "outputs": [],
   "source": [
    "# Force target to be factors\n",
    "# Only 'int' or 'string' are allowed for asfactor(), got Target (Total orders):real \n",
    "\n",
    "if classification:\n",
    "    df[y] = df[y].asfactor()"
   ]
  },
  {
   "cell_type": "code",
   "execution_count": 28,
   "metadata": {},
   "outputs": [],
   "source": [
    "def check_y(y,df):\n",
    "  ok=False\n",
    "  C = [name for name in df.columns if name == y]\n",
    "  for key, val in df.types.items():\n",
    "    if key in C:\n",
    "      if val in ['real','int','enum']:        \n",
    "        ok=True         \n",
    "  return ok, val"
   ]
  },
  {
   "cell_type": "code",
   "execution_count": 29,
   "metadata": {},
   "outputs": [],
   "source": [
    "ok,val=check_y(y,df)"
   ]
  },
  {
   "cell_type": "code",
   "execution_count": 30,
   "metadata": {},
   "outputs": [
    {
     "name": "stdout",
     "output_type": "stream",
     "text": [
      "int\n"
     ]
    }
   ],
   "source": [
    "print(val)"
   ]
  },
  {
   "cell_type": "code",
   "execution_count": 31,
   "metadata": {},
   "outputs": [
    {
     "name": "stdout",
     "output_type": "stream",
     "text": [
      "True\n"
     ]
    }
   ],
   "source": [
    "print(ok)"
   ]
  },
  {
   "cell_type": "code",
   "execution_count": 32,
   "metadata": {},
   "outputs": [
    {
     "name": "stdout",
     "output_type": "stream",
     "text": [
      "[]\n"
     ]
    }
   ],
   "source": [
    "if val=='int':\n",
    "    print((df[y].levels()))"
   ]
  },
  {
   "cell_type": "code",
   "execution_count": 33,
   "metadata": {},
   "outputs": [
    {
     "name": "stdout",
     "output_type": "stream",
     "text": [
      "Rows:768\n",
      "Cols:9\n",
      "\n",
      "\n"
     ]
    },
    {
     "data": {
      "text/html": [
       "<table>\n",
       "<thead>\n",
       "<tr><th>       </th><th>C1               </th><th>C2                </th><th>C3                </th><th>C4                </th><th>C5                </th><th>C6               </th><th>C7                </th><th>C8                </th><th>C9                 </th></tr>\n",
       "</thead>\n",
       "<tbody>\n",
       "<tr><td>type   </td><td>int              </td><td>int               </td><td>int               </td><td>int               </td><td>int               </td><td>real             </td><td>real              </td><td>int               </td><td>int                </td></tr>\n",
       "<tr><td>mins   </td><td>0.0              </td><td>0.0               </td><td>0.0               </td><td>0.0               </td><td>0.0               </td><td>0.0              </td><td>0.078             </td><td>21.0              </td><td>0.0                </td></tr>\n",
       "<tr><td>mean   </td><td>3.845052083333336</td><td>120.89453125      </td><td>69.10546874999994 </td><td>20.536458333333357</td><td>79.79947916666666 </td><td>31.99257812500003</td><td>0.4718763020833334</td><td>33.240885416666615</td><td>0.3489583333333333 </td></tr>\n",
       "<tr><td>maxs   </td><td>17.0             </td><td>199.0             </td><td>122.0             </td><td>99.0              </td><td>846.0             </td><td>67.1             </td><td>2.42              </td><td>81.0              </td><td>1.0                </td></tr>\n",
       "<tr><td>sigma  </td><td>3.36957806269887 </td><td>31.972618195136224</td><td>19.355807170644777</td><td>15.952217567727642</td><td>115.24400235133803</td><td>7.884160320375441</td><td>0.331328595012775 </td><td>11.760231540678689</td><td>0.47695137724279896</td></tr>\n",
       "<tr><td>zeros  </td><td>111              </td><td>5                 </td><td>35                </td><td>227               </td><td>374               </td><td>11               </td><td>0                 </td><td>0                 </td><td>500                </td></tr>\n",
       "<tr><td>missing</td><td>0                </td><td>0                 </td><td>0                 </td><td>0                 </td><td>0                 </td><td>0                </td><td>0                 </td><td>0                 </td><td>0                  </td></tr>\n",
       "<tr><td>0      </td><td>6.0              </td><td>148.0             </td><td>72.0              </td><td>35.0              </td><td>0.0               </td><td>33.6             </td><td>0.627             </td><td>50.0              </td><td>1.0                </td></tr>\n",
       "<tr><td>1      </td><td>1.0              </td><td>85.0              </td><td>66.0              </td><td>29.0              </td><td>0.0               </td><td>26.6             </td><td>0.351             </td><td>31.0              </td><td>0.0                </td></tr>\n",
       "<tr><td>2      </td><td>8.0              </td><td>183.0             </td><td>64.0              </td><td>0.0               </td><td>0.0               </td><td>23.3             </td><td>0.672             </td><td>32.0              </td><td>1.0                </td></tr>\n",
       "<tr><td>3      </td><td>1.0              </td><td>89.0              </td><td>66.0              </td><td>23.0              </td><td>94.0              </td><td>28.1             </td><td>0.167             </td><td>21.0              </td><td>0.0                </td></tr>\n",
       "<tr><td>4      </td><td>0.0              </td><td>137.0             </td><td>40.0              </td><td>35.0              </td><td>168.0             </td><td>43.1             </td><td>2.288             </td><td>33.0              </td><td>1.0                </td></tr>\n",
       "<tr><td>5      </td><td>5.0              </td><td>116.0             </td><td>74.0              </td><td>0.0               </td><td>0.0               </td><td>25.6             </td><td>0.201             </td><td>30.0              </td><td>0.0                </td></tr>\n",
       "<tr><td>6      </td><td>3.0              </td><td>78.0              </td><td>50.0              </td><td>32.0              </td><td>88.0              </td><td>31.0             </td><td>0.248             </td><td>26.0              </td><td>1.0                </td></tr>\n",
       "<tr><td>7      </td><td>10.0             </td><td>115.0             </td><td>0.0               </td><td>0.0               </td><td>0.0               </td><td>35.3             </td><td>0.134             </td><td>29.0              </td><td>0.0                </td></tr>\n",
       "<tr><td>8      </td><td>2.0              </td><td>197.0             </td><td>70.0              </td><td>45.0              </td><td>543.0             </td><td>30.5             </td><td>0.158             </td><td>53.0              </td><td>1.0                </td></tr>\n",
       "<tr><td>9      </td><td>8.0              </td><td>125.0             </td><td>96.0              </td><td>0.0               </td><td>0.0               </td><td>0.0              </td><td>0.232             </td><td>54.0              </td><td>1.0                </td></tr>\n",
       "</tbody>\n",
       "</table>"
      ]
     },
     "metadata": {},
     "output_type": "display_data"
    }
   ],
   "source": [
    "df.describe()"
   ]
  },
  {
   "cell_type": "code",
   "execution_count": 34,
   "metadata": {},
   "outputs": [
    {
     "data": {
      "text/plain": [
       "{'C1': 'int',\n",
       " 'C2': 'int',\n",
       " 'C3': 'int',\n",
       " 'C4': 'int',\n",
       " 'C5': 'int',\n",
       " 'C6': 'real',\n",
       " 'C7': 'real',\n",
       " 'C8': 'int',\n",
       " 'C9': 'int'}"
      ]
     },
     "execution_count": 34,
     "metadata": {},
     "output_type": "execute_result"
    }
   ],
   "source": [
    "allV=get_variables_types(df)\n",
    "allV"
   ]
  },
  {
   "cell_type": "code",
   "execution_count": 35,
   "metadata": {},
   "outputs": [],
   "source": [
    "meta_data['variables']=allV"
   ]
  },
  {
   "cell_type": "code",
   "execution_count": 36,
   "metadata": {},
   "outputs": [],
   "source": [
    "# split into training and test for showing how to predict\n",
    "train, test = df.split_frame([0.9])"
   ]
  },
  {
   "cell_type": "code",
   "execution_count": 37,
   "metadata": {},
   "outputs": [],
   "source": [
    "# Set up AutoML\n",
    "\n",
    "aml = H2OAutoML(max_runtime_secs=run_time,project_name = name)"
   ]
  },
  {
   "cell_type": "code",
   "execution_count": 38,
   "metadata": {},
   "outputs": [],
   "source": [
    "model_start_time = time.time()"
   ]
  },
  {
   "cell_type": "code",
   "execution_count": 39,
   "metadata": {},
   "outputs": [
    {
     "name": "stdout",
     "output_type": "stream",
     "text": [
      "AutoML progress: |████████████████████████████████████████████████████████| 100%\n"
     ]
    },
    {
     "name": "stderr",
     "output_type": "stream",
     "text": [
      "/anaconda3/lib/python3.6/importlib/_bootstrap.py:219: RuntimeWarning: numpy.dtype size changed, may indicate binary incompatibility. Expected 96, got 88\n",
      "  return f(*args, **kwds)\n"
     ]
    }
   ],
   "source": [
    "aml.train(x=X,y=y,training_frame=train)"
   ]
  },
  {
   "cell_type": "code",
   "execution_count": 40,
   "metadata": {},
   "outputs": [],
   "source": [
    "meta_data['model_execution_time'] = time.time() - model_start_time"
   ]
  },
  {
   "cell_type": "code",
   "execution_count": 41,
   "metadata": {},
   "outputs": [],
   "source": [
    "# get leaderboard\n",
    "aml_leaderboard_df=aml.leaderboard.as_data_frame()"
   ]
  },
  {
   "cell_type": "code",
   "execution_count": 42,
   "metadata": {},
   "outputs": [
    {
     "data": {
      "text/html": [
       "<div>\n",
       "<style scoped>\n",
       "    .dataframe tbody tr th:only-of-type {\n",
       "        vertical-align: middle;\n",
       "    }\n",
       "\n",
       "    .dataframe tbody tr th {\n",
       "        vertical-align: top;\n",
       "    }\n",
       "\n",
       "    .dataframe thead th {\n",
       "        text-align: right;\n",
       "    }\n",
       "</style>\n",
       "<table border=\"1\" class=\"dataframe\">\n",
       "  <thead>\n",
       "    <tr style=\"text-align: right;\">\n",
       "      <th></th>\n",
       "      <th>model_id</th>\n",
       "      <th>mean_residual_deviance</th>\n",
       "      <th>rmse</th>\n",
       "      <th>mse</th>\n",
       "      <th>mae</th>\n",
       "      <th>rmsle</th>\n",
       "    </tr>\n",
       "  </thead>\n",
       "  <tbody>\n",
       "    <tr>\n",
       "      <th>0</th>\n",
       "      <td>StackedEnsemble_BestOfFamily_0_AutoML_20181101...</td>\n",
       "      <td>0.153529</td>\n",
       "      <td>0.391828</td>\n",
       "      <td>0.153529</td>\n",
       "      <td>0.316304</td>\n",
       "      <td>0.275736</td>\n",
       "    </tr>\n",
       "    <tr>\n",
       "      <th>1</th>\n",
       "      <td>StackedEnsemble_AllModels_0_AutoML_20181101_14...</td>\n",
       "      <td>0.154947</td>\n",
       "      <td>0.393633</td>\n",
       "      <td>0.154947</td>\n",
       "      <td>0.316255</td>\n",
       "      <td>0.276510</td>\n",
       "    </tr>\n",
       "    <tr>\n",
       "      <th>2</th>\n",
       "      <td>DeepLearning_grid_0_AutoML_20181101_145038_mod...</td>\n",
       "      <td>0.159748</td>\n",
       "      <td>0.399685</td>\n",
       "      <td>0.159748</td>\n",
       "      <td>0.322417</td>\n",
       "      <td>0.282444</td>\n",
       "    </tr>\n",
       "    <tr>\n",
       "      <th>3</th>\n",
       "      <td>GLM_grid_0_AutoML_20181101_145038_model_0</td>\n",
       "      <td>0.160484</td>\n",
       "      <td>0.400605</td>\n",
       "      <td>0.160484</td>\n",
       "      <td>0.335905</td>\n",
       "      <td>0.287007</td>\n",
       "    </tr>\n",
       "    <tr>\n",
       "      <th>4</th>\n",
       "      <td>GBM_grid_0_AutoML_20181101_145038_model_3</td>\n",
       "      <td>0.160563</td>\n",
       "      <td>0.400703</td>\n",
       "      <td>0.160563</td>\n",
       "      <td>0.311417</td>\n",
       "      <td>0.281585</td>\n",
       "    </tr>\n",
       "    <tr>\n",
       "      <th>5</th>\n",
       "      <td>DeepLearning_0_AutoML_20181101_145038</td>\n",
       "      <td>0.161638</td>\n",
       "      <td>0.402042</td>\n",
       "      <td>0.161638</td>\n",
       "      <td>0.323375</td>\n",
       "      <td>0.284169</td>\n",
       "    </tr>\n",
       "    <tr>\n",
       "      <th>6</th>\n",
       "      <td>GBM_grid_0_AutoML_20181101_145038_model_4</td>\n",
       "      <td>0.162180</td>\n",
       "      <td>0.402716</td>\n",
       "      <td>0.162180</td>\n",
       "      <td>0.335890</td>\n",
       "      <td>0.282789</td>\n",
       "    </tr>\n",
       "    <tr>\n",
       "      <th>7</th>\n",
       "      <td>GBM_grid_0_AutoML_20181101_145038_model_7</td>\n",
       "      <td>0.162960</td>\n",
       "      <td>0.403683</td>\n",
       "      <td>0.162960</td>\n",
       "      <td>0.306709</td>\n",
       "      <td>0.283314</td>\n",
       "    </tr>\n",
       "    <tr>\n",
       "      <th>8</th>\n",
       "      <td>GBM_grid_0_AutoML_20181101_145038_model_1</td>\n",
       "      <td>0.164705</td>\n",
       "      <td>0.405839</td>\n",
       "      <td>0.164705</td>\n",
       "      <td>0.312108</td>\n",
       "      <td>0.285583</td>\n",
       "    </tr>\n",
       "    <tr>\n",
       "      <th>9</th>\n",
       "      <td>XRT_0_AutoML_20181101_145038</td>\n",
       "      <td>0.168611</td>\n",
       "      <td>0.410622</td>\n",
       "      <td>0.168611</td>\n",
       "      <td>0.311529</td>\n",
       "      <td>0.288051</td>\n",
       "    </tr>\n",
       "    <tr>\n",
       "      <th>10</th>\n",
       "      <td>GBM_grid_0_AutoML_20181101_145038_model_2</td>\n",
       "      <td>0.169110</td>\n",
       "      <td>0.411230</td>\n",
       "      <td>0.169110</td>\n",
       "      <td>0.315180</td>\n",
       "      <td>0.288965</td>\n",
       "    </tr>\n",
       "    <tr>\n",
       "      <th>11</th>\n",
       "      <td>GBM_grid_0_AutoML_20181101_145038_model_0</td>\n",
       "      <td>0.170911</td>\n",
       "      <td>0.413413</td>\n",
       "      <td>0.170911</td>\n",
       "      <td>0.319078</td>\n",
       "      <td>0.289337</td>\n",
       "    </tr>\n",
       "    <tr>\n",
       "      <th>12</th>\n",
       "      <td>GBM_grid_0_AutoML_20181101_145038_model_6</td>\n",
       "      <td>0.172775</td>\n",
       "      <td>0.415663</td>\n",
       "      <td>0.172775</td>\n",
       "      <td>0.349339</td>\n",
       "      <td>0.291445</td>\n",
       "    </tr>\n",
       "    <tr>\n",
       "      <th>13</th>\n",
       "      <td>DRF_0_AutoML_20181101_145038</td>\n",
       "      <td>0.187791</td>\n",
       "      <td>0.433349</td>\n",
       "      <td>0.187791</td>\n",
       "      <td>0.335791</td>\n",
       "      <td>0.304753</td>\n",
       "    </tr>\n",
       "    <tr>\n",
       "      <th>14</th>\n",
       "      <td>DeepLearning_grid_0_AutoML_20181101_145038_mod...</td>\n",
       "      <td>0.189958</td>\n",
       "      <td>0.435842</td>\n",
       "      <td>0.189958</td>\n",
       "      <td>0.353727</td>\n",
       "      <td>0.331411</td>\n",
       "    </tr>\n",
       "    <tr>\n",
       "      <th>15</th>\n",
       "      <td>DeepLearning_grid_0_AutoML_20181101_145038_mod...</td>\n",
       "      <td>0.234576</td>\n",
       "      <td>0.484330</td>\n",
       "      <td>0.234576</td>\n",
       "      <td>0.380661</td>\n",
       "      <td>NaN</td>\n",
       "    </tr>\n",
       "    <tr>\n",
       "      <th>16</th>\n",
       "      <td>GBM_grid_0_AutoML_20181101_145038_model_5</td>\n",
       "      <td>0.240405</td>\n",
       "      <td>0.490311</td>\n",
       "      <td>0.240405</td>\n",
       "      <td>0.373893</td>\n",
       "      <td>0.355452</td>\n",
       "    </tr>\n",
       "  </tbody>\n",
       "</table>\n",
       "</div>"
      ],
      "text/plain": [
       "                                             model_id  mean_residual_deviance  \\\n",
       "0   StackedEnsemble_BestOfFamily_0_AutoML_20181101...                0.153529   \n",
       "1   StackedEnsemble_AllModels_0_AutoML_20181101_14...                0.154947   \n",
       "2   DeepLearning_grid_0_AutoML_20181101_145038_mod...                0.159748   \n",
       "3           GLM_grid_0_AutoML_20181101_145038_model_0                0.160484   \n",
       "4           GBM_grid_0_AutoML_20181101_145038_model_3                0.160563   \n",
       "5               DeepLearning_0_AutoML_20181101_145038                0.161638   \n",
       "6           GBM_grid_0_AutoML_20181101_145038_model_4                0.162180   \n",
       "7           GBM_grid_0_AutoML_20181101_145038_model_7                0.162960   \n",
       "8           GBM_grid_0_AutoML_20181101_145038_model_1                0.164705   \n",
       "9                        XRT_0_AutoML_20181101_145038                0.168611   \n",
       "10          GBM_grid_0_AutoML_20181101_145038_model_2                0.169110   \n",
       "11          GBM_grid_0_AutoML_20181101_145038_model_0                0.170911   \n",
       "12          GBM_grid_0_AutoML_20181101_145038_model_6                0.172775   \n",
       "13                       DRF_0_AutoML_20181101_145038                0.187791   \n",
       "14  DeepLearning_grid_0_AutoML_20181101_145038_mod...                0.189958   \n",
       "15  DeepLearning_grid_0_AutoML_20181101_145038_mod...                0.234576   \n",
       "16          GBM_grid_0_AutoML_20181101_145038_model_5                0.240405   \n",
       "\n",
       "        rmse       mse       mae     rmsle  \n",
       "0   0.391828  0.153529  0.316304  0.275736  \n",
       "1   0.393633  0.154947  0.316255  0.276510  \n",
       "2   0.399685  0.159748  0.322417  0.282444  \n",
       "3   0.400605  0.160484  0.335905  0.287007  \n",
       "4   0.400703  0.160563  0.311417  0.281585  \n",
       "5   0.402042  0.161638  0.323375  0.284169  \n",
       "6   0.402716  0.162180  0.335890  0.282789  \n",
       "7   0.403683  0.162960  0.306709  0.283314  \n",
       "8   0.405839  0.164705  0.312108  0.285583  \n",
       "9   0.410622  0.168611  0.311529  0.288051  \n",
       "10  0.411230  0.169110  0.315180  0.288965  \n",
       "11  0.413413  0.170911  0.319078  0.289337  \n",
       "12  0.415663  0.172775  0.349339  0.291445  \n",
       "13  0.433349  0.187791  0.335791  0.304753  \n",
       "14  0.435842  0.189958  0.353727  0.331411  \n",
       "15  0.484330  0.234576  0.380661       NaN  \n",
       "16  0.490311  0.240405  0.373893  0.355452  "
      ]
     },
     "execution_count": 42,
     "metadata": {},
     "output_type": "execute_result"
    }
   ],
   "source": [
    "aml_leaderboard_df"
   ]
  },
  {
   "cell_type": "code",
   "execution_count": 43,
   "metadata": {},
   "outputs": [],
   "source": [
    "# STart best model as first model\n",
    "\n",
    "model_set=aml_leaderboard_df['model_id']\n",
    "mod_best=h2o.get_model(model_set[0])"
   ]
  },
  {
   "cell_type": "code",
   "execution_count": 44,
   "metadata": {},
   "outputs": [
    {
     "data": {
      "text/plain": [
       "'StackedEnsemble_BestOfFamily_0_AutoML_20181101_145038'"
      ]
     },
     "execution_count": 44,
     "metadata": {},
     "output_type": "execute_result"
    }
   ],
   "source": [
    "mod_best._id"
   ]
  },
  {
   "cell_type": "code",
   "execution_count": 45,
   "metadata": {},
   "outputs": [],
   "source": [
    "# Get stacked ensemble  \n",
    "se=get_stacked_ensemble(model_set)"
   ]
  },
  {
   "cell_type": "code",
   "execution_count": 46,
   "metadata": {},
   "outputs": [
    {
     "name": "stdout",
     "output_type": "stream",
     "text": [
      "StackedEnsemble_BestOfFamily_0_AutoML_20181101_145038\n"
     ]
    }
   ],
   "source": [
    "print(se)"
   ]
  },
  {
   "cell_type": "code",
   "execution_count": 47,
   "metadata": {},
   "outputs": [],
   "source": [
    "if se is not None:\n",
    "  mod_best=h2o.get_model(se)"
   ]
  },
  {
   "cell_type": "code",
   "execution_count": 48,
   "metadata": {},
   "outputs": [
    {
     "data": {
      "text/plain": [
       "'StackedEnsemble_BestOfFamily_0_AutoML_20181101_145038'"
      ]
     },
     "execution_count": 48,
     "metadata": {},
     "output_type": "execute_result"
    }
   ],
   "source": [
    "mod_best._id"
   ]
  },
  {
   "cell_type": "code",
   "execution_count": 49,
   "metadata": {},
   "outputs": [
    {
     "data": {
      "text/plain": [
       "<function h2o.model.model_base.ModelBase._get_metrics(o, train, valid, xval)>"
      ]
     },
     "execution_count": 49,
     "metadata": {},
     "output_type": "execute_result"
    }
   ],
   "source": [
    "mod_best._get_metrics\n"
   ]
  },
  {
   "cell_type": "code",
   "execution_count": 50,
   "metadata": {},
   "outputs": [
    {
     "data": {
      "text/plain": [
       "h2o.estimators.stackedensemble.H2OStackedEnsembleEstimator"
      ]
     },
     "execution_count": 50,
     "metadata": {},
     "output_type": "execute_result"
    }
   ],
   "source": [
    "type(mod_best)"
   ]
  },
  {
   "cell_type": "code",
   "execution_count": 51,
   "metadata": {},
   "outputs": [
    {
     "name": "stdout",
     "output_type": "stream",
     "text": [
      "Model Details\n",
      "=============\n",
      "H2OStackedEnsembleEstimator :  Stacked Ensemble\n",
      "Model Key:  StackedEnsemble_BestOfFamily_0_AutoML_20181101_145038\n",
      "No model summary for this model\n",
      "\n",
      "\n",
      "ModelMetricsRegressionGLM: stackedensemble\n",
      "** Reported on train data. **\n",
      "\n",
      "MSE: 0.08185285538316601\n",
      "RMSE: 0.2860993802565221\n",
      "MAE: 0.23011614204186676\n",
      "RMSLE: 0.20290996236018552\n",
      "R^2: 0.6376317561391001\n",
      "Mean Residual Deviance: 0.08185285538316601\n",
      "Null degrees of freedom: 556\n",
      "Residual degrees of freedom: 552\n",
      "Null deviance: 125.81687612208346\n",
      "Residual deviance: 45.59204044842347\n",
      "AIC: 198.6200517416415\n",
      "\n",
      "ModelMetricsRegressionGLM: stackedensemble\n",
      "** Reported on validation data. **\n",
      "\n",
      "MSE: 0.1789382900263803\n",
      "RMSE: 0.4230109809761211\n",
      "MAE: 0.34421681279698657\n",
      "RMSLE: 0.2892336019242286\n",
      "R^2: 0.26476244831382856\n",
      "Mean Residual Deviance: 0.1789382900263803\n",
      "Null degrees of freedom: 128\n",
      "Residual degrees of freedom: 124\n",
      "Null deviance: 32.09986172397003\n",
      "Residual deviance: 23.083039413403057\n",
      "AIC: 156.11399931306244\n",
      "\n",
      "ModelMetricsRegressionGLM: stackedensemble\n",
      "** Reported on cross-validation data. **\n",
      "\n",
      "MSE: 0.15352902860470635\n",
      "RMSE: 0.39182780478764695\n",
      "MAE: 0.316304447540999\n",
      "RMSLE: 0.27573564257513056\n",
      "R^2: 0.3203163870493503\n",
      "Mean Residual Deviance: 0.15352902860470635\n",
      "Null degrees of freedom: 556\n",
      "Residual degrees of freedom: 552\n",
      "Null deviance: 126.03181449656991\n",
      "Residual deviance: 85.51566893282144\n",
      "AIC: 548.9543765395979\n",
      "<bound method ModelBase.coef_norm of >\n"
     ]
    }
   ],
   "source": [
    "mods=mod_best.coef_norm\n",
    "print(mods)"
   ]
  },
  {
   "cell_type": "code",
   "execution_count": 52,
   "metadata": {},
   "outputs": [],
   "source": [
    "bm=stackedensemble_df(aml_leaderboard_df)\n"
   ]
  },
  {
   "cell_type": "code",
   "execution_count": 53,
   "metadata": {},
   "outputs": [
    {
     "data": {
      "text/plain": [
       "['GBM_grid_0_AutoML_20181101_145038_model_3',\n",
       " 'GLM_grid_0_AutoML_20181101_145038_model_0',\n",
       " 'DRF_0_AutoML_20181101_145038',\n",
       " 'XRT_0_AutoML_20181101_145038',\n",
       " 'DeepLearning_grid_0_AutoML_20181101_145038_model_1']"
      ]
     },
     "execution_count": 53,
     "metadata": {},
     "output_type": "execute_result"
    }
   ],
   "source": [
    "bm"
   ]
  },
  {
   "cell_type": "code",
   "execution_count": 54,
   "metadata": {},
   "outputs": [
    {
     "data": {
      "text/html": [
       "<div>\n",
       "<style scoped>\n",
       "    .dataframe tbody tr th:only-of-type {\n",
       "        vertical-align: middle;\n",
       "    }\n",
       "\n",
       "    .dataframe tbody tr th {\n",
       "        vertical-align: top;\n",
       "    }\n",
       "\n",
       "    .dataframe thead th {\n",
       "        text-align: right;\n",
       "    }\n",
       "</style>\n",
       "<table border=\"1\" class=\"dataframe\">\n",
       "  <thead>\n",
       "    <tr style=\"text-align: right;\">\n",
       "      <th></th>\n",
       "      <th>model_id</th>\n",
       "      <th>mean_residual_deviance</th>\n",
       "      <th>rmse</th>\n",
       "      <th>mse</th>\n",
       "      <th>mae</th>\n",
       "      <th>rmsle</th>\n",
       "    </tr>\n",
       "  </thead>\n",
       "  <tbody>\n",
       "    <tr>\n",
       "      <th>0</th>\n",
       "      <td>StackedEnsemble_BestOfFamily_0_AutoML_20181101...</td>\n",
       "      <td>0.153529</td>\n",
       "      <td>0.391828</td>\n",
       "      <td>0.153529</td>\n",
       "      <td>0.316304</td>\n",
       "      <td>0.275736</td>\n",
       "    </tr>\n",
       "    <tr>\n",
       "      <th>1</th>\n",
       "      <td>StackedEnsemble_AllModels_0_AutoML_20181101_14...</td>\n",
       "      <td>0.154947</td>\n",
       "      <td>0.393633</td>\n",
       "      <td>0.154947</td>\n",
       "      <td>0.316255</td>\n",
       "      <td>0.276510</td>\n",
       "    </tr>\n",
       "    <tr>\n",
       "      <th>2</th>\n",
       "      <td>DeepLearning_grid_0_AutoML_20181101_145038_mod...</td>\n",
       "      <td>0.159748</td>\n",
       "      <td>0.399685</td>\n",
       "      <td>0.159748</td>\n",
       "      <td>0.322417</td>\n",
       "      <td>0.282444</td>\n",
       "    </tr>\n",
       "    <tr>\n",
       "      <th>3</th>\n",
       "      <td>GLM_grid_0_AutoML_20181101_145038_model_0</td>\n",
       "      <td>0.160484</td>\n",
       "      <td>0.400605</td>\n",
       "      <td>0.160484</td>\n",
       "      <td>0.335905</td>\n",
       "      <td>0.287007</td>\n",
       "    </tr>\n",
       "    <tr>\n",
       "      <th>4</th>\n",
       "      <td>GBM_grid_0_AutoML_20181101_145038_model_3</td>\n",
       "      <td>0.160563</td>\n",
       "      <td>0.400703</td>\n",
       "      <td>0.160563</td>\n",
       "      <td>0.311417</td>\n",
       "      <td>0.281585</td>\n",
       "    </tr>\n",
       "    <tr>\n",
       "      <th>5</th>\n",
       "      <td>DeepLearning_0_AutoML_20181101_145038</td>\n",
       "      <td>0.161638</td>\n",
       "      <td>0.402042</td>\n",
       "      <td>0.161638</td>\n",
       "      <td>0.323375</td>\n",
       "      <td>0.284169</td>\n",
       "    </tr>\n",
       "    <tr>\n",
       "      <th>6</th>\n",
       "      <td>GBM_grid_0_AutoML_20181101_145038_model_4</td>\n",
       "      <td>0.162180</td>\n",
       "      <td>0.402716</td>\n",
       "      <td>0.162180</td>\n",
       "      <td>0.335890</td>\n",
       "      <td>0.282789</td>\n",
       "    </tr>\n",
       "    <tr>\n",
       "      <th>7</th>\n",
       "      <td>GBM_grid_0_AutoML_20181101_145038_model_7</td>\n",
       "      <td>0.162960</td>\n",
       "      <td>0.403683</td>\n",
       "      <td>0.162960</td>\n",
       "      <td>0.306709</td>\n",
       "      <td>0.283314</td>\n",
       "    </tr>\n",
       "    <tr>\n",
       "      <th>8</th>\n",
       "      <td>GBM_grid_0_AutoML_20181101_145038_model_1</td>\n",
       "      <td>0.164705</td>\n",
       "      <td>0.405839</td>\n",
       "      <td>0.164705</td>\n",
       "      <td>0.312108</td>\n",
       "      <td>0.285583</td>\n",
       "    </tr>\n",
       "    <tr>\n",
       "      <th>9</th>\n",
       "      <td>XRT_0_AutoML_20181101_145038</td>\n",
       "      <td>0.168611</td>\n",
       "      <td>0.410622</td>\n",
       "      <td>0.168611</td>\n",
       "      <td>0.311529</td>\n",
       "      <td>0.288051</td>\n",
       "    </tr>\n",
       "    <tr>\n",
       "      <th>10</th>\n",
       "      <td>GBM_grid_0_AutoML_20181101_145038_model_2</td>\n",
       "      <td>0.169110</td>\n",
       "      <td>0.411230</td>\n",
       "      <td>0.169110</td>\n",
       "      <td>0.315180</td>\n",
       "      <td>0.288965</td>\n",
       "    </tr>\n",
       "    <tr>\n",
       "      <th>11</th>\n",
       "      <td>GBM_grid_0_AutoML_20181101_145038_model_0</td>\n",
       "      <td>0.170911</td>\n",
       "      <td>0.413413</td>\n",
       "      <td>0.170911</td>\n",
       "      <td>0.319078</td>\n",
       "      <td>0.289337</td>\n",
       "    </tr>\n",
       "    <tr>\n",
       "      <th>12</th>\n",
       "      <td>GBM_grid_0_AutoML_20181101_145038_model_6</td>\n",
       "      <td>0.172775</td>\n",
       "      <td>0.415663</td>\n",
       "      <td>0.172775</td>\n",
       "      <td>0.349339</td>\n",
       "      <td>0.291445</td>\n",
       "    </tr>\n",
       "    <tr>\n",
       "      <th>13</th>\n",
       "      <td>DRF_0_AutoML_20181101_145038</td>\n",
       "      <td>0.187791</td>\n",
       "      <td>0.433349</td>\n",
       "      <td>0.187791</td>\n",
       "      <td>0.335791</td>\n",
       "      <td>0.304753</td>\n",
       "    </tr>\n",
       "    <tr>\n",
       "      <th>14</th>\n",
       "      <td>DeepLearning_grid_0_AutoML_20181101_145038_mod...</td>\n",
       "      <td>0.189958</td>\n",
       "      <td>0.435842</td>\n",
       "      <td>0.189958</td>\n",
       "      <td>0.353727</td>\n",
       "      <td>0.331411</td>\n",
       "    </tr>\n",
       "    <tr>\n",
       "      <th>15</th>\n",
       "      <td>DeepLearning_grid_0_AutoML_20181101_145038_mod...</td>\n",
       "      <td>0.234576</td>\n",
       "      <td>0.484330</td>\n",
       "      <td>0.234576</td>\n",
       "      <td>0.380661</td>\n",
       "      <td>NaN</td>\n",
       "    </tr>\n",
       "    <tr>\n",
       "      <th>16</th>\n",
       "      <td>GBM_grid_0_AutoML_20181101_145038_model_5</td>\n",
       "      <td>0.240405</td>\n",
       "      <td>0.490311</td>\n",
       "      <td>0.240405</td>\n",
       "      <td>0.373893</td>\n",
       "      <td>0.355452</td>\n",
       "    </tr>\n",
       "  </tbody>\n",
       "</table>\n",
       "</div>"
      ],
      "text/plain": [
       "                                             model_id  mean_residual_deviance  \\\n",
       "0   StackedEnsemble_BestOfFamily_0_AutoML_20181101...                0.153529   \n",
       "1   StackedEnsemble_AllModels_0_AutoML_20181101_14...                0.154947   \n",
       "2   DeepLearning_grid_0_AutoML_20181101_145038_mod...                0.159748   \n",
       "3           GLM_grid_0_AutoML_20181101_145038_model_0                0.160484   \n",
       "4           GBM_grid_0_AutoML_20181101_145038_model_3                0.160563   \n",
       "5               DeepLearning_0_AutoML_20181101_145038                0.161638   \n",
       "6           GBM_grid_0_AutoML_20181101_145038_model_4                0.162180   \n",
       "7           GBM_grid_0_AutoML_20181101_145038_model_7                0.162960   \n",
       "8           GBM_grid_0_AutoML_20181101_145038_model_1                0.164705   \n",
       "9                        XRT_0_AutoML_20181101_145038                0.168611   \n",
       "10          GBM_grid_0_AutoML_20181101_145038_model_2                0.169110   \n",
       "11          GBM_grid_0_AutoML_20181101_145038_model_0                0.170911   \n",
       "12          GBM_grid_0_AutoML_20181101_145038_model_6                0.172775   \n",
       "13                       DRF_0_AutoML_20181101_145038                0.187791   \n",
       "14  DeepLearning_grid_0_AutoML_20181101_145038_mod...                0.189958   \n",
       "15  DeepLearning_grid_0_AutoML_20181101_145038_mod...                0.234576   \n",
       "16          GBM_grid_0_AutoML_20181101_145038_model_5                0.240405   \n",
       "\n",
       "        rmse       mse       mae     rmsle  \n",
       "0   0.391828  0.153529  0.316304  0.275736  \n",
       "1   0.393633  0.154947  0.316255  0.276510  \n",
       "2   0.399685  0.159748  0.322417  0.282444  \n",
       "3   0.400605  0.160484  0.335905  0.287007  \n",
       "4   0.400703  0.160563  0.311417  0.281585  \n",
       "5   0.402042  0.161638  0.323375  0.284169  \n",
       "6   0.402716  0.162180  0.335890  0.282789  \n",
       "7   0.403683  0.162960  0.306709  0.283314  \n",
       "8   0.405839  0.164705  0.312108  0.285583  \n",
       "9   0.410622  0.168611  0.311529  0.288051  \n",
       "10  0.411230  0.169110  0.315180  0.288965  \n",
       "11  0.413413  0.170911  0.319078  0.289337  \n",
       "12  0.415663  0.172775  0.349339  0.291445  \n",
       "13  0.433349  0.187791  0.335791  0.304753  \n",
       "14  0.435842  0.189958  0.353727  0.331411  \n",
       "15  0.484330  0.234576  0.380661       NaN  \n",
       "16  0.490311  0.240405  0.373893  0.355452  "
      ]
     },
     "execution_count": 54,
     "metadata": {},
     "output_type": "execute_result"
    }
   ],
   "source": [
    "aml_leaderboard_df"
   ]
  },
  {
   "cell_type": "code",
   "execution_count": 55,
   "metadata": {},
   "outputs": [],
   "source": [
    "#  Get best_models and coef_norm()\n",
    "best_models={}\n",
    "best_models=stackedensemble(mod_best)\n",
    "bm=[]\n",
    "if best_models is not None: \n",
    "  if 'Intercept' in best_models.keys():\n",
    "    del best_models['Intercept']\n",
    "  bm=list(best_models.keys())\n",
    "else:\n",
    "  best_models={}\n",
    "  bm=stackedensemble_df(aml_leaderboard_df)   \n",
    "  for b in bm:   \n",
    "    best_models[b]=None\n",
    "\n",
    "if mod_best.model_id not in bm:\n",
    "    bm.append(mod_best.model_id)"
   ]
  },
  {
   "cell_type": "code",
   "execution_count": 56,
   "metadata": {},
   "outputs": [
    {
     "data": {
      "text/plain": [
       "['DeepLearning_grid_0_AutoML_20181101_145038_model_1',\n",
       " 'GLM_grid_0_AutoML_20181101_145038_model_0',\n",
       " 'GBM_grid_0_AutoML_20181101_145038_model_3',\n",
       " 'XRT_0_AutoML_20181101_145038',\n",
       " 'DRF_0_AutoML_20181101_145038',\n",
       " 'StackedEnsemble_BestOfFamily_0_AutoML_20181101_145038']"
      ]
     },
     "execution_count": 56,
     "metadata": {},
     "output_type": "execute_result"
    }
   ],
   "source": [
    "bm\n"
   ]
  },
  {
   "cell_type": "code",
   "execution_count": 57,
   "metadata": {},
   "outputs": [],
   "source": [
    "# Best of Family leaderboard\n",
    "\n",
    "aml_leaderboard_df=aml_leaderboard_df.loc[aml_leaderboard_df['model_id'].isin(bm)]"
   ]
  },
  {
   "cell_type": "code",
   "execution_count": 58,
   "metadata": {},
   "outputs": [
    {
     "data": {
      "text/html": [
       "<div>\n",
       "<style scoped>\n",
       "    .dataframe tbody tr th:only-of-type {\n",
       "        vertical-align: middle;\n",
       "    }\n",
       "\n",
       "    .dataframe tbody tr th {\n",
       "        vertical-align: top;\n",
       "    }\n",
       "\n",
       "    .dataframe thead th {\n",
       "        text-align: right;\n",
       "    }\n",
       "</style>\n",
       "<table border=\"1\" class=\"dataframe\">\n",
       "  <thead>\n",
       "    <tr style=\"text-align: right;\">\n",
       "      <th></th>\n",
       "      <th>model_id</th>\n",
       "      <th>mean_residual_deviance</th>\n",
       "      <th>rmse</th>\n",
       "      <th>mse</th>\n",
       "      <th>mae</th>\n",
       "      <th>rmsle</th>\n",
       "    </tr>\n",
       "  </thead>\n",
       "  <tbody>\n",
       "    <tr>\n",
       "      <th>0</th>\n",
       "      <td>StackedEnsemble_BestOfFamily_0_AutoML_20181101...</td>\n",
       "      <td>0.153529</td>\n",
       "      <td>0.391828</td>\n",
       "      <td>0.153529</td>\n",
       "      <td>0.316304</td>\n",
       "      <td>0.275736</td>\n",
       "    </tr>\n",
       "    <tr>\n",
       "      <th>2</th>\n",
       "      <td>DeepLearning_grid_0_AutoML_20181101_145038_mod...</td>\n",
       "      <td>0.159748</td>\n",
       "      <td>0.399685</td>\n",
       "      <td>0.159748</td>\n",
       "      <td>0.322417</td>\n",
       "      <td>0.282444</td>\n",
       "    </tr>\n",
       "    <tr>\n",
       "      <th>3</th>\n",
       "      <td>GLM_grid_0_AutoML_20181101_145038_model_0</td>\n",
       "      <td>0.160484</td>\n",
       "      <td>0.400605</td>\n",
       "      <td>0.160484</td>\n",
       "      <td>0.335905</td>\n",
       "      <td>0.287007</td>\n",
       "    </tr>\n",
       "    <tr>\n",
       "      <th>4</th>\n",
       "      <td>GBM_grid_0_AutoML_20181101_145038_model_3</td>\n",
       "      <td>0.160563</td>\n",
       "      <td>0.400703</td>\n",
       "      <td>0.160563</td>\n",
       "      <td>0.311417</td>\n",
       "      <td>0.281585</td>\n",
       "    </tr>\n",
       "    <tr>\n",
       "      <th>9</th>\n",
       "      <td>XRT_0_AutoML_20181101_145038</td>\n",
       "      <td>0.168611</td>\n",
       "      <td>0.410622</td>\n",
       "      <td>0.168611</td>\n",
       "      <td>0.311529</td>\n",
       "      <td>0.288051</td>\n",
       "    </tr>\n",
       "    <tr>\n",
       "      <th>13</th>\n",
       "      <td>DRF_0_AutoML_20181101_145038</td>\n",
       "      <td>0.187791</td>\n",
       "      <td>0.433349</td>\n",
       "      <td>0.187791</td>\n",
       "      <td>0.335791</td>\n",
       "      <td>0.304753</td>\n",
       "    </tr>\n",
       "  </tbody>\n",
       "</table>\n",
       "</div>"
      ],
      "text/plain": [
       "                                             model_id  mean_residual_deviance  \\\n",
       "0   StackedEnsemble_BestOfFamily_0_AutoML_20181101...                0.153529   \n",
       "2   DeepLearning_grid_0_AutoML_20181101_145038_mod...                0.159748   \n",
       "3           GLM_grid_0_AutoML_20181101_145038_model_0                0.160484   \n",
       "4           GBM_grid_0_AutoML_20181101_145038_model_3                0.160563   \n",
       "9                        XRT_0_AutoML_20181101_145038                0.168611   \n",
       "13                       DRF_0_AutoML_20181101_145038                0.187791   \n",
       "\n",
       "        rmse       mse       mae     rmsle  \n",
       "0   0.391828  0.153529  0.316304  0.275736  \n",
       "2   0.399685  0.159748  0.322417  0.282444  \n",
       "3   0.400605  0.160484  0.335905  0.287007  \n",
       "4   0.400703  0.160563  0.311417  0.281585  \n",
       "9   0.410622  0.168611  0.311529  0.288051  \n",
       "13  0.433349  0.187791  0.335791  0.304753  "
      ]
     },
     "execution_count": 58,
     "metadata": {},
     "output_type": "execute_result"
    }
   ],
   "source": [
    "aml_leaderboard_df\n"
   ]
  },
  {
   "cell_type": "code",
   "execution_count": 59,
   "metadata": {},
   "outputs": [],
   "source": [
    "# save leaderboard\n",
    "leaderboard_stats=run_id+'_leaderboard.csv'\n",
    "aml_leaderboard_df.to_csv(leaderboard_stats)"
   ]
  },
  {
   "cell_type": "code",
   "execution_count": 60,
   "metadata": {},
   "outputs": [
    {
     "name": "stdout",
     "output_type": "stream",
     "text": [
      "StackedEnsemble_BestOfFamily_0_AutoML_20181101_145038\n"
     ]
    }
   ],
   "source": [
    "top=aml_leaderboard_df.iloc[0]['model_id']\n",
    "print(top)"
   ]
  },
  {
   "cell_type": "markdown",
   "metadata": {},
   "source": [
    "# New Notebook"
   ]
  },
  {
   "cell_type": "code",
   "execution_count": 61,
   "metadata": {},
   "outputs": [],
   "source": [
    "import h2o\n",
    "from h2o.automl import H2OAutoML"
   ]
  },
  {
   "cell_type": "code",
   "execution_count": 62,
   "metadata": {},
   "outputs": [
    {
     "name": "stdout",
     "output_type": "stream",
     "text": [
      "Checking whether there is an H2O instance running at http://localhost:54321. connected.\n",
      "Warning: Your H2O cluster version is too old (3 months and 21 days)! Please download and install the latest version from http://h2o.ai/download/\n"
     ]
    },
    {
     "data": {
      "text/html": [
       "<div style=\"overflow:auto\"><table style=\"width:50%\"><tr><td>H2O cluster uptime:</td>\n",
       "<td>3 hours 17 mins</td></tr>\n",
       "<tr><td>H2O cluster timezone:</td>\n",
       "<td>America/New_York</td></tr>\n",
       "<tr><td>H2O data parsing timezone:</td>\n",
       "<td>UTC</td></tr>\n",
       "<tr><td>H2O cluster version:</td>\n",
       "<td>3.20.0.3</td></tr>\n",
       "<tr><td>H2O cluster version age:</td>\n",
       "<td>3 months and 21 days !!!</td></tr>\n",
       "<tr><td>H2O cluster name:</td>\n",
       "<td>H2O_from_python_yashasvijariwala_1ja6gp</td></tr>\n",
       "<tr><td>H2O cluster total nodes:</td>\n",
       "<td>1</td></tr>\n",
       "<tr><td>H2O cluster free memory:</td>\n",
       "<td>1.612 Gb</td></tr>\n",
       "<tr><td>H2O cluster total cores:</td>\n",
       "<td>4</td></tr>\n",
       "<tr><td>H2O cluster allowed cores:</td>\n",
       "<td>4</td></tr>\n",
       "<tr><td>H2O cluster status:</td>\n",
       "<td>locked, healthy</td></tr>\n",
       "<tr><td>H2O connection url:</td>\n",
       "<td>http://localhost:54321</td></tr>\n",
       "<tr><td>H2O connection proxy:</td>\n",
       "<td>None</td></tr>\n",
       "<tr><td>H2O internal security:</td>\n",
       "<td>False</td></tr>\n",
       "<tr><td>H2O API Extensions:</td>\n",
       "<td>XGBoost, Algos, AutoML, Core V3, Core V4</td></tr>\n",
       "<tr><td>Python version:</td>\n",
       "<td>3.6.5 final</td></tr></table></div>"
      ],
      "text/plain": [
       "--------------------------  ----------------------------------------\n",
       "H2O cluster uptime:         3 hours 17 mins\n",
       "H2O cluster timezone:       America/New_York\n",
       "H2O data parsing timezone:  UTC\n",
       "H2O cluster version:        3.20.0.3\n",
       "H2O cluster version age:    3 months and 21 days !!!\n",
       "H2O cluster name:           H2O_from_python_yashasvijariwala_1ja6gp\n",
       "H2O cluster total nodes:    1\n",
       "H2O cluster free memory:    1.612 Gb\n",
       "H2O cluster total cores:    4\n",
       "H2O cluster allowed cores:  4\n",
       "H2O cluster status:         locked, healthy\n",
       "H2O connection url:         http://localhost:54321\n",
       "H2O connection proxy:\n",
       "H2O internal security:      False\n",
       "H2O API Extensions:         XGBoost, Algos, AutoML, Core V3, Core V4\n",
       "Python version:             3.6.5 final\n",
       "--------------------------  ----------------------------------------"
      ]
     },
     "metadata": {},
     "output_type": "display_data"
    }
   ],
   "source": [
    "h2o.init()"
   ]
  },
  {
   "cell_type": "code",
   "execution_count": 63,
   "metadata": {},
   "outputs": [
    {
     "data": {
      "text/plain": [
       "'/Users/yashasvijariwala/Desktop/aJOlAQdcF'"
      ]
     },
     "execution_count": 63,
     "metadata": {},
     "output_type": "execute_result"
    }
   ],
   "source": [
    "pwd"
   ]
  },
  {
   "cell_type": "code",
   "execution_count": 64,
   "metadata": {},
   "outputs": [
    {
     "name": "stdout",
     "output_type": "stream",
     "text": [
      "/Users/yashasvijariwala/Desktop\n"
     ]
    }
   ],
   "source": [
    "cd .."
   ]
  },
  {
   "cell_type": "code",
   "execution_count": 65,
   "metadata": {},
   "outputs": [
    {
     "name": "stdout",
     "output_type": "stream",
     "text": [
      "Parse progress: |█████████████████████████████████████████████████████████| 100%\n"
     ]
    }
   ],
   "source": [
    "data = h2o.import_file(\"Diabetes.csv\")"
   ]
  },
  {
   "cell_type": "code",
   "execution_count": 68,
   "metadata": {},
   "outputs": [],
   "source": [
    "# Identify predictors and response\n",
    "x = train.columns\n",
    "y = \"C9\"\n",
    "x.remove(y)"
   ]
  },
  {
   "cell_type": "code",
   "execution_count": 69,
   "metadata": {},
   "outputs": [],
   "source": [
    "train,test,valid = data.split_frame(ratios=[.8, .10])"
   ]
  },
  {
   "cell_type": "code",
   "execution_count": 70,
   "metadata": {},
   "outputs": [],
   "source": [
    "# Identify predictors and response\n",
    "train[y] = train[y].asfactor()\n",
    "test[y] = test[y].asfactor()"
   ]
  },
  {
   "cell_type": "code",
   "execution_count": 71,
   "metadata": {},
   "outputs": [
    {
     "name": "stdout",
     "output_type": "stream",
     "text": [
      "AutoML progress: |████████████████████████████████████████████████████████| 100%\n"
     ]
    }
   ],
   "source": [
    "# Run AutoML for 20 base models (limited to 1 hour max runtime by default)\n",
    "aml = H2OAutoML(max_models=20, seed=1)\n",
    "aml.train(x=x, y=y, training_frame=train)"
   ]
  },
  {
   "cell_type": "code",
   "execution_count": 72,
   "metadata": {},
   "outputs": [
    {
     "data": {
      "text/html": [
       "<table>\n",
       "<thead>\n",
       "<tr><th>model_id                                             </th><th style=\"text-align: right;\">     auc</th><th style=\"text-align: right;\">  logloss</th><th style=\"text-align: right;\">  mean_per_class_error</th><th style=\"text-align: right;\">    rmse</th><th style=\"text-align: right;\">     mse</th></tr>\n",
       "</thead>\n",
       "<tbody>\n",
       "<tr><td>GLM_grid_0_AutoML_20181101_145939_model_0            </td><td style=\"text-align: right;\">0.84703 </td><td style=\"text-align: right;\"> 0.470244</td><td style=\"text-align: right;\">              0.22648 </td><td style=\"text-align: right;\">0.387881</td><td style=\"text-align: right;\">0.150452</td></tr>\n",
       "<tr><td>StackedEnsemble_BestOfFamily_0_AutoML_20181101_145939</td><td style=\"text-align: right;\">0.844912</td><td style=\"text-align: right;\"> 0.469063</td><td style=\"text-align: right;\">              0.231185</td><td style=\"text-align: right;\">0.389937</td><td style=\"text-align: right;\">0.152051</td></tr>\n",
       "<tr><td>DeepLearning_grid_0_AutoML_20181101_145939_model_6   </td><td style=\"text-align: right;\">0.844516</td><td style=\"text-align: right;\"> 0.514347</td><td style=\"text-align: right;\">              0.229247</td><td style=\"text-align: right;\">0.399214</td><td style=\"text-align: right;\">0.159372</td></tr>\n",
       "<tr><td>StackedEnsemble_AllModels_0_AutoML_20181101_145939   </td><td style=\"text-align: right;\">0.841009</td><td style=\"text-align: right;\"> 0.473155</td><td style=\"text-align: right;\">              0.231032</td><td style=\"text-align: right;\">0.39202 </td><td style=\"text-align: right;\">0.15368 </td></tr>\n",
       "<tr><td>DeepLearning_grid_0_AutoML_20181101_145939_model_1   </td><td style=\"text-align: right;\">0.839414</td><td style=\"text-align: right;\"> 0.495792</td><td style=\"text-align: right;\">              0.221244</td><td style=\"text-align: right;\">0.396604</td><td style=\"text-align: right;\">0.157295</td></tr>\n",
       "<tr><td>DeepLearning_grid_0_AutoML_20181101_145939_model_4   </td><td style=\"text-align: right;\">0.839342</td><td style=\"text-align: right;\"> 0.513882</td><td style=\"text-align: right;\">              0.237161</td><td style=\"text-align: right;\">0.403392</td><td style=\"text-align: right;\">0.162725</td></tr>\n",
       "<tr><td>DeepLearning_grid_0_AutoML_20181101_145939_model_0   </td><td style=\"text-align: right;\">0.838351</td><td style=\"text-align: right;\"> 0.525293</td><td style=\"text-align: right;\">              0.232014</td><td style=\"text-align: right;\">0.404493</td><td style=\"text-align: right;\">0.163614</td></tr>\n",
       "<tr><td>GBM_grid_0_AutoML_20181101_145939_model_4            </td><td style=\"text-align: right;\">0.827904</td><td style=\"text-align: right;\"> 0.487679</td><td style=\"text-align: right;\">              0.240856</td><td style=\"text-align: right;\">0.40232 </td><td style=\"text-align: right;\">0.161861</td></tr>\n",
       "<tr><td>DeepLearning_0_AutoML_20181101_145939                </td><td style=\"text-align: right;\">0.819955</td><td style=\"text-align: right;\"> 0.517503</td><td style=\"text-align: right;\">              0.24493 </td><td style=\"text-align: right;\">0.410451</td><td style=\"text-align: right;\">0.16847 </td></tr>\n",
       "<tr><td>DeepLearning_grid_0_AutoML_20181101_145939_model_2   </td><td style=\"text-align: right;\">0.819757</td><td style=\"text-align: right;\"> 0.602078</td><td style=\"text-align: right;\">              0.26621 </td><td style=\"text-align: right;\">0.425356</td><td style=\"text-align: right;\">0.180928</td></tr>\n",
       "<tr><td>GBM_grid_0_AutoML_20181101_145939_model_0            </td><td style=\"text-align: right;\">0.81963 </td><td style=\"text-align: right;\"> 0.507802</td><td style=\"text-align: right;\">              0.243831</td><td style=\"text-align: right;\">0.410659</td><td style=\"text-align: right;\">0.168641</td></tr>\n",
       "<tr><td>DeepLearning_grid_0_AutoML_20181101_145939_model_5   </td><td style=\"text-align: right;\">0.817927</td><td style=\"text-align: right;\"> 0.560463</td><td style=\"text-align: right;\">              0.248238</td><td style=\"text-align: right;\">0.417427</td><td style=\"text-align: right;\">0.174245</td></tr>\n",
       "<tr><td>XRT_0_AutoML_20181101_145939                         </td><td style=\"text-align: right;\">0.815421</td><td style=\"text-align: right;\"> 0.757025</td><td style=\"text-align: right;\">              0.227643</td><td style=\"text-align: right;\">0.404874</td><td style=\"text-align: right;\">0.163923</td></tr>\n",
       "<tr><td>GBM_grid_0_AutoML_20181101_145939_model_1            </td><td style=\"text-align: right;\">0.814574</td><td style=\"text-align: right;\"> 0.509264</td><td style=\"text-align: right;\">              0.255764</td><td style=\"text-align: right;\">0.410157</td><td style=\"text-align: right;\">0.168229</td></tr>\n",
       "<tr><td>GBM_grid_0_AutoML_20181101_145939_model_3            </td><td style=\"text-align: right;\">0.810906</td><td style=\"text-align: right;\"> 0.514996</td><td style=\"text-align: right;\">              0.263173</td><td style=\"text-align: right;\">0.413506</td><td style=\"text-align: right;\">0.170987</td></tr>\n",
       "<tr><td>GBM_grid_0_AutoML_20181101_145939_model_2            </td><td style=\"text-align: right;\">0.807517</td><td style=\"text-align: right;\"> 0.517096</td><td style=\"text-align: right;\">              0.26621 </td><td style=\"text-align: right;\">0.413926</td><td style=\"text-align: right;\">0.171335</td></tr>\n",
       "<tr><td>DRF_0_AutoML_20181101_145939                         </td><td style=\"text-align: right;\">0.804552</td><td style=\"text-align: right;\"> 0.899234</td><td style=\"text-align: right;\">              0.257548</td><td style=\"text-align: right;\">0.415622</td><td style=\"text-align: right;\">0.172741</td></tr>\n",
       "<tr><td>DeepLearning_grid_0_AutoML_20181101_145939_model_3   </td><td style=\"text-align: right;\">0.795944</td><td style=\"text-align: right;\"> 0.617765</td><td style=\"text-align: right;\">              0.278026</td><td style=\"text-align: right;\">0.440538</td><td style=\"text-align: right;\">0.194073</td></tr>\n",
       "<tr><td>GBM_grid_0_AutoML_20181101_145939_model_7            </td><td style=\"text-align: right;\">0.787156</td><td style=\"text-align: right;\"> 0.529112</td><td style=\"text-align: right;\">              0.269752</td><td style=\"text-align: right;\">0.421842</td><td style=\"text-align: right;\">0.177951</td></tr>\n",
       "<tr><td>GBM_grid_0_AutoML_20181101_145939_model_5            </td><td style=\"text-align: right;\">0.762974</td><td style=\"text-align: right;\"> 0.739656</td><td style=\"text-align: right;\">              0.29963 </td><td style=\"text-align: right;\">0.455345</td><td style=\"text-align: right;\">0.207339</td></tr>\n",
       "<tr><td>DeepLearning_grid_0_AutoML_20181101_145939_model_7   </td><td style=\"text-align: right;\">0.751456</td><td style=\"text-align: right;\"> 1.06288 </td><td style=\"text-align: right;\">              0.300613</td><td style=\"text-align: right;\">0.485588</td><td style=\"text-align: right;\">0.235796</td></tr>\n",
       "<tr><td>GBM_grid_0_AutoML_20181101_145939_model_6            </td><td style=\"text-align: right;\">0.626336</td><td style=\"text-align: right;\"> 0.646819</td><td style=\"text-align: right;\">              0.355286</td><td style=\"text-align: right;\">0.476769</td><td style=\"text-align: right;\">0.227309</td></tr>\n",
       "</tbody>\n",
       "</table>"
      ]
     },
     "metadata": {},
     "output_type": "display_data"
    },
    {
     "data": {
      "text/plain": []
     },
     "execution_count": 72,
     "metadata": {},
     "output_type": "execute_result"
    }
   ],
   "source": [
    "# View the AutoML Leaderboard\n",
    "lb = aml.leaderboard\n",
    "lb.head(rows=lb.nrows)  # Print all rows instead of default (10 rows)"
   ]
  },
  {
   "cell_type": "code",
   "execution_count": 73,
   "metadata": {},
   "outputs": [
    {
     "name": "stdout",
     "output_type": "stream",
     "text": [
      "Model Details\n",
      "=============\n",
      "H2OGeneralizedLinearEstimator :  Generalized Linear Modeling\n",
      "Model Key:  GLM_grid_0_AutoML_20181101_145939_model_0\n",
      "\n",
      "\n",
      "ModelMetricsBinomialGLM: glm\n",
      "** Reported on train data. **\n",
      "\n",
      "MSE: 0.14568572132508611\n",
      "RMSE: 0.3816879894954596\n",
      "LogLoss: 0.4555082024621318\n",
      "Null degrees of freedom: 491\n",
      "Residual degrees of freedom: 483\n",
      "Null deviance: 640.4842415170043\n",
      "Residual deviance: 448.2200712227378\n",
      "AIC: 466.2200712227378\n",
      "AUC: 0.8567823343848581\n",
      "Gini: 0.7135646687697161\n",
      "Confusion Matrix (Act/Pred) for max f1 @ threshold = 0.3279216917080738: \n"
     ]
    },
    {
     "data": {
      "text/html": [
       "<div style=\"overflow:auto\"><table style=\"width:50%\"><tr><td><b></b></td>\n",
       "<td><b>0</b></td>\n",
       "<td><b>1</b></td>\n",
       "<td><b>Error</b></td>\n",
       "<td><b>Rate</b></td></tr>\n",
       "<tr><td>0</td>\n",
       "<td>242.0</td>\n",
       "<td>75.0</td>\n",
       "<td>0.2366</td>\n",
       "<td> (75.0/317.0)</td></tr>\n",
       "<tr><td>1</td>\n",
       "<td>33.0</td>\n",
       "<td>142.0</td>\n",
       "<td>0.1886</td>\n",
       "<td> (33.0/175.0)</td></tr>\n",
       "<tr><td>Total</td>\n",
       "<td>275.0</td>\n",
       "<td>217.0</td>\n",
       "<td>0.2195</td>\n",
       "<td> (108.0/492.0)</td></tr></table></div>"
      ],
      "text/plain": [
       "       0    1    Error    Rate\n",
       "-----  ---  ---  -------  -------------\n",
       "0      242  75   0.2366   (75.0/317.0)\n",
       "1      33   142  0.1886   (33.0/175.0)\n",
       "Total  275  217  0.2195   (108.0/492.0)"
      ]
     },
     "metadata": {},
     "output_type": "display_data"
    },
    {
     "name": "stdout",
     "output_type": "stream",
     "text": [
      "Maximum Metrics: Maximum metrics at their respective thresholds\n",
      "\n"
     ]
    },
    {
     "data": {
      "text/html": [
       "<div style=\"overflow:auto\"><table style=\"width:50%\"><tr><td><b>metric</b></td>\n",
       "<td><b>threshold</b></td>\n",
       "<td><b>value</b></td>\n",
       "<td><b>idx</b></td></tr>\n",
       "<tr><td>max f1</td>\n",
       "<td>0.3279217</td>\n",
       "<td>0.7244898</td>\n",
       "<td>187.0</td></tr>\n",
       "<tr><td>max f2</td>\n",
       "<td>0.1816565</td>\n",
       "<td>0.8142999</td>\n",
       "<td>259.0</td></tr>\n",
       "<tr><td>max f0point5</td>\n",
       "<td>0.6144803</td>\n",
       "<td>0.7303371</td>\n",
       "<td>97.0</td></tr>\n",
       "<tr><td>max accuracy</td>\n",
       "<td>0.4394757</td>\n",
       "<td>0.7967480</td>\n",
       "<td>150.0</td></tr>\n",
       "<tr><td>max precision</td>\n",
       "<td>0.9945196</td>\n",
       "<td>1.0</td>\n",
       "<td>0.0</td></tr>\n",
       "<tr><td>max recall</td>\n",
       "<td>0.0167282</td>\n",
       "<td>1.0</td>\n",
       "<td>392.0</td></tr>\n",
       "<tr><td>max specificity</td>\n",
       "<td>0.9945196</td>\n",
       "<td>1.0</td>\n",
       "<td>0.0</td></tr>\n",
       "<tr><td>max absolute_mcc</td>\n",
       "<td>0.4186584</td>\n",
       "<td>0.5589027</td>\n",
       "<td>159.0</td></tr>\n",
       "<tr><td>max min_per_class_accuracy</td>\n",
       "<td>0.3479019</td>\n",
       "<td>0.7760252</td>\n",
       "<td>180.0</td></tr>\n",
       "<tr><td>max mean_per_class_accuracy</td>\n",
       "<td>0.3279217</td>\n",
       "<td>0.7874178</td>\n",
       "<td>187.0</td></tr></table></div>"
      ],
      "text/plain": [
       "metric                       threshold    value     idx\n",
       "---------------------------  -----------  --------  -----\n",
       "max f1                       0.327922     0.72449   187\n",
       "max f2                       0.181656     0.8143    259\n",
       "max f0point5                 0.61448      0.730337  97\n",
       "max accuracy                 0.439476     0.796748  150\n",
       "max precision                0.99452      1         0\n",
       "max recall                   0.0167282    1         392\n",
       "max specificity              0.99452      1         0\n",
       "max absolute_mcc             0.418658     0.558903  159\n",
       "max min_per_class_accuracy   0.347902     0.776025  180\n",
       "max mean_per_class_accuracy  0.327922     0.787418  187"
      ]
     },
     "metadata": {},
     "output_type": "display_data"
    },
    {
     "name": "stdout",
     "output_type": "stream",
     "text": [
      "Gains/Lift Table: Avg response rate: 35.57 %\n",
      "\n"
     ]
    },
    {
     "data": {
      "text/html": [
       "<div style=\"overflow:auto\"><table style=\"width:50%\"><tr><td><b></b></td>\n",
       "<td><b>group</b></td>\n",
       "<td><b>cumulative_data_fraction</b></td>\n",
       "<td><b>lower_threshold</b></td>\n",
       "<td><b>lift</b></td>\n",
       "<td><b>cumulative_lift</b></td>\n",
       "<td><b>response_rate</b></td>\n",
       "<td><b>cumulative_response_rate</b></td>\n",
       "<td><b>capture_rate</b></td>\n",
       "<td><b>cumulative_capture_rate</b></td>\n",
       "<td><b>gain</b></td>\n",
       "<td><b>cumulative_gain</b></td></tr>\n",
       "<tr><td></td>\n",
       "<td>1</td>\n",
       "<td>0.0101626</td>\n",
       "<td>0.9540460</td>\n",
       "<td>2.2491429</td>\n",
       "<td>2.2491429</td>\n",
       "<td>0.8</td>\n",
       "<td>0.8</td>\n",
       "<td>0.0228571</td>\n",
       "<td>0.0228571</td>\n",
       "<td>124.9142857</td>\n",
       "<td>124.9142857</td></tr>\n",
       "<tr><td></td>\n",
       "<td>2</td>\n",
       "<td>0.0203252</td>\n",
       "<td>0.9391255</td>\n",
       "<td>2.2491429</td>\n",
       "<td>2.2491429</td>\n",
       "<td>0.8</td>\n",
       "<td>0.8</td>\n",
       "<td>0.0228571</td>\n",
       "<td>0.0457143</td>\n",
       "<td>124.9142857</td>\n",
       "<td>124.9142857</td></tr>\n",
       "<tr><td></td>\n",
       "<td>3</td>\n",
       "<td>0.0304878</td>\n",
       "<td>0.9223396</td>\n",
       "<td>2.2491429</td>\n",
       "<td>2.2491429</td>\n",
       "<td>0.8</td>\n",
       "<td>0.8</td>\n",
       "<td>0.0228571</td>\n",
       "<td>0.0685714</td>\n",
       "<td>124.9142857</td>\n",
       "<td>124.9142857</td></tr>\n",
       "<tr><td></td>\n",
       "<td>4</td>\n",
       "<td>0.0406504</td>\n",
       "<td>0.8876297</td>\n",
       "<td>2.8114286</td>\n",
       "<td>2.3897143</td>\n",
       "<td>1.0</td>\n",
       "<td>0.85</td>\n",
       "<td>0.0285714</td>\n",
       "<td>0.0971429</td>\n",
       "<td>181.1428571</td>\n",
       "<td>138.9714286</td></tr>\n",
       "<tr><td></td>\n",
       "<td>5</td>\n",
       "<td>0.0508130</td>\n",
       "<td>0.8689847</td>\n",
       "<td>2.8114286</td>\n",
       "<td>2.4740571</td>\n",
       "<td>1.0</td>\n",
       "<td>0.88</td>\n",
       "<td>0.0285714</td>\n",
       "<td>0.1257143</td>\n",
       "<td>181.1428571</td>\n",
       "<td>147.4057143</td></tr>\n",
       "<tr><td></td>\n",
       "<td>6</td>\n",
       "<td>0.1016260</td>\n",
       "<td>0.7951909</td>\n",
       "<td>2.3616000</td>\n",
       "<td>2.4178286</td>\n",
       "<td>0.84</td>\n",
       "<td>0.86</td>\n",
       "<td>0.12</td>\n",
       "<td>0.2457143</td>\n",
       "<td>136.1600000</td>\n",
       "<td>141.7828571</td></tr>\n",
       "<tr><td></td>\n",
       "<td>7</td>\n",
       "<td>0.1504065</td>\n",
       "<td>0.7109585</td>\n",
       "<td>2.3428571</td>\n",
       "<td>2.3935135</td>\n",
       "<td>0.8333333</td>\n",
       "<td>0.8513514</td>\n",
       "<td>0.1142857</td>\n",
       "<td>0.36</td>\n",
       "<td>134.2857143</td>\n",
       "<td>139.3513514</td></tr>\n",
       "<tr><td></td>\n",
       "<td>8</td>\n",
       "<td>0.2012195</td>\n",
       "<td>0.6539802</td>\n",
       "<td>2.0242286</td>\n",
       "<td>2.3002597</td>\n",
       "<td>0.72</td>\n",
       "<td>0.8181818</td>\n",
       "<td>0.1028571</td>\n",
       "<td>0.4628571</td>\n",
       "<td>102.4228571</td>\n",
       "<td>130.0259740</td></tr>\n",
       "<tr><td></td>\n",
       "<td>9</td>\n",
       "<td>0.3008130</td>\n",
       "<td>0.4965234</td>\n",
       "<td>1.6065306</td>\n",
       "<td>2.0705792</td>\n",
       "<td>0.5714286</td>\n",
       "<td>0.7364865</td>\n",
       "<td>0.16</td>\n",
       "<td>0.6228571</td>\n",
       "<td>60.6530612</td>\n",
       "<td>107.0579151</td></tr>\n",
       "<tr><td></td>\n",
       "<td>10</td>\n",
       "<td>0.4004065</td>\n",
       "<td>0.3738785</td>\n",
       "<td>1.3196501</td>\n",
       "<td>1.8837999</td>\n",
       "<td>0.4693878</td>\n",
       "<td>0.6700508</td>\n",
       "<td>0.1314286</td>\n",
       "<td>0.7542857</td>\n",
       "<td>31.9650146</td>\n",
       "<td>88.3799855</td></tr>\n",
       "<tr><td></td>\n",
       "<td>11</td>\n",
       "<td>0.5</td>\n",
       "<td>0.2845760</td>\n",
       "<td>0.8606414</td>\n",
       "<td>1.68</td>\n",
       "<td>0.3061224</td>\n",
       "<td>0.5975610</td>\n",
       "<td>0.0857143</td>\n",
       "<td>0.84</td>\n",
       "<td>-13.9358601</td>\n",
       "<td>68.0</td></tr>\n",
       "<tr><td></td>\n",
       "<td>12</td>\n",
       "<td>0.5995935</td>\n",
       "<td>0.2013466</td>\n",
       "<td>0.8032653</td>\n",
       "<td>1.5343729</td>\n",
       "<td>0.2857143</td>\n",
       "<td>0.5457627</td>\n",
       "<td>0.08</td>\n",
       "<td>0.92</td>\n",
       "<td>-19.6734694</td>\n",
       "<td>53.4372881</td></tr>\n",
       "<tr><td></td>\n",
       "<td>13</td>\n",
       "<td>0.6991870</td>\n",
       "<td>0.1378197</td>\n",
       "<td>0.4016327</td>\n",
       "<td>1.3730233</td>\n",
       "<td>0.1428571</td>\n",
       "<td>0.4883721</td>\n",
       "<td>0.04</td>\n",
       "<td>0.96</td>\n",
       "<td>-59.8367347</td>\n",
       "<td>37.3023256</td></tr>\n",
       "<tr><td></td>\n",
       "<td>14</td>\n",
       "<td>0.7987805</td>\n",
       "<td>0.1013567</td>\n",
       "<td>0.2295044</td>\n",
       "<td>1.2304471</td>\n",
       "<td>0.0816327</td>\n",
       "<td>0.4376590</td>\n",
       "<td>0.0228571</td>\n",
       "<td>0.9828571</td>\n",
       "<td>-77.0495627</td>\n",
       "<td>23.0447110</td></tr>\n",
       "<tr><td></td>\n",
       "<td>15</td>\n",
       "<td>0.8983740</td>\n",
       "<td>0.0546487</td>\n",
       "<td>0.0</td>\n",
       "<td>1.0940401</td>\n",
       "<td>0.0</td>\n",
       "<td>0.3891403</td>\n",
       "<td>0.0</td>\n",
       "<td>0.9828571</td>\n",
       "<td>-100.0</td>\n",
       "<td>9.4040078</td></tr>\n",
       "<tr><td></td>\n",
       "<td>16</td>\n",
       "<td>1.0</td>\n",
       "<td>0.0025017</td>\n",
       "<td>0.1686857</td>\n",
       "<td>1.0</td>\n",
       "<td>0.06</td>\n",
       "<td>0.3556911</td>\n",
       "<td>0.0171429</td>\n",
       "<td>1.0</td>\n",
       "<td>-83.1314286</td>\n",
       "<td>0.0</td></tr></table></div>"
      ],
      "text/plain": [
       "    group    cumulative_data_fraction    lower_threshold    lift      cumulative_lift    response_rate    cumulative_response_rate    capture_rate    cumulative_capture_rate    gain      cumulative_gain\n",
       "--  -------  --------------------------  -----------------  --------  -----------------  ---------------  --------------------------  --------------  -------------------------  --------  -----------------\n",
       "    1        0.0101626                   0.954046           2.24914   2.24914            0.8              0.8                         0.0228571       0.0228571                  124.914   124.914\n",
       "    2        0.0203252                   0.939125           2.24914   2.24914            0.8              0.8                         0.0228571       0.0457143                  124.914   124.914\n",
       "    3        0.0304878                   0.92234            2.24914   2.24914            0.8              0.8                         0.0228571       0.0685714                  124.914   124.914\n",
       "    4        0.0406504                   0.88763            2.81143   2.38971            1                0.85                        0.0285714       0.0971429                  181.143   138.971\n",
       "    5        0.050813                    0.868985           2.81143   2.47406            1                0.88                        0.0285714       0.125714                   181.143   147.406\n",
       "    6        0.101626                    0.795191           2.3616    2.41783            0.84             0.86                        0.12            0.245714                   136.16    141.783\n",
       "    7        0.150407                    0.710958           2.34286   2.39351            0.833333         0.851351                    0.114286        0.36                       134.286   139.351\n",
       "    8        0.20122                     0.65398            2.02423   2.30026            0.72             0.818182                    0.102857        0.462857                   102.423   130.026\n",
       "    9        0.300813                    0.496523           1.60653   2.07058            0.571429         0.736486                    0.16            0.622857                   60.6531   107.058\n",
       "    10       0.400407                    0.373878           1.31965   1.8838             0.469388         0.670051                    0.131429        0.754286                   31.965    88.38\n",
       "    11       0.5                         0.284576           0.860641  1.68               0.306122         0.597561                    0.0857143       0.84                       -13.9359  68\n",
       "    12       0.599593                    0.201347           0.803265  1.53437            0.285714         0.545763                    0.08            0.92                       -19.6735  53.4373\n",
       "    13       0.699187                    0.13782            0.401633  1.37302            0.142857         0.488372                    0.04            0.96                       -59.8367  37.3023\n",
       "    14       0.79878                     0.101357           0.229504  1.23045            0.0816327        0.437659                    0.0228571       0.982857                   -77.0496  23.0447\n",
       "    15       0.898374                    0.0546487          0         1.09404            0                0.38914                     0               0.982857                   -100      9.40401\n",
       "    16       1                           0.00250168         0.168686  1                  0.06             0.355691                    0.0171429       1                          -83.1314  0"
      ]
     },
     "metadata": {},
     "output_type": "display_data"
    },
    {
     "name": "stdout",
     "output_type": "stream",
     "text": [
      "\n",
      "\n",
      "ModelMetricsBinomialGLM: glm\n",
      "** Reported on validation data. **\n",
      "\n",
      "MSE: 0.13657233722605672\n",
      "RMSE: 0.36955694720307547\n",
      "LogLoss: 0.4282841743123544\n",
      "Null degrees of freedom: 117\n",
      "Residual degrees of freedom: 109\n",
      "Null deviance: 148.89295925363277\n",
      "Residual deviance: 101.07506513771564\n",
      "AIC: 119.07506513771564\n",
      "AUC: 0.8621710526315789\n",
      "Gini: 0.7243421052631578\n",
      "Confusion Matrix (Act/Pred) for max f1 @ threshold = 0.5574961019206314: \n"
     ]
    },
    {
     "data": {
      "text/html": [
       "<div style=\"overflow:auto\"><table style=\"width:50%\"><tr><td><b></b></td>\n",
       "<td><b>0</b></td>\n",
       "<td><b>1</b></td>\n",
       "<td><b>Error</b></td>\n",
       "<td><b>Rate</b></td></tr>\n",
       "<tr><td>0</td>\n",
       "<td>77.0</td>\n",
       "<td>3.0</td>\n",
       "<td>0.0375</td>\n",
       "<td> (3.0/80.0)</td></tr>\n",
       "<tr><td>1</td>\n",
       "<td>15.0</td>\n",
       "<td>23.0</td>\n",
       "<td>0.3947</td>\n",
       "<td> (15.0/38.0)</td></tr>\n",
       "<tr><td>Total</td>\n",
       "<td>92.0</td>\n",
       "<td>26.0</td>\n",
       "<td>0.1525</td>\n",
       "<td> (18.0/118.0)</td></tr></table></div>"
      ],
      "text/plain": [
       "       0    1    Error    Rate\n",
       "-----  ---  ---  -------  ------------\n",
       "0      77   3    0.0375   (3.0/80.0)\n",
       "1      15   23   0.3947   (15.0/38.0)\n",
       "Total  92   26   0.1525   (18.0/118.0)"
      ]
     },
     "metadata": {},
     "output_type": "display_data"
    },
    {
     "name": "stdout",
     "output_type": "stream",
     "text": [
      "Maximum Metrics: Maximum metrics at their respective thresholds\n",
      "\n"
     ]
    },
    {
     "data": {
      "text/html": [
       "<div style=\"overflow:auto\"><table style=\"width:50%\"><tr><td><b>metric</b></td>\n",
       "<td><b>threshold</b></td>\n",
       "<td><b>value</b></td>\n",
       "<td><b>idx</b></td></tr>\n",
       "<tr><td>max f1</td>\n",
       "<td>0.5574961</td>\n",
       "<td>0.71875</td>\n",
       "<td>25.0</td></tr>\n",
       "<tr><td>max f2</td>\n",
       "<td>0.1415379</td>\n",
       "<td>0.7949791</td>\n",
       "<td>86.0</td></tr>\n",
       "<tr><td>max f0point5</td>\n",
       "<td>0.5574961</td>\n",
       "<td>0.8098592</td>\n",
       "<td>25.0</td></tr>\n",
       "<tr><td>max accuracy</td>\n",
       "<td>0.5574961</td>\n",
       "<td>0.8474576</td>\n",
       "<td>25.0</td></tr>\n",
       "<tr><td>max precision</td>\n",
       "<td>0.9623850</td>\n",
       "<td>1.0</td>\n",
       "<td>0.0</td></tr>\n",
       "<tr><td>max recall</td>\n",
       "<td>0.1415379</td>\n",
       "<td>1.0</td>\n",
       "<td>86.0</td></tr>\n",
       "<tr><td>max specificity</td>\n",
       "<td>0.9623850</td>\n",
       "<td>1.0</td>\n",
       "<td>0.0</td></tr>\n",
       "<tr><td>max absolute_mcc</td>\n",
       "<td>0.5574961</td>\n",
       "<td>0.6400640</td>\n",
       "<td>25.0</td></tr>\n",
       "<tr><td>max min_per_class_accuracy</td>\n",
       "<td>0.3404152</td>\n",
       "<td>0.7631579</td>\n",
       "<td>43.0</td></tr>\n",
       "<tr><td>max mean_per_class_accuracy</td>\n",
       "<td>0.3404152</td>\n",
       "<td>0.7878289</td>\n",
       "<td>43.0</td></tr></table></div>"
      ],
      "text/plain": [
       "metric                       threshold    value     idx\n",
       "---------------------------  -----------  --------  -----\n",
       "max f1                       0.557496     0.71875   25\n",
       "max f2                       0.141538     0.794979  86\n",
       "max f0point5                 0.557496     0.809859  25\n",
       "max accuracy                 0.557496     0.847458  25\n",
       "max precision                0.962385     1         0\n",
       "max recall                   0.141538     1         86\n",
       "max specificity              0.962385     1         0\n",
       "max absolute_mcc             0.557496     0.640064  25\n",
       "max min_per_class_accuracy   0.340415     0.763158  43\n",
       "max mean_per_class_accuracy  0.340415     0.787829  43"
      ]
     },
     "metadata": {},
     "output_type": "display_data"
    },
    {
     "name": "stdout",
     "output_type": "stream",
     "text": [
      "Gains/Lift Table: Avg response rate: 32.20 %\n",
      "\n"
     ]
    },
    {
     "data": {
      "text/html": [
       "<div style=\"overflow:auto\"><table style=\"width:50%\"><tr><td><b></b></td>\n",
       "<td><b>group</b></td>\n",
       "<td><b>cumulative_data_fraction</b></td>\n",
       "<td><b>lower_threshold</b></td>\n",
       "<td><b>lift</b></td>\n",
       "<td><b>cumulative_lift</b></td>\n",
       "<td><b>response_rate</b></td>\n",
       "<td><b>cumulative_response_rate</b></td>\n",
       "<td><b>capture_rate</b></td>\n",
       "<td><b>cumulative_capture_rate</b></td>\n",
       "<td><b>gain</b></td>\n",
       "<td><b>cumulative_gain</b></td></tr>\n",
       "<tr><td></td>\n",
       "<td>1</td>\n",
       "<td>0.0169492</td>\n",
       "<td>0.8741271</td>\n",
       "<td>3.1052632</td>\n",
       "<td>3.1052632</td>\n",
       "<td>1.0</td>\n",
       "<td>1.0</td>\n",
       "<td>0.0526316</td>\n",
       "<td>0.0526316</td>\n",
       "<td>210.5263158</td>\n",
       "<td>210.5263158</td></tr>\n",
       "<tr><td></td>\n",
       "<td>2</td>\n",
       "<td>0.0254237</td>\n",
       "<td>0.8554084</td>\n",
       "<td>3.1052632</td>\n",
       "<td>3.1052632</td>\n",
       "<td>1.0</td>\n",
       "<td>1.0</td>\n",
       "<td>0.0263158</td>\n",
       "<td>0.0789474</td>\n",
       "<td>210.5263158</td>\n",
       "<td>210.5263158</td></tr>\n",
       "<tr><td></td>\n",
       "<td>3</td>\n",
       "<td>0.0338983</td>\n",
       "<td>0.8164409</td>\n",
       "<td>0.0</td>\n",
       "<td>2.3289474</td>\n",
       "<td>0.0</td>\n",
       "<td>0.75</td>\n",
       "<td>0.0</td>\n",
       "<td>0.0789474</td>\n",
       "<td>-100.0</td>\n",
       "<td>132.8947368</td></tr>\n",
       "<tr><td></td>\n",
       "<td>4</td>\n",
       "<td>0.0423729</td>\n",
       "<td>0.8004058</td>\n",
       "<td>3.1052632</td>\n",
       "<td>2.4842105</td>\n",
       "<td>1.0</td>\n",
       "<td>0.8</td>\n",
       "<td>0.0263158</td>\n",
       "<td>0.1052632</td>\n",
       "<td>210.5263158</td>\n",
       "<td>148.4210526</td></tr>\n",
       "<tr><td></td>\n",
       "<td>5</td>\n",
       "<td>0.0508475</td>\n",
       "<td>0.7901239</td>\n",
       "<td>3.1052632</td>\n",
       "<td>2.5877193</td>\n",
       "<td>1.0</td>\n",
       "<td>0.8333333</td>\n",
       "<td>0.0263158</td>\n",
       "<td>0.1315789</td>\n",
       "<td>210.5263158</td>\n",
       "<td>158.7719298</td></tr>\n",
       "<tr><td></td>\n",
       "<td>6</td>\n",
       "<td>0.1016949</td>\n",
       "<td>0.7294739</td>\n",
       "<td>2.5877193</td>\n",
       "<td>2.5877193</td>\n",
       "<td>0.8333333</td>\n",
       "<td>0.8333333</td>\n",
       "<td>0.1315789</td>\n",
       "<td>0.2631579</td>\n",
       "<td>158.7719298</td>\n",
       "<td>158.7719298</td></tr>\n",
       "<tr><td></td>\n",
       "<td>7</td>\n",
       "<td>0.1525424</td>\n",
       "<td>0.6733203</td>\n",
       "<td>3.1052632</td>\n",
       "<td>2.7602339</td>\n",
       "<td>1.0</td>\n",
       "<td>0.8888889</td>\n",
       "<td>0.1578947</td>\n",
       "<td>0.4210526</td>\n",
       "<td>210.5263158</td>\n",
       "<td>176.0233918</td></tr>\n",
       "<tr><td></td>\n",
       "<td>8</td>\n",
       "<td>0.2033898</td>\n",
       "<td>0.5804844</td>\n",
       "<td>2.5877193</td>\n",
       "<td>2.7171053</td>\n",
       "<td>0.8333333</td>\n",
       "<td>0.875</td>\n",
       "<td>0.1315789</td>\n",
       "<td>0.5526316</td>\n",
       "<td>158.7719298</td>\n",
       "<td>171.7105263</td></tr>\n",
       "<tr><td></td>\n",
       "<td>9</td>\n",
       "<td>0.3050847</td>\n",
       "<td>0.3988897</td>\n",
       "<td>0.7763158</td>\n",
       "<td>2.0701754</td>\n",
       "<td>0.25</td>\n",
       "<td>0.6666667</td>\n",
       "<td>0.0789474</td>\n",
       "<td>0.6315789</td>\n",
       "<td>-22.3684211</td>\n",
       "<td>107.0175439</td></tr>\n",
       "<tr><td></td>\n",
       "<td>10</td>\n",
       "<td>0.3983051</td>\n",
       "<td>0.3316978</td>\n",
       "<td>1.4114833</td>\n",
       "<td>1.9160134</td>\n",
       "<td>0.4545455</td>\n",
       "<td>0.6170213</td>\n",
       "<td>0.1315789</td>\n",
       "<td>0.7631579</td>\n",
       "<td>41.1483254</td>\n",
       "<td>91.6013438</td></tr>\n",
       "<tr><td></td>\n",
       "<td>11</td>\n",
       "<td>0.5</td>\n",
       "<td>0.2480400</td>\n",
       "<td>0.7763158</td>\n",
       "<td>1.6842105</td>\n",
       "<td>0.25</td>\n",
       "<td>0.5423729</td>\n",
       "<td>0.0789474</td>\n",
       "<td>0.8421053</td>\n",
       "<td>-22.3684211</td>\n",
       "<td>68.4210526</td></tr>\n",
       "<tr><td></td>\n",
       "<td>12</td>\n",
       "<td>0.6016949</td>\n",
       "<td>0.1928740</td>\n",
       "<td>0.7763158</td>\n",
       "<td>1.5307635</td>\n",
       "<td>0.25</td>\n",
       "<td>0.4929577</td>\n",
       "<td>0.0789474</td>\n",
       "<td>0.9210526</td>\n",
       "<td>-22.3684211</td>\n",
       "<td>53.0763529</td></tr>\n",
       "<tr><td></td>\n",
       "<td>13</td>\n",
       "<td>0.6949153</td>\n",
       "<td>0.1504867</td>\n",
       "<td>0.5645933</td>\n",
       "<td>1.4011553</td>\n",
       "<td>0.1818182</td>\n",
       "<td>0.4512195</td>\n",
       "<td>0.0526316</td>\n",
       "<td>0.9736842</td>\n",
       "<td>-43.5406699</td>\n",
       "<td>40.1155327</td></tr>\n",
       "<tr><td></td>\n",
       "<td>14</td>\n",
       "<td>0.7966102</td>\n",
       "<td>0.1072612</td>\n",
       "<td>0.2587719</td>\n",
       "<td>1.2553191</td>\n",
       "<td>0.0833333</td>\n",
       "<td>0.4042553</td>\n",
       "<td>0.0263158</td>\n",
       "<td>1.0</td>\n",
       "<td>-74.1228070</td>\n",
       "<td>25.5319149</td></tr>\n",
       "<tr><td></td>\n",
       "<td>15</td>\n",
       "<td>0.8983051</td>\n",
       "<td>0.0693527</td>\n",
       "<td>0.0</td>\n",
       "<td>1.1132075</td>\n",
       "<td>0.0</td>\n",
       "<td>0.3584906</td>\n",
       "<td>0.0</td>\n",
       "<td>1.0</td>\n",
       "<td>-100.0</td>\n",
       "<td>11.3207547</td></tr>\n",
       "<tr><td></td>\n",
       "<td>16</td>\n",
       "<td>1.0</td>\n",
       "<td>0.0020722</td>\n",
       "<td>0.0</td>\n",
       "<td>1.0</td>\n",
       "<td>0.0</td>\n",
       "<td>0.3220339</td>\n",
       "<td>0.0</td>\n",
       "<td>1.0</td>\n",
       "<td>-100.0</td>\n",
       "<td>0.0</td></tr></table></div>"
      ],
      "text/plain": [
       "    group    cumulative_data_fraction    lower_threshold    lift      cumulative_lift    response_rate    cumulative_response_rate    capture_rate    cumulative_capture_rate    gain      cumulative_gain\n",
       "--  -------  --------------------------  -----------------  --------  -----------------  ---------------  --------------------------  --------------  -------------------------  --------  -----------------\n",
       "    1        0.0169492                   0.874127           3.10526   3.10526            1                1                           0.0526316       0.0526316                  210.526   210.526\n",
       "    2        0.0254237                   0.855408           3.10526   3.10526            1                1                           0.0263158       0.0789474                  210.526   210.526\n",
       "    3        0.0338983                   0.816441           0         2.32895            0                0.75                        0               0.0789474                  -100      132.895\n",
       "    4        0.0423729                   0.800406           3.10526   2.48421            1                0.8                         0.0263158       0.105263                   210.526   148.421\n",
       "    5        0.0508475                   0.790124           3.10526   2.58772            1                0.833333                    0.0263158       0.131579                   210.526   158.772\n",
       "    6        0.101695                    0.729474           2.58772   2.58772            0.833333         0.833333                    0.131579        0.263158                   158.772   158.772\n",
       "    7        0.152542                    0.67332            3.10526   2.76023            1                0.888889                    0.157895        0.421053                   210.526   176.023\n",
       "    8        0.20339                     0.580484           2.58772   2.71711            0.833333         0.875                       0.131579        0.552632                   158.772   171.711\n",
       "    9        0.305085                    0.39889            0.776316  2.07018            0.25             0.666667                    0.0789474       0.631579                   -22.3684  107.018\n",
       "    10       0.398305                    0.331698           1.41148   1.91601            0.454545         0.617021                    0.131579        0.763158                   41.1483   91.6013\n",
       "    11       0.5                         0.24804            0.776316  1.68421            0.25             0.542373                    0.0789474       0.842105                   -22.3684  68.4211\n",
       "    12       0.601695                    0.192874           0.776316  1.53076            0.25             0.492958                    0.0789474       0.921053                   -22.3684  53.0764\n",
       "    13       0.694915                    0.150487           0.564593  1.40116            0.181818         0.45122                     0.0526316       0.973684                   -43.5407  40.1155\n",
       "    14       0.79661                     0.107261           0.258772  1.25532            0.0833333        0.404255                    0.0263158       1                          -74.1228  25.5319\n",
       "    15       0.898305                    0.0693527          0         1.11321            0                0.358491                    0               1                          -100      11.3208\n",
       "    16       1                           0.00207224         0         1                  0                0.322034                    0               1                          -100      0"
      ]
     },
     "metadata": {},
     "output_type": "display_data"
    },
    {
     "name": "stdout",
     "output_type": "stream",
     "text": [
      "\n",
      "\n",
      "ModelMetricsBinomialGLM: glm\n",
      "** Reported on cross-validation data. **\n",
      "\n",
      "MSE: 0.1504518549413431\n",
      "RMSE: 0.38788123819197945\n",
      "LogLoss: 0.47024369627192864\n",
      "Null degrees of freedom: 491\n",
      "Residual degrees of freedom: 483\n",
      "Null deviance: 642.0800549683404\n",
      "Residual deviance: 462.71979713157776\n",
      "AIC: 480.71979713157776\n",
      "AUC: 0.8470301937809824\n",
      "Gini: 0.6940603875619649\n",
      "Confusion Matrix (Act/Pred) for max f1 @ threshold = 0.3228515658341001: \n"
     ]
    },
    {
     "data": {
      "text/html": [
       "<div style=\"overflow:auto\"><table style=\"width:50%\"><tr><td><b></b></td>\n",
       "<td><b>0</b></td>\n",
       "<td><b>1</b></td>\n",
       "<td><b>Error</b></td>\n",
       "<td><b>Rate</b></td></tr>\n",
       "<tr><td>0</td>\n",
       "<td>235.0</td>\n",
       "<td>82.0</td>\n",
       "<td>0.2587</td>\n",
       "<td> (82.0/317.0)</td></tr>\n",
       "<tr><td>1</td>\n",
       "<td>34.0</td>\n",
       "<td>141.0</td>\n",
       "<td>0.1943</td>\n",
       "<td> (34.0/175.0)</td></tr>\n",
       "<tr><td>Total</td>\n",
       "<td>269.0</td>\n",
       "<td>223.0</td>\n",
       "<td>0.2358</td>\n",
       "<td> (116.0/492.0)</td></tr></table></div>"
      ],
      "text/plain": [
       "       0    1    Error    Rate\n",
       "-----  ---  ---  -------  -------------\n",
       "0      235  82   0.2587   (82.0/317.0)\n",
       "1      34   141  0.1943   (34.0/175.0)\n",
       "Total  269  223  0.2358   (116.0/492.0)"
      ]
     },
     "metadata": {},
     "output_type": "display_data"
    },
    {
     "name": "stdout",
     "output_type": "stream",
     "text": [
      "Maximum Metrics: Maximum metrics at their respective thresholds\n",
      "\n"
     ]
    },
    {
     "data": {
      "text/html": [
       "<div style=\"overflow:auto\"><table style=\"width:50%\"><tr><td><b>metric</b></td>\n",
       "<td><b>threshold</b></td>\n",
       "<td><b>value</b></td>\n",
       "<td><b>idx</b></td></tr>\n",
       "<tr><td>max f1</td>\n",
       "<td>0.3228516</td>\n",
       "<td>0.7085427</td>\n",
       "<td>199.0</td></tr>\n",
       "<tr><td>max f2</td>\n",
       "<td>0.1773042</td>\n",
       "<td>0.8144126</td>\n",
       "<td>273.0</td></tr>\n",
       "<tr><td>max f0point5</td>\n",
       "<td>0.5692508</td>\n",
       "<td>0.7196402</td>\n",
       "<td>109.0</td></tr>\n",
       "<tr><td>max accuracy</td>\n",
       "<td>0.5692508</td>\n",
       "<td>0.7845528</td>\n",
       "<td>109.0</td></tr>\n",
       "<tr><td>max precision</td>\n",
       "<td>0.9920000</td>\n",
       "<td>1.0</td>\n",
       "<td>0.0</td></tr>\n",
       "<tr><td>max recall</td>\n",
       "<td>0.0195380</td>\n",
       "<td>1.0</td>\n",
       "<td>392.0</td></tr>\n",
       "<tr><td>max specificity</td>\n",
       "<td>0.9920000</td>\n",
       "<td>1.0</td>\n",
       "<td>0.0</td></tr>\n",
       "<tr><td>max absolute_mcc</td>\n",
       "<td>0.3228516</td>\n",
       "<td>0.5260639</td>\n",
       "<td>199.0</td></tr>\n",
       "<tr><td>max min_per_class_accuracy</td>\n",
       "<td>0.3438587</td>\n",
       "<td>0.7657143</td>\n",
       "<td>188.0</td></tr>\n",
       "<tr><td>max mean_per_class_accuracy</td>\n",
       "<td>0.3228516</td>\n",
       "<td>0.7735196</td>\n",
       "<td>199.0</td></tr></table></div>"
      ],
      "text/plain": [
       "metric                       threshold    value     idx\n",
       "---------------------------  -----------  --------  -----\n",
       "max f1                       0.322852     0.708543  199\n",
       "max f2                       0.177304     0.814413  273\n",
       "max f0point5                 0.569251     0.71964   109\n",
       "max accuracy                 0.569251     0.784553  109\n",
       "max precision                0.992        1         0\n",
       "max recall                   0.019538     1         392\n",
       "max specificity              0.992        1         0\n",
       "max absolute_mcc             0.322852     0.526064  199\n",
       "max min_per_class_accuracy   0.343859     0.765714  188\n",
       "max mean_per_class_accuracy  0.322852     0.77352   199"
      ]
     },
     "metadata": {},
     "output_type": "display_data"
    },
    {
     "name": "stdout",
     "output_type": "stream",
     "text": [
      "Gains/Lift Table: Avg response rate: 35.57 %\n",
      "\n"
     ]
    },
    {
     "data": {
      "text/html": [
       "<div style=\"overflow:auto\"><table style=\"width:50%\"><tr><td><b></b></td>\n",
       "<td><b>group</b></td>\n",
       "<td><b>cumulative_data_fraction</b></td>\n",
       "<td><b>lower_threshold</b></td>\n",
       "<td><b>lift</b></td>\n",
       "<td><b>cumulative_lift</b></td>\n",
       "<td><b>response_rate</b></td>\n",
       "<td><b>cumulative_response_rate</b></td>\n",
       "<td><b>capture_rate</b></td>\n",
       "<td><b>cumulative_capture_rate</b></td>\n",
       "<td><b>gain</b></td>\n",
       "<td><b>cumulative_gain</b></td></tr>\n",
       "<tr><td></td>\n",
       "<td>1</td>\n",
       "<td>0.0101626</td>\n",
       "<td>0.9558667</td>\n",
       "<td>1.6868571</td>\n",
       "<td>1.6868571</td>\n",
       "<td>0.6</td>\n",
       "<td>0.6</td>\n",
       "<td>0.0171429</td>\n",
       "<td>0.0171429</td>\n",
       "<td>68.6857143</td>\n",
       "<td>68.6857143</td></tr>\n",
       "<tr><td></td>\n",
       "<td>2</td>\n",
       "<td>0.0203252</td>\n",
       "<td>0.9293748</td>\n",
       "<td>2.2491429</td>\n",
       "<td>1.9680000</td>\n",
       "<td>0.8</td>\n",
       "<td>0.7</td>\n",
       "<td>0.0228571</td>\n",
       "<td>0.04</td>\n",
       "<td>124.9142857</td>\n",
       "<td>96.8000000</td></tr>\n",
       "<tr><td></td>\n",
       "<td>3</td>\n",
       "<td>0.0304878</td>\n",
       "<td>0.9032699</td>\n",
       "<td>2.8114286</td>\n",
       "<td>2.2491429</td>\n",
       "<td>1.0</td>\n",
       "<td>0.8</td>\n",
       "<td>0.0285714</td>\n",
       "<td>0.0685714</td>\n",
       "<td>181.1428571</td>\n",
       "<td>124.9142857</td></tr>\n",
       "<tr><td></td>\n",
       "<td>4</td>\n",
       "<td>0.0406504</td>\n",
       "<td>0.8875101</td>\n",
       "<td>2.8114286</td>\n",
       "<td>2.3897143</td>\n",
       "<td>1.0</td>\n",
       "<td>0.85</td>\n",
       "<td>0.0285714</td>\n",
       "<td>0.0971429</td>\n",
       "<td>181.1428571</td>\n",
       "<td>138.9714286</td></tr>\n",
       "<tr><td></td>\n",
       "<td>5</td>\n",
       "<td>0.0508130</td>\n",
       "<td>0.8728894</td>\n",
       "<td>2.8114286</td>\n",
       "<td>2.4740571</td>\n",
       "<td>1.0</td>\n",
       "<td>0.88</td>\n",
       "<td>0.0285714</td>\n",
       "<td>0.1257143</td>\n",
       "<td>181.1428571</td>\n",
       "<td>147.4057143</td></tr>\n",
       "<tr><td></td>\n",
       "<td>6</td>\n",
       "<td>0.1016260</td>\n",
       "<td>0.7724962</td>\n",
       "<td>2.3616000</td>\n",
       "<td>2.4178286</td>\n",
       "<td>0.84</td>\n",
       "<td>0.86</td>\n",
       "<td>0.12</td>\n",
       "<td>0.2457143</td>\n",
       "<td>136.1600000</td>\n",
       "<td>141.7828571</td></tr>\n",
       "<tr><td></td>\n",
       "<td>7</td>\n",
       "<td>0.1504065</td>\n",
       "<td>0.7230551</td>\n",
       "<td>2.2257143</td>\n",
       "<td>2.3555212</td>\n",
       "<td>0.7916667</td>\n",
       "<td>0.8378378</td>\n",
       "<td>0.1085714</td>\n",
       "<td>0.3542857</td>\n",
       "<td>122.5714286</td>\n",
       "<td>135.5521236</td></tr>\n",
       "<tr><td></td>\n",
       "<td>8</td>\n",
       "<td>0.2012195</td>\n",
       "<td>0.6506147</td>\n",
       "<td>2.0242286</td>\n",
       "<td>2.2718615</td>\n",
       "<td>0.72</td>\n",
       "<td>0.8080808</td>\n",
       "<td>0.1028571</td>\n",
       "<td>0.4571429</td>\n",
       "<td>102.4228571</td>\n",
       "<td>127.1861472</td></tr>\n",
       "<tr><td></td>\n",
       "<td>9</td>\n",
       "<td>0.3008130</td>\n",
       "<td>0.4891502</td>\n",
       "<td>1.5491545</td>\n",
       "<td>2.0325869</td>\n",
       "<td>0.5510204</td>\n",
       "<td>0.7229730</td>\n",
       "<td>0.1542857</td>\n",
       "<td>0.6114286</td>\n",
       "<td>54.9154519</td>\n",
       "<td>103.2586873</td></tr>\n",
       "<tr><td></td>\n",
       "<td>10</td>\n",
       "<td>0.4004065</td>\n",
       "<td>0.3720651</td>\n",
       "<td>1.3196501</td>\n",
       "<td>1.8552574</td>\n",
       "<td>0.4693878</td>\n",
       "<td>0.6598985</td>\n",
       "<td>0.1314286</td>\n",
       "<td>0.7428571</td>\n",
       "<td>31.9650146</td>\n",
       "<td>85.5257433</td></tr>\n",
       "<tr><td></td>\n",
       "<td>11</td>\n",
       "<td>0.5</td>\n",
       "<td>0.2771573</td>\n",
       "<td>1.0901458</td>\n",
       "<td>1.7028571</td>\n",
       "<td>0.3877551</td>\n",
       "<td>0.6056911</td>\n",
       "<td>0.1085714</td>\n",
       "<td>0.8514286</td>\n",
       "<td>9.0145773</td>\n",
       "<td>70.2857143</td></tr>\n",
       "<tr><td></td>\n",
       "<td>12</td>\n",
       "<td>0.5995935</td>\n",
       "<td>0.2001766</td>\n",
       "<td>0.6311370</td>\n",
       "<td>1.5248426</td>\n",
       "<td>0.2244898</td>\n",
       "<td>0.5423729</td>\n",
       "<td>0.0628571</td>\n",
       "<td>0.9142857</td>\n",
       "<td>-36.8862974</td>\n",
       "<td>52.4842615</td></tr>\n",
       "<tr><td></td>\n",
       "<td>13</td>\n",
       "<td>0.6991870</td>\n",
       "<td>0.1377534</td>\n",
       "<td>0.4016327</td>\n",
       "<td>1.3648505</td>\n",
       "<td>0.1428571</td>\n",
       "<td>0.4854651</td>\n",
       "<td>0.04</td>\n",
       "<td>0.9542857</td>\n",
       "<td>-59.8367347</td>\n",
       "<td>36.4850498</td></tr>\n",
       "<tr><td></td>\n",
       "<td>14</td>\n",
       "<td>0.7987805</td>\n",
       "<td>0.0999453</td>\n",
       "<td>0.2295044</td>\n",
       "<td>1.2232933</td>\n",
       "<td>0.0816327</td>\n",
       "<td>0.4351145</td>\n",
       "<td>0.0228571</td>\n",
       "<td>0.9771429</td>\n",
       "<td>-77.0495627</td>\n",
       "<td>22.3293348</td></tr>\n",
       "<tr><td></td>\n",
       "<td>15</td>\n",
       "<td>0.8983740</td>\n",
       "<td>0.0589084</td>\n",
       "<td>0.0573761</td>\n",
       "<td>1.0940401</td>\n",
       "<td>0.0204082</td>\n",
       "<td>0.3891403</td>\n",
       "<td>0.0057143</td>\n",
       "<td>0.9828571</td>\n",
       "<td>-94.2623907</td>\n",
       "<td>9.4040078</td></tr>\n",
       "<tr><td></td>\n",
       "<td>16</td>\n",
       "<td>1.0</td>\n",
       "<td>0.0016209</td>\n",
       "<td>0.1686857</td>\n",
       "<td>1.0</td>\n",
       "<td>0.06</td>\n",
       "<td>0.3556911</td>\n",
       "<td>0.0171429</td>\n",
       "<td>1.0</td>\n",
       "<td>-83.1314286</td>\n",
       "<td>0.0</td></tr></table></div>"
      ],
      "text/plain": [
       "    group    cumulative_data_fraction    lower_threshold    lift       cumulative_lift    response_rate    cumulative_response_rate    capture_rate    cumulative_capture_rate    gain      cumulative_gain\n",
       "--  -------  --------------------------  -----------------  ---------  -----------------  ---------------  --------------------------  --------------  -------------------------  --------  -----------------\n",
       "    1        0.0101626                   0.955867           1.68686    1.68686            0.6              0.6                         0.0171429       0.0171429                  68.6857   68.6857\n",
       "    2        0.0203252                   0.929375           2.24914    1.968              0.8              0.7                         0.0228571       0.04                       124.914   96.8\n",
       "    3        0.0304878                   0.90327            2.81143    2.24914            1                0.8                         0.0285714       0.0685714                  181.143   124.914\n",
       "    4        0.0406504                   0.88751            2.81143    2.38971            1                0.85                        0.0285714       0.0971429                  181.143   138.971\n",
       "    5        0.050813                    0.872889           2.81143    2.47406            1                0.88                        0.0285714       0.125714                   181.143   147.406\n",
       "    6        0.101626                    0.772496           2.3616     2.41783            0.84             0.86                        0.12            0.245714                   136.16    141.783\n",
       "    7        0.150407                    0.723055           2.22571    2.35552            0.791667         0.837838                    0.108571        0.354286                   122.571   135.552\n",
       "    8        0.20122                     0.650615           2.02423    2.27186            0.72             0.808081                    0.102857        0.457143                   102.423   127.186\n",
       "    9        0.300813                    0.48915            1.54915    2.03259            0.55102          0.722973                    0.154286        0.611429                   54.9155   103.259\n",
       "    10       0.400407                    0.372065           1.31965    1.85526            0.469388         0.659898                    0.131429        0.742857                   31.965    85.5257\n",
       "    11       0.5                         0.277157           1.09015    1.70286            0.387755         0.605691                    0.108571        0.851429                   9.01458   70.2857\n",
       "    12       0.599593                    0.200177           0.631137   1.52484            0.22449          0.542373                    0.0628571       0.914286                   -36.8863  52.4843\n",
       "    13       0.699187                    0.137753           0.401633   1.36485            0.142857         0.485465                    0.04            0.954286                   -59.8367  36.485\n",
       "    14       0.79878                     0.0999453          0.229504   1.22329            0.0816327        0.435115                    0.0228571       0.977143                   -77.0496  22.3293\n",
       "    15       0.898374                    0.0589084          0.0573761  1.09404            0.0204082        0.38914                     0.00571429      0.982857                   -94.2624  9.40401\n",
       "    16       1                           0.00162086         0.168686   1                  0.06             0.355691                    0.0171429       1                          -83.1314  0"
      ]
     },
     "metadata": {},
     "output_type": "display_data"
    },
    {
     "name": "stdout",
     "output_type": "stream",
     "text": [
      "\n",
      "Cross-Validation Metrics Summary: \n"
     ]
    },
    {
     "data": {
      "text/html": [
       "<div style=\"overflow:auto\"><table style=\"width:50%\"><tr><td><b></b></td>\n",
       "<td><b>mean</b></td>\n",
       "<td><b>sd</b></td>\n",
       "<td><b>cv_1_valid</b></td>\n",
       "<td><b>cv_2_valid</b></td>\n",
       "<td><b>cv_3_valid</b></td>\n",
       "<td><b>cv_4_valid</b></td>\n",
       "<td><b>cv_5_valid</b></td></tr>\n",
       "<tr><td>accuracy</td>\n",
       "<td>0.7884560</td>\n",
       "<td>0.0272671</td>\n",
       "<td>0.8181818</td>\n",
       "<td>0.8383839</td>\n",
       "<td>0.7959183</td>\n",
       "<td>0.7551020</td>\n",
       "<td>0.7346939</td></tr>\n",
       "<tr><td>auc</td>\n",
       "<td>0.8450223</td>\n",
       "<td>0.0235041</td>\n",
       "<td>0.8882353</td>\n",
       "<td>0.8553792</td>\n",
       "<td>0.8685345</td>\n",
       "<td>0.8028674</td>\n",
       "<td>0.8100949</td></tr>\n",
       "<tr><td>err</td>\n",
       "<td>0.211544</td>\n",
       "<td>0.0272671</td>\n",
       "<td>0.1818182</td>\n",
       "<td>0.1616162</td>\n",
       "<td>0.2040816</td>\n",
       "<td>0.2448980</td>\n",
       "<td>0.2653061</td></tr>\n",
       "<tr><td>err_count</td>\n",
       "<td>20.8</td>\n",
       "<td>2.6229753</td>\n",
       "<td>18.0</td>\n",
       "<td>16.0</td>\n",
       "<td>20.0</td>\n",
       "<td>24.0</td>\n",
       "<td>26.0</td></tr>\n",
       "<tr><td>f0point5</td>\n",
       "<td>0.6928377</td>\n",
       "<td>0.0504056</td>\n",
       "<td>0.7079646</td>\n",
       "<td>0.7777778</td>\n",
       "<td>0.7451923</td>\n",
       "<td>0.6590909</td>\n",
       "<td>0.5741627</td></tr>\n",
       "<tr><td>---</td>\n",
       "<td>---</td>\n",
       "<td>---</td>\n",
       "<td>---</td>\n",
       "<td>---</td>\n",
       "<td>---</td>\n",
       "<td>---</td>\n",
       "<td>---</td></tr>\n",
       "<tr><td>r2</td>\n",
       "<td>0.3392086</td>\n",
       "<td>0.0466591</td>\n",
       "<td>0.3895709</td>\n",
       "<td>0.4054222</td>\n",
       "<td>0.3809836</td>\n",
       "<td>0.2431896</td>\n",
       "<td>0.2768767</td></tr>\n",
       "<tr><td>recall</td>\n",
       "<td>0.8254192</td>\n",
       "<td>0.0431402</td>\n",
       "<td>0.9411765</td>\n",
       "<td>0.7777778</td>\n",
       "<td>0.775</td>\n",
       "<td>0.8055556</td>\n",
       "<td>0.8275862</td></tr>\n",
       "<tr><td>residual_deviance</td>\n",
       "<td>91.082596</td>\n",
       "<td>5.3341837</td>\n",
       "<td>82.57715</td>\n",
       "<td>90.400215</td>\n",
       "<td>87.503204</td>\n",
       "<td>105.12825</td>\n",
       "<td>89.80417</td></tr>\n",
       "<tr><td>rmse</td>\n",
       "<td>0.3872337</td>\n",
       "<td>0.0125068</td>\n",
       "<td>0.371004</td>\n",
       "<td>0.3709289</td>\n",
       "<td>0.3866954</td>\n",
       "<td>0.4193866</td>\n",
       "<td>0.3881536</td></tr>\n",
       "<tr><td>specificity</td>\n",
       "<td>0.7717331</td>\n",
       "<td>0.0446840</td>\n",
       "<td>0.7538462</td>\n",
       "<td>0.8730159</td>\n",
       "<td>0.8103448</td>\n",
       "<td>0.7258065</td>\n",
       "<td>0.6956522</td></tr></table></div>"
      ],
      "text/plain": [
       "                   mean        sd           cv_1_valid    cv_2_valid    cv_3_valid    cv_4_valid    cv_5_valid\n",
       "-----------------  ----------  -----------  ------------  ------------  ------------  ------------  ------------\n",
       "accuracy           0.78845596  0.02726711   0.8181818     0.83838385    0.79591835    0.75510204    0.7346939\n",
       "auc                0.84502226  0.023504058  0.8882353     0.85537916    0.8685345     0.8028674     0.81009495\n",
       "err                0.211544    0.02726711   0.18181819    0.16161616    0.20408164    0.24489796    0.26530612\n",
       "err_count          20.8        2.6229753    18.0          16.0          20.0          24.0          26.0\n",
       "f0point5           0.69283766  0.050405607  0.7079646     0.7777778     0.7451923     0.65909094    0.57416266\n",
       "---                ---         ---          ---           ---           ---           ---           ---\n",
       "r2                 0.33920857  0.04665906   0.38957086    0.40542224    0.3809836     0.24318956    0.2768767\n",
       "recall             0.8254192   0.043140244  0.9411765     0.7777778     0.775         0.8055556     0.82758623\n",
       "residual_deviance  91.082596   5.3341837    82.57715      90.400215     87.503204     105.12825     89.80417\n",
       "rmse               0.3872337   0.012506789  0.371004      0.37092888    0.38669538    0.41938663    0.38815364\n",
       "specificity        0.7717331   0.04468397   0.75384617    0.8730159     0.8103448     0.7258065     0.6956522"
      ]
     },
     "metadata": {},
     "output_type": "display_data"
    },
    {
     "name": "stdout",
     "output_type": "stream",
     "text": [
      "\n",
      "See the whole table with table.as_data_frame()\n",
      "Scoring History: \n"
     ]
    },
    {
     "data": {
      "text/html": [
       "<div style=\"overflow:auto\"><table style=\"width:50%\"><tr><td><b></b></td>\n",
       "<td><b>timestamp</b></td>\n",
       "<td><b>duration</b></td>\n",
       "<td><b>iteration</b></td>\n",
       "<td><b>lambda</b></td>\n",
       "<td><b>predictors</b></td>\n",
       "<td><b>deviance_train</b></td>\n",
       "<td><b>deviance_test</b></td>\n",
       "<td><b>deviance_xval</b></td>\n",
       "<td><b>deviance_se</b></td></tr>\n",
       "<tr><td></td>\n",
       "<td>2018-11-01 14:59:42</td>\n",
       "<td> 0.000 sec</td>\n",
       "<td>2</td>\n",
       "<td>.23E2</td>\n",
       "<td>9</td>\n",
       "<td>1.2917542</td>\n",
       "<td>1.2538779</td>\n",
       "<td>1.2971763</td>\n",
       "<td>0.0209941</td></tr>\n",
       "<tr><td></td>\n",
       "<td>2018-11-01 14:59:42</td>\n",
       "<td> 0.001 sec</td>\n",
       "<td>4</td>\n",
       "<td>.14E2</td>\n",
       "<td>9</td>\n",
       "<td>1.2858790</td>\n",
       "<td>1.2492265</td>\n",
       "<td>1.2925252</td>\n",
       "<td>0.0207909</td></tr>\n",
       "<tr><td></td>\n",
       "<td>2018-11-01 14:59:42</td>\n",
       "<td> 0.002 sec</td>\n",
       "<td>6</td>\n",
       "<td>.9E1</td>\n",
       "<td>9</td>\n",
       "<td>1.2767932</td>\n",
       "<td>1.2420123</td>\n",
       "<td>1.2852809</td>\n",
       "<td>0.0204828</td></tr>\n",
       "<tr><td></td>\n",
       "<td>2018-11-01 14:59:42</td>\n",
       "<td> 0.003 sec</td>\n",
       "<td>8</td>\n",
       "<td>.56E1</td>\n",
       "<td>9</td>\n",
       "<td>1.2630714</td>\n",
       "<td>1.2310689</td>\n",
       "<td>1.2742034</td>\n",
       "<td>0.0200282</td></tr>\n",
       "<tr><td></td>\n",
       "<td>2018-11-01 14:59:42</td>\n",
       "<td> 0.005 sec</td>\n",
       "<td>10</td>\n",
       "<td>.35E1</td>\n",
       "<td>9</td>\n",
       "<td>1.2430485</td>\n",
       "<td>1.2149778</td>\n",
       "<td>1.2577665</td>\n",
       "<td>0.0193961</td></tr>\n",
       "<tr><td>---</td>\n",
       "<td>---</td>\n",
       "<td>---</td>\n",
       "<td>---</td>\n",
       "<td>---</td>\n",
       "<td>---</td>\n",
       "<td>---</td>\n",
       "<td>---</td>\n",
       "<td>---</td>\n",
       "<td>---</td></tr>\n",
       "<tr><td></td>\n",
       "<td>2018-11-01 14:59:42</td>\n",
       "<td> 0.025 sec</td>\n",
       "<td>34</td>\n",
       "<td>.11E-1</td>\n",
       "<td>9</td>\n",
       "<td>0.9125217</td>\n",
       "<td>0.8620558</td>\n",
       "<td>0.9408561</td>\n",
       "<td>0.0428494</td></tr>\n",
       "<tr><td></td>\n",
       "<td>2018-11-01 14:59:42</td>\n",
       "<td> 0.027 sec</td>\n",
       "<td>36</td>\n",
       "<td>.71E-2</td>\n",
       "<td>9</td>\n",
       "<td>0.9110164</td>\n",
       "<td>0.8565683</td>\n",
       "<td>0.9407237</td>\n",
       "<td>0.0457554</td></tr>\n",
       "<tr><td></td>\n",
       "<td>2018-11-01 14:59:42</td>\n",
       "<td> 0.028 sec</td>\n",
       "<td>38</td>\n",
       "<td>.44E-2</td>\n",
       "<td>9</td>\n",
       "<td>0.9103371</td>\n",
       "<td>0.8531120</td>\n",
       "<td>0.9412986</td>\n",
       "<td>0.0479363</td></tr>\n",
       "<tr><td></td>\n",
       "<td>2018-11-01 14:59:42</td>\n",
       "<td> 0.029 sec</td>\n",
       "<td>39</td>\n",
       "<td>.27E-2</td>\n",
       "<td>9</td>\n",
       "<td>0.9100487</td>\n",
       "<td>0.8509753</td>\n",
       "<td>0.9420263</td>\n",
       "<td>0.0494811</td></tr>\n",
       "<tr><td></td>\n",
       "<td>2018-11-01 14:59:42</td>\n",
       "<td> 0.030 sec</td>\n",
       "<td>40</td>\n",
       "<td>.17E-2</td>\n",
       "<td>9</td>\n",
       "<td>0.9099263</td>\n",
       "<td>0.8496293</td>\n",
       "<td>0.9426149</td>\n",
       "<td>0.0505247</td></tr></table></div>"
      ],
      "text/plain": [
       "     timestamp            duration    iteration    lambda    predictors    deviance_train      deviance_test       deviance_xval       deviance_se\n",
       "---  -------------------  ----------  -----------  --------  ------------  ------------------  ------------------  ------------------  --------------------\n",
       "     2018-11-01 14:59:42  0.000 sec   2            .23E2     9             1.2917541883092667  1.253877886467995   1.297176332603849   0.02099411997427763\n",
       "     2018-11-01 14:59:42  0.001 sec   4            .14E2     9             1.285878950048073   1.2492265317374747  1.292525174811908   0.020790911317680284\n",
       "     2018-11-01 14:59:42  0.002 sec   6            .9E1      9             1.276793228583385   1.2420122991480287  1.2852808726258516  0.020482844153050794\n",
       "     2018-11-01 14:59:42  0.003 sec   8            .56E1     9             1.2630714435183004  1.231068868314213   1.274203407778781   0.02002820301729429\n",
       "     2018-11-01 14:59:42  0.005 sec   10           .35E1     9             1.243048469477437   1.2149778328236127  1.2577664540517246  0.019396146734546094\n",
       "---  ---                  ---         ---          ---       ---           ---                 ---                 ---                 ---\n",
       "     2018-11-01 14:59:42  0.025 sec   34           .11E-1    9             0.9125217036344565  0.862055762851079   0.940856078954841   0.042849357957708716\n",
       "     2018-11-01 14:59:42  0.027 sec   36           .71E-2    9             0.9110164049242638  0.8565683486247088  0.9407236852364294  0.04575538811887374\n",
       "     2018-11-01 14:59:42  0.028 sec   38           .44E-2    9             0.9103371162829205  0.8531120397498009  0.9412985803720245  0.04793633667749791\n",
       "     2018-11-01 14:59:42  0.029 sec   39           .27E-2    9             0.9100487076760215  0.8509752879470767  0.9420263217020798  0.0494811062229755\n",
       "     2018-11-01 14:59:42  0.030 sec   40           .17E-2    9             0.9099262808076641  0.8496292878305611  0.9426148936363248  0.050524681183989645"
      ]
     },
     "metadata": {},
     "output_type": "display_data"
    },
    {
     "name": "stdout",
     "output_type": "stream",
     "text": [
      "\n",
      "See the whole table with table.as_data_frame()\n"
     ]
    },
    {
     "data": {
      "text/plain": []
     },
     "execution_count": 73,
     "metadata": {},
     "output_type": "execute_result"
    }
   ],
   "source": [
    "# The leader model is stored here\n",
    "aml.leader"
   ]
  },
  {
   "cell_type": "code",
   "execution_count": 74,
   "metadata": {},
   "outputs": [
    {
     "name": "stdout",
     "output_type": "stream",
     "text": [
      "glm prediction progress: |████████████████████████████████████████████████| 100%\n"
     ]
    }
   ],
   "source": [
    "# If you need to generate predictions on a test set, you can make\n",
    "# predictions directly on the `\"H2OAutoML\"` object, or on the leader\n",
    "# model object directly\n",
    "\n",
    "preds = aml.predict(test)"
   ]
  },
  {
   "cell_type": "code",
   "execution_count": 75,
   "metadata": {},
   "outputs": [
    {
     "name": "stdout",
     "output_type": "stream",
     "text": [
      "glm prediction progress: |████████████████████████████████████████████████| 100%\n"
     ]
    }
   ],
   "source": [
    "preds = aml.leader.predict(test)"
   ]
  },
  {
   "cell_type": "code",
   "execution_count": 76,
   "metadata": {
    "scrolled": true
   },
   "outputs": [
    {
     "data": {
      "text/html": [
       "<table>\n",
       "<thead>\n",
       "<tr><th style=\"text-align: right;\">  predict</th><th style=\"text-align: right;\">      p0</th><th style=\"text-align: right;\">       p1</th></tr>\n",
       "</thead>\n",
       "<tbody>\n",
       "<tr><td style=\"text-align: right;\">        0</td><td style=\"text-align: right;\">0.938689</td><td style=\"text-align: right;\">0.061311 </td></tr>\n",
       "<tr><td style=\"text-align: right;\">        0</td><td style=\"text-align: right;\">0.684847</td><td style=\"text-align: right;\">0.315153 </td></tr>\n",
       "<tr><td style=\"text-align: right;\">        0</td><td style=\"text-align: right;\">0.747883</td><td style=\"text-align: right;\">0.252117 </td></tr>\n",
       "<tr><td style=\"text-align: right;\">        0</td><td style=\"text-align: right;\">0.663265</td><td style=\"text-align: right;\">0.336735 </td></tr>\n",
       "<tr><td style=\"text-align: right;\">        0</td><td style=\"text-align: right;\">0.93531 </td><td style=\"text-align: right;\">0.0646899</td></tr>\n",
       "<tr><td style=\"text-align: right;\">        1</td><td style=\"text-align: right;\">0.158133</td><td style=\"text-align: right;\">0.841867 </td></tr>\n",
       "<tr><td style=\"text-align: right;\">        1</td><td style=\"text-align: right;\">0.285917</td><td style=\"text-align: right;\">0.714083 </td></tr>\n",
       "<tr><td style=\"text-align: right;\">        0</td><td style=\"text-align: right;\">0.714732</td><td style=\"text-align: right;\">0.285268 </td></tr>\n",
       "<tr><td style=\"text-align: right;\">        0</td><td style=\"text-align: right;\">0.91591 </td><td style=\"text-align: right;\">0.0840902</td></tr>\n",
       "<tr><td style=\"text-align: right;\">        0</td><td style=\"text-align: right;\">0.917218</td><td style=\"text-align: right;\">0.0827824</td></tr>\n",
       "</tbody>\n",
       "</table>"
      ]
     },
     "metadata": {},
     "output_type": "display_data"
    },
    {
     "name": "stdout",
     "output_type": "stream",
     "text": [
      "\n"
     ]
    }
   ],
   "source": [
    "print(preds)"
   ]
  },
  {
   "cell_type": "markdown",
   "metadata": {},
   "source": [
    "# Part C "
   ]
  },
  {
   "cell_type": "markdown",
   "metadata": {},
   "source": [
    "#### Variable Importance "
   ]
  },
  {
   "cell_type": "code",
   "execution_count": 87,
   "metadata": {},
   "outputs": [],
   "source": [
    "m = h2o.get_model(model_id = 'DeepLearning_grid_0_AutoML_20181101_145939_model_6')"
   ]
  },
  {
   "cell_type": "code",
   "execution_count": 88,
   "metadata": {},
   "outputs": [
    {
     "data": {
      "image/png": "[encoded data removed]",
      "text/plain": [
       "<matplotlib.figure.Figure at 0x11a427e48>"
      ]
     },
     "metadata": {},
     "output_type": "display_data"
    }
   ],
   "source": [
    "m.varimp_plot()"
   ]
  },
  {
   "cell_type": "markdown",
   "metadata": {},
   "source": [
    "#### Partial Dependency Plot "
   ]
  },
  {
   "cell_type": "code",
   "execution_count": 89,
   "metadata": {},
   "outputs": [
    {
     "name": "stderr",
     "output_type": "stream",
     "text": [
      "/anaconda3/lib/python3.6/importlib/_bootstrap.py:219: RuntimeWarning: numpy.dtype size changed, may indicate binary incompatibility. Expected 96, got 88\n",
      "  return f(*args, **kwds)\n",
      "/anaconda3/lib/python3.6/importlib/_bootstrap.py:219: RuntimeWarning: numpy.dtype size changed, may indicate binary incompatibility. Expected 96, got 88\n",
      "  return f(*args, **kwds)\n",
      "/anaconda3/lib/python3.6/importlib/_bootstrap.py:219: RuntimeWarning: numpy.dtype size changed, may indicate binary incompatibility. Expected 96, got 88\n",
      "  return f(*args, **kwds)\n",
      "/anaconda3/lib/python3.6/importlib/_bootstrap.py:219: RuntimeWarning: numpy.dtype size changed, may indicate binary incompatibility. Expected 96, got 88\n",
      "  return f(*args, **kwds)\n"
     ]
    }
   ],
   "source": [
    "from sklearn.ensemble.partial_dependence import partial_dependence, plot_partial_dependence"
   ]
  },
  {
   "cell_type": "code",
   "execution_count": 93,
   "metadata": {},
   "outputs": [
    {
     "ename": "ValueError",
     "evalue": "gbrt has to be an instance of BaseGradientBoosting",
     "output_type": "error",
     "traceback": [
      "\u001b[0;31m---------------------------------------------------------------------------\u001b[0m",
      "\u001b[0;31mValueError\u001b[0m                                Traceback (most recent call last)",
      "\u001b[0;32m<ipython-input-93-5426087f873c>\u001b[0m in \u001b[0;36m<module>\u001b[0;34m()\u001b[0m\n\u001b[1;32m      7\u001b[0m                                    \u001b[0mX\u001b[0m\u001b[0;34m=\u001b[0m\u001b[0mX\u001b[0m\u001b[0;34m,\u001b[0m            \u001b[0;31m# raw predictors data.\u001b[0m\u001b[0;34m\u001b[0m\u001b[0m\n\u001b[1;32m      8\u001b[0m                                    \u001b[0mfeature_names\u001b[0m\u001b[0;34m=\u001b[0m\u001b[0;34m[\u001b[0m\u001b[0;34m'C1'\u001b[0m\u001b[0;34m,\u001b[0m \u001b[0;34m'C2'\u001b[0m\u001b[0;34m,\u001b[0m \u001b[0;34m'C3'\u001b[0m\u001b[0;34m,\u001b[0m\u001b[0;34m'C4'\u001b[0m\u001b[0;34m,\u001b[0m\u001b[0;34m'C5'\u001b[0m\u001b[0;34m,\u001b[0m\u001b[0;34m'C6'\u001b[0m\u001b[0;34m,\u001b[0m\u001b[0;34m'C7'\u001b[0m\u001b[0;34m,\u001b[0m\u001b[0;34m'C8'\u001b[0m\u001b[0;34m,\u001b[0m\u001b[0;34m'C9'\u001b[0m\u001b[0;34m]\u001b[0m\u001b[0;34m,\u001b[0m \u001b[0;31m# labels on graphs\u001b[0m\u001b[0;34m\u001b[0m\u001b[0m\n\u001b[0;32m----> 9\u001b[0;31m                                    grid_resolution = 10) # number of values to plot on x axis\n\u001b[0m",
      "\u001b[0;32m/anaconda3/lib/python3.6/site-packages/sklearn/ensemble/partial_dependence.py\u001b[0m in \u001b[0;36mplot_partial_dependence\u001b[0;34m(gbrt, X, features, feature_names, label, n_cols, grid_resolution, percentiles, n_jobs, verbose, ax, line_kw, contour_kw, **fig_kw)\u001b[0m\n\u001b[1;32m    244\u001b[0m \u001b[0;34m\u001b[0m\u001b[0m\n\u001b[1;32m    245\u001b[0m     \u001b[0;32mif\u001b[0m \u001b[0;32mnot\u001b[0m \u001b[0misinstance\u001b[0m\u001b[0;34m(\u001b[0m\u001b[0mgbrt\u001b[0m\u001b[0;34m,\u001b[0m \u001b[0mBaseGradientBoosting\u001b[0m\u001b[0;34m)\u001b[0m\u001b[0;34m:\u001b[0m\u001b[0;34m\u001b[0m\u001b[0m\n\u001b[0;32m--> 246\u001b[0;31m         \u001b[0;32mraise\u001b[0m \u001b[0mValueError\u001b[0m\u001b[0;34m(\u001b[0m\u001b[0;34m'gbrt has to be an instance of BaseGradientBoosting'\u001b[0m\u001b[0;34m)\u001b[0m\u001b[0;34m\u001b[0m\u001b[0m\n\u001b[0m\u001b[1;32m    247\u001b[0m     \u001b[0mcheck_is_fitted\u001b[0m\u001b[0;34m(\u001b[0m\u001b[0mgbrt\u001b[0m\u001b[0;34m,\u001b[0m \u001b[0;34m'estimators_'\u001b[0m\u001b[0;34m)\u001b[0m\u001b[0;34m\u001b[0m\u001b[0m\n\u001b[1;32m    248\u001b[0m \u001b[0;34m\u001b[0m\u001b[0m\n",
      "\u001b[0;31mValueError\u001b[0m: gbrt has to be an instance of BaseGradientBoosting"
     ]
    }
   ],
   "source": [
    "#my_model = GradientBoostingRegressor()\n",
    "# fit the model as usual\n",
    "#my_model.fit(X, y)\n",
    "# Here we make the plot\n",
    "#my_plots = plot_partial_dependence(m,       \n",
    "                                   features=[0, 2], # column numbers of plots we want to show\n",
    "                                   X=X,            # raw predictors data.\n",
    "                                   feature_names=['C1', 'C2', 'C3','C4','C5','C6','C7','C8','C9'], # labels on graphs\n",
    "                                   grid_resolution = 10) # number of values to plot on x axis"
   ]
  },
  {
   "cell_type": "code",
   "execution_count": 98,
   "metadata": {},
   "outputs": [],
   "source": [
    "gain = m.gains_lift()"
   ]
  },
  {
   "cell_type": "code",
   "execution_count": 100,
   "metadata": {},
   "outputs": [
    {
     "data": {
      "text/plain": [
       "[<matplotlib.lines.Line2D at 0x1a1f4c8d68>]"
      ]
     },
     "execution_count": 100,
     "metadata": {},
     "output_type": "execute_result"
    },
    {
     "data": {
      "image/png": "[encoded data removed]",
      "text/plain": [
       "<matplotlib.figure.Figure at 0x11afb2da0>"
      ]
     },
     "metadata": {},
     "output_type": "display_data"
    }
   ],
   "source": [
    "import matplotlib.pyplot as plt\n",
    "%matplotlib inline\n",
    "plt.plot(gain['group'],gain['gain'])\n",
    "plt.plot(gain['group'],gain['lift'])"
   ]
  },
  {
   "cell_type": "code",
   "execution_count": null,
   "metadata": {},
   "outputs": [],
   "source": []
  }
 ],
 "metadata": {
  "kernelspec": {
   "display_name": "Python 3",
   "language": "python",
   "name": "python3"
  },
  "language_info": {
   "codemirror_mode": {
    "name": "ipython",
    "version": 3
   },
   "file_extension": ".py",
   "mimetype": "text/x-python",
   "name": "python",
   "nbconvert_exporter": "python",
   "pygments_lexer": "ipython3",
   "version": "3.6.5"
  }
 },
 "nbformat": 4,
 "nbformat_minor": 2
}
