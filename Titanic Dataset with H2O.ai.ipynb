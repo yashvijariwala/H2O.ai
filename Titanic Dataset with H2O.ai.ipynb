{
 "cells": [
  {
   "cell_type": "markdown",
   "metadata": {},
   "source": [
    "# Titanic Dataset with H2O.ai \n",
    "\n",
    "**By - Yashasvi Jariwala**\n",
    "\n",
    "Data set: Titanic Dataset (\"https://www.kaggle.com/c/titanic/data\")"
   ]
  },
  {
   "cell_type": "code",
   "execution_count": 1,
   "metadata": {},
   "outputs": [
    {
     "name": "stderr",
     "output_type": "stream",
     "text": [
      "/anaconda3/lib/python3.6/importlib/_bootstrap.py:219: RuntimeWarning: numpy.dtype size changed, may indicate binary incompatibility. Expected 96, got 88\n",
      "  return f(*args, **kwds)\n"
     ]
    }
   ],
   "source": [
    "import pandas as pd\n",
    "import numpy as np\n",
    "import matplotlib.pyplot as plt"
   ]
  },
  {
   "cell_type": "code",
   "execution_count": 7,
   "metadata": {},
   "outputs": [
    {
     "data": {
      "text/plain": [
       "'/Users/yashasvijariwala'"
      ]
     },
     "execution_count": 7,
     "metadata": {},
     "output_type": "execute_result"
    }
   ],
   "source": [
    "pwd"
   ]
  },
  {
   "cell_type": "code",
   "execution_count": 8,
   "metadata": {},
   "outputs": [
    {
     "name": "stdout",
     "output_type": "stream",
     "text": [
      "/Users/yashasvijariwala/Desktop\n"
     ]
    }
   ],
   "source": [
    "cd Desktop"
   ]
  },
  {
   "cell_type": "code",
   "execution_count": 23,
   "metadata": {},
   "outputs": [
    {
     "name": "stdout",
     "output_type": "stream",
     "text": [
      "[Errno 2] No such file or directory: 'all'\n",
      "/Users/yashasvijariwala/Desktop/all\n"
     ]
    }
   ],
   "source": [
    "cd all"
   ]
  },
  {
   "cell_type": "code",
   "execution_count": 24,
   "metadata": {},
   "outputs": [],
   "source": [
    "data_train_all = pd.read_csv(\"train.csv\")\n",
    "data_test_all =pd.read_csv(\"test.csv\")"
   ]
  },
  {
   "cell_type": "code",
   "execution_count": 25,
   "metadata": {},
   "outputs": [],
   "source": [
    "data_test_all_pred=pd.read_csv(\"test.csv\")      ## This dataframe will be used in the last . This Dataframe doesn't have much significance"
   ]
  },
  {
   "cell_type": "code",
   "execution_count": 26,
   "metadata": {},
   "outputs": [
    {
     "data": {
      "text/html": [
       "<div>\n",
       "<style scoped>\n",
       "    .dataframe tbody tr th:only-of-type {\n",
       "        vertical-align: middle;\n",
       "    }\n",
       "\n",
       "    .dataframe tbody tr th {\n",
       "        vertical-align: top;\n",
       "    }\n",
       "\n",
       "    .dataframe thead th {\n",
       "        text-align: right;\n",
       "    }\n",
       "</style>\n",
       "<table border=\"1\" class=\"dataframe\">\n",
       "  <thead>\n",
       "    <tr style=\"text-align: right;\">\n",
       "      <th></th>\n",
       "      <th>PassengerId</th>\n",
       "      <th>Survived</th>\n",
       "      <th>Pclass</th>\n",
       "      <th>Name</th>\n",
       "      <th>Sex</th>\n",
       "      <th>Age</th>\n",
       "      <th>SibSp</th>\n",
       "      <th>Parch</th>\n",
       "      <th>Ticket</th>\n",
       "      <th>Fare</th>\n",
       "      <th>Cabin</th>\n",
       "      <th>Embarked</th>\n",
       "    </tr>\n",
       "  </thead>\n",
       "  <tbody>\n",
       "    <tr>\n",
       "      <th>0</th>\n",
       "      <td>1</td>\n",
       "      <td>0</td>\n",
       "      <td>3</td>\n",
       "      <td>Braund, Mr. Owen Harris</td>\n",
       "      <td>male</td>\n",
       "      <td>22.0</td>\n",
       "      <td>1</td>\n",
       "      <td>0</td>\n",
       "      <td>A/5 21171</td>\n",
       "      <td>7.2500</td>\n",
       "      <td>NaN</td>\n",
       "      <td>S</td>\n",
       "    </tr>\n",
       "    <tr>\n",
       "      <th>1</th>\n",
       "      <td>2</td>\n",
       "      <td>1</td>\n",
       "      <td>1</td>\n",
       "      <td>Cumings, Mrs. John Bradley (Florence Briggs Th...</td>\n",
       "      <td>female</td>\n",
       "      <td>38.0</td>\n",
       "      <td>1</td>\n",
       "      <td>0</td>\n",
       "      <td>PC 17599</td>\n",
       "      <td>71.2833</td>\n",
       "      <td>C85</td>\n",
       "      <td>C</td>\n",
       "    </tr>\n",
       "    <tr>\n",
       "      <th>2</th>\n",
       "      <td>3</td>\n",
       "      <td>1</td>\n",
       "      <td>3</td>\n",
       "      <td>Heikkinen, Miss. Laina</td>\n",
       "      <td>female</td>\n",
       "      <td>26.0</td>\n",
       "      <td>0</td>\n",
       "      <td>0</td>\n",
       "      <td>STON/O2. 3101282</td>\n",
       "      <td>7.9250</td>\n",
       "      <td>NaN</td>\n",
       "      <td>S</td>\n",
       "    </tr>\n",
       "    <tr>\n",
       "      <th>3</th>\n",
       "      <td>4</td>\n",
       "      <td>1</td>\n",
       "      <td>1</td>\n",
       "      <td>Futrelle, Mrs. Jacques Heath (Lily May Peel)</td>\n",
       "      <td>female</td>\n",
       "      <td>35.0</td>\n",
       "      <td>1</td>\n",
       "      <td>0</td>\n",
       "      <td>113803</td>\n",
       "      <td>53.1000</td>\n",
       "      <td>C123</td>\n",
       "      <td>S</td>\n",
       "    </tr>\n",
       "    <tr>\n",
       "      <th>4</th>\n",
       "      <td>5</td>\n",
       "      <td>0</td>\n",
       "      <td>3</td>\n",
       "      <td>Allen, Mr. William Henry</td>\n",
       "      <td>male</td>\n",
       "      <td>35.0</td>\n",
       "      <td>0</td>\n",
       "      <td>0</td>\n",
       "      <td>373450</td>\n",
       "      <td>8.0500</td>\n",
       "      <td>NaN</td>\n",
       "      <td>S</td>\n",
       "    </tr>\n",
       "  </tbody>\n",
       "</table>\n",
       "</div>"
      ],
      "text/plain": [
       "   PassengerId  Survived  Pclass  \\\n",
       "0            1         0       3   \n",
       "1            2         1       1   \n",
       "2            3         1       3   \n",
       "3            4         1       1   \n",
       "4            5         0       3   \n",
       "\n",
       "                                                Name     Sex   Age  SibSp  \\\n",
       "0                            Braund, Mr. Owen Harris    male  22.0      1   \n",
       "1  Cumings, Mrs. John Bradley (Florence Briggs Th...  female  38.0      1   \n",
       "2                             Heikkinen, Miss. Laina  female  26.0      0   \n",
       "3       Futrelle, Mrs. Jacques Heath (Lily May Peel)  female  35.0      1   \n",
       "4                           Allen, Mr. William Henry    male  35.0      0   \n",
       "\n",
       "   Parch            Ticket     Fare Cabin Embarked  \n",
       "0      0         A/5 21171   7.2500   NaN        S  \n",
       "1      0          PC 17599  71.2833   C85        C  \n",
       "2      0  STON/O2. 3101282   7.9250   NaN        S  \n",
       "3      0            113803  53.1000  C123        S  \n",
       "4      0            373450   8.0500   NaN        S  "
      ]
     },
     "execution_count": 26,
     "metadata": {},
     "output_type": "execute_result"
    }
   ],
   "source": [
    "data_train_all.head()"
   ]
  },
  {
   "cell_type": "code",
   "execution_count": 27,
   "metadata": {},
   "outputs": [
    {
     "name": "stdout",
     "output_type": "stream",
     "text": [
      "<class 'pandas.core.frame.DataFrame'>\n",
      "RangeIndex: 891 entries, 0 to 890\n",
      "Data columns (total 12 columns):\n",
      "PassengerId    891 non-null int64\n",
      "Survived       891 non-null int64\n",
      "Pclass         891 non-null int64\n",
      "Name           891 non-null object\n",
      "Sex            891 non-null object\n",
      "Age            714 non-null float64\n",
      "SibSp          891 non-null int64\n",
      "Parch          891 non-null int64\n",
      "Ticket         891 non-null object\n",
      "Fare           891 non-null float64\n",
      "Cabin          204 non-null object\n",
      "Embarked       889 non-null object\n",
      "dtypes: float64(2), int64(5), object(5)\n",
      "memory usage: 83.6+ KB\n"
     ]
    }
   ],
   "source": [
    "data_train_all.info()"
   ]
  },
  {
   "cell_type": "markdown",
   "metadata": {},
   "source": [
    "Columns Age , Cabin and Embarked has missing Values in training data"
   ]
  },
  {
   "cell_type": "code",
   "execution_count": 28,
   "metadata": {},
   "outputs": [
    {
     "name": "stdout",
     "output_type": "stream",
     "text": [
      "<class 'pandas.core.frame.DataFrame'>\n",
      "RangeIndex: 418 entries, 0 to 417\n",
      "Data columns (total 11 columns):\n",
      "PassengerId    418 non-null int64\n",
      "Pclass         418 non-null int64\n",
      "Name           418 non-null object\n",
      "Sex            418 non-null object\n",
      "Age            332 non-null float64\n",
      "SibSp          418 non-null int64\n",
      "Parch          418 non-null int64\n",
      "Ticket         418 non-null object\n",
      "Fare           417 non-null float64\n",
      "Cabin          91 non-null object\n",
      "Embarked       418 non-null object\n",
      "dtypes: float64(2), int64(4), object(5)\n",
      "memory usage: 36.0+ KB\n"
     ]
    }
   ],
   "source": [
    "data_test_all.info()"
   ]
  },
  {
   "cell_type": "markdown",
   "metadata": {},
   "source": [
    "Columns Age, Cabin, Fare have Missing Values in Test Set."
   ]
  },
  {
   "cell_type": "markdown",
   "metadata": {},
   "source": [
    "# Data Pre-Processing"
   ]
  },
  {
   "cell_type": "markdown",
   "metadata": {},
   "source": [
    "Column: Name : Feature Engineer Column 'Name'"
   ]
  },
  {
   "cell_type": "markdown",
   "metadata": {},
   "source": [
    "Regular Expression"
   ]
  },
  {
   "cell_type": "code",
   "execution_count": 29,
   "metadata": {},
   "outputs": [],
   "source": [
    "import re"
   ]
  },
  {
   "cell_type": "code",
   "execution_count": 30,
   "metadata": {},
   "outputs": [],
   "source": [
    "data_train_all['Title']= data_train_all.Name.apply(lambda a:re.search(' ([A-Z][a-z]+)\\.',a).group(1))"
   ]
  },
  {
   "cell_type": "code",
   "execution_count": 31,
   "metadata": {},
   "outputs": [],
   "source": [
    "data_test_all['Title'] = data_test_all.Name.apply(lambda a:re.search(' ([A-Z][a-z]+)\\.',a).group(1))"
   ]
  },
  {
   "cell_type": "code",
   "execution_count": 32,
   "metadata": {},
   "outputs": [
    {
     "data": {
      "text/plain": [
       "0      Mr\n",
       "1     Mrs\n",
       "2    Miss\n",
       "3     Mrs\n",
       "4      Mr\n",
       "Name: Title, dtype: object"
      ]
     },
     "execution_count": 32,
     "metadata": {},
     "output_type": "execute_result"
    }
   ],
   "source": [
    "data_train_all['Title'].head()"
   ]
  },
  {
   "cell_type": "code",
   "execution_count": 33,
   "metadata": {},
   "outputs": [
    {
     "data": {
      "text/plain": [
       "Mr          517\n",
       "Miss        182\n",
       "Mrs         125\n",
       "Master       40\n",
       "Dr            7\n",
       "Rev           6\n",
       "Major         2\n",
       "Mlle          2\n",
       "Col           2\n",
       "Countess      1\n",
       "Ms            1\n",
       "Lady          1\n",
       "Jonkheer      1\n",
       "Mme           1\n",
       "Don           1\n",
       "Sir           1\n",
       "Capt          1\n",
       "Name: Title, dtype: int64"
      ]
     },
     "execution_count": 33,
     "metadata": {},
     "output_type": "execute_result"
    }
   ],
   "source": [
    "data_train_all.Title.value_counts()"
   ]
  },
  {
   "cell_type": "code",
   "execution_count": 34,
   "metadata": {},
   "outputs": [
    {
     "data": {
      "text/plain": [
       "Mr        240\n",
       "Miss       78\n",
       "Mrs        72\n",
       "Master     21\n",
       "Col         2\n",
       "Rev         2\n",
       "Dr          1\n",
       "Ms          1\n",
       "Dona        1\n",
       "Name: Title, dtype: int64"
      ]
     },
     "execution_count": 34,
     "metadata": {},
     "output_type": "execute_result"
    }
   ],
   "source": [
    "data_test_all.Title.value_counts()"
   ]
  },
  {
   "cell_type": "code",
   "execution_count": 35,
   "metadata": {},
   "outputs": [],
   "source": [
    "data_train_all['Title'] = data_train_all['Title'].replace(['Mlle','Ms'],'Miss')  \n",
    "data_train_all['Title'] = data_train_all['Title'].replace('Mme','Mrs')\n",
    "data_train_all['Title'] = data_train_all['Title'].replace(['Capt','Col','Major'],'Army')\n",
    "data_train_all['Title'] = data_train_all['Title'].replace(['Countess','Don','Dona','Jonkheer','Lady','Sir'],'Noble')"
   ]
  },
  {
   "cell_type": "code",
   "execution_count": 36,
   "metadata": {},
   "outputs": [],
   "source": [
    "data_test_all['Title'] = data_test_all['Title'].replace(['Mlle','Ms'],'Miss')  \n",
    "data_test_all['Title'] = data_test_all['Title'].replace('Mme','Mrs')\n",
    "data_test_all['Title'] = data_test_all['Title'].replace(['Capt','Col','Major'],'Army')\n",
    "data_test_all['Title'] = data_test_all['Title'].replace(['Countess','Don','Dona','Jonkheer','Lady','Sir'],'Noble')"
   ]
  },
  {
   "cell_type": "code",
   "execution_count": 37,
   "metadata": {},
   "outputs": [
    {
     "data": {
      "text/plain": [
       "Mr        517\n",
       "Miss      185\n",
       "Mrs       126\n",
       "Master     40\n",
       "Dr          7\n",
       "Rev         6\n",
       "Army        5\n",
       "Noble       5\n",
       "Name: Title, dtype: int64"
      ]
     },
     "execution_count": 37,
     "metadata": {},
     "output_type": "execute_result"
    }
   ],
   "source": [
    "data_train_all['Title'].value_counts()"
   ]
  },
  {
   "cell_type": "code",
   "execution_count": 38,
   "metadata": {},
   "outputs": [
    {
     "data": {
      "text/plain": [
       "Mr        240\n",
       "Miss       79\n",
       "Mrs        72\n",
       "Master     21\n",
       "Army        2\n",
       "Rev         2\n",
       "Dr          1\n",
       "Noble       1\n",
       "Name: Title, dtype: int64"
      ]
     },
     "execution_count": 38,
     "metadata": {},
     "output_type": "execute_result"
    }
   ],
   "source": [
    "data_test_all['Title'].value_counts()"
   ]
  },
  {
   "cell_type": "markdown",
   "metadata": {},
   "source": [
    "Column:Drop the Column Ticket"
   ]
  },
  {
   "cell_type": "code",
   "execution_count": 39,
   "metadata": {},
   "outputs": [],
   "source": [
    "data_train_all=data_train_all.drop(columns='Ticket')  \n",
    "## we could have also used (inplace= True) and then we need not do data_train _all= data_train_all.drop(xxxxxx)"
   ]
  },
  {
   "cell_type": "code",
   "execution_count": 40,
   "metadata": {},
   "outputs": [],
   "source": [
    "data_test_all=data_test_all.drop(columns='Ticket')"
   ]
  },
  {
   "cell_type": "markdown",
   "metadata": {},
   "source": [
    "**Column: Cabin: The Nan values in the Cabin column means that the passangers didnt had the cabin.**"
   ]
  },
  {
   "cell_type": "code",
   "execution_count": 42,
   "metadata": {},
   "outputs": [],
   "source": [
    "f= lambda x: str(x)[0]"
   ]
  },
  {
   "cell_type": "code",
   "execution_count": 43,
   "metadata": {},
   "outputs": [],
   "source": [
    "data_train_all.Cabin=data_train_all.Cabin.apply(f)"
   ]
  },
  {
   "cell_type": "code",
   "execution_count": 44,
   "metadata": {},
   "outputs": [],
   "source": [
    "data_train_all['Cabin']=data_train_all['Cabin'].replace(['T'],'n')"
   ]
  },
  {
   "cell_type": "code",
   "execution_count": 45,
   "metadata": {},
   "outputs": [],
   "source": [
    "data_test_all.Cabin=data_test_all.Cabin.apply(f)"
   ]
  },
  {
   "cell_type": "code",
   "execution_count": 46,
   "metadata": {},
   "outputs": [
    {
     "data": {
      "text/plain": [
       "n    688\n",
       "C     59\n",
       "B     47\n",
       "D     33\n",
       "E     32\n",
       "A     15\n",
       "F     13\n",
       "G      4\n",
       "Name: Cabin, dtype: int64"
      ]
     },
     "execution_count": 46,
     "metadata": {},
     "output_type": "execute_result"
    }
   ],
   "source": [
    "data_train_all.Cabin.value_counts()"
   ]
  },
  {
   "cell_type": "code",
   "execution_count": 47,
   "metadata": {},
   "outputs": [
    {
     "data": {
      "text/plain": [
       "n    327\n",
       "C     35\n",
       "B     18\n",
       "D     13\n",
       "E      9\n",
       "F      8\n",
       "A      7\n",
       "G      1\n",
       "Name: Cabin, dtype: int64"
      ]
     },
     "execution_count": 47,
     "metadata": {},
     "output_type": "execute_result"
    }
   ],
   "source": [
    "data_test_all.Cabin.value_counts()"
   ]
  },
  {
   "cell_type": "code",
   "execution_count": 48,
   "metadata": {},
   "outputs": [
    {
     "data": {
      "text/plain": [
       "Cabin\n",
       "A      7\n",
       "B     35\n",
       "C     35\n",
       "D     25\n",
       "E     24\n",
       "F      8\n",
       "G      2\n",
       "n    206\n",
       "Name: Survived, dtype: int64"
      ]
     },
     "execution_count": 48,
     "metadata": {},
     "output_type": "execute_result"
    }
   ],
   "source": [
    "data_train_all.groupby(['Cabin'])['Survived'].sum()"
   ]
  },
  {
   "cell_type": "markdown",
   "metadata": {},
   "source": [
    "Column: Age: Missing Value Treatment"
   ]
  },
  {
   "cell_type": "code",
   "execution_count": 49,
   "metadata": {},
   "outputs": [
    {
     "data": {
      "text/plain": [
       "Sex\n",
       "female    27.0\n",
       "male      29.0\n",
       "Name: Age, dtype: float64"
      ]
     },
     "execution_count": 49,
     "metadata": {},
     "output_type": "execute_result"
    }
   ],
   "source": [
    "data_train_all.groupby(['Sex'])['Age'].median()"
   ]
  },
  {
   "cell_type": "code",
   "execution_count": 50,
   "metadata": {},
   "outputs": [
    {
     "data": {
      "text/plain": [
       "28.0"
      ]
     },
     "execution_count": 50,
     "metadata": {},
     "output_type": "execute_result"
    }
   ],
   "source": [
    "data_train_all.Age.median()"
   ]
  },
  {
   "cell_type": "code",
   "execution_count": 51,
   "metadata": {},
   "outputs": [
    {
     "data": {
      "text/plain": [
       "Pclass\n",
       "1    38.233441\n",
       "2    29.877630\n",
       "3    25.140620\n",
       "Name: Age, dtype: float64"
      ]
     },
     "execution_count": 51,
     "metadata": {},
     "output_type": "execute_result"
    }
   ],
   "source": [
    "data_train_all.groupby(['Pclass']).Age.mean()"
   ]
  },
  {
   "cell_type": "code",
   "execution_count": 52,
   "metadata": {},
   "outputs": [],
   "source": [
    "## we will be replaceing Age by median value"
   ]
  },
  {
   "cell_type": "code",
   "execution_count": 53,
   "metadata": {},
   "outputs": [],
   "source": [
    "data_train_all.Age=data_train_all.Age.fillna(data_train_all.Age.median())"
   ]
  },
  {
   "cell_type": "code",
   "execution_count": 54,
   "metadata": {},
   "outputs": [],
   "source": [
    "data_test_all.Age=data_test_all.Age.fillna(data_train_all.Age.median())"
   ]
  },
  {
   "cell_type": "markdown",
   "metadata": {},
   "source": [
    "Discretization of the Numeric columns : Age¶"
   ]
  },
  {
   "cell_type": "code",
   "execution_count": 55,
   "metadata": {},
   "outputs": [],
   "source": [
    "data_train_all.Age=pd.cut(data_train_all.Age, bins=[0,20,40,60,80,100],right=True, labels=False, retbins=0, include_lowest=1)"
   ]
  },
  {
   "cell_type": "code",
   "execution_count": 56,
   "metadata": {},
   "outputs": [],
   "source": [
    "data_test_all.Age=pd.cut(data_test_all.Age, bins=[0,20,40,60,80,100],right=True, labels=False, retbins=0, include_lowest=1)"
   ]
  },
  {
   "cell_type": "code",
   "execution_count": 57,
   "metadata": {},
   "outputs": [
    {
     "data": {
      "text/plain": [
       "<matplotlib.axes._subplots.AxesSubplot at 0x117882e10>"
      ]
     },
     "execution_count": 57,
     "metadata": {},
     "output_type": "execute_result"
    },
    {
     "data": {
      "image/png": "[encoded data removed]",
      "text/plain": [
       "<matplotlib.figure.Figure at 0x117882908>"
      ]
     },
     "metadata": {},
     "output_type": "display_data"
    }
   ],
   "source": [
    "data_test_all.Age.hist()"
   ]
  },
  {
   "cell_type": "markdown",
   "metadata": {},
   "source": [
    "Discretization of the Numeric columns : Fare"
   ]
  },
  {
   "cell_type": "code",
   "execution_count": 58,
   "metadata": {},
   "outputs": [
    {
     "data": {
      "text/plain": [
       "0.0"
      ]
     },
     "execution_count": 58,
     "metadata": {},
     "output_type": "execute_result"
    }
   ],
   "source": [
    "data_train_all.Fare.min()"
   ]
  },
  {
   "cell_type": "code",
   "execution_count": 59,
   "metadata": {},
   "outputs": [],
   "source": [
    "data_train_all.Fare=pd.cut(data_train_all.Fare, bins=[0,10,20,30,40,50,100,600],right=True, labels=False, retbins=0, include_lowest=1)"
   ]
  },
  {
   "cell_type": "code",
   "execution_count": 60,
   "metadata": {},
   "outputs": [
    {
     "data": {
      "text/plain": [
       "0    336\n",
       "1    179\n",
       "2    142\n",
       "5    107\n",
       "3     58\n",
       "6     53\n",
       "4     16\n",
       "Name: Fare, dtype: int64"
      ]
     },
     "execution_count": 60,
     "metadata": {},
     "output_type": "execute_result"
    }
   ],
   "source": [
    "data_train_all.Fare.value_counts()"
   ]
  },
  {
   "cell_type": "code",
   "execution_count": 61,
   "metadata": {},
   "outputs": [
    {
     "data": {
      "text/plain": [
       "<matplotlib.axes._subplots.AxesSubplot at 0x10d1f5828>"
      ]
     },
     "execution_count": 61,
     "metadata": {},
     "output_type": "execute_result"
    },
    {
     "data": {
      "image/png": "[encoded data removed]",
      "text/plain": [
       "<matplotlib.figure.Figure at 0x1178840f0>"
      ]
     },
     "metadata": {},
     "output_type": "display_data"
    }
   ],
   "source": [
    "data_train_all.Fare.hist(bins=20)"
   ]
  },
  {
   "cell_type": "code",
   "execution_count": 62,
   "metadata": {},
   "outputs": [],
   "source": [
    "data_test_all.Fare=pd.cut(data_test_all.Fare, bins=[0,10,20,30,40,50,100,600],right=True, labels=False, retbins=0, include_lowest=1)"
   ]
  },
  {
   "cell_type": "code",
   "execution_count": 63,
   "metadata": {},
   "outputs": [
    {
     "data": {
      "text/plain": [
       "<matplotlib.axes._subplots.AxesSubplot at 0x117836a58>"
      ]
     },
     "execution_count": 63,
     "metadata": {},
     "output_type": "execute_result"
    },
    {
     "data": {
      "image/png": "[encoded data removed]",
      "text/plain": [
       "<matplotlib.figure.Figure at 0x117902cf8>"
      ]
     },
     "metadata": {},
     "output_type": "display_data"
    }
   ],
   "source": [
    "data_test_all.Fare.hist(bins=20)"
   ]
  },
  {
   "cell_type": "code",
   "execution_count": 64,
   "metadata": {},
   "outputs": [
    {
     "name": "stdout",
     "output_type": "stream",
     "text": [
      "<class 'pandas.core.frame.DataFrame'>\n",
      "RangeIndex: 891 entries, 0 to 890\n",
      "Data columns (total 12 columns):\n",
      "PassengerId    891 non-null int64\n",
      "Survived       891 non-null int64\n",
      "Pclass         891 non-null int64\n",
      "Name           891 non-null object\n",
      "Sex            891 non-null object\n",
      "Age            891 non-null int64\n",
      "SibSp          891 non-null int64\n",
      "Parch          891 non-null int64\n",
      "Fare           891 non-null int64\n",
      "Cabin          891 non-null object\n",
      "Embarked       889 non-null object\n",
      "Title          891 non-null object\n",
      "dtypes: int64(7), object(5)\n",
      "memory usage: 83.6+ KB\n"
     ]
    }
   ],
   "source": [
    "data_train_all.info()"
   ]
  },
  {
   "cell_type": "code",
   "execution_count": 65,
   "metadata": {},
   "outputs": [
    {
     "name": "stdout",
     "output_type": "stream",
     "text": [
      "<class 'pandas.core.frame.DataFrame'>\n",
      "RangeIndex: 418 entries, 0 to 417\n",
      "Data columns (total 11 columns):\n",
      "PassengerId    418 non-null int64\n",
      "Pclass         418 non-null int64\n",
      "Name           418 non-null object\n",
      "Sex            418 non-null object\n",
      "Age            418 non-null int64\n",
      "SibSp          418 non-null int64\n",
      "Parch          418 non-null int64\n",
      "Fare           417 non-null float64\n",
      "Cabin          418 non-null object\n",
      "Embarked       418 non-null object\n",
      "Title          418 non-null object\n",
      "dtypes: float64(1), int64(5), object(5)\n",
      "memory usage: 36.0+ KB\n"
     ]
    }
   ],
   "source": [
    "data_test_all.info()"
   ]
  },
  {
   "cell_type": "code",
   "execution_count": 66,
   "metadata": {},
   "outputs": [],
   "source": [
    "### Missing Value Treatment of Column Fare in Test Set"
   ]
  },
  {
   "cell_type": "code",
   "execution_count": 67,
   "metadata": {},
   "outputs": [],
   "source": [
    "data_test_all.Fare.fillna(0,inplace=True)"
   ]
  },
  {
   "cell_type": "code",
   "execution_count": 68,
   "metadata": {},
   "outputs": [
    {
     "data": {
      "text/plain": [
       "0.0    156\n",
       "1.0     82\n",
       "2.0     71\n",
       "5.0     49\n",
       "6.0     31\n",
       "3.0     21\n",
       "4.0      8\n",
       "Name: Fare, dtype: int64"
      ]
     },
     "execution_count": 68,
     "metadata": {},
     "output_type": "execute_result"
    }
   ],
   "source": [
    "data_test_all.Fare.value_counts()"
   ]
  },
  {
   "cell_type": "markdown",
   "metadata": {},
   "source": [
    "# Missing Value Treatment of the Column Embark in the Training Set."
   ]
  },
  {
   "cell_type": "code",
   "execution_count": 69,
   "metadata": {},
   "outputs": [
    {
     "data": {
      "text/plain": [
       "S    644\n",
       "C    168\n",
       "Q     77\n",
       "Name: Embarked, dtype: int64"
      ]
     },
     "execution_count": 69,
     "metadata": {},
     "output_type": "execute_result"
    }
   ],
   "source": [
    "data_train_all.Embarked.value_counts()"
   ]
  },
  {
   "cell_type": "code",
   "execution_count": 70,
   "metadata": {},
   "outputs": [],
   "source": [
    "data_train_all.Embarked.fillna('S', inplace=True)"
   ]
  },
  {
   "cell_type": "code",
   "execution_count": 71,
   "metadata": {},
   "outputs": [],
   "source": [
    "data_train_all.drop(columns=['Name','PassengerId'],inplace=True)"
   ]
  },
  {
   "cell_type": "code",
   "execution_count": 72,
   "metadata": {},
   "outputs": [
    {
     "data": {
      "text/html": [
       "<div>\n",
       "<style scoped>\n",
       "    .dataframe tbody tr th:only-of-type {\n",
       "        vertical-align: middle;\n",
       "    }\n",
       "\n",
       "    .dataframe tbody tr th {\n",
       "        vertical-align: top;\n",
       "    }\n",
       "\n",
       "    .dataframe thead th {\n",
       "        text-align: right;\n",
       "    }\n",
       "</style>\n",
       "<table border=\"1\" class=\"dataframe\">\n",
       "  <thead>\n",
       "    <tr style=\"text-align: right;\">\n",
       "      <th></th>\n",
       "      <th>Survived</th>\n",
       "      <th>Pclass</th>\n",
       "      <th>Sex</th>\n",
       "      <th>Age</th>\n",
       "      <th>SibSp</th>\n",
       "      <th>Parch</th>\n",
       "      <th>Fare</th>\n",
       "      <th>Cabin</th>\n",
       "      <th>Embarked</th>\n",
       "      <th>Title</th>\n",
       "    </tr>\n",
       "  </thead>\n",
       "  <tbody>\n",
       "    <tr>\n",
       "      <th>0</th>\n",
       "      <td>0</td>\n",
       "      <td>3</td>\n",
       "      <td>male</td>\n",
       "      <td>1</td>\n",
       "      <td>1</td>\n",
       "      <td>0</td>\n",
       "      <td>0</td>\n",
       "      <td>n</td>\n",
       "      <td>S</td>\n",
       "      <td>Mr</td>\n",
       "    </tr>\n",
       "    <tr>\n",
       "      <th>1</th>\n",
       "      <td>1</td>\n",
       "      <td>1</td>\n",
       "      <td>female</td>\n",
       "      <td>1</td>\n",
       "      <td>1</td>\n",
       "      <td>0</td>\n",
       "      <td>5</td>\n",
       "      <td>C</td>\n",
       "      <td>C</td>\n",
       "      <td>Mrs</td>\n",
       "    </tr>\n",
       "    <tr>\n",
       "      <th>2</th>\n",
       "      <td>1</td>\n",
       "      <td>3</td>\n",
       "      <td>female</td>\n",
       "      <td>1</td>\n",
       "      <td>0</td>\n",
       "      <td>0</td>\n",
       "      <td>0</td>\n",
       "      <td>n</td>\n",
       "      <td>S</td>\n",
       "      <td>Miss</td>\n",
       "    </tr>\n",
       "    <tr>\n",
       "      <th>3</th>\n",
       "      <td>1</td>\n",
       "      <td>1</td>\n",
       "      <td>female</td>\n",
       "      <td>1</td>\n",
       "      <td>1</td>\n",
       "      <td>0</td>\n",
       "      <td>5</td>\n",
       "      <td>C</td>\n",
       "      <td>S</td>\n",
       "      <td>Mrs</td>\n",
       "    </tr>\n",
       "    <tr>\n",
       "      <th>4</th>\n",
       "      <td>0</td>\n",
       "      <td>3</td>\n",
       "      <td>male</td>\n",
       "      <td>1</td>\n",
       "      <td>0</td>\n",
       "      <td>0</td>\n",
       "      <td>0</td>\n",
       "      <td>n</td>\n",
       "      <td>S</td>\n",
       "      <td>Mr</td>\n",
       "    </tr>\n",
       "  </tbody>\n",
       "</table>\n",
       "</div>"
      ],
      "text/plain": [
       "   Survived  Pclass     Sex  Age  SibSp  Parch  Fare Cabin Embarked Title\n",
       "0         0       3    male    1      1      0     0     n        S    Mr\n",
       "1         1       1  female    1      1      0     5     C        C   Mrs\n",
       "2         1       3  female    1      0      0     0     n        S  Miss\n",
       "3         1       1  female    1      1      0     5     C        S   Mrs\n",
       "4         0       3    male    1      0      0     0     n        S    Mr"
      ]
     },
     "execution_count": 72,
     "metadata": {},
     "output_type": "execute_result"
    }
   ],
   "source": [
    "data_train_all.head()"
   ]
  },
  {
   "cell_type": "code",
   "execution_count": 73,
   "metadata": {},
   "outputs": [],
   "source": [
    "data_test_all.drop(columns=['Name','PassengerId'],inplace=True)"
   ]
  },
  {
   "cell_type": "code",
   "execution_count": 74,
   "metadata": {},
   "outputs": [
    {
     "name": "stdout",
     "output_type": "stream",
     "text": [
      "<class 'pandas.core.frame.DataFrame'>\n",
      "RangeIndex: 418 entries, 0 to 417\n",
      "Data columns (total 9 columns):\n",
      "Pclass      418 non-null int64\n",
      "Sex         418 non-null object\n",
      "Age         418 non-null int64\n",
      "SibSp       418 non-null int64\n",
      "Parch       418 non-null int64\n",
      "Fare        418 non-null float64\n",
      "Cabin       418 non-null object\n",
      "Embarked    418 non-null object\n",
      "Title       418 non-null object\n",
      "dtypes: float64(1), int64(4), object(4)\n",
      "memory usage: 29.5+ KB\n"
     ]
    }
   ],
   "source": [
    "data_test_all.info()"
   ]
  },
  {
   "cell_type": "code",
   "execution_count": 75,
   "metadata": {},
   "outputs": [
    {
     "data": {
      "text/plain": [
       "str"
      ]
     },
     "execution_count": 75,
     "metadata": {},
     "output_type": "execute_result"
    }
   ],
   "source": [
    "type(data_train_all.Title[2])"
   ]
  },
  {
   "cell_type": "code",
   "execution_count": 76,
   "metadata": {},
   "outputs": [],
   "source": [
    "## Create the dummy variables"
   ]
  },
  {
   "cell_type": "code",
   "execution_count": 77,
   "metadata": {},
   "outputs": [],
   "source": [
    "data_train_all=pd.get_dummies(data_train_all,drop_first=False)  \n",
    "## In case of categorical variable you dont need to drop one dummy variable."
   ]
  },
  {
   "cell_type": "code",
   "execution_count": 78,
   "metadata": {},
   "outputs": [],
   "source": [
    "data_test_all=pd.get_dummies(data_test_all,drop_first=False) "
   ]
  },
  {
   "cell_type": "code",
   "execution_count": 79,
   "metadata": {},
   "outputs": [
    {
     "data": {
      "text/html": [
       "<div>\n",
       "<style scoped>\n",
       "    .dataframe tbody tr th:only-of-type {\n",
       "        vertical-align: middle;\n",
       "    }\n",
       "\n",
       "    .dataframe tbody tr th {\n",
       "        vertical-align: top;\n",
       "    }\n",
       "\n",
       "    .dataframe thead th {\n",
       "        text-align: right;\n",
       "    }\n",
       "</style>\n",
       "<table border=\"1\" class=\"dataframe\">\n",
       "  <thead>\n",
       "    <tr style=\"text-align: right;\">\n",
       "      <th></th>\n",
       "      <th>Survived</th>\n",
       "      <th>Pclass</th>\n",
       "      <th>Age</th>\n",
       "      <th>SibSp</th>\n",
       "      <th>Parch</th>\n",
       "      <th>Fare</th>\n",
       "      <th>Sex_female</th>\n",
       "      <th>Sex_male</th>\n",
       "      <th>Cabin_A</th>\n",
       "      <th>Cabin_B</th>\n",
       "      <th>...</th>\n",
       "      <th>Embarked_Q</th>\n",
       "      <th>Embarked_S</th>\n",
       "      <th>Title_Army</th>\n",
       "      <th>Title_Dr</th>\n",
       "      <th>Title_Master</th>\n",
       "      <th>Title_Miss</th>\n",
       "      <th>Title_Mr</th>\n",
       "      <th>Title_Mrs</th>\n",
       "      <th>Title_Noble</th>\n",
       "      <th>Title_Rev</th>\n",
       "    </tr>\n",
       "  </thead>\n",
       "  <tbody>\n",
       "    <tr>\n",
       "      <th>0</th>\n",
       "      <td>0</td>\n",
       "      <td>3</td>\n",
       "      <td>1</td>\n",
       "      <td>1</td>\n",
       "      <td>0</td>\n",
       "      <td>0</td>\n",
       "      <td>0</td>\n",
       "      <td>1</td>\n",
       "      <td>0</td>\n",
       "      <td>0</td>\n",
       "      <td>...</td>\n",
       "      <td>0</td>\n",
       "      <td>1</td>\n",
       "      <td>0</td>\n",
       "      <td>0</td>\n",
       "      <td>0</td>\n",
       "      <td>0</td>\n",
       "      <td>1</td>\n",
       "      <td>0</td>\n",
       "      <td>0</td>\n",
       "      <td>0</td>\n",
       "    </tr>\n",
       "    <tr>\n",
       "      <th>1</th>\n",
       "      <td>1</td>\n",
       "      <td>1</td>\n",
       "      <td>1</td>\n",
       "      <td>1</td>\n",
       "      <td>0</td>\n",
       "      <td>5</td>\n",
       "      <td>1</td>\n",
       "      <td>0</td>\n",
       "      <td>0</td>\n",
       "      <td>0</td>\n",
       "      <td>...</td>\n",
       "      <td>0</td>\n",
       "      <td>0</td>\n",
       "      <td>0</td>\n",
       "      <td>0</td>\n",
       "      <td>0</td>\n",
       "      <td>0</td>\n",
       "      <td>0</td>\n",
       "      <td>1</td>\n",
       "      <td>0</td>\n",
       "      <td>0</td>\n",
       "    </tr>\n",
       "    <tr>\n",
       "      <th>2</th>\n",
       "      <td>1</td>\n",
       "      <td>3</td>\n",
       "      <td>1</td>\n",
       "      <td>0</td>\n",
       "      <td>0</td>\n",
       "      <td>0</td>\n",
       "      <td>1</td>\n",
       "      <td>0</td>\n",
       "      <td>0</td>\n",
       "      <td>0</td>\n",
       "      <td>...</td>\n",
       "      <td>0</td>\n",
       "      <td>1</td>\n",
       "      <td>0</td>\n",
       "      <td>0</td>\n",
       "      <td>0</td>\n",
       "      <td>1</td>\n",
       "      <td>0</td>\n",
       "      <td>0</td>\n",
       "      <td>0</td>\n",
       "      <td>0</td>\n",
       "    </tr>\n",
       "    <tr>\n",
       "      <th>3</th>\n",
       "      <td>1</td>\n",
       "      <td>1</td>\n",
       "      <td>1</td>\n",
       "      <td>1</td>\n",
       "      <td>0</td>\n",
       "      <td>5</td>\n",
       "      <td>1</td>\n",
       "      <td>0</td>\n",
       "      <td>0</td>\n",
       "      <td>0</td>\n",
       "      <td>...</td>\n",
       "      <td>0</td>\n",
       "      <td>1</td>\n",
       "      <td>0</td>\n",
       "      <td>0</td>\n",
       "      <td>0</td>\n",
       "      <td>0</td>\n",
       "      <td>0</td>\n",
       "      <td>1</td>\n",
       "      <td>0</td>\n",
       "      <td>0</td>\n",
       "    </tr>\n",
       "    <tr>\n",
       "      <th>4</th>\n",
       "      <td>0</td>\n",
       "      <td>3</td>\n",
       "      <td>1</td>\n",
       "      <td>0</td>\n",
       "      <td>0</td>\n",
       "      <td>0</td>\n",
       "      <td>0</td>\n",
       "      <td>1</td>\n",
       "      <td>0</td>\n",
       "      <td>0</td>\n",
       "      <td>...</td>\n",
       "      <td>0</td>\n",
       "      <td>1</td>\n",
       "      <td>0</td>\n",
       "      <td>0</td>\n",
       "      <td>0</td>\n",
       "      <td>0</td>\n",
       "      <td>1</td>\n",
       "      <td>0</td>\n",
       "      <td>0</td>\n",
       "      <td>0</td>\n",
       "    </tr>\n",
       "  </tbody>\n",
       "</table>\n",
       "<p>5 rows × 27 columns</p>\n",
       "</div>"
      ],
      "text/plain": [
       "   Survived  Pclass  Age  SibSp  Parch  Fare  Sex_female  Sex_male  Cabin_A  \\\n",
       "0         0       3    1      1      0     0           0         1        0   \n",
       "1         1       1    1      1      0     5           1         0        0   \n",
       "2         1       3    1      0      0     0           1         0        0   \n",
       "3         1       1    1      1      0     5           1         0        0   \n",
       "4         0       3    1      0      0     0           0         1        0   \n",
       "\n",
       "   Cabin_B    ...      Embarked_Q  Embarked_S  Title_Army  Title_Dr  \\\n",
       "0        0    ...               0           1           0         0   \n",
       "1        0    ...               0           0           0         0   \n",
       "2        0    ...               0           1           0         0   \n",
       "3        0    ...               0           1           0         0   \n",
       "4        0    ...               0           1           0         0   \n",
       "\n",
       "   Title_Master  Title_Miss  Title_Mr  Title_Mrs  Title_Noble  Title_Rev  \n",
       "0             0           0         1          0            0          0  \n",
       "1             0           0         0          1            0          0  \n",
       "2             0           1         0          0            0          0  \n",
       "3             0           0         0          1            0          0  \n",
       "4             0           0         1          0            0          0  \n",
       "\n",
       "[5 rows x 27 columns]"
      ]
     },
     "execution_count": 79,
     "metadata": {},
     "output_type": "execute_result"
    }
   ],
   "source": [
    "data_train_all.head()"
   ]
  },
  {
   "cell_type": "code",
   "execution_count": 80,
   "metadata": {},
   "outputs": [
    {
     "data": {
      "text/html": [
       "<div>\n",
       "<style scoped>\n",
       "    .dataframe tbody tr th:only-of-type {\n",
       "        vertical-align: middle;\n",
       "    }\n",
       "\n",
       "    .dataframe tbody tr th {\n",
       "        vertical-align: top;\n",
       "    }\n",
       "\n",
       "    .dataframe thead th {\n",
       "        text-align: right;\n",
       "    }\n",
       "</style>\n",
       "<table border=\"1\" class=\"dataframe\">\n",
       "  <thead>\n",
       "    <tr style=\"text-align: right;\">\n",
       "      <th></th>\n",
       "      <th>Pclass</th>\n",
       "      <th>Age</th>\n",
       "      <th>SibSp</th>\n",
       "      <th>Parch</th>\n",
       "      <th>Fare</th>\n",
       "      <th>Sex_female</th>\n",
       "      <th>Sex_male</th>\n",
       "      <th>Cabin_A</th>\n",
       "      <th>Cabin_B</th>\n",
       "      <th>Cabin_C</th>\n",
       "      <th>...</th>\n",
       "      <th>Embarked_Q</th>\n",
       "      <th>Embarked_S</th>\n",
       "      <th>Title_Army</th>\n",
       "      <th>Title_Dr</th>\n",
       "      <th>Title_Master</th>\n",
       "      <th>Title_Miss</th>\n",
       "      <th>Title_Mr</th>\n",
       "      <th>Title_Mrs</th>\n",
       "      <th>Title_Noble</th>\n",
       "      <th>Title_Rev</th>\n",
       "    </tr>\n",
       "  </thead>\n",
       "  <tbody>\n",
       "    <tr>\n",
       "      <th>0</th>\n",
       "      <td>3</td>\n",
       "      <td>1</td>\n",
       "      <td>0</td>\n",
       "      <td>0</td>\n",
       "      <td>0.0</td>\n",
       "      <td>0</td>\n",
       "      <td>1</td>\n",
       "      <td>0</td>\n",
       "      <td>0</td>\n",
       "      <td>0</td>\n",
       "      <td>...</td>\n",
       "      <td>1</td>\n",
       "      <td>0</td>\n",
       "      <td>0</td>\n",
       "      <td>0</td>\n",
       "      <td>0</td>\n",
       "      <td>0</td>\n",
       "      <td>1</td>\n",
       "      <td>0</td>\n",
       "      <td>0</td>\n",
       "      <td>0</td>\n",
       "    </tr>\n",
       "    <tr>\n",
       "      <th>1</th>\n",
       "      <td>3</td>\n",
       "      <td>2</td>\n",
       "      <td>1</td>\n",
       "      <td>0</td>\n",
       "      <td>0.0</td>\n",
       "      <td>1</td>\n",
       "      <td>0</td>\n",
       "      <td>0</td>\n",
       "      <td>0</td>\n",
       "      <td>0</td>\n",
       "      <td>...</td>\n",
       "      <td>0</td>\n",
       "      <td>1</td>\n",
       "      <td>0</td>\n",
       "      <td>0</td>\n",
       "      <td>0</td>\n",
       "      <td>0</td>\n",
       "      <td>0</td>\n",
       "      <td>1</td>\n",
       "      <td>0</td>\n",
       "      <td>0</td>\n",
       "    </tr>\n",
       "    <tr>\n",
       "      <th>2</th>\n",
       "      <td>2</td>\n",
       "      <td>3</td>\n",
       "      <td>0</td>\n",
       "      <td>0</td>\n",
       "      <td>0.0</td>\n",
       "      <td>0</td>\n",
       "      <td>1</td>\n",
       "      <td>0</td>\n",
       "      <td>0</td>\n",
       "      <td>0</td>\n",
       "      <td>...</td>\n",
       "      <td>1</td>\n",
       "      <td>0</td>\n",
       "      <td>0</td>\n",
       "      <td>0</td>\n",
       "      <td>0</td>\n",
       "      <td>0</td>\n",
       "      <td>1</td>\n",
       "      <td>0</td>\n",
       "      <td>0</td>\n",
       "      <td>0</td>\n",
       "    </tr>\n",
       "    <tr>\n",
       "      <th>3</th>\n",
       "      <td>3</td>\n",
       "      <td>1</td>\n",
       "      <td>0</td>\n",
       "      <td>0</td>\n",
       "      <td>0.0</td>\n",
       "      <td>0</td>\n",
       "      <td>1</td>\n",
       "      <td>0</td>\n",
       "      <td>0</td>\n",
       "      <td>0</td>\n",
       "      <td>...</td>\n",
       "      <td>0</td>\n",
       "      <td>1</td>\n",
       "      <td>0</td>\n",
       "      <td>0</td>\n",
       "      <td>0</td>\n",
       "      <td>0</td>\n",
       "      <td>1</td>\n",
       "      <td>0</td>\n",
       "      <td>0</td>\n",
       "      <td>0</td>\n",
       "    </tr>\n",
       "    <tr>\n",
       "      <th>4</th>\n",
       "      <td>3</td>\n",
       "      <td>1</td>\n",
       "      <td>1</td>\n",
       "      <td>1</td>\n",
       "      <td>1.0</td>\n",
       "      <td>1</td>\n",
       "      <td>0</td>\n",
       "      <td>0</td>\n",
       "      <td>0</td>\n",
       "      <td>0</td>\n",
       "      <td>...</td>\n",
       "      <td>0</td>\n",
       "      <td>1</td>\n",
       "      <td>0</td>\n",
       "      <td>0</td>\n",
       "      <td>0</td>\n",
       "      <td>0</td>\n",
       "      <td>0</td>\n",
       "      <td>1</td>\n",
       "      <td>0</td>\n",
       "      <td>0</td>\n",
       "    </tr>\n",
       "  </tbody>\n",
       "</table>\n",
       "<p>5 rows × 26 columns</p>\n",
       "</div>"
      ],
      "text/plain": [
       "   Pclass  Age  SibSp  Parch  Fare  Sex_female  Sex_male  Cabin_A  Cabin_B  \\\n",
       "0       3    1      0      0   0.0           0         1        0        0   \n",
       "1       3    2      1      0   0.0           1         0        0        0   \n",
       "2       2    3      0      0   0.0           0         1        0        0   \n",
       "3       3    1      0      0   0.0           0         1        0        0   \n",
       "4       3    1      1      1   1.0           1         0        0        0   \n",
       "\n",
       "   Cabin_C    ...      Embarked_Q  Embarked_S  Title_Army  Title_Dr  \\\n",
       "0        0    ...               1           0           0         0   \n",
       "1        0    ...               0           1           0         0   \n",
       "2        0    ...               1           0           0         0   \n",
       "3        0    ...               0           1           0         0   \n",
       "4        0    ...               0           1           0         0   \n",
       "\n",
       "   Title_Master  Title_Miss  Title_Mr  Title_Mrs  Title_Noble  Title_Rev  \n",
       "0             0           0         1          0            0          0  \n",
       "1             0           0         0          1            0          0  \n",
       "2             0           0         1          0            0          0  \n",
       "3             0           0         1          0            0          0  \n",
       "4             0           0         0          1            0          0  \n",
       "\n",
       "[5 rows x 26 columns]"
      ]
     },
     "execution_count": 80,
     "metadata": {},
     "output_type": "execute_result"
    }
   ],
   "source": [
    "data_test_all.head()"
   ]
  },
  {
   "cell_type": "code",
   "execution_count": 81,
   "metadata": {},
   "outputs": [
    {
     "name": "stdout",
     "output_type": "stream",
     "text": [
      "<class 'pandas.core.frame.DataFrame'>\n",
      "RangeIndex: 891 entries, 0 to 890\n",
      "Data columns (total 27 columns):\n",
      "Survived        891 non-null int64\n",
      "Pclass          891 non-null int64\n",
      "Age             891 non-null int64\n",
      "SibSp           891 non-null int64\n",
      "Parch           891 non-null int64\n",
      "Fare            891 non-null int64\n",
      "Sex_female      891 non-null uint8\n",
      "Sex_male        891 non-null uint8\n",
      "Cabin_A         891 non-null uint8\n",
      "Cabin_B         891 non-null uint8\n",
      "Cabin_C         891 non-null uint8\n",
      "Cabin_D         891 non-null uint8\n",
      "Cabin_E         891 non-null uint8\n",
      "Cabin_F         891 non-null uint8\n",
      "Cabin_G         891 non-null uint8\n",
      "Cabin_n         891 non-null uint8\n",
      "Embarked_C      891 non-null uint8\n",
      "Embarked_Q      891 non-null uint8\n",
      "Embarked_S      891 non-null uint8\n",
      "Title_Army      891 non-null uint8\n",
      "Title_Dr        891 non-null uint8\n",
      "Title_Master    891 non-null uint8\n",
      "Title_Miss      891 non-null uint8\n",
      "Title_Mr        891 non-null uint8\n",
      "Title_Mrs       891 non-null uint8\n",
      "Title_Noble     891 non-null uint8\n",
      "Title_Rev       891 non-null uint8\n",
      "dtypes: int64(6), uint8(21)\n",
      "memory usage: 60.1 KB\n"
     ]
    }
   ],
   "source": [
    "data_train_all.info()"
   ]
  },
  {
   "cell_type": "code",
   "execution_count": 82,
   "metadata": {},
   "outputs": [],
   "source": [
    "## Column Family"
   ]
  },
  {
   "cell_type": "code",
   "execution_count": 83,
   "metadata": {},
   "outputs": [],
   "source": [
    "data_train_all['Family']=data_train_all['SibSp']+data_train_all['Parch']"
   ]
  },
  {
   "cell_type": "code",
   "execution_count": 84,
   "metadata": {},
   "outputs": [],
   "source": [
    "data_test_all['Family']=data_test_all['SibSp']+data_test_all['Parch']"
   ]
  },
  {
   "cell_type": "code",
   "execution_count": 85,
   "metadata": {},
   "outputs": [],
   "source": [
    "data_train_all.drop(columns=['SibSp','Parch'],inplace=True)\n",
    "data_test_all.drop(columns=['SibSp','Parch'],inplace=True)"
   ]
  },
  {
   "cell_type": "code",
   "execution_count": 86,
   "metadata": {},
   "outputs": [
    {
     "data": {
      "text/plain": [
       "0     253\n",
       "1      74\n",
       "2      57\n",
       "3      14\n",
       "4       7\n",
       "10      4\n",
       "6       4\n",
       "5       3\n",
       "7       2\n",
       "Name: Family, dtype: int64"
      ]
     },
     "execution_count": 86,
     "metadata": {},
     "output_type": "execute_result"
    }
   ],
   "source": [
    "data_test_all.Family.value_counts()"
   ]
  },
  {
   "cell_type": "code",
   "execution_count": 87,
   "metadata": {},
   "outputs": [
    {
     "name": "stdout",
     "output_type": "stream",
     "text": [
      "<class 'pandas.core.frame.DataFrame'>\n",
      "RangeIndex: 418 entries, 0 to 417\n",
      "Data columns (total 25 columns):\n",
      "Pclass          418 non-null int64\n",
      "Age             418 non-null int64\n",
      "Fare            418 non-null float64\n",
      "Sex_female      418 non-null uint8\n",
      "Sex_male        418 non-null uint8\n",
      "Cabin_A         418 non-null uint8\n",
      "Cabin_B         418 non-null uint8\n",
      "Cabin_C         418 non-null uint8\n",
      "Cabin_D         418 non-null uint8\n",
      "Cabin_E         418 non-null uint8\n",
      "Cabin_F         418 non-null uint8\n",
      "Cabin_G         418 non-null uint8\n",
      "Cabin_n         418 non-null uint8\n",
      "Embarked_C      418 non-null uint8\n",
      "Embarked_Q      418 non-null uint8\n",
      "Embarked_S      418 non-null uint8\n",
      "Title_Army      418 non-null uint8\n",
      "Title_Dr        418 non-null uint8\n",
      "Title_Master    418 non-null uint8\n",
      "Title_Miss      418 non-null uint8\n",
      "Title_Mr        418 non-null uint8\n",
      "Title_Mrs       418 non-null uint8\n",
      "Title_Noble     418 non-null uint8\n",
      "Title_Rev       418 non-null uint8\n",
      "Family          418 non-null int64\n",
      "dtypes: float64(1), int64(3), uint8(21)\n",
      "memory usage: 21.7 KB\n"
     ]
    }
   ],
   "source": [
    "data_test_all.info()"
   ]
  },
  {
   "cell_type": "code",
   "execution_count": 88,
   "metadata": {},
   "outputs": [],
   "source": [
    "data_train_all.Fare=data_train_all.Fare.astype(float)"
   ]
  },
  {
   "cell_type": "code",
   "execution_count": 89,
   "metadata": {},
   "outputs": [
    {
     "name": "stdout",
     "output_type": "stream",
     "text": [
      "<class 'pandas.core.frame.DataFrame'>\n",
      "RangeIndex: 891 entries, 0 to 890\n",
      "Data columns (total 26 columns):\n",
      "Survived        891 non-null int64\n",
      "Pclass          891 non-null int64\n",
      "Age             891 non-null int64\n",
      "Fare            891 non-null float64\n",
      "Sex_female      891 non-null uint8\n",
      "Sex_male        891 non-null uint8\n",
      "Cabin_A         891 non-null uint8\n",
      "Cabin_B         891 non-null uint8\n",
      "Cabin_C         891 non-null uint8\n",
      "Cabin_D         891 non-null uint8\n",
      "Cabin_E         891 non-null uint8\n",
      "Cabin_F         891 non-null uint8\n",
      "Cabin_G         891 non-null uint8\n",
      "Cabin_n         891 non-null uint8\n",
      "Embarked_C      891 non-null uint8\n",
      "Embarked_Q      891 non-null uint8\n",
      "Embarked_S      891 non-null uint8\n",
      "Title_Army      891 non-null uint8\n",
      "Title_Dr        891 non-null uint8\n",
      "Title_Master    891 non-null uint8\n",
      "Title_Miss      891 non-null uint8\n",
      "Title_Mr        891 non-null uint8\n",
      "Title_Mrs       891 non-null uint8\n",
      "Title_Noble     891 non-null uint8\n",
      "Title_Rev       891 non-null uint8\n",
      "Family          891 non-null int64\n",
      "dtypes: float64(1), int64(4), uint8(21)\n",
      "memory usage: 53.2 KB\n"
     ]
    }
   ],
   "source": [
    "data_train_all.info()"
   ]
  },
  {
   "cell_type": "markdown",
   "metadata": {},
   "source": [
    "# Part 2"
   ]
  },
  {
   "cell_type": "markdown",
   "metadata": {},
   "source": [
    "# Implementation of GBM in H2O.ai for predicting"
   ]
  },
  {
   "cell_type": "code",
   "execution_count": 90,
   "metadata": {},
   "outputs": [
    {
     "name": "stdout",
     "output_type": "stream",
     "text": [
      "Checking whether there is an H2O instance running at http://localhost:54321..... not found.\n",
      "Attempting to start a local H2O server...\n",
      "  Java Version: java version \"1.8.0_161\"; Java(TM) SE Runtime Environment (build 1.8.0_161-b12); Java HotSpot(TM) 64-Bit Server VM (build 25.161-b12, mixed mode)\n",
      "  Starting server from /anaconda3/lib/python3.6/site-packages/h2o/backend/bin/h2o.jar\n",
      "  Ice root: /var/folders/1p/9ykp1qd57gd26nrw11zjq09c0000gn/T/tmpgm7dz5b2\n",
      "  JVM stdout: /var/folders/1p/9ykp1qd57gd26nrw11zjq09c0000gn/T/tmpgm7dz5b2/h2o_yashasvijariwala_started_from_python.out\n",
      "  JVM stderr: /var/folders/1p/9ykp1qd57gd26nrw11zjq09c0000gn/T/tmpgm7dz5b2/h2o_yashasvijariwala_started_from_python.err\n",
      "  Server is running at http://127.0.0.1:54321\n",
      "Connecting to H2O server at http://127.0.0.1:54321... successful.\n",
      "Warning: Your H2O cluster version is too old (3 months and 21 days)! Please download and install the latest version from http://h2o.ai/download/\n"
     ]
    },
    {
     "data": {
      "text/html": [
       "<div style=\"overflow:auto\"><table style=\"width:50%\"><tr><td>H2O cluster uptime:</td>\n",
       "<td>02 secs</td></tr>\n",
       "<tr><td>H2O cluster timezone:</td>\n",
       "<td>America/New_York</td></tr>\n",
       "<tr><td>H2O data parsing timezone:</td>\n",
       "<td>UTC</td></tr>\n",
       "<tr><td>H2O cluster version:</td>\n",
       "<td>3.20.0.3</td></tr>\n",
       "<tr><td>H2O cluster version age:</td>\n",
       "<td>3 months and 21 days !!!</td></tr>\n",
       "<tr><td>H2O cluster name:</td>\n",
       "<td>H2O_from_python_yashasvijariwala_1ja6gp</td></tr>\n",
       "<tr><td>H2O cluster total nodes:</td>\n",
       "<td>1</td></tr>\n",
       "<tr><td>H2O cluster free memory:</td>\n",
       "<td>1.778 Gb</td></tr>\n",
       "<tr><td>H2O cluster total cores:</td>\n",
       "<td>4</td></tr>\n",
       "<tr><td>H2O cluster allowed cores:</td>\n",
       "<td>4</td></tr>\n",
       "<tr><td>H2O cluster status:</td>\n",
       "<td>accepting new members, healthy</td></tr>\n",
       "<tr><td>H2O connection url:</td>\n",
       "<td>http://127.0.0.1:54321</td></tr>\n",
       "<tr><td>H2O connection proxy:</td>\n",
       "<td>None</td></tr>\n",
       "<tr><td>H2O internal security:</td>\n",
       "<td>False</td></tr>\n",
       "<tr><td>H2O API Extensions:</td>\n",
       "<td>XGBoost, Algos, AutoML, Core V3, Core V4</td></tr>\n",
       "<tr><td>Python version:</td>\n",
       "<td>3.6.5 final</td></tr></table></div>"
      ],
      "text/plain": [
       "--------------------------  ----------------------------------------\n",
       "H2O cluster uptime:         02 secs\n",
       "H2O cluster timezone:       America/New_York\n",
       "H2O data parsing timezone:  UTC\n",
       "H2O cluster version:        3.20.0.3\n",
       "H2O cluster version age:    3 months and 21 days !!!\n",
       "H2O cluster name:           H2O_from_python_yashasvijariwala_1ja6gp\n",
       "H2O cluster total nodes:    1\n",
       "H2O cluster free memory:    1.778 Gb\n",
       "H2O cluster total cores:    4\n",
       "H2O cluster allowed cores:  4\n",
       "H2O cluster status:         accepting new members, healthy\n",
       "H2O connection url:         http://127.0.0.1:54321\n",
       "H2O connection proxy:\n",
       "H2O internal security:      False\n",
       "H2O API Extensions:         XGBoost, Algos, AutoML, Core V3, Core V4\n",
       "Python version:             3.6.5 final\n",
       "--------------------------  ----------------------------------------"
      ]
     },
     "metadata": {},
     "output_type": "display_data"
    }
   ],
   "source": [
    "import h2o\n",
    "h2o.init()"
   ]
  },
  {
   "cell_type": "markdown",
   "metadata": {},
   "source": [
    "Convert Data from Pandas Data Frame to H2O data Frame"
   ]
  },
  {
   "cell_type": "code",
   "execution_count": 91,
   "metadata": {},
   "outputs": [
    {
     "name": "stderr",
     "output_type": "stream",
     "text": [
      "/anaconda3/lib/python3.6/importlib/_bootstrap.py:219: RuntimeWarning: numpy.dtype size changed, may indicate binary incompatibility. Expected 96, got 88\n",
      "  return f(*args, **kwds)\n"
     ]
    },
    {
     "name": "stdout",
     "output_type": "stream",
     "text": [
      "Parse progress: |█████████████████████████████████████████████████████████| 100%\n"
     ]
    }
   ],
   "source": [
    "data_train_h2o=h2o.H2OFrame(data_train_all)"
   ]
  },
  {
   "cell_type": "code",
   "execution_count": 92,
   "metadata": {},
   "outputs": [
    {
     "name": "stdout",
     "output_type": "stream",
     "text": [
      "Parse progress: |█████████████████████████████████████████████████████████| 100%\n"
     ]
    }
   ],
   "source": [
    "data_test_h2o=h2o.H2OFrame(data_test_all)"
   ]
  },
  {
   "cell_type": "markdown",
   "metadata": {},
   "source": [
    "Check the type of the data after conversion"
   ]
  },
  {
   "cell_type": "code",
   "execution_count": 93,
   "metadata": {},
   "outputs": [
    {
     "data": {
      "text/plain": [
       "h2o.frame.H2OFrame"
      ]
     },
     "execution_count": 93,
     "metadata": {},
     "output_type": "execute_result"
    }
   ],
   "source": [
    "type(data_test_h2o)"
   ]
  },
  {
   "cell_type": "markdown",
   "metadata": {},
   "source": [
    "NOTE : Always remember to convert the Target variable in training Data Set as Factor or categorical variable. Else the the H2O's GBM algorithm will not create a classification algorithm."
   ]
  },
  {
   "cell_type": "code",
   "execution_count": 94,
   "metadata": {},
   "outputs": [],
   "source": [
    "data_train_h2o['Survived']=data_train_h2o['Survived'].asfactor()    ## Converting Target Variable as Factor"
   ]
  },
  {
   "cell_type": "code",
   "execution_count": 95,
   "metadata": {},
   "outputs": [],
   "source": [
    "from h2o.estimators.gbm import H2OGradientBoostingEstimator  # import gbm estimator"
   ]
  },
  {
   "cell_type": "code",
   "execution_count": 96,
   "metadata": {},
   "outputs": [],
   "source": [
    "model = H2OGradientBoostingEstimator(## more trees is better if the learning rate is small enough \n",
    "  ## here, use \"more than enough\" trees - we have early stopping\n",
    "  ntrees = 10000,                                                            \n",
    "\n",
    "  ## smaller learning rate is better (this is a good value for most datasets, but see below for annealing)\n",
    "  learn_rate = 0.01,                                                         \n",
    "\n",
    "  ## early stopping once the validation AUC doesn't improve by at least 0.01% for 5 consecutive scoring events\n",
    "  stopping_rounds = 5, stopping_tolerance = 1e-4, stopping_metric = \"AUC\", \n",
    "\n",
    "  ## sample 80% of rows per tree\n",
    "  sample_rate = 0.8,                                                       \n",
    "\n",
    "  ## sample 80% of columns per split\n",
    "  col_sample_rate = 0.8,                                                   \n",
    "\n",
    "  ## fix a random number generator seed for reproducibility\n",
    "  seed = 1234,                                                             \n",
    "\n",
    "  ## score every 10 trees to make early stopping reproducible (it depends on the scoring interval)\n",
    "  score_tree_interval = 10, nfolds=5, max_depth=3)   ## Instantiating the class"
   ]
  },
  {
   "cell_type": "markdown",
   "metadata": {},
   "source": [
    "Train the model."
   ]
  },
  {
   "cell_type": "code",
   "execution_count": 97,
   "metadata": {},
   "outputs": [
    {
     "name": "stdout",
     "output_type": "stream",
     "text": [
      "gbm Model Build progress: |███████████████████████████████████████████████| 100%\n"
     ]
    }
   ],
   "source": [
    "model.train(x=data_train_h2o.names[1:],y=data_train_h2o.names[0], training_frame=data_train_h2o, model_id=\"GBM_Titanic\",\n",
    "            validation_frame=data_train_h2o)"
   ]
  },
  {
   "cell_type": "code",
   "execution_count": 98,
   "metadata": {},
   "outputs": [
    {
     "data": {
      "text/plain": [
       "['F0point5',\n",
       " 'F1',\n",
       " 'F2',\n",
       " '__class__',\n",
       " '__delattr__',\n",
       " '__dict__',\n",
       " '__dir__',\n",
       " '__doc__',\n",
       " '__eq__',\n",
       " '__format__',\n",
       " '__ge__',\n",
       " '__getattr__',\n",
       " '__getattribute__',\n",
       " '__gt__',\n",
       " '__hash__',\n",
       " '__init__',\n",
       " '__init_subclass__',\n",
       " '__le__',\n",
       " '__lt__',\n",
       " '__module__',\n",
       " '__ne__',\n",
       " '__new__',\n",
       " '__reduce__',\n",
       " '__reduce_ex__',\n",
       " '__repr__',\n",
       " '__setattr__',\n",
       " '__sizeof__',\n",
       " '__str__',\n",
       " '__subclasshook__',\n",
       " '__weakref__',\n",
       " '_bc',\n",
       " '_bcin',\n",
       " '_check_targets',\n",
       " '_compute_algo',\n",
       " '_estimator_type',\n",
       " '_future',\n",
       " '_get_metrics',\n",
       " '_have_mojo',\n",
       " '_have_pojo',\n",
       " '_id',\n",
       " '_is_xvalidated',\n",
       " '_job',\n",
       " '_keyify_if_h2oframe',\n",
       " '_metrics_class',\n",
       " '_model_json',\n",
       " '_parms',\n",
       " '_plot',\n",
       " '_requires_training_frame',\n",
       " '_resolve_model',\n",
       " '_verify_training_frame_params',\n",
       " '_xval_keys',\n",
       " 'accuracy',\n",
       " 'actual_params',\n",
       " 'aic',\n",
       " 'algo',\n",
       " 'auc',\n",
       " 'balance_classes',\n",
       " 'biases',\n",
       " 'build_tree_one_node',\n",
       " 'calibrate_model',\n",
       " 'calibration_frame',\n",
       " 'categorical_encoding',\n",
       " 'catoffsets',\n",
       " 'checkpoint',\n",
       " 'class_sampling_factors',\n",
       " 'coef',\n",
       " 'coef_norm',\n",
       " 'col_sample_rate',\n",
       " 'col_sample_rate_change_per_level',\n",
       " 'col_sample_rate_per_tree',\n",
       " 'confusion_matrix',\n",
       " 'cross_validation_fold_assignment',\n",
       " 'cross_validation_holdout_predictions',\n",
       " 'cross_validation_metrics_summary',\n",
       " 'cross_validation_models',\n",
       " 'cross_validation_predictions',\n",
       " 'custom_metric_func',\n",
       " 'deepfeatures',\n",
       " 'default_params',\n",
       " 'distribution',\n",
       " 'download_mojo',\n",
       " 'download_pojo',\n",
       " 'error',\n",
       " 'fallout',\n",
       " 'find_idx_by_threshold',\n",
       " 'find_threshold_by_max_metric',\n",
       " 'fit',\n",
       " 'fnr',\n",
       " 'fold_assignment',\n",
       " 'fold_column',\n",
       " 'fpr',\n",
       " 'full_parameters',\n",
       " 'gains_lift',\n",
       " 'get_params',\n",
       " 'get_xval_models',\n",
       " 'gini',\n",
       " 'have_mojo',\n",
       " 'have_pojo',\n",
       " 'histogram_type',\n",
       " 'huber_alpha',\n",
       " 'ignore_const_cols',\n",
       " 'ignored_columns',\n",
       " 'is_cross_validated',\n",
       " 'join',\n",
       " 'keep_cross_validation_fold_assignment',\n",
       " 'keep_cross_validation_predictions',\n",
       " 'learn_rate',\n",
       " 'learn_rate_annealing',\n",
       " 'levelone_frame_id',\n",
       " 'logloss',\n",
       " 'mae',\n",
       " 'max_abs_leafnode_pred',\n",
       " 'max_after_balance_size',\n",
       " 'max_confusion_matrix_size',\n",
       " 'max_depth',\n",
       " 'max_hit_ratio_k',\n",
       " 'max_per_class_error',\n",
       " 'max_runtime_secs',\n",
       " 'mcc',\n",
       " 'mean_per_class_error',\n",
       " 'mean_residual_deviance',\n",
       " 'metalearner',\n",
       " 'metric',\n",
       " 'min_rows',\n",
       " 'min_split_improvement',\n",
       " 'missrate',\n",
       " 'mixin',\n",
       " 'model_id',\n",
       " 'model_performance',\n",
       " 'mse',\n",
       " 'nbins',\n",
       " 'nbins_cats',\n",
       " 'nbins_top_level',\n",
       " 'nfolds',\n",
       " 'normmul',\n",
       " 'normsub',\n",
       " 'ntrees',\n",
       " 'null_degrees_of_freedom',\n",
       " 'null_deviance',\n",
       " 'offset_column',\n",
       " 'params',\n",
       " 'parms',\n",
       " 'partial_plot',\n",
       " 'plot',\n",
       " 'pprint_coef',\n",
       " 'precision',\n",
       " 'pred_noise_bandwidth',\n",
       " 'predict',\n",
       " 'predict_leaf_node_assignment',\n",
       " 'quantile_alpha',\n",
       " 'r2',\n",
       " 'r2_stopping',\n",
       " 'recall',\n",
       " 'residual_degrees_of_freedom',\n",
       " 'residual_deviance',\n",
       " 'respmul',\n",
       " 'response_column',\n",
       " 'respsub',\n",
       " 'rmse',\n",
       " 'rmsle',\n",
       " 'roc',\n",
       " 'rotation',\n",
       " 'sample_rate',\n",
       " 'sample_rate_per_class',\n",
       " 'save_model_details',\n",
       " 'save_mojo',\n",
       " 'score_each_iteration',\n",
       " 'score_history',\n",
       " 'score_tree_interval',\n",
       " 'scoring_history',\n",
       " 'seed',\n",
       " 'sensitivity',\n",
       " 'set_params',\n",
       " 'show',\n",
       " 'specificity',\n",
       " 'start',\n",
       " 'std_coef_plot',\n",
       " 'stopping_metric',\n",
       " 'stopping_rounds',\n",
       " 'stopping_tolerance',\n",
       " 'summary',\n",
       " 'tnr',\n",
       " 'tpr',\n",
       " 'train',\n",
       " 'training_frame',\n",
       " 'tweedie_power',\n",
       " 'type',\n",
       " 'validation_frame',\n",
       " 'varimp',\n",
       " 'varimp_plot',\n",
       " 'weights',\n",
       " 'weights_column',\n",
       " 'xval_keys',\n",
       " 'xvals']"
      ]
     },
     "execution_count": 98,
     "metadata": {},
     "output_type": "execute_result"
    }
   ],
   "source": [
    "dir(model)"
   ]
  },
  {
   "cell_type": "markdown",
   "metadata": {},
   "source": [
    "5 fold Cross Validation Score"
   ]
  },
  {
   "cell_type": "markdown",
   "metadata": {},
   "source": [
    " 1. Accuracy Metric   : the mean accuracy of the model is 83.8% and the std dev is 2.3%\n",
    " 2. auc Metric        : Mean AUC is 87% \n",
    "\n",
    "\n",
    " From these metrics we can say that our model is fairly ok.\n",
    " We can further improve it by parameter tuning."
   ]
  },
  {
   "cell_type": "code",
   "execution_count": 99,
   "metadata": {},
   "outputs": [
    {
     "name": "stdout",
     "output_type": "stream",
     "text": [
      "Cross-Validation Metrics Summary: \n"
     ]
    },
    {
     "data": {
      "text/html": [
       "<div style=\"overflow:auto\"><table style=\"width:50%\"><tr><td><b></b></td>\n",
       "<td><b>mean</b></td>\n",
       "<td><b>sd</b></td>\n",
       "<td><b>cv_1_valid</b></td>\n",
       "<td><b>cv_2_valid</b></td>\n",
       "<td><b>cv_3_valid</b></td>\n",
       "<td><b>cv_4_valid</b></td>\n",
       "<td><b>cv_5_valid</b></td></tr>\n",
       "<tr><td>accuracy</td>\n",
       "<td>0.8381619</td>\n",
       "<td>0.0232680</td>\n",
       "<td>0.8378378</td>\n",
       "<td>0.7885714</td>\n",
       "<td>0.8555555</td>\n",
       "<td>0.8870056</td>\n",
       "<td>0.8218391</td></tr>\n",
       "<tr><td>auc</td>\n",
       "<td>0.8700411</td>\n",
       "<td>0.0140836</td>\n",
       "<td>0.8921354</td>\n",
       "<td>0.8446817</td>\n",
       "<td>0.8569504</td>\n",
       "<td>0.8947584</td>\n",
       "<td>0.8616796</td></tr>\n",
       "<tr><td>err</td>\n",
       "<td>0.1618381</td>\n",
       "<td>0.0232680</td>\n",
       "<td>0.1621622</td>\n",
       "<td>0.2114286</td>\n",
       "<td>0.1444445</td>\n",
       "<td>0.1129943</td>\n",
       "<td>0.1781609</td></tr>\n",
       "<tr><td>err_count</td>\n",
       "<td>28.8</td>\n",
       "<td>3.9849718</td>\n",
       "<td>30.0</td>\n",
       "<td>37.0</td>\n",
       "<td>26.0</td>\n",
       "<td>20.0</td>\n",
       "<td>31.0</td></tr>\n",
       "<tr><td>f0point5</td>\n",
       "<td>0.7930275</td>\n",
       "<td>0.0335072</td>\n",
       "<td>0.7775119</td>\n",
       "<td>0.7402598</td>\n",
       "<td>0.8012820</td>\n",
       "<td>0.8793104</td>\n",
       "<td>0.7667732</td></tr>\n",
       "<tr><td>f1</td>\n",
       "<td>0.7906178</td>\n",
       "<td>0.0224265</td>\n",
       "<td>0.8125</td>\n",
       "<td>0.7549669</td>\n",
       "<td>0.7936508</td>\n",
       "<td>0.8360656</td>\n",
       "<td>0.7559055</td></tr>\n",
       "<tr><td>f2</td>\n",
       "<td>0.7898871</td>\n",
       "<td>0.0247799</td>\n",
       "<td>0.8507853</td>\n",
       "<td>0.7702703</td>\n",
       "<td>0.7861635</td>\n",
       "<td>0.796875</td>\n",
       "<td>0.7453416</td></tr>\n",
       "<tr><td>lift_top_group</td>\n",
       "<td>2.1342483</td>\n",
       "<td>0.7578353</td>\n",
       "<td>2.5</td>\n",
       "<td>0.0</td>\n",
       "<td>2.8125</td>\n",
       "<td>2.6818182</td>\n",
       "<td>2.676923</td></tr>\n",
       "<tr><td>logloss</td>\n",
       "<td>0.4416493</td>\n",
       "<td>0.0123475</td>\n",
       "<td>0.4347701</td>\n",
       "<td>0.4613028</td>\n",
       "<td>0.4359076</td>\n",
       "<td>0.4154028</td>\n",
       "<td>0.4608632</td></tr>\n",
       "<tr><td>max_per_class_error</td>\n",
       "<td>0.2231857</td>\n",
       "<td>0.0163681</td>\n",
       "<td>0.1891892</td>\n",
       "<td>0.2191781</td>\n",
       "<td>0.21875</td>\n",
       "<td>0.2272727</td>\n",
       "<td>0.2615385</td></tr>\n",
       "<tr><td>mcc</td>\n",
       "<td>0.6605817</td>\n",
       "<td>0.0448312</td>\n",
       "<td>0.6769381</td>\n",
       "<td>0.570362</td>\n",
       "<td>0.6827863</td>\n",
       "<td>0.7566386</td>\n",
       "<td>0.6161834</td></tr>\n",
       "<tr><td>mean_per_class_accuracy</td>\n",
       "<td>0.8279634</td>\n",
       "<td>0.0196214</td>\n",
       "<td>0.8445946</td>\n",
       "<td>0.7874698</td>\n",
       "<td>0.8389009</td>\n",
       "<td>0.8638411</td>\n",
       "<td>0.8050106</td></tr>\n",
       "<tr><td>mean_per_class_error</td>\n",
       "<td>0.1720366</td>\n",
       "<td>0.0196214</td>\n",
       "<td>0.1554054</td>\n",
       "<td>0.2125302</td>\n",
       "<td>0.1610991</td>\n",
       "<td>0.1361589</td>\n",
       "<td>0.1949894</td></tr>\n",
       "<tr><td>mse</td>\n",
       "<td>0.1357871</td>\n",
       "<td>0.0058138</td>\n",
       "<td>0.1330728</td>\n",
       "<td>0.1456850</td>\n",
       "<td>0.1327486</td>\n",
       "<td>0.1233500</td>\n",
       "<td>0.1440790</td></tr>\n",
       "<tr><td>precision</td>\n",
       "<td>0.7955885</td>\n",
       "<td>0.0442869</td>\n",
       "<td>0.7558140</td>\n",
       "<td>0.7307692</td>\n",
       "<td>0.8064516</td>\n",
       "<td>0.9107143</td>\n",
       "<td>0.7741935</td></tr>\n",
       "<tr><td>r2</td>\n",
       "<td>0.4247617</td>\n",
       "<td>0.0222204</td>\n",
       "<td>0.4455299</td>\n",
       "<td>0.4008054</td>\n",
       "<td>0.4206552</td>\n",
       "<td>0.4725043</td>\n",
       "<td>0.3843139</td></tr>\n",
       "<tr><td>recall</td>\n",
       "<td>0.7903279</td>\n",
       "<td>0.0330538</td>\n",
       "<td>0.8783784</td>\n",
       "<td>0.7808219</td>\n",
       "<td>0.78125</td>\n",
       "<td>0.7727272</td>\n",
       "<td>0.7384616</td></tr>\n",
       "<tr><td>rmse</td>\n",
       "<td>0.3683230</td>\n",
       "<td>0.0079140</td>\n",
       "<td>0.3647915</td>\n",
       "<td>0.3816871</td>\n",
       "<td>0.3643469</td>\n",
       "<td>0.3512122</td>\n",
       "<td>0.3795774</td></tr>\n",
       "<tr><td>specificity</td>\n",
       "<td>0.865599</td>\n",
       "<td>0.0413393</td>\n",
       "<td>0.8108108</td>\n",
       "<td>0.7941176</td>\n",
       "<td>0.8965517</td>\n",
       "<td>0.954955</td>\n",
       "<td>0.8715596</td></tr></table></div>"
      ],
      "text/plain": [
       "                         mean      sd          cv_1_valid    cv_2_valid    cv_3_valid    cv_4_valid    cv_5_valid\n",
       "-----------------------  --------  ----------  ------------  ------------  ------------  ------------  ------------\n",
       "accuracy                 0.838162  0.023268    0.837838      0.788571      0.855556      0.887006      0.821839\n",
       "auc                      0.870041  0.0140836   0.892135      0.844682      0.85695       0.894758      0.86168\n",
       "err                      0.161838  0.023268    0.162162      0.211429      0.144444      0.112994      0.178161\n",
       "err_count                28.8      3.98497     30            37            26            20            31\n",
       "f0point5                 0.793027  0.0335072   0.777512      0.74026       0.801282      0.87931       0.766773\n",
       "f1                       0.790618  0.0224265   0.8125        0.754967      0.793651      0.836066      0.755906\n",
       "f2                       0.789887  0.0247799   0.850785      0.77027       0.786164      0.796875      0.745342\n",
       "lift_top_group           2.13425   0.757835    2.5           0             2.8125        2.68182       2.67692\n",
       "logloss                  0.441649  0.0123475   0.43477       0.461303      0.435908      0.415403      0.460863\n",
       "max_per_class_error      0.223186  0.0163681   0.189189      0.219178      0.21875       0.227273      0.261538\n",
       "mcc                      0.660582  0.0448312   0.676938      0.570362      0.682786      0.756639      0.616183\n",
       "mean_per_class_accuracy  0.827963  0.0196214   0.844595      0.78747       0.838901      0.863841      0.805011\n",
       "mean_per_class_error     0.172037  0.0196214   0.155405      0.21253       0.161099      0.136159      0.194989\n",
       "mse                      0.135787  0.00581382  0.133073      0.145685      0.132749      0.12335       0.144079\n",
       "precision                0.795589  0.0442869   0.755814      0.730769      0.806452      0.910714      0.774193\n",
       "r2                       0.424762  0.0222204   0.44553       0.400805      0.420655      0.472504      0.384314\n",
       "recall                   0.790328  0.0330538   0.878378      0.780822      0.78125       0.772727      0.738462\n",
       "rmse                     0.368323  0.00791403  0.364791      0.381687      0.364347      0.351212      0.379577\n",
       "specificity              0.865599  0.0413393   0.810811      0.794118      0.896552      0.954955      0.87156"
      ]
     },
     "metadata": {},
     "output_type": "display_data"
    },
    {
     "data": {
      "text/plain": []
     },
     "execution_count": 99,
     "metadata": {},
     "output_type": "execute_result"
    }
   ],
   "source": [
    "model.cross_validation_metrics_summary()"
   ]
  },
  {
   "cell_type": "markdown",
   "metadata": {},
   "source": [
    "Check Model Parameters"
   ]
  },
  {
   "cell_type": "code",
   "execution_count": 101,
   "metadata": {},
   "outputs": [
    {
     "data": {
      "text/plain": [
       "{'model_id': {'default': None,\n",
       "  'actual': {'__meta': {'schema_version': 3,\n",
       "    'schema_name': 'ModelKeyV3',\n",
       "    'schema_type': 'Key<Model>'},\n",
       "   'name': 'GBM_Titanic',\n",
       "   'type': 'Key<Model>',\n",
       "   'URL': '/3/Models/GBM_Titanic'}},\n",
       " 'training_frame': {'default': None,\n",
       "  'actual': {'__meta': {'schema_version': 3,\n",
       "    'schema_name': 'FrameKeyV3',\n",
       "    'schema_type': 'Key<Frame>'},\n",
       "   'name': 'py_1_sid_9ad6',\n",
       "   'type': 'Key<Frame>',\n",
       "   'URL': '/3/Frames/py_1_sid_9ad6'}},\n",
       " 'validation_frame': {'default': None,\n",
       "  'actual': {'__meta': {'schema_version': 3,\n",
       "    'schema_name': 'FrameKeyV3',\n",
       "    'schema_type': 'Key<Frame>'},\n",
       "   'name': 'py_1_sid_9ad6',\n",
       "   'type': 'Key<Frame>',\n",
       "   'URL': '/3/Frames/py_1_sid_9ad6'}},\n",
       " 'nfolds': {'default': 0, 'actual': 5},\n",
       " 'keep_cross_validation_predictions': {'default': False, 'actual': False},\n",
       " 'keep_cross_validation_fold_assignment': {'default': False, 'actual': False},\n",
       " 'score_each_iteration': {'default': False, 'actual': False},\n",
       " 'score_tree_interval': {'default': 0, 'actual': 10},\n",
       " 'fold_assignment': {'default': 'AUTO', 'actual': 'AUTO'},\n",
       " 'fold_column': {'default': None, 'actual': None},\n",
       " 'response_column': {'default': None,\n",
       "  'actual': {'__meta': {'schema_version': 3,\n",
       "    'schema_name': 'ColSpecifierV3',\n",
       "    'schema_type': 'VecSpecifier'},\n",
       "   'column_name': 'Survived',\n",
       "   'is_member_of_frames': None}},\n",
       " 'ignored_columns': {'default': None, 'actual': None},\n",
       " 'ignore_const_cols': {'default': True, 'actual': True},\n",
       " 'offset_column': {'default': None, 'actual': None},\n",
       " 'weights_column': {'default': None, 'actual': None},\n",
       " 'balance_classes': {'default': False, 'actual': False},\n",
       " 'class_sampling_factors': {'default': None, 'actual': None},\n",
       " 'max_after_balance_size': {'default': 5.0, 'actual': 5.0},\n",
       " 'max_confusion_matrix_size': {'default': 20, 'actual': 20},\n",
       " 'max_hit_ratio_k': {'default': 0, 'actual': 0},\n",
       " 'ntrees': {'default': 50, 'actual': 156},\n",
       " 'max_depth': {'default': 5, 'actual': 3},\n",
       " 'min_rows': {'default': 10.0, 'actual': 10.0},\n",
       " 'nbins': {'default': 20, 'actual': 20},\n",
       " 'nbins_top_level': {'default': 1024, 'actual': 1024},\n",
       " 'nbins_cats': {'default': 1024, 'actual': 1024},\n",
       " 'r2_stopping': {'default': 1.7976931348623157e+308,\n",
       "  'actual': 1.7976931348623157e+308},\n",
       " 'stopping_rounds': {'default': 0, 'actual': 0},\n",
       " 'stopping_metric': {'default': 'AUTO', 'actual': 'AUC'},\n",
       " 'stopping_tolerance': {'default': 0.001, 'actual': 0.0001},\n",
       " 'max_runtime_secs': {'default': 0.0, 'actual': 0.0},\n",
       " 'seed': {'default': -1, 'actual': 1234},\n",
       " 'build_tree_one_node': {'default': False, 'actual': False},\n",
       " 'learn_rate': {'default': 0.1, 'actual': 0.01},\n",
       " 'learn_rate_annealing': {'default': 1.0, 'actual': 1.0},\n",
       " 'distribution': {'default': 'AUTO', 'actual': 'bernoulli'},\n",
       " 'quantile_alpha': {'default': 0.5, 'actual': 0.5},\n",
       " 'tweedie_power': {'default': 1.5, 'actual': 1.5},\n",
       " 'huber_alpha': {'default': 0.9, 'actual': 0.9},\n",
       " 'checkpoint': {'default': None, 'actual': None},\n",
       " 'sample_rate': {'default': 1.0, 'actual': 0.8},\n",
       " 'sample_rate_per_class': {'default': None, 'actual': None},\n",
       " 'col_sample_rate': {'default': 1.0, 'actual': 0.8},\n",
       " 'col_sample_rate_change_per_level': {'default': 1.0, 'actual': 1.0},\n",
       " 'col_sample_rate_per_tree': {'default': 1.0, 'actual': 1.0},\n",
       " 'min_split_improvement': {'default': 1e-05, 'actual': 1e-05},\n",
       " 'histogram_type': {'default': 'AUTO', 'actual': 'AUTO'},\n",
       " 'max_abs_leafnode_pred': {'default': 1.7976931348623157e+308,\n",
       "  'actual': 1.7976931348623157e+308},\n",
       " 'pred_noise_bandwidth': {'default': 0.0, 'actual': 0.0},\n",
       " 'categorical_encoding': {'default': 'AUTO', 'actual': 'AUTO'},\n",
       " 'calibrate_model': {'default': False, 'actual': False},\n",
       " 'calibration_frame': {'default': None, 'actual': None},\n",
       " 'custom_metric_func': {'default': None, 'actual': None}}"
      ]
     },
     "execution_count": 101,
     "metadata": {},
     "output_type": "execute_result"
    }
   ],
   "source": [
    "model.params"
   ]
  },
  {
   "cell_type": "markdown",
   "metadata": {},
   "source": [
    "Predict the Target variable for the Test Set"
   ]
  },
  {
   "cell_type": "code",
   "execution_count": 102,
   "metadata": {},
   "outputs": [
    {
     "name": "stdout",
     "output_type": "stream",
     "text": [
      "gbm prediction progress: |████████████████████████████████████████████████| 100%\n"
     ]
    }
   ],
   "source": [
    "f=model.predict(test_data=data_test_h2o)"
   ]
  },
  {
   "cell_type": "markdown",
   "metadata": {},
   "source": [
    "Convert the H2O dataframe to pandas DataFrame"
   ]
  },
  {
   "cell_type": "code",
   "execution_count": 103,
   "metadata": {},
   "outputs": [],
   "source": [
    "f=f.as_data_frame()             ## Converting Predicted Results to Python Dataframe"
   ]
  },
  {
   "cell_type": "code",
   "execution_count": 104,
   "metadata": {},
   "outputs": [
    {
     "data": {
      "text/html": [
       "<div>\n",
       "<style scoped>\n",
       "    .dataframe tbody tr th:only-of-type {\n",
       "        vertical-align: middle;\n",
       "    }\n",
       "\n",
       "    .dataframe tbody tr th {\n",
       "        vertical-align: top;\n",
       "    }\n",
       "\n",
       "    .dataframe thead th {\n",
       "        text-align: right;\n",
       "    }\n",
       "</style>\n",
       "<table border=\"1\" class=\"dataframe\">\n",
       "  <thead>\n",
       "    <tr style=\"text-align: right;\">\n",
       "      <th></th>\n",
       "      <th>predict</th>\n",
       "      <th>p0</th>\n",
       "      <th>p1</th>\n",
       "    </tr>\n",
       "  </thead>\n",
       "  <tbody>\n",
       "    <tr>\n",
       "      <th>0</th>\n",
       "      <td>0</td>\n",
       "      <td>0.836634</td>\n",
       "      <td>0.163366</td>\n",
       "    </tr>\n",
       "    <tr>\n",
       "      <th>1</th>\n",
       "      <td>1</td>\n",
       "      <td>0.502156</td>\n",
       "      <td>0.497844</td>\n",
       "    </tr>\n",
       "    <tr>\n",
       "      <th>2</th>\n",
       "      <td>0</td>\n",
       "      <td>0.837965</td>\n",
       "      <td>0.162035</td>\n",
       "    </tr>\n",
       "    <tr>\n",
       "      <th>3</th>\n",
       "      <td>0</td>\n",
       "      <td>0.836115</td>\n",
       "      <td>0.163885</td>\n",
       "    </tr>\n",
       "    <tr>\n",
       "      <th>4</th>\n",
       "      <td>1</td>\n",
       "      <td>0.496331</td>\n",
       "      <td>0.503669</td>\n",
       "    </tr>\n",
       "    <tr>\n",
       "      <th>5</th>\n",
       "      <td>0</td>\n",
       "      <td>0.835195</td>\n",
       "      <td>0.164805</td>\n",
       "    </tr>\n",
       "    <tr>\n",
       "      <th>6</th>\n",
       "      <td>1</td>\n",
       "      <td>0.385544</td>\n",
       "      <td>0.614456</td>\n",
       "    </tr>\n",
       "    <tr>\n",
       "      <th>7</th>\n",
       "      <td>0</td>\n",
       "      <td>0.837597</td>\n",
       "      <td>0.162403</td>\n",
       "    </tr>\n",
       "    <tr>\n",
       "      <th>8</th>\n",
       "      <td>1</td>\n",
       "      <td>0.406725</td>\n",
       "      <td>0.593275</td>\n",
       "    </tr>\n",
       "    <tr>\n",
       "      <th>9</th>\n",
       "      <td>0</td>\n",
       "      <td>0.837597</td>\n",
       "      <td>0.162403</td>\n",
       "    </tr>\n",
       "    <tr>\n",
       "      <th>10</th>\n",
       "      <td>0</td>\n",
       "      <td>0.836115</td>\n",
       "      <td>0.163885</td>\n",
       "    </tr>\n",
       "    <tr>\n",
       "      <th>11</th>\n",
       "      <td>0</td>\n",
       "      <td>0.795429</td>\n",
       "      <td>0.204571</td>\n",
       "    </tr>\n",
       "    <tr>\n",
       "      <th>12</th>\n",
       "      <td>1</td>\n",
       "      <td>0.163522</td>\n",
       "      <td>0.836478</td>\n",
       "    </tr>\n",
       "    <tr>\n",
       "      <th>13</th>\n",
       "      <td>0</td>\n",
       "      <td>0.838247</td>\n",
       "      <td>0.161753</td>\n",
       "    </tr>\n",
       "    <tr>\n",
       "      <th>14</th>\n",
       "      <td>1</td>\n",
       "      <td>0.165674</td>\n",
       "      <td>0.834326</td>\n",
       "    </tr>\n",
       "    <tr>\n",
       "      <th>15</th>\n",
       "      <td>1</td>\n",
       "      <td>0.188323</td>\n",
       "      <td>0.811677</td>\n",
       "    </tr>\n",
       "    <tr>\n",
       "      <th>16</th>\n",
       "      <td>0</td>\n",
       "      <td>0.836634</td>\n",
       "      <td>0.163366</td>\n",
       "    </tr>\n",
       "    <tr>\n",
       "      <th>17</th>\n",
       "      <td>0</td>\n",
       "      <td>0.828055</td>\n",
       "      <td>0.171945</td>\n",
       "    </tr>\n",
       "    <tr>\n",
       "      <th>18</th>\n",
       "      <td>1</td>\n",
       "      <td>0.502156</td>\n",
       "      <td>0.497844</td>\n",
       "    </tr>\n",
       "    <tr>\n",
       "      <th>19</th>\n",
       "      <td>1</td>\n",
       "      <td>0.406725</td>\n",
       "      <td>0.593275</td>\n",
       "    </tr>\n",
       "    <tr>\n",
       "      <th>20</th>\n",
       "      <td>0</td>\n",
       "      <td>0.767449</td>\n",
       "      <td>0.232551</td>\n",
       "    </tr>\n",
       "    <tr>\n",
       "      <th>21</th>\n",
       "      <td>1</td>\n",
       "      <td>0.280561</td>\n",
       "      <td>0.719439</td>\n",
       "    </tr>\n",
       "    <tr>\n",
       "      <th>22</th>\n",
       "      <td>1</td>\n",
       "      <td>0.167455</td>\n",
       "      <td>0.832545</td>\n",
       "    </tr>\n",
       "    <tr>\n",
       "      <th>23</th>\n",
       "      <td>0</td>\n",
       "      <td>0.749219</td>\n",
       "      <td>0.250781</td>\n",
       "    </tr>\n",
       "    <tr>\n",
       "      <th>24</th>\n",
       "      <td>1</td>\n",
       "      <td>0.264775</td>\n",
       "      <td>0.735225</td>\n",
       "    </tr>\n",
       "    <tr>\n",
       "      <th>25</th>\n",
       "      <td>0</td>\n",
       "      <td>0.844981</td>\n",
       "      <td>0.155019</td>\n",
       "    </tr>\n",
       "    <tr>\n",
       "      <th>26</th>\n",
       "      <td>1</td>\n",
       "      <td>0.156251</td>\n",
       "      <td>0.843749</td>\n",
       "    </tr>\n",
       "    <tr>\n",
       "      <th>27</th>\n",
       "      <td>0</td>\n",
       "      <td>0.828055</td>\n",
       "      <td>0.171945</td>\n",
       "    </tr>\n",
       "    <tr>\n",
       "      <th>28</th>\n",
       "      <td>0</td>\n",
       "      <td>0.718615</td>\n",
       "      <td>0.281385</td>\n",
       "    </tr>\n",
       "    <tr>\n",
       "      <th>29</th>\n",
       "      <td>0</td>\n",
       "      <td>0.832208</td>\n",
       "      <td>0.167792</td>\n",
       "    </tr>\n",
       "    <tr>\n",
       "      <th>...</th>\n",
       "      <td>...</td>\n",
       "      <td>...</td>\n",
       "      <td>...</td>\n",
       "    </tr>\n",
       "    <tr>\n",
       "      <th>388</th>\n",
       "      <td>0</td>\n",
       "      <td>0.836634</td>\n",
       "      <td>0.163366</td>\n",
       "    </tr>\n",
       "    <tr>\n",
       "      <th>389</th>\n",
       "      <td>0</td>\n",
       "      <td>0.820512</td>\n",
       "      <td>0.179488</td>\n",
       "    </tr>\n",
       "    <tr>\n",
       "      <th>390</th>\n",
       "      <td>0</td>\n",
       "      <td>0.629596</td>\n",
       "      <td>0.370404</td>\n",
       "    </tr>\n",
       "    <tr>\n",
       "      <th>391</th>\n",
       "      <td>1</td>\n",
       "      <td>0.168113</td>\n",
       "      <td>0.831887</td>\n",
       "    </tr>\n",
       "    <tr>\n",
       "      <th>392</th>\n",
       "      <td>1</td>\n",
       "      <td>0.283769</td>\n",
       "      <td>0.716231</td>\n",
       "    </tr>\n",
       "    <tr>\n",
       "      <th>393</th>\n",
       "      <td>0</td>\n",
       "      <td>0.837450</td>\n",
       "      <td>0.162550</td>\n",
       "    </tr>\n",
       "    <tr>\n",
       "      <th>394</th>\n",
       "      <td>0</td>\n",
       "      <td>0.848031</td>\n",
       "      <td>0.151969</td>\n",
       "    </tr>\n",
       "    <tr>\n",
       "      <th>395</th>\n",
       "      <td>1</td>\n",
       "      <td>0.182593</td>\n",
       "      <td>0.817407</td>\n",
       "    </tr>\n",
       "    <tr>\n",
       "      <th>396</th>\n",
       "      <td>0</td>\n",
       "      <td>0.836634</td>\n",
       "      <td>0.163366</td>\n",
       "    </tr>\n",
       "    <tr>\n",
       "      <th>397</th>\n",
       "      <td>1</td>\n",
       "      <td>0.157252</td>\n",
       "      <td>0.842748</td>\n",
       "    </tr>\n",
       "    <tr>\n",
       "      <th>398</th>\n",
       "      <td>0</td>\n",
       "      <td>0.836115</td>\n",
       "      <td>0.163885</td>\n",
       "    </tr>\n",
       "    <tr>\n",
       "      <th>399</th>\n",
       "      <td>0</td>\n",
       "      <td>0.836634</td>\n",
       "      <td>0.163366</td>\n",
       "    </tr>\n",
       "    <tr>\n",
       "      <th>400</th>\n",
       "      <td>1</td>\n",
       "      <td>0.182593</td>\n",
       "      <td>0.817407</td>\n",
       "    </tr>\n",
       "    <tr>\n",
       "      <th>401</th>\n",
       "      <td>0</td>\n",
       "      <td>0.835717</td>\n",
       "      <td>0.164283</td>\n",
       "    </tr>\n",
       "    <tr>\n",
       "      <th>402</th>\n",
       "      <td>1</td>\n",
       "      <td>0.158453</td>\n",
       "      <td>0.841547</td>\n",
       "    </tr>\n",
       "    <tr>\n",
       "      <th>403</th>\n",
       "      <td>0</td>\n",
       "      <td>0.779842</td>\n",
       "      <td>0.220158</td>\n",
       "    </tr>\n",
       "    <tr>\n",
       "      <th>404</th>\n",
       "      <td>0</td>\n",
       "      <td>0.663727</td>\n",
       "      <td>0.336273</td>\n",
       "    </tr>\n",
       "    <tr>\n",
       "      <th>405</th>\n",
       "      <td>0</td>\n",
       "      <td>0.664346</td>\n",
       "      <td>0.335654</td>\n",
       "    </tr>\n",
       "    <tr>\n",
       "      <th>406</th>\n",
       "      <td>0</td>\n",
       "      <td>0.843697</td>\n",
       "      <td>0.156303</td>\n",
       "    </tr>\n",
       "    <tr>\n",
       "      <th>407</th>\n",
       "      <td>0</td>\n",
       "      <td>0.683587</td>\n",
       "      <td>0.316413</td>\n",
       "    </tr>\n",
       "    <tr>\n",
       "      <th>408</th>\n",
       "      <td>1</td>\n",
       "      <td>0.385544</td>\n",
       "      <td>0.614456</td>\n",
       "    </tr>\n",
       "    <tr>\n",
       "      <th>409</th>\n",
       "      <td>1</td>\n",
       "      <td>0.496331</td>\n",
       "      <td>0.503669</td>\n",
       "    </tr>\n",
       "    <tr>\n",
       "      <th>410</th>\n",
       "      <td>1</td>\n",
       "      <td>0.385544</td>\n",
       "      <td>0.614456</td>\n",
       "    </tr>\n",
       "    <tr>\n",
       "      <th>411</th>\n",
       "      <td>1</td>\n",
       "      <td>0.175274</td>\n",
       "      <td>0.824726</td>\n",
       "    </tr>\n",
       "    <tr>\n",
       "      <th>412</th>\n",
       "      <td>1</td>\n",
       "      <td>0.498948</td>\n",
       "      <td>0.501052</td>\n",
       "    </tr>\n",
       "    <tr>\n",
       "      <th>413</th>\n",
       "      <td>0</td>\n",
       "      <td>0.836115</td>\n",
       "      <td>0.163885</td>\n",
       "    </tr>\n",
       "    <tr>\n",
       "      <th>414</th>\n",
       "      <td>1</td>\n",
       "      <td>0.174651</td>\n",
       "      <td>0.825349</td>\n",
       "    </tr>\n",
       "    <tr>\n",
       "      <th>415</th>\n",
       "      <td>0</td>\n",
       "      <td>0.836115</td>\n",
       "      <td>0.163885</td>\n",
       "    </tr>\n",
       "    <tr>\n",
       "      <th>416</th>\n",
       "      <td>0</td>\n",
       "      <td>0.836115</td>\n",
       "      <td>0.163885</td>\n",
       "    </tr>\n",
       "    <tr>\n",
       "      <th>417</th>\n",
       "      <td>1</td>\n",
       "      <td>0.274587</td>\n",
       "      <td>0.725413</td>\n",
       "    </tr>\n",
       "  </tbody>\n",
       "</table>\n",
       "<p>418 rows × 3 columns</p>\n",
       "</div>"
      ],
      "text/plain": [
       "     predict        p0        p1\n",
       "0          0  0.836634  0.163366\n",
       "1          1  0.502156  0.497844\n",
       "2          0  0.837965  0.162035\n",
       "3          0  0.836115  0.163885\n",
       "4          1  0.496331  0.503669\n",
       "5          0  0.835195  0.164805\n",
       "6          1  0.385544  0.614456\n",
       "7          0  0.837597  0.162403\n",
       "8          1  0.406725  0.593275\n",
       "9          0  0.837597  0.162403\n",
       "10         0  0.836115  0.163885\n",
       "11         0  0.795429  0.204571\n",
       "12         1  0.163522  0.836478\n",
       "13         0  0.838247  0.161753\n",
       "14         1  0.165674  0.834326\n",
       "15         1  0.188323  0.811677\n",
       "16         0  0.836634  0.163366\n",
       "17         0  0.828055  0.171945\n",
       "18         1  0.502156  0.497844\n",
       "19         1  0.406725  0.593275\n",
       "20         0  0.767449  0.232551\n",
       "21         1  0.280561  0.719439\n",
       "22         1  0.167455  0.832545\n",
       "23         0  0.749219  0.250781\n",
       "24         1  0.264775  0.735225\n",
       "25         0  0.844981  0.155019\n",
       "26         1  0.156251  0.843749\n",
       "27         0  0.828055  0.171945\n",
       "28         0  0.718615  0.281385\n",
       "29         0  0.832208  0.167792\n",
       "..       ...       ...       ...\n",
       "388        0  0.836634  0.163366\n",
       "389        0  0.820512  0.179488\n",
       "390        0  0.629596  0.370404\n",
       "391        1  0.168113  0.831887\n",
       "392        1  0.283769  0.716231\n",
       "393        0  0.837450  0.162550\n",
       "394        0  0.848031  0.151969\n",
       "395        1  0.182593  0.817407\n",
       "396        0  0.836634  0.163366\n",
       "397        1  0.157252  0.842748\n",
       "398        0  0.836115  0.163885\n",
       "399        0  0.836634  0.163366\n",
       "400        1  0.182593  0.817407\n",
       "401        0  0.835717  0.164283\n",
       "402        1  0.158453  0.841547\n",
       "403        0  0.779842  0.220158\n",
       "404        0  0.663727  0.336273\n",
       "405        0  0.664346  0.335654\n",
       "406        0  0.843697  0.156303\n",
       "407        0  0.683587  0.316413\n",
       "408        1  0.385544  0.614456\n",
       "409        1  0.496331  0.503669\n",
       "410        1  0.385544  0.614456\n",
       "411        1  0.175274  0.824726\n",
       "412        1  0.498948  0.501052\n",
       "413        0  0.836115  0.163885\n",
       "414        1  0.174651  0.825349\n",
       "415        0  0.836115  0.163885\n",
       "416        0  0.836115  0.163885\n",
       "417        1  0.274587  0.725413\n",
       "\n",
       "[418 rows x 3 columns]"
      ]
     },
     "execution_count": 104,
     "metadata": {},
     "output_type": "execute_result"
    }
   ],
   "source": [
    "f"
   ]
  },
  {
   "cell_type": "code",
   "execution_count": 110,
   "metadata": {},
   "outputs": [
    {
     "name": "stdout",
     "output_type": "stream",
     "text": [
      "0.8907263605279135\n"
     ]
    }
   ],
   "source": [
    "print(model.auc(valid=True))"
   ]
  },
  {
   "cell_type": "code",
   "execution_count": 158,
   "metadata": {},
   "outputs": [
    {
     "name": "stdout",
     "output_type": "stream",
     "text": [
      "Confusion Matrix (Act/Pred) for max f1 @ threshold = 0.38740433889505127: \n"
     ]
    },
    {
     "data": {
      "text/html": [
       "<div style=\"overflow:auto\"><table style=\"width:50%\"><tr><td><b></b></td>\n",
       "<td><b>0</b></td>\n",
       "<td><b>1</b></td>\n",
       "<td><b>Error</b></td>\n",
       "<td><b>Rate</b></td></tr>\n",
       "<tr><td>0</td>\n",
       "<td>472.0</td>\n",
       "<td>77.0</td>\n",
       "<td>0.1403</td>\n",
       "<td> (77.0/549.0)</td></tr>\n",
       "<tr><td>1</td>\n",
       "<td>66.0</td>\n",
       "<td>276.0</td>\n",
       "<td>0.193</td>\n",
       "<td> (66.0/342.0)</td></tr>\n",
       "<tr><td>Total</td>\n",
       "<td>538.0</td>\n",
       "<td>353.0</td>\n",
       "<td>0.1605</td>\n",
       "<td> (143.0/891.0)</td></tr></table></div>"
      ],
      "text/plain": [
       "       0    1    Error    Rate\n",
       "-----  ---  ---  -------  -------------\n",
       "0      472  77   0.1403   (77.0/549.0)\n",
       "1      66   276  0.193    (66.0/342.0)\n",
       "Total  538  353  0.1605   (143.0/891.0)"
      ]
     },
     "metadata": {},
     "output_type": "display_data"
    },
    {
     "data": {
      "text/plain": []
     },
     "execution_count": 158,
     "metadata": {},
     "output_type": "execute_result"
    }
   ],
   "source": [
    "#h2o.confusionMatrix(model1, valid=FALSE) # get confusion matrix in the training data\n",
    "#h2o.confusionMatrix(model1, valid=TRUE)  # get confusion matrix in the validation data\n",
    "model.confusion_matrix(valid=True)"
   ]
  },
  {
   "cell_type": "markdown",
   "metadata": {},
   "source": [
    "# 2. Generalized Linear Model"
   ]
  },
  {
   "cell_type": "code",
   "execution_count": 111,
   "metadata": {},
   "outputs": [],
   "source": [
    "from h2o.estimators.glm import H2OGeneralizedLinearEstimator  "
   ]
  },
  {
   "cell_type": "code",
   "execution_count": 112,
   "metadata": {},
   "outputs": [],
   "source": [
    "model2 = H2OGeneralizedLinearEstimator(family=\"binomial\")    "
   ]
  },
  {
   "cell_type": "code",
   "execution_count": 114,
   "metadata": {},
   "outputs": [
    {
     "data": {
      "text/plain": [
       "h2o.estimators.glm.H2OGeneralizedLinearEstimator"
      ]
     },
     "execution_count": 114,
     "metadata": {},
     "output_type": "execute_result"
    }
   ],
   "source": [
    "model2.__class__  "
   ]
  },
  {
   "cell_type": "code",
   "execution_count": 116,
   "metadata": {},
   "outputs": [
    {
     "name": "stdout",
     "output_type": "stream",
     "text": [
      "glm Model Build progress: |███████████████████████████████████████████████| 100%\n"
     ]
    }
   ],
   "source": [
    "model2.train(x=data_train_h2o.names[1:],y=data_train_h2o.names[0], training_frame=data_train_h2o, model_id=\"GLM_Titanic\",\n",
    "            validation_frame=data_train_h2o) "
   ]
  },
  {
   "cell_type": "code",
   "execution_count": 118,
   "metadata": {
    "scrolled": false
   },
   "outputs": [
    {
     "name": "stdout",
     "output_type": "stream",
     "text": [
      "Model Details\n",
      "=============\n",
      "H2OGeneralizedLinearEstimator :  Generalized Linear Modeling\n",
      "Model Key:  GLM_Titanic\n",
      "\n",
      "\n",
      "ModelMetricsBinomialGLM: glm\n",
      "** Reported on train data. **\n",
      "\n",
      "MSE: 0.12437742273481843\n",
      "RMSE: 0.3526718343372751\n",
      "LogLoss: 0.3992281030734643\n",
      "Null degrees of freedom: 890\n",
      "Residual degrees of freedom: 867\n",
      "Null deviance: 1186.6551368246774\n",
      "Residual deviance: 711.4244796769134\n",
      "AIC: 759.4244796769134\n",
      "AUC: 0.8836401112069792\n",
      "Gini: 0.7672802224139583\n",
      "Confusion Matrix (Act/Pred) for max f1 @ threshold = 0.49400818422525067: \n"
     ]
    },
    {
     "data": {
      "text/html": [
       "<div style=\"overflow:auto\"><table style=\"width:50%\"><tr><td><b></b></td>\n",
       "<td><b>0</b></td>\n",
       "<td><b>1</b></td>\n",
       "<td><b>Error</b></td>\n",
       "<td><b>Rate</b></td></tr>\n",
       "<tr><td>0</td>\n",
       "<td>481.0</td>\n",
       "<td>68.0</td>\n",
       "<td>0.1239</td>\n",
       "<td> (68.0/549.0)</td></tr>\n",
       "<tr><td>1</td>\n",
       "<td>76.0</td>\n",
       "<td>266.0</td>\n",
       "<td>0.2222</td>\n",
       "<td> (76.0/342.0)</td></tr>\n",
       "<tr><td>Total</td>\n",
       "<td>557.0</td>\n",
       "<td>334.0</td>\n",
       "<td>0.1616</td>\n",
       "<td> (144.0/891.0)</td></tr></table></div>"
      ],
      "text/plain": [
       "       0    1    Error    Rate\n",
       "-----  ---  ---  -------  -------------\n",
       "0      481  68   0.1239   (68.0/549.0)\n",
       "1      76   266  0.2222   (76.0/342.0)\n",
       "Total  557  334  0.1616   (144.0/891.0)"
      ]
     },
     "metadata": {},
     "output_type": "display_data"
    },
    {
     "name": "stdout",
     "output_type": "stream",
     "text": [
      "Maximum Metrics: Maximum metrics at their respective thresholds\n",
      "\n"
     ]
    },
    {
     "data": {
      "text/html": [
       "<div style=\"overflow:auto\"><table style=\"width:50%\"><tr><td><b>metric</b></td>\n",
       "<td><b>threshold</b></td>\n",
       "<td><b>value</b></td>\n",
       "<td><b>idx</b></td></tr>\n",
       "<tr><td>max f1</td>\n",
       "<td>0.4940082</td>\n",
       "<td>0.7869822</td>\n",
       "<td>199.0</td></tr>\n",
       "<tr><td>max f2</td>\n",
       "<td>0.1558727</td>\n",
       "<td>0.8226152</td>\n",
       "<td>304.0</td></tr>\n",
       "<tr><td>max f0point5</td>\n",
       "<td>0.6212500</td>\n",
       "<td>0.8157525</td>\n",
       "<td>167.0</td></tr>\n",
       "<tr><td>max accuracy</td>\n",
       "<td>0.5746948</td>\n",
       "<td>0.8383838</td>\n",
       "<td>179.0</td></tr>\n",
       "<tr><td>max precision</td>\n",
       "<td>0.9895602</td>\n",
       "<td>1.0</td>\n",
       "<td>0.0</td></tr>\n",
       "<tr><td>max recall</td>\n",
       "<td>0.0443271</td>\n",
       "<td>1.0</td>\n",
       "<td>354.0</td></tr>\n",
       "<tr><td>max specificity</td>\n",
       "<td>0.9895602</td>\n",
       "<td>1.0</td>\n",
       "<td>0.0</td></tr>\n",
       "<tr><td>max absolute_mcc</td>\n",
       "<td>0.4940082</td>\n",
       "<td>0.6569321</td>\n",
       "<td>199.0</td></tr>\n",
       "<tr><td>max min_per_class_accuracy</td>\n",
       "<td>0.3756709</td>\n",
       "<td>0.8187135</td>\n",
       "<td>232.0</td></tr>\n",
       "<tr><td>max mean_per_class_accuracy</td>\n",
       "<td>0.4940082</td>\n",
       "<td>0.8269581</td>\n",
       "<td>199.0</td></tr></table></div>"
      ],
      "text/plain": [
       "metric                       threshold    value     idx\n",
       "---------------------------  -----------  --------  -----\n",
       "max f1                       0.494008     0.786982  199\n",
       "max f2                       0.155873     0.822615  304\n",
       "max f0point5                 0.62125      0.815752  167\n",
       "max accuracy                 0.574695     0.838384  179\n",
       "max precision                0.98956      1         0\n",
       "max recall                   0.0443271    1         354\n",
       "max specificity              0.98956      1         0\n",
       "max absolute_mcc             0.494008     0.656932  199\n",
       "max min_per_class_accuracy   0.375671     0.818713  232\n",
       "max mean_per_class_accuracy  0.494008     0.826958  199"
      ]
     },
     "metadata": {},
     "output_type": "display_data"
    },
    {
     "name": "stdout",
     "output_type": "stream",
     "text": [
      "Gains/Lift Table: Avg response rate: 38.38 %\n",
      "\n"
     ]
    },
    {
     "data": {
      "text/html": [
       "<div style=\"overflow:auto\"><table style=\"width:50%\"><tr><td><b></b></td>\n",
       "<td><b>group</b></td>\n",
       "<td><b>cumulative_data_fraction</b></td>\n",
       "<td><b>lower_threshold</b></td>\n",
       "<td><b>lift</b></td>\n",
       "<td><b>cumulative_lift</b></td>\n",
       "<td><b>response_rate</b></td>\n",
       "<td><b>cumulative_response_rate</b></td>\n",
       "<td><b>capture_rate</b></td>\n",
       "<td><b>cumulative_capture_rate</b></td>\n",
       "<td><b>gain</b></td>\n",
       "<td><b>cumulative_gain</b></td></tr>\n",
       "<tr><td></td>\n",
       "<td>1</td>\n",
       "<td>0.0101010</td>\n",
       "<td>0.9847172</td>\n",
       "<td>2.6052632</td>\n",
       "<td>2.6052632</td>\n",
       "<td>1.0</td>\n",
       "<td>1.0</td>\n",
       "<td>0.0263158</td>\n",
       "<td>0.0263158</td>\n",
       "<td>160.5263158</td>\n",
       "<td>160.5263158</td></tr>\n",
       "<tr><td></td>\n",
       "<td>2</td>\n",
       "<td>0.0202020</td>\n",
       "<td>0.9794906</td>\n",
       "<td>2.6052632</td>\n",
       "<td>2.6052632</td>\n",
       "<td>1.0</td>\n",
       "<td>1.0</td>\n",
       "<td>0.0263158</td>\n",
       "<td>0.0526316</td>\n",
       "<td>160.5263158</td>\n",
       "<td>160.5263158</td></tr>\n",
       "<tr><td></td>\n",
       "<td>3</td>\n",
       "<td>0.0303030</td>\n",
       "<td>0.9735044</td>\n",
       "<td>2.6052632</td>\n",
       "<td>2.6052632</td>\n",
       "<td>1.0</td>\n",
       "<td>1.0</td>\n",
       "<td>0.0263158</td>\n",
       "<td>0.0789474</td>\n",
       "<td>160.5263158</td>\n",
       "<td>160.5263158</td></tr>\n",
       "<tr><td></td>\n",
       "<td>4</td>\n",
       "<td>0.0404040</td>\n",
       "<td>0.9684082</td>\n",
       "<td>2.6052632</td>\n",
       "<td>2.6052632</td>\n",
       "<td>1.0</td>\n",
       "<td>1.0</td>\n",
       "<td>0.0263158</td>\n",
       "<td>0.1052632</td>\n",
       "<td>160.5263158</td>\n",
       "<td>160.5263158</td></tr>\n",
       "<tr><td></td>\n",
       "<td>5</td>\n",
       "<td>0.0527497</td>\n",
       "<td>0.9635492</td>\n",
       "<td>2.6052632</td>\n",
       "<td>2.6052632</td>\n",
       "<td>1.0</td>\n",
       "<td>1.0</td>\n",
       "<td>0.0321637</td>\n",
       "<td>0.1374269</td>\n",
       "<td>160.5263158</td>\n",
       "<td>160.5263158</td></tr>\n",
       "<tr><td></td>\n",
       "<td>6</td>\n",
       "<td>0.1010101</td>\n",
       "<td>0.9219875</td>\n",
       "<td>2.5446756</td>\n",
       "<td>2.5763158</td>\n",
       "<td>0.9767442</td>\n",
       "<td>0.9888889</td>\n",
       "<td>0.1228070</td>\n",
       "<td>0.2602339</td>\n",
       "<td>154.4675643</td>\n",
       "<td>157.6315789</td></tr>\n",
       "<tr><td></td>\n",
       "<td>7</td>\n",
       "<td>0.1503928</td>\n",
       "<td>0.8322863</td>\n",
       "<td>2.3092105</td>\n",
       "<td>2.4886096</td>\n",
       "<td>0.8863636</td>\n",
       "<td>0.9552239</td>\n",
       "<td>0.1140351</td>\n",
       "<td>0.3742690</td>\n",
       "<td>130.9210526</td>\n",
       "<td>148.8609584</td></tr>\n",
       "<tr><td></td>\n",
       "<td>8</td>\n",
       "<td>0.2031425</td>\n",
       "<td>0.7715467</td>\n",
       "<td>2.1618141</td>\n",
       "<td>2.4037511</td>\n",
       "<td>0.8297872</td>\n",
       "<td>0.9226519</td>\n",
       "<td>0.1140351</td>\n",
       "<td>0.4883041</td>\n",
       "<td>116.1814110</td>\n",
       "<td>140.3751090</td></tr>\n",
       "<tr><td></td>\n",
       "<td>9</td>\n",
       "<td>0.3019080</td>\n",
       "<td>0.6219820</td>\n",
       "<td>1.8947368</td>\n",
       "<td>2.2372334</td>\n",
       "<td>0.7272727</td>\n",
       "<td>0.8587361</td>\n",
       "<td>0.1871345</td>\n",
       "<td>0.6754386</td>\n",
       "<td>89.4736842</td>\n",
       "<td>123.7233418</td></tr>\n",
       "<tr><td></td>\n",
       "<td>10</td>\n",
       "<td>0.4006734</td>\n",
       "<td>0.4205115</td>\n",
       "<td>1.2138158</td>\n",
       "<td>1.9849624</td>\n",
       "<td>0.4659091</td>\n",
       "<td>0.7619048</td>\n",
       "<td>0.1198830</td>\n",
       "<td>0.7953216</td>\n",
       "<td>21.3815789</td>\n",
       "<td>98.4962406</td></tr>\n",
       "<tr><td></td>\n",
       "<td>11</td>\n",
       "<td>0.5072952</td>\n",
       "<td>0.2288548</td>\n",
       "<td>0.6033241</td>\n",
       "<td>1.6945738</td>\n",
       "<td>0.2315789</td>\n",
       "<td>0.6504425</td>\n",
       "<td>0.0643275</td>\n",
       "<td>0.8596491</td>\n",
       "<td>-39.6675900</td>\n",
       "<td>69.4573824</td></tr>\n",
       "<tr><td></td>\n",
       "<td>12</td>\n",
       "<td>0.6004489</td>\n",
       "<td>0.1321189</td>\n",
       "<td>0.4708307</td>\n",
       "<td>1.5047221</td>\n",
       "<td>0.1807229</td>\n",
       "<td>0.5775701</td>\n",
       "<td>0.0438596</td>\n",
       "<td>0.9035088</td>\n",
       "<td>-52.9169309</td>\n",
       "<td>50.4722086</td></tr>\n",
       "<tr><td></td>\n",
       "<td>13</td>\n",
       "<td>0.7003367</td>\n",
       "<td>0.1023880</td>\n",
       "<td>0.2634536</td>\n",
       "<td>1.3276822</td>\n",
       "<td>0.1011236</td>\n",
       "<td>0.5096154</td>\n",
       "<td>0.0263158</td>\n",
       "<td>0.9298246</td>\n",
       "<td>-73.6546422</td>\n",
       "<td>32.7682186</td></tr>\n",
       "<tr><td></td>\n",
       "<td>14</td>\n",
       "<td>0.8933782</td>\n",
       "<td>0.0727377</td>\n",
       "<td>0.2877907</td>\n",
       "<td>1.1029820</td>\n",
       "<td>0.1104651</td>\n",
       "<td>0.4233668</td>\n",
       "<td>0.0555556</td>\n",
       "<td>0.9853801</td>\n",
       "<td>-71.2209302</td>\n",
       "<td>10.2982015</td></tr>\n",
       "<tr><td></td>\n",
       "<td>15</td>\n",
       "<td>0.9012346</td>\n",
       "<td>0.0675869</td>\n",
       "<td>0.0</td>\n",
       "<td>1.0933670</td>\n",
       "<td>0.0</td>\n",
       "<td>0.4196762</td>\n",
       "<td>0.0</td>\n",
       "<td>0.9853801</td>\n",
       "<td>-100.0</td>\n",
       "<td>9.3366979</td></tr>\n",
       "<tr><td></td>\n",
       "<td>16</td>\n",
       "<td>1.0</td>\n",
       "<td>0.0011492</td>\n",
       "<td>0.1480263</td>\n",
       "<td>1.0</td>\n",
       "<td>0.0568182</td>\n",
       "<td>0.3838384</td>\n",
       "<td>0.0146199</td>\n",
       "<td>1.0</td>\n",
       "<td>-85.1973684</td>\n",
       "<td>0.0</td></tr></table></div>"
      ],
      "text/plain": [
       "    group    cumulative_data_fraction    lower_threshold    lift      cumulative_lift    response_rate    cumulative_response_rate    capture_rate    cumulative_capture_rate    gain      cumulative_gain\n",
       "--  -------  --------------------------  -----------------  --------  -----------------  ---------------  --------------------------  --------------  -------------------------  --------  -----------------\n",
       "    1        0.010101                    0.984717           2.60526   2.60526            1                1                           0.0263158       0.0263158                  160.526   160.526\n",
       "    2        0.020202                    0.979491           2.60526   2.60526            1                1                           0.0263158       0.0526316                  160.526   160.526\n",
       "    3        0.030303                    0.973504           2.60526   2.60526            1                1                           0.0263158       0.0789474                  160.526   160.526\n",
       "    4        0.040404                    0.968408           2.60526   2.60526            1                1                           0.0263158       0.105263                   160.526   160.526\n",
       "    5        0.0527497                   0.963549           2.60526   2.60526            1                1                           0.0321637       0.137427                   160.526   160.526\n",
       "    6        0.10101                     0.921988           2.54468   2.57632            0.976744         0.988889                    0.122807        0.260234                   154.468   157.632\n",
       "    7        0.150393                    0.832286           2.30921   2.48861            0.886364         0.955224                    0.114035        0.374269                   130.921   148.861\n",
       "    8        0.203143                    0.771547           2.16181   2.40375            0.829787         0.922652                    0.114035        0.488304                   116.181   140.375\n",
       "    9        0.301908                    0.621982           1.89474   2.23723            0.727273         0.858736                    0.187135        0.675439                   89.4737   123.723\n",
       "    10       0.400673                    0.420511           1.21382   1.98496            0.465909         0.761905                    0.119883        0.795322                   21.3816   98.4962\n",
       "    11       0.507295                    0.228855           0.603324  1.69457            0.231579         0.650442                    0.0643275       0.859649                   -39.6676  69.4574\n",
       "    12       0.600449                    0.132119           0.470831  1.50472            0.180723         0.57757                     0.0438596       0.903509                   -52.9169  50.4722\n",
       "    13       0.700337                    0.102388           0.263454  1.32768            0.101124         0.509615                    0.0263158       0.929825                   -73.6546  32.7682\n",
       "    14       0.893378                    0.0727377          0.287791  1.10298            0.110465         0.423367                    0.0555556       0.98538                    -71.2209  10.2982\n",
       "    15       0.901235                    0.0675869          0         1.09337            0                0.419676                    0               0.98538                    -100      9.3367\n",
       "    16       1                           0.00114922         0.148026  1                  0.0568182        0.383838                    0.0146199       1                          -85.1974  0"
      ]
     },
     "metadata": {},
     "output_type": "display_data"
    },
    {
     "name": "stdout",
     "output_type": "stream",
     "text": [
      "\n",
      "\n",
      "ModelMetricsBinomialGLM: glm\n",
      "** Reported on validation data. **\n",
      "\n",
      "MSE: 0.12437742273481843\n",
      "RMSE: 0.3526718343372751\n",
      "LogLoss: 0.3992281030734643\n",
      "Null degrees of freedom: 890\n",
      "Residual degrees of freedom: 867\n",
      "Null deviance: 1186.6551368246774\n",
      "Residual deviance: 711.4244796769134\n",
      "AIC: 759.4244796769134\n",
      "AUC: 0.8836401112069792\n",
      "Gini: 0.7672802224139583\n",
      "Confusion Matrix (Act/Pred) for max f1 @ threshold = 0.49400818422525067: \n"
     ]
    },
    {
     "data": {
      "text/html": [
       "<div style=\"overflow:auto\"><table style=\"width:50%\"><tr><td><b></b></td>\n",
       "<td><b>0</b></td>\n",
       "<td><b>1</b></td>\n",
       "<td><b>Error</b></td>\n",
       "<td><b>Rate</b></td></tr>\n",
       "<tr><td>0</td>\n",
       "<td>481.0</td>\n",
       "<td>68.0</td>\n",
       "<td>0.1239</td>\n",
       "<td> (68.0/549.0)</td></tr>\n",
       "<tr><td>1</td>\n",
       "<td>76.0</td>\n",
       "<td>266.0</td>\n",
       "<td>0.2222</td>\n",
       "<td> (76.0/342.0)</td></tr>\n",
       "<tr><td>Total</td>\n",
       "<td>557.0</td>\n",
       "<td>334.0</td>\n",
       "<td>0.1616</td>\n",
       "<td> (144.0/891.0)</td></tr></table></div>"
      ],
      "text/plain": [
       "       0    1    Error    Rate\n",
       "-----  ---  ---  -------  -------------\n",
       "0      481  68   0.1239   (68.0/549.0)\n",
       "1      76   266  0.2222   (76.0/342.0)\n",
       "Total  557  334  0.1616   (144.0/891.0)"
      ]
     },
     "metadata": {},
     "output_type": "display_data"
    },
    {
     "name": "stdout",
     "output_type": "stream",
     "text": [
      "Maximum Metrics: Maximum metrics at their respective thresholds\n",
      "\n"
     ]
    },
    {
     "data": {
      "text/html": [
       "<div style=\"overflow:auto\"><table style=\"width:50%\"><tr><td><b>metric</b></td>\n",
       "<td><b>threshold</b></td>\n",
       "<td><b>value</b></td>\n",
       "<td><b>idx</b></td></tr>\n",
       "<tr><td>max f1</td>\n",
       "<td>0.4940082</td>\n",
       "<td>0.7869822</td>\n",
       "<td>199.0</td></tr>\n",
       "<tr><td>max f2</td>\n",
       "<td>0.1558727</td>\n",
       "<td>0.8226152</td>\n",
       "<td>304.0</td></tr>\n",
       "<tr><td>max f0point5</td>\n",
       "<td>0.6212500</td>\n",
       "<td>0.8157525</td>\n",
       "<td>167.0</td></tr>\n",
       "<tr><td>max accuracy</td>\n",
       "<td>0.5746948</td>\n",
       "<td>0.8383838</td>\n",
       "<td>179.0</td></tr>\n",
       "<tr><td>max precision</td>\n",
       "<td>0.9895602</td>\n",
       "<td>1.0</td>\n",
       "<td>0.0</td></tr>\n",
       "<tr><td>max recall</td>\n",
       "<td>0.0443271</td>\n",
       "<td>1.0</td>\n",
       "<td>354.0</td></tr>\n",
       "<tr><td>max specificity</td>\n",
       "<td>0.9895602</td>\n",
       "<td>1.0</td>\n",
       "<td>0.0</td></tr>\n",
       "<tr><td>max absolute_mcc</td>\n",
       "<td>0.4940082</td>\n",
       "<td>0.6569321</td>\n",
       "<td>199.0</td></tr>\n",
       "<tr><td>max min_per_class_accuracy</td>\n",
       "<td>0.3756709</td>\n",
       "<td>0.8187135</td>\n",
       "<td>232.0</td></tr>\n",
       "<tr><td>max mean_per_class_accuracy</td>\n",
       "<td>0.4940082</td>\n",
       "<td>0.8269581</td>\n",
       "<td>199.0</td></tr></table></div>"
      ],
      "text/plain": [
       "metric                       threshold    value     idx\n",
       "---------------------------  -----------  --------  -----\n",
       "max f1                       0.494008     0.786982  199\n",
       "max f2                       0.155873     0.822615  304\n",
       "max f0point5                 0.62125      0.815752  167\n",
       "max accuracy                 0.574695     0.838384  179\n",
       "max precision                0.98956      1         0\n",
       "max recall                   0.0443271    1         354\n",
       "max specificity              0.98956      1         0\n",
       "max absolute_mcc             0.494008     0.656932  199\n",
       "max min_per_class_accuracy   0.375671     0.818713  232\n",
       "max mean_per_class_accuracy  0.494008     0.826958  199"
      ]
     },
     "metadata": {},
     "output_type": "display_data"
    },
    {
     "name": "stdout",
     "output_type": "stream",
     "text": [
      "Gains/Lift Table: Avg response rate: 38.38 %\n",
      "\n"
     ]
    },
    {
     "data": {
      "text/html": [
       "<div style=\"overflow:auto\"><table style=\"width:50%\"><tr><td><b></b></td>\n",
       "<td><b>group</b></td>\n",
       "<td><b>cumulative_data_fraction</b></td>\n",
       "<td><b>lower_threshold</b></td>\n",
       "<td><b>lift</b></td>\n",
       "<td><b>cumulative_lift</b></td>\n",
       "<td><b>response_rate</b></td>\n",
       "<td><b>cumulative_response_rate</b></td>\n",
       "<td><b>capture_rate</b></td>\n",
       "<td><b>cumulative_capture_rate</b></td>\n",
       "<td><b>gain</b></td>\n",
       "<td><b>cumulative_gain</b></td></tr>\n",
       "<tr><td></td>\n",
       "<td>1</td>\n",
       "<td>0.0101010</td>\n",
       "<td>0.9847172</td>\n",
       "<td>2.6052632</td>\n",
       "<td>2.6052632</td>\n",
       "<td>1.0</td>\n",
       "<td>1.0</td>\n",
       "<td>0.0263158</td>\n",
       "<td>0.0263158</td>\n",
       "<td>160.5263158</td>\n",
       "<td>160.5263158</td></tr>\n",
       "<tr><td></td>\n",
       "<td>2</td>\n",
       "<td>0.0202020</td>\n",
       "<td>0.9794906</td>\n",
       "<td>2.6052632</td>\n",
       "<td>2.6052632</td>\n",
       "<td>1.0</td>\n",
       "<td>1.0</td>\n",
       "<td>0.0263158</td>\n",
       "<td>0.0526316</td>\n",
       "<td>160.5263158</td>\n",
       "<td>160.5263158</td></tr>\n",
       "<tr><td></td>\n",
       "<td>3</td>\n",
       "<td>0.0303030</td>\n",
       "<td>0.9735044</td>\n",
       "<td>2.6052632</td>\n",
       "<td>2.6052632</td>\n",
       "<td>1.0</td>\n",
       "<td>1.0</td>\n",
       "<td>0.0263158</td>\n",
       "<td>0.0789474</td>\n",
       "<td>160.5263158</td>\n",
       "<td>160.5263158</td></tr>\n",
       "<tr><td></td>\n",
       "<td>4</td>\n",
       "<td>0.0404040</td>\n",
       "<td>0.9684082</td>\n",
       "<td>2.6052632</td>\n",
       "<td>2.6052632</td>\n",
       "<td>1.0</td>\n",
       "<td>1.0</td>\n",
       "<td>0.0263158</td>\n",
       "<td>0.1052632</td>\n",
       "<td>160.5263158</td>\n",
       "<td>160.5263158</td></tr>\n",
       "<tr><td></td>\n",
       "<td>5</td>\n",
       "<td>0.0527497</td>\n",
       "<td>0.9635492</td>\n",
       "<td>2.6052632</td>\n",
       "<td>2.6052632</td>\n",
       "<td>1.0</td>\n",
       "<td>1.0</td>\n",
       "<td>0.0321637</td>\n",
       "<td>0.1374269</td>\n",
       "<td>160.5263158</td>\n",
       "<td>160.5263158</td></tr>\n",
       "<tr><td></td>\n",
       "<td>6</td>\n",
       "<td>0.1010101</td>\n",
       "<td>0.9219875</td>\n",
       "<td>2.5446756</td>\n",
       "<td>2.5763158</td>\n",
       "<td>0.9767442</td>\n",
       "<td>0.9888889</td>\n",
       "<td>0.1228070</td>\n",
       "<td>0.2602339</td>\n",
       "<td>154.4675643</td>\n",
       "<td>157.6315789</td></tr>\n",
       "<tr><td></td>\n",
       "<td>7</td>\n",
       "<td>0.1503928</td>\n",
       "<td>0.8322863</td>\n",
       "<td>2.3092105</td>\n",
       "<td>2.4886096</td>\n",
       "<td>0.8863636</td>\n",
       "<td>0.9552239</td>\n",
       "<td>0.1140351</td>\n",
       "<td>0.3742690</td>\n",
       "<td>130.9210526</td>\n",
       "<td>148.8609584</td></tr>\n",
       "<tr><td></td>\n",
       "<td>8</td>\n",
       "<td>0.2031425</td>\n",
       "<td>0.7715467</td>\n",
       "<td>2.1618141</td>\n",
       "<td>2.4037511</td>\n",
       "<td>0.8297872</td>\n",
       "<td>0.9226519</td>\n",
       "<td>0.1140351</td>\n",
       "<td>0.4883041</td>\n",
       "<td>116.1814110</td>\n",
       "<td>140.3751090</td></tr>\n",
       "<tr><td></td>\n",
       "<td>9</td>\n",
       "<td>0.3019080</td>\n",
       "<td>0.6219820</td>\n",
       "<td>1.8947368</td>\n",
       "<td>2.2372334</td>\n",
       "<td>0.7272727</td>\n",
       "<td>0.8587361</td>\n",
       "<td>0.1871345</td>\n",
       "<td>0.6754386</td>\n",
       "<td>89.4736842</td>\n",
       "<td>123.7233418</td></tr>\n",
       "<tr><td></td>\n",
       "<td>10</td>\n",
       "<td>0.4006734</td>\n",
       "<td>0.4205115</td>\n",
       "<td>1.2138158</td>\n",
       "<td>1.9849624</td>\n",
       "<td>0.4659091</td>\n",
       "<td>0.7619048</td>\n",
       "<td>0.1198830</td>\n",
       "<td>0.7953216</td>\n",
       "<td>21.3815789</td>\n",
       "<td>98.4962406</td></tr>\n",
       "<tr><td></td>\n",
       "<td>11</td>\n",
       "<td>0.5072952</td>\n",
       "<td>0.2288548</td>\n",
       "<td>0.6033241</td>\n",
       "<td>1.6945738</td>\n",
       "<td>0.2315789</td>\n",
       "<td>0.6504425</td>\n",
       "<td>0.0643275</td>\n",
       "<td>0.8596491</td>\n",
       "<td>-39.6675900</td>\n",
       "<td>69.4573824</td></tr>\n",
       "<tr><td></td>\n",
       "<td>12</td>\n",
       "<td>0.6004489</td>\n",
       "<td>0.1321189</td>\n",
       "<td>0.4708307</td>\n",
       "<td>1.5047221</td>\n",
       "<td>0.1807229</td>\n",
       "<td>0.5775701</td>\n",
       "<td>0.0438596</td>\n",
       "<td>0.9035088</td>\n",
       "<td>-52.9169309</td>\n",
       "<td>50.4722086</td></tr>\n",
       "<tr><td></td>\n",
       "<td>13</td>\n",
       "<td>0.7003367</td>\n",
       "<td>0.1023880</td>\n",
       "<td>0.2634536</td>\n",
       "<td>1.3276822</td>\n",
       "<td>0.1011236</td>\n",
       "<td>0.5096154</td>\n",
       "<td>0.0263158</td>\n",
       "<td>0.9298246</td>\n",
       "<td>-73.6546422</td>\n",
       "<td>32.7682186</td></tr>\n",
       "<tr><td></td>\n",
       "<td>14</td>\n",
       "<td>0.8933782</td>\n",
       "<td>0.0727377</td>\n",
       "<td>0.2877907</td>\n",
       "<td>1.1029820</td>\n",
       "<td>0.1104651</td>\n",
       "<td>0.4233668</td>\n",
       "<td>0.0555556</td>\n",
       "<td>0.9853801</td>\n",
       "<td>-71.2209302</td>\n",
       "<td>10.2982015</td></tr>\n",
       "<tr><td></td>\n",
       "<td>15</td>\n",
       "<td>0.9012346</td>\n",
       "<td>0.0675869</td>\n",
       "<td>0.0</td>\n",
       "<td>1.0933670</td>\n",
       "<td>0.0</td>\n",
       "<td>0.4196762</td>\n",
       "<td>0.0</td>\n",
       "<td>0.9853801</td>\n",
       "<td>-100.0</td>\n",
       "<td>9.3366979</td></tr>\n",
       "<tr><td></td>\n",
       "<td>16</td>\n",
       "<td>1.0</td>\n",
       "<td>0.0011492</td>\n",
       "<td>0.1480263</td>\n",
       "<td>1.0</td>\n",
       "<td>0.0568182</td>\n",
       "<td>0.3838384</td>\n",
       "<td>0.0146199</td>\n",
       "<td>1.0</td>\n",
       "<td>-85.1973684</td>\n",
       "<td>0.0</td></tr></table></div>"
      ],
      "text/plain": [
       "    group    cumulative_data_fraction    lower_threshold    lift      cumulative_lift    response_rate    cumulative_response_rate    capture_rate    cumulative_capture_rate    gain      cumulative_gain\n",
       "--  -------  --------------------------  -----------------  --------  -----------------  ---------------  --------------------------  --------------  -------------------------  --------  -----------------\n",
       "    1        0.010101                    0.984717           2.60526   2.60526            1                1                           0.0263158       0.0263158                  160.526   160.526\n",
       "    2        0.020202                    0.979491           2.60526   2.60526            1                1                           0.0263158       0.0526316                  160.526   160.526\n",
       "    3        0.030303                    0.973504           2.60526   2.60526            1                1                           0.0263158       0.0789474                  160.526   160.526\n",
       "    4        0.040404                    0.968408           2.60526   2.60526            1                1                           0.0263158       0.105263                   160.526   160.526\n",
       "    5        0.0527497                   0.963549           2.60526   2.60526            1                1                           0.0321637       0.137427                   160.526   160.526\n",
       "    6        0.10101                     0.921988           2.54468   2.57632            0.976744         0.988889                    0.122807        0.260234                   154.468   157.632\n",
       "    7        0.150393                    0.832286           2.30921   2.48861            0.886364         0.955224                    0.114035        0.374269                   130.921   148.861\n",
       "    8        0.203143                    0.771547           2.16181   2.40375            0.829787         0.922652                    0.114035        0.488304                   116.181   140.375\n",
       "    9        0.301908                    0.621982           1.89474   2.23723            0.727273         0.858736                    0.187135        0.675439                   89.4737   123.723\n",
       "    10       0.400673                    0.420511           1.21382   1.98496            0.465909         0.761905                    0.119883        0.795322                   21.3816   98.4962\n",
       "    11       0.507295                    0.228855           0.603324  1.69457            0.231579         0.650442                    0.0643275       0.859649                   -39.6676  69.4574\n",
       "    12       0.600449                    0.132119           0.470831  1.50472            0.180723         0.57757                     0.0438596       0.903509                   -52.9169  50.4722\n",
       "    13       0.700337                    0.102388           0.263454  1.32768            0.101124         0.509615                    0.0263158       0.929825                   -73.6546  32.7682\n",
       "    14       0.893378                    0.0727377          0.287791  1.10298            0.110465         0.423367                    0.0555556       0.98538                    -71.2209  10.2982\n",
       "    15       0.901235                    0.0675869          0         1.09337            0                0.419676                    0               0.98538                    -100      9.3367\n",
       "    16       1                           0.00114922         0.148026  1                  0.0568182        0.383838                    0.0146199       1                          -85.1974  0"
      ]
     },
     "metadata": {},
     "output_type": "display_data"
    },
    {
     "name": "stdout",
     "output_type": "stream",
     "text": [
      "\n",
      "Scoring History: \n"
     ]
    },
    {
     "data": {
      "text/html": [
       "<div style=\"overflow:auto\"><table style=\"width:50%\"><tr><td><b></b></td>\n",
       "<td><b>timestamp</b></td>\n",
       "<td><b>duration</b></td>\n",
       "<td><b>iterations</b></td>\n",
       "<td><b>negative_log_likelihood</b></td>\n",
       "<td><b>objective</b></td></tr>\n",
       "<tr><td></td>\n",
       "<td>2018-11-01 12:26:42</td>\n",
       "<td> 0.000 sec</td>\n",
       "<td>0</td>\n",
       "<td>593.3275684</td>\n",
       "<td>0.6659120</td></tr>\n",
       "<tr><td></td>\n",
       "<td>2018-11-01 12:26:42</td>\n",
       "<td> 0.037 sec</td>\n",
       "<td>1</td>\n",
       "<td>374.8335663</td>\n",
       "<td>0.4217837</td></tr>\n",
       "<tr><td></td>\n",
       "<td>2018-11-01 12:26:42</td>\n",
       "<td> 0.043 sec</td>\n",
       "<td>2</td>\n",
       "<td>357.1795548</td>\n",
       "<td>0.4025281</td></tr>\n",
       "<tr><td></td>\n",
       "<td>2018-11-01 12:26:42</td>\n",
       "<td> 0.050 sec</td>\n",
       "<td>3</td>\n",
       "<td>355.8048952</td>\n",
       "<td>0.4012086</td></tr>\n",
       "<tr><td></td>\n",
       "<td>2018-11-01 12:26:42</td>\n",
       "<td> 0.054 sec</td>\n",
       "<td>4</td>\n",
       "<td>355.7285753</td>\n",
       "<td>0.4011624</td></tr>\n",
       "<tr><td></td>\n",
       "<td>2018-11-01 12:26:42</td>\n",
       "<td> 0.059 sec</td>\n",
       "<td>5</td>\n",
       "<td>355.7122398</td>\n",
       "<td>0.4011561</td></tr></table></div>"
      ],
      "text/plain": [
       "    timestamp            duration    iterations    negative_log_likelihood    objective\n",
       "--  -------------------  ----------  ------------  -------------------------  -----------\n",
       "    2018-11-01 12:26:42  0.000 sec   0             593.328                    0.665912\n",
       "    2018-11-01 12:26:42  0.037 sec   1             374.834                    0.421784\n",
       "    2018-11-01 12:26:42  0.043 sec   2             357.18                     0.402528\n",
       "    2018-11-01 12:26:42  0.050 sec   3             355.805                    0.401209\n",
       "    2018-11-01 12:26:42  0.054 sec   4             355.729                    0.401162\n",
       "    2018-11-01 12:26:42  0.059 sec   5             355.712                    0.401156"
      ]
     },
     "metadata": {},
     "output_type": "display_data"
    },
    {
     "data": {
      "text/plain": []
     },
     "execution_count": 118,
     "metadata": {},
     "output_type": "execute_result"
    }
   ],
   "source": [
    "model2"
   ]
  },
  {
   "cell_type": "code",
   "execution_count": 136,
   "metadata": {},
   "outputs": [
    {
     "data": {
      "text/plain": [
       "{'Intercept': 2.060920779418769,\n",
       " 'Pclass': -0.6179416106808207,\n",
       " 'Age': -0.5254419563793413,\n",
       " 'Fare': 0.18720436921415784,\n",
       " 'Sex_female': 1.448811251299317,\n",
       " 'Sex_male': -1.4488112512925295,\n",
       " 'Cabin_A': 0.0,\n",
       " 'Cabin_B': 0.29215386878629807,\n",
       " 'Cabin_C': -0.195780514383781,\n",
       " 'Cabin_D': 0.8068903775076189,\n",
       " 'Cabin_E': 1.167470846828887,\n",
       " 'Cabin_F': 0.6070525133028086,\n",
       " 'Cabin_G': -0.704331506404012,\n",
       " 'Cabin_n': -0.2967056218737683,\n",
       " 'Embarked_C': 0.13859095375254107,\n",
       " 'Embarked_Q': 0.0,\n",
       " 'Embarked_S': -0.28861570439512585,\n",
       " 'Title_Army': 0.5475837975991835,\n",
       " 'Title_Dr': 0.25574341176232224,\n",
       " 'Title_Master': 3.301110515702709,\n",
       " 'Title_Miss': -0.05679956602690111,\n",
       " 'Title_Mr': -0.19289843295126843,\n",
       " 'Title_Mrs': 0.7208298259405349,\n",
       " 'Title_Noble': 0.10790562974897494,\n",
       " 'Title_Rev': -3.4041954956476923,\n",
       " 'Family': -0.5158168071354766}"
      ]
     },
     "execution_count": 136,
     "metadata": {},
     "output_type": "execute_result"
    }
   ],
   "source": [
    "model2.coef()                      \n",
    "# print the GLM coefficients, can also perform my_model.coef_norm() to get the normalized coefficients"
   ]
  },
  {
   "cell_type": "code",
   "execution_count": 137,
   "metadata": {},
   "outputs": [
    {
     "data": {
      "text/plain": [
       "1186.6551368246774"
      ]
     },
     "execution_count": 137,
     "metadata": {},
     "output_type": "execute_result"
    }
   ],
   "source": [
    "model2.null_deviance()                # get the null deviance from the training set metrics"
   ]
  },
  {
   "cell_type": "code",
   "execution_count": 138,
   "metadata": {},
   "outputs": [
    {
     "data": {
      "text/plain": [
       "711.4244796769134"
      ]
     },
     "execution_count": 138,
     "metadata": {},
     "output_type": "execute_result"
    }
   ],
   "source": [
    "model2.residual_deviance()            # get the residual deviance from the training set metrics"
   ]
  },
  {
   "cell_type": "code",
   "execution_count": 147,
   "metadata": {},
   "outputs": [
    {
     "data": {
      "text/plain": [
       "1186.6551368246774"
      ]
     },
     "execution_count": 147,
     "metadata": {},
     "output_type": "execute_result"
    }
   ],
   "source": [
    "model2.null_deviance(valid=True)      # get the null deviance from the validation set metrics (similar for residual deviance)"
   ]
  },
  {
   "cell_type": "code",
   "execution_count": 148,
   "metadata": {},
   "outputs": [],
   "source": [
    "# now generate a new metrics object for the test hold-out data:"
   ]
  },
  {
   "cell_type": "code",
   "execution_count": 152,
   "metadata": {},
   "outputs": [
    {
     "name": "stdout",
     "output_type": "stream",
     "text": [
      "WARNING: Model metrics cannot be calculated and metric_json is empty due to the absence of the response column in your dataset.\n"
     ]
    }
   ],
   "source": [
    "my_metrics = model2.model_performance(test_data=data_test_h2o) # create the new test set metrics"
   ]
  },
  {
   "cell_type": "code",
   "execution_count": 153,
   "metadata": {},
   "outputs": [],
   "source": [
    "#my_metrics.null_degrees_of_freedom()    # returns the test null dof"
   ]
  },
  {
   "cell_type": "code",
   "execution_count": 154,
   "metadata": {},
   "outputs": [],
   "source": [
    "#my_metrics.residual_deviance()          # returns the test res. deviance"
   ]
  },
  {
   "cell_type": "code",
   "execution_count": 155,
   "metadata": {},
   "outputs": [],
   "source": [
    "#my_metrics.aic()                        # returns the test aic"
   ]
  },
  {
   "cell_type": "markdown",
   "metadata": {},
   "source": [
    "# 3. Deep Learning"
   ]
  },
  {
   "cell_type": "code",
   "execution_count": 119,
   "metadata": {},
   "outputs": [],
   "source": [
    "from h2o.estimators.deeplearning import H2ODeepLearningEstimator"
   ]
  },
  {
   "cell_type": "code",
   "execution_count": 120,
   "metadata": {},
   "outputs": [],
   "source": [
    "model3 = H2ODeepLearningEstimator() "
   ]
  },
  {
   "cell_type": "code",
   "execution_count": 121,
   "metadata": {},
   "outputs": [
    {
     "name": "stdout",
     "output_type": "stream",
     "text": [
      "deeplearning Model Build progress: |██████████████████████████████████████| 100%\n"
     ]
    }
   ],
   "source": [
    "model3.train(x=data_train_h2o.names[1:],y=data_train_h2o.names[0], training_frame=data_train_h2o, model_id=\"DL_Titanic\",\n",
    "            validation_frame=data_train_h2o)  # pass a validation frame in addition to the training frame"
   ]
  },
  {
   "cell_type": "code",
   "execution_count": 122,
   "metadata": {},
   "outputs": [
    {
     "name": "stdout",
     "output_type": "stream",
     "text": [
      "Model Details\n",
      "=============\n",
      "H2ODeepLearningEstimator :  Deep Learning\n",
      "Model Key:  DL_Titanic\n",
      "\n",
      "\n",
      "ModelMetricsBinomial: deeplearning\n",
      "** Reported on train data. **\n",
      "\n",
      "MSE: 0.13435466803237936\n",
      "RMSE: 0.36654422384260726\n",
      "LogLoss: 0.4432826410111279\n",
      "Mean Per-Class Error: 0.16175342728405706\n",
      "AUC: 0.8980096720246274\n",
      "Gini: 0.7960193440492549\n",
      "Confusion Matrix (Act/Pred) for max f1 @ threshold = 0.7831692715010209: \n"
     ]
    },
    {
     "data": {
      "text/html": [
       "<div style=\"overflow:auto\"><table style=\"width:50%\"><tr><td><b></b></td>\n",
       "<td><b>0</b></td>\n",
       "<td><b>1</b></td>\n",
       "<td><b>Error</b></td>\n",
       "<td><b>Rate</b></td></tr>\n",
       "<tr><td>0</td>\n",
       "<td>495.0</td>\n",
       "<td>54.0</td>\n",
       "<td>0.0984</td>\n",
       "<td> (54.0/549.0)</td></tr>\n",
       "<tr><td>1</td>\n",
       "<td>77.0</td>\n",
       "<td>265.0</td>\n",
       "<td>0.2251</td>\n",
       "<td> (77.0/342.0)</td></tr>\n",
       "<tr><td>Total</td>\n",
       "<td>572.0</td>\n",
       "<td>319.0</td>\n",
       "<td>0.147</td>\n",
       "<td> (131.0/891.0)</td></tr></table></div>"
      ],
      "text/plain": [
       "       0    1    Error    Rate\n",
       "-----  ---  ---  -------  -------------\n",
       "0      495  54   0.0984   (54.0/549.0)\n",
       "1      77   265  0.2251   (77.0/342.0)\n",
       "Total  572  319  0.147    (131.0/891.0)"
      ]
     },
     "metadata": {},
     "output_type": "display_data"
    },
    {
     "name": "stdout",
     "output_type": "stream",
     "text": [
      "Maximum Metrics: Maximum metrics at their respective thresholds\n",
      "\n"
     ]
    },
    {
     "data": {
      "text/html": [
       "<div style=\"overflow:auto\"><table style=\"width:50%\"><tr><td><b>metric</b></td>\n",
       "<td><b>threshold</b></td>\n",
       "<td><b>value</b></td>\n",
       "<td><b>idx</b></td></tr>\n",
       "<tr><td>max f1</td>\n",
       "<td>0.7831693</td>\n",
       "<td>0.8018154</td>\n",
       "<td>201.0</td></tr>\n",
       "<tr><td>max f2</td>\n",
       "<td>0.3744321</td>\n",
       "<td>0.8347153</td>\n",
       "<td>269.0</td></tr>\n",
       "<tr><td>max f0point5</td>\n",
       "<td>0.8908021</td>\n",
       "<td>0.8380481</td>\n",
       "<td>177.0</td></tr>\n",
       "<tr><td>max accuracy</td>\n",
       "<td>0.7831693</td>\n",
       "<td>0.8529742</td>\n",
       "<td>201.0</td></tr>\n",
       "<tr><td>max precision</td>\n",
       "<td>0.9999921</td>\n",
       "<td>1.0</td>\n",
       "<td>0.0</td></tr>\n",
       "<tr><td>max recall</td>\n",
       "<td>0.0863745</td>\n",
       "<td>1.0</td>\n",
       "<td>340.0</td></tr>\n",
       "<tr><td>max specificity</td>\n",
       "<td>0.9999921</td>\n",
       "<td>1.0</td>\n",
       "<td>0.0</td></tr>\n",
       "<tr><td>max absolute_mcc</td>\n",
       "<td>0.7831693</td>\n",
       "<td>0.6862293</td>\n",
       "<td>201.0</td></tr>\n",
       "<tr><td>max min_per_class_accuracy</td>\n",
       "<td>0.5385060</td>\n",
       "<td>0.8306011</td>\n",
       "<td>236.0</td></tr>\n",
       "<tr><td>max mean_per_class_accuracy</td>\n",
       "<td>0.7831693</td>\n",
       "<td>0.8382466</td>\n",
       "<td>201.0</td></tr></table></div>"
      ],
      "text/plain": [
       "metric                       threshold    value     idx\n",
       "---------------------------  -----------  --------  -----\n",
       "max f1                       0.783169     0.801815  201\n",
       "max f2                       0.374432     0.834715  269\n",
       "max f0point5                 0.890802     0.838048  177\n",
       "max accuracy                 0.783169     0.852974  201\n",
       "max precision                0.999992     1         0\n",
       "max recall                   0.0863745    1         340\n",
       "max specificity              0.999992     1         0\n",
       "max absolute_mcc             0.783169     0.686229  201\n",
       "max min_per_class_accuracy   0.538506     0.830601  236\n",
       "max mean_per_class_accuracy  0.783169     0.838247  201"
      ]
     },
     "metadata": {},
     "output_type": "display_data"
    },
    {
     "name": "stdout",
     "output_type": "stream",
     "text": [
      "Gains/Lift Table: Avg response rate: 38.38 %\n",
      "\n"
     ]
    },
    {
     "data": {
      "text/html": [
       "<div style=\"overflow:auto\"><table style=\"width:50%\"><tr><td><b></b></td>\n",
       "<td><b>group</b></td>\n",
       "<td><b>cumulative_data_fraction</b></td>\n",
       "<td><b>lower_threshold</b></td>\n",
       "<td><b>lift</b></td>\n",
       "<td><b>cumulative_lift</b></td>\n",
       "<td><b>response_rate</b></td>\n",
       "<td><b>cumulative_response_rate</b></td>\n",
       "<td><b>capture_rate</b></td>\n",
       "<td><b>cumulative_capture_rate</b></td>\n",
       "<td><b>gain</b></td>\n",
       "<td><b>cumulative_gain</b></td></tr>\n",
       "<tr><td></td>\n",
       "<td>1</td>\n",
       "<td>0.0101010</td>\n",
       "<td>0.9999670</td>\n",
       "<td>2.6052632</td>\n",
       "<td>2.6052632</td>\n",
       "<td>1.0</td>\n",
       "<td>1.0</td>\n",
       "<td>0.0263158</td>\n",
       "<td>0.0263158</td>\n",
       "<td>160.5263158</td>\n",
       "<td>160.5263158</td></tr>\n",
       "<tr><td></td>\n",
       "<td>2</td>\n",
       "<td>0.0202020</td>\n",
       "<td>0.9999242</td>\n",
       "<td>2.6052632</td>\n",
       "<td>2.6052632</td>\n",
       "<td>1.0</td>\n",
       "<td>1.0</td>\n",
       "<td>0.0263158</td>\n",
       "<td>0.0526316</td>\n",
       "<td>160.5263158</td>\n",
       "<td>160.5263158</td></tr>\n",
       "<tr><td></td>\n",
       "<td>3</td>\n",
       "<td>0.0303030</td>\n",
       "<td>0.9998261</td>\n",
       "<td>2.6052632</td>\n",
       "<td>2.6052632</td>\n",
       "<td>1.0</td>\n",
       "<td>1.0</td>\n",
       "<td>0.0263158</td>\n",
       "<td>0.0789474</td>\n",
       "<td>160.5263158</td>\n",
       "<td>160.5263158</td></tr>\n",
       "<tr><td></td>\n",
       "<td>4</td>\n",
       "<td>0.0404040</td>\n",
       "<td>0.9997109</td>\n",
       "<td>2.6052632</td>\n",
       "<td>2.6052632</td>\n",
       "<td>1.0</td>\n",
       "<td>1.0</td>\n",
       "<td>0.0263158</td>\n",
       "<td>0.1052632</td>\n",
       "<td>160.5263158</td>\n",
       "<td>160.5263158</td></tr>\n",
       "<tr><td></td>\n",
       "<td>5</td>\n",
       "<td>0.0505051</td>\n",
       "<td>0.9995228</td>\n",
       "<td>2.6052632</td>\n",
       "<td>2.6052632</td>\n",
       "<td>1.0</td>\n",
       "<td>1.0</td>\n",
       "<td>0.0263158</td>\n",
       "<td>0.1315789</td>\n",
       "<td>160.5263158</td>\n",
       "<td>160.5263158</td></tr>\n",
       "<tr><td></td>\n",
       "<td>6</td>\n",
       "<td>0.1010101</td>\n",
       "<td>0.9984157</td>\n",
       "<td>2.6052632</td>\n",
       "<td>2.6052632</td>\n",
       "<td>1.0</td>\n",
       "<td>1.0</td>\n",
       "<td>0.1315789</td>\n",
       "<td>0.2631579</td>\n",
       "<td>160.5263158</td>\n",
       "<td>160.5263158</td></tr>\n",
       "<tr><td></td>\n",
       "<td>7</td>\n",
       "<td>0.1515152</td>\n",
       "<td>0.9918162</td>\n",
       "<td>2.3736842</td>\n",
       "<td>2.5280702</td>\n",
       "<td>0.9111111</td>\n",
       "<td>0.9703704</td>\n",
       "<td>0.1198830</td>\n",
       "<td>0.3830409</td>\n",
       "<td>137.3684211</td>\n",
       "<td>152.8070175</td></tr>\n",
       "<tr><td></td>\n",
       "<td>8</td>\n",
       "<td>0.2031425</td>\n",
       "<td>0.9752246</td>\n",
       "<td>2.1521739</td>\n",
       "<td>2.4325385</td>\n",
       "<td>0.8260870</td>\n",
       "<td>0.9337017</td>\n",
       "<td>0.1111111</td>\n",
       "<td>0.4941520</td>\n",
       "<td>115.2173913</td>\n",
       "<td>143.2538529</td></tr>\n",
       "<tr><td></td>\n",
       "<td>9</td>\n",
       "<td>0.3007856</td>\n",
       "<td>0.8908021</td>\n",
       "<td>2.0362976</td>\n",
       "<td>2.3039081</td>\n",
       "<td>0.7816092</td>\n",
       "<td>0.8843284</td>\n",
       "<td>0.1988304</td>\n",
       "<td>0.6929825</td>\n",
       "<td>103.6297641</td>\n",
       "<td>130.3908091</td></tr>\n",
       "<tr><td></td>\n",
       "<td>10</td>\n",
       "<td>0.4006734</td>\n",
       "<td>0.5877009</td>\n",
       "<td>1.2294500</td>\n",
       "<td>2.0360460</td>\n",
       "<td>0.4719101</td>\n",
       "<td>0.7815126</td>\n",
       "<td>0.1228070</td>\n",
       "<td>0.8157895</td>\n",
       "<td>22.9450030</td>\n",
       "<td>103.6045997</td></tr>\n",
       "<tr><td></td>\n",
       "<td>11</td>\n",
       "<td>0.5286195</td>\n",
       "<td>0.3613237</td>\n",
       "<td>0.5941828</td>\n",
       "<td>1.6870600</td>\n",
       "<td>0.2280702</td>\n",
       "<td>0.6475584</td>\n",
       "<td>0.0760234</td>\n",
       "<td>0.8918129</td>\n",
       "<td>-40.5817175</td>\n",
       "<td>68.7060007</td></tr>\n",
       "<tr><td></td>\n",
       "<td>12</td>\n",
       "<td>0.6004489</td>\n",
       "<td>0.1883483</td>\n",
       "<td>0.2849507</td>\n",
       "<td>1.5193310</td>\n",
       "<td>0.109375</td>\n",
       "<td>0.5831776</td>\n",
       "<td>0.0204678</td>\n",
       "<td>0.9122807</td>\n",
       "<td>-71.5049342</td>\n",
       "<td>51.9331038</td></tr>\n",
       "<tr><td></td>\n",
       "<td>13</td>\n",
       "<td>0.7979798</td>\n",
       "<td>0.1637664</td>\n",
       "<td>0.2664474</td>\n",
       "<td>1.2091939</td>\n",
       "<td>0.1022727</td>\n",
       "<td>0.4641350</td>\n",
       "<td>0.0526316</td>\n",
       "<td>0.9649123</td>\n",
       "<td>-73.3552632</td>\n",
       "<td>20.9193871</td></tr>\n",
       "<tr><td></td>\n",
       "<td>14</td>\n",
       "<td>0.8013468</td>\n",
       "<td>0.1568208</td>\n",
       "<td>0.8684211</td>\n",
       "<td>1.2077621</td>\n",
       "<td>0.3333333</td>\n",
       "<td>0.4635854</td>\n",
       "<td>0.0029240</td>\n",
       "<td>0.9678363</td>\n",
       "<td>-13.1578947</td>\n",
       "<td>20.7762052</td></tr>\n",
       "<tr><td></td>\n",
       "<td>15</td>\n",
       "<td>0.9001122</td>\n",
       "<td>0.1015068</td>\n",
       "<td>0.1776316</td>\n",
       "<td>1.0947303</td>\n",
       "<td>0.0681818</td>\n",
       "<td>0.4201995</td>\n",
       "<td>0.0175439</td>\n",
       "<td>0.9853801</td>\n",
       "<td>-82.2368421</td>\n",
       "<td>9.4730280</td></tr>\n",
       "<tr><td></td>\n",
       "<td>16</td>\n",
       "<td>1.0</td>\n",
       "<td>0.0000546</td>\n",
       "<td>0.1463631</td>\n",
       "<td>1.0</td>\n",
       "<td>0.0561798</td>\n",
       "<td>0.3838384</td>\n",
       "<td>0.0146199</td>\n",
       "<td>1.0</td>\n",
       "<td>-85.3636901</td>\n",
       "<td>0.0</td></tr></table></div>"
      ],
      "text/plain": [
       "    group    cumulative_data_fraction    lower_threshold    lift      cumulative_lift    response_rate    cumulative_response_rate    capture_rate    cumulative_capture_rate    gain      cumulative_gain\n",
       "--  -------  --------------------------  -----------------  --------  -----------------  ---------------  --------------------------  --------------  -------------------------  --------  -----------------\n",
       "    1        0.010101                    0.999967           2.60526   2.60526            1                1                           0.0263158       0.0263158                  160.526   160.526\n",
       "    2        0.020202                    0.999924           2.60526   2.60526            1                1                           0.0263158       0.0526316                  160.526   160.526\n",
       "    3        0.030303                    0.999826           2.60526   2.60526            1                1                           0.0263158       0.0789474                  160.526   160.526\n",
       "    4        0.040404                    0.999711           2.60526   2.60526            1                1                           0.0263158       0.105263                   160.526   160.526\n",
       "    5        0.0505051                   0.999523           2.60526   2.60526            1                1                           0.0263158       0.131579                   160.526   160.526\n",
       "    6        0.10101                     0.998416           2.60526   2.60526            1                1                           0.131579        0.263158                   160.526   160.526\n",
       "    7        0.151515                    0.991816           2.37368   2.52807            0.911111         0.97037                     0.119883        0.383041                   137.368   152.807\n",
       "    8        0.203143                    0.975225           2.15217   2.43254            0.826087         0.933702                    0.111111        0.494152                   115.217   143.254\n",
       "    9        0.300786                    0.890802           2.0363    2.30391            0.781609         0.884328                    0.19883         0.692982                   103.63    130.391\n",
       "    10       0.400673                    0.587701           1.22945   2.03605            0.47191          0.781513                    0.122807        0.815789                   22.945    103.605\n",
       "    11       0.52862                     0.361324           0.594183  1.68706            0.22807          0.647558                    0.0760234       0.891813                   -40.5817  68.706\n",
       "    12       0.600449                    0.188348           0.284951  1.51933            0.109375         0.583178                    0.0204678       0.912281                   -71.5049  51.9331\n",
       "    13       0.79798                     0.163766           0.266447  1.20919            0.102273         0.464135                    0.0526316       0.964912                   -73.3553  20.9194\n",
       "    14       0.801347                    0.156821           0.868421  1.20776            0.333333         0.463585                    0.00292398      0.967836                   -13.1579  20.7762\n",
       "    15       0.900112                    0.101507           0.177632  1.09473            0.0681818        0.4202                      0.0175439       0.98538                    -82.2368  9.47303\n",
       "    16       1                           5.46295e-05        0.146363  1                  0.0561798        0.383838                    0.0146199       1                          -85.3637  0"
      ]
     },
     "metadata": {},
     "output_type": "display_data"
    },
    {
     "name": "stdout",
     "output_type": "stream",
     "text": [
      "\n",
      "\n",
      "ModelMetricsBinomial: deeplearning\n",
      "** Reported on validation data. **\n",
      "\n",
      "MSE: 0.1343546680323795\n",
      "RMSE: 0.36654422384260743\n",
      "LogLoss: 0.4432826410111272\n",
      "Mean Per-Class Error: 0.16175342728405706\n",
      "AUC: 0.8980096720246274\n",
      "Gini: 0.7960193440492549\n",
      "Confusion Matrix (Act/Pred) for max f1 @ threshold = 0.7831692715010209: \n"
     ]
    },
    {
     "data": {
      "text/html": [
       "<div style=\"overflow:auto\"><table style=\"width:50%\"><tr><td><b></b></td>\n",
       "<td><b>0</b></td>\n",
       "<td><b>1</b></td>\n",
       "<td><b>Error</b></td>\n",
       "<td><b>Rate</b></td></tr>\n",
       "<tr><td>0</td>\n",
       "<td>495.0</td>\n",
       "<td>54.0</td>\n",
       "<td>0.0984</td>\n",
       "<td> (54.0/549.0)</td></tr>\n",
       "<tr><td>1</td>\n",
       "<td>77.0</td>\n",
       "<td>265.0</td>\n",
       "<td>0.2251</td>\n",
       "<td> (77.0/342.0)</td></tr>\n",
       "<tr><td>Total</td>\n",
       "<td>572.0</td>\n",
       "<td>319.0</td>\n",
       "<td>0.147</td>\n",
       "<td> (131.0/891.0)</td></tr></table></div>"
      ],
      "text/plain": [
       "       0    1    Error    Rate\n",
       "-----  ---  ---  -------  -------------\n",
       "0      495  54   0.0984   (54.0/549.0)\n",
       "1      77   265  0.2251   (77.0/342.0)\n",
       "Total  572  319  0.147    (131.0/891.0)"
      ]
     },
     "metadata": {},
     "output_type": "display_data"
    },
    {
     "name": "stdout",
     "output_type": "stream",
     "text": [
      "Maximum Metrics: Maximum metrics at their respective thresholds\n",
      "\n"
     ]
    },
    {
     "data": {
      "text/html": [
       "<div style=\"overflow:auto\"><table style=\"width:50%\"><tr><td><b>metric</b></td>\n",
       "<td><b>threshold</b></td>\n",
       "<td><b>value</b></td>\n",
       "<td><b>idx</b></td></tr>\n",
       "<tr><td>max f1</td>\n",
       "<td>0.7831693</td>\n",
       "<td>0.8018154</td>\n",
       "<td>201.0</td></tr>\n",
       "<tr><td>max f2</td>\n",
       "<td>0.3744321</td>\n",
       "<td>0.8347153</td>\n",
       "<td>269.0</td></tr>\n",
       "<tr><td>max f0point5</td>\n",
       "<td>0.8908021</td>\n",
       "<td>0.8380481</td>\n",
       "<td>177.0</td></tr>\n",
       "<tr><td>max accuracy</td>\n",
       "<td>0.7831693</td>\n",
       "<td>0.8529742</td>\n",
       "<td>201.0</td></tr>\n",
       "<tr><td>max precision</td>\n",
       "<td>0.9999921</td>\n",
       "<td>1.0</td>\n",
       "<td>0.0</td></tr>\n",
       "<tr><td>max recall</td>\n",
       "<td>0.0863745</td>\n",
       "<td>1.0</td>\n",
       "<td>340.0</td></tr>\n",
       "<tr><td>max specificity</td>\n",
       "<td>0.9999921</td>\n",
       "<td>1.0</td>\n",
       "<td>0.0</td></tr>\n",
       "<tr><td>max absolute_mcc</td>\n",
       "<td>0.7831693</td>\n",
       "<td>0.6862293</td>\n",
       "<td>201.0</td></tr>\n",
       "<tr><td>max min_per_class_accuracy</td>\n",
       "<td>0.5385060</td>\n",
       "<td>0.8306011</td>\n",
       "<td>236.0</td></tr>\n",
       "<tr><td>max mean_per_class_accuracy</td>\n",
       "<td>0.7831693</td>\n",
       "<td>0.8382466</td>\n",
       "<td>201.0</td></tr></table></div>"
      ],
      "text/plain": [
       "metric                       threshold    value     idx\n",
       "---------------------------  -----------  --------  -----\n",
       "max f1                       0.783169     0.801815  201\n",
       "max f2                       0.374432     0.834715  269\n",
       "max f0point5                 0.890802     0.838048  177\n",
       "max accuracy                 0.783169     0.852974  201\n",
       "max precision                0.999992     1         0\n",
       "max recall                   0.0863745    1         340\n",
       "max specificity              0.999992     1         0\n",
       "max absolute_mcc             0.783169     0.686229  201\n",
       "max min_per_class_accuracy   0.538506     0.830601  236\n",
       "max mean_per_class_accuracy  0.783169     0.838247  201"
      ]
     },
     "metadata": {},
     "output_type": "display_data"
    },
    {
     "name": "stdout",
     "output_type": "stream",
     "text": [
      "Gains/Lift Table: Avg response rate: 38.38 %\n",
      "\n"
     ]
    },
    {
     "data": {
      "text/html": [
       "<div style=\"overflow:auto\"><table style=\"width:50%\"><tr><td><b></b></td>\n",
       "<td><b>group</b></td>\n",
       "<td><b>cumulative_data_fraction</b></td>\n",
       "<td><b>lower_threshold</b></td>\n",
       "<td><b>lift</b></td>\n",
       "<td><b>cumulative_lift</b></td>\n",
       "<td><b>response_rate</b></td>\n",
       "<td><b>cumulative_response_rate</b></td>\n",
       "<td><b>capture_rate</b></td>\n",
       "<td><b>cumulative_capture_rate</b></td>\n",
       "<td><b>gain</b></td>\n",
       "<td><b>cumulative_gain</b></td></tr>\n",
       "<tr><td></td>\n",
       "<td>1</td>\n",
       "<td>0.0101010</td>\n",
       "<td>0.9999670</td>\n",
       "<td>2.6052632</td>\n",
       "<td>2.6052632</td>\n",
       "<td>1.0</td>\n",
       "<td>1.0</td>\n",
       "<td>0.0263158</td>\n",
       "<td>0.0263158</td>\n",
       "<td>160.5263158</td>\n",
       "<td>160.5263158</td></tr>\n",
       "<tr><td></td>\n",
       "<td>2</td>\n",
       "<td>0.0202020</td>\n",
       "<td>0.9999242</td>\n",
       "<td>2.6052632</td>\n",
       "<td>2.6052632</td>\n",
       "<td>1.0</td>\n",
       "<td>1.0</td>\n",
       "<td>0.0263158</td>\n",
       "<td>0.0526316</td>\n",
       "<td>160.5263158</td>\n",
       "<td>160.5263158</td></tr>\n",
       "<tr><td></td>\n",
       "<td>3</td>\n",
       "<td>0.0303030</td>\n",
       "<td>0.9998261</td>\n",
       "<td>2.6052632</td>\n",
       "<td>2.6052632</td>\n",
       "<td>1.0</td>\n",
       "<td>1.0</td>\n",
       "<td>0.0263158</td>\n",
       "<td>0.0789474</td>\n",
       "<td>160.5263158</td>\n",
       "<td>160.5263158</td></tr>\n",
       "<tr><td></td>\n",
       "<td>4</td>\n",
       "<td>0.0404040</td>\n",
       "<td>0.9997109</td>\n",
       "<td>2.6052632</td>\n",
       "<td>2.6052632</td>\n",
       "<td>1.0</td>\n",
       "<td>1.0</td>\n",
       "<td>0.0263158</td>\n",
       "<td>0.1052632</td>\n",
       "<td>160.5263158</td>\n",
       "<td>160.5263158</td></tr>\n",
       "<tr><td></td>\n",
       "<td>5</td>\n",
       "<td>0.0505051</td>\n",
       "<td>0.9995228</td>\n",
       "<td>2.6052632</td>\n",
       "<td>2.6052632</td>\n",
       "<td>1.0</td>\n",
       "<td>1.0</td>\n",
       "<td>0.0263158</td>\n",
       "<td>0.1315789</td>\n",
       "<td>160.5263158</td>\n",
       "<td>160.5263158</td></tr>\n",
       "<tr><td></td>\n",
       "<td>6</td>\n",
       "<td>0.1010101</td>\n",
       "<td>0.9984157</td>\n",
       "<td>2.6052632</td>\n",
       "<td>2.6052632</td>\n",
       "<td>1.0</td>\n",
       "<td>1.0</td>\n",
       "<td>0.1315789</td>\n",
       "<td>0.2631579</td>\n",
       "<td>160.5263158</td>\n",
       "<td>160.5263158</td></tr>\n",
       "<tr><td></td>\n",
       "<td>7</td>\n",
       "<td>0.1515152</td>\n",
       "<td>0.9918162</td>\n",
       "<td>2.3736842</td>\n",
       "<td>2.5280702</td>\n",
       "<td>0.9111111</td>\n",
       "<td>0.9703704</td>\n",
       "<td>0.1198830</td>\n",
       "<td>0.3830409</td>\n",
       "<td>137.3684211</td>\n",
       "<td>152.8070175</td></tr>\n",
       "<tr><td></td>\n",
       "<td>8</td>\n",
       "<td>0.2031425</td>\n",
       "<td>0.9752246</td>\n",
       "<td>2.1521739</td>\n",
       "<td>2.4325385</td>\n",
       "<td>0.8260870</td>\n",
       "<td>0.9337017</td>\n",
       "<td>0.1111111</td>\n",
       "<td>0.4941520</td>\n",
       "<td>115.2173913</td>\n",
       "<td>143.2538529</td></tr>\n",
       "<tr><td></td>\n",
       "<td>9</td>\n",
       "<td>0.3007856</td>\n",
       "<td>0.8908021</td>\n",
       "<td>2.0362976</td>\n",
       "<td>2.3039081</td>\n",
       "<td>0.7816092</td>\n",
       "<td>0.8843284</td>\n",
       "<td>0.1988304</td>\n",
       "<td>0.6929825</td>\n",
       "<td>103.6297641</td>\n",
       "<td>130.3908091</td></tr>\n",
       "<tr><td></td>\n",
       "<td>10</td>\n",
       "<td>0.4006734</td>\n",
       "<td>0.5877009</td>\n",
       "<td>1.2294500</td>\n",
       "<td>2.0360460</td>\n",
       "<td>0.4719101</td>\n",
       "<td>0.7815126</td>\n",
       "<td>0.1228070</td>\n",
       "<td>0.8157895</td>\n",
       "<td>22.9450030</td>\n",
       "<td>103.6045997</td></tr>\n",
       "<tr><td></td>\n",
       "<td>11</td>\n",
       "<td>0.5286195</td>\n",
       "<td>0.3613237</td>\n",
       "<td>0.5941828</td>\n",
       "<td>1.6870600</td>\n",
       "<td>0.2280702</td>\n",
       "<td>0.6475584</td>\n",
       "<td>0.0760234</td>\n",
       "<td>0.8918129</td>\n",
       "<td>-40.5817175</td>\n",
       "<td>68.7060007</td></tr>\n",
       "<tr><td></td>\n",
       "<td>12</td>\n",
       "<td>0.6004489</td>\n",
       "<td>0.1883483</td>\n",
       "<td>0.2849507</td>\n",
       "<td>1.5193310</td>\n",
       "<td>0.109375</td>\n",
       "<td>0.5831776</td>\n",
       "<td>0.0204678</td>\n",
       "<td>0.9122807</td>\n",
       "<td>-71.5049342</td>\n",
       "<td>51.9331038</td></tr>\n",
       "<tr><td></td>\n",
       "<td>13</td>\n",
       "<td>0.7979798</td>\n",
       "<td>0.1637664</td>\n",
       "<td>0.2664474</td>\n",
       "<td>1.2091939</td>\n",
       "<td>0.1022727</td>\n",
       "<td>0.4641350</td>\n",
       "<td>0.0526316</td>\n",
       "<td>0.9649123</td>\n",
       "<td>-73.3552632</td>\n",
       "<td>20.9193871</td></tr>\n",
       "<tr><td></td>\n",
       "<td>14</td>\n",
       "<td>0.8013468</td>\n",
       "<td>0.1568208</td>\n",
       "<td>0.8684211</td>\n",
       "<td>1.2077621</td>\n",
       "<td>0.3333333</td>\n",
       "<td>0.4635854</td>\n",
       "<td>0.0029240</td>\n",
       "<td>0.9678363</td>\n",
       "<td>-13.1578947</td>\n",
       "<td>20.7762052</td></tr>\n",
       "<tr><td></td>\n",
       "<td>15</td>\n",
       "<td>0.9001122</td>\n",
       "<td>0.1015068</td>\n",
       "<td>0.1776316</td>\n",
       "<td>1.0947303</td>\n",
       "<td>0.0681818</td>\n",
       "<td>0.4201995</td>\n",
       "<td>0.0175439</td>\n",
       "<td>0.9853801</td>\n",
       "<td>-82.2368421</td>\n",
       "<td>9.4730280</td></tr>\n",
       "<tr><td></td>\n",
       "<td>16</td>\n",
       "<td>1.0</td>\n",
       "<td>0.0000546</td>\n",
       "<td>0.1463631</td>\n",
       "<td>1.0</td>\n",
       "<td>0.0561798</td>\n",
       "<td>0.3838384</td>\n",
       "<td>0.0146199</td>\n",
       "<td>1.0</td>\n",
       "<td>-85.3636901</td>\n",
       "<td>0.0</td></tr></table></div>"
      ],
      "text/plain": [
       "    group    cumulative_data_fraction    lower_threshold    lift      cumulative_lift    response_rate    cumulative_response_rate    capture_rate    cumulative_capture_rate    gain      cumulative_gain\n",
       "--  -------  --------------------------  -----------------  --------  -----------------  ---------------  --------------------------  --------------  -------------------------  --------  -----------------\n",
       "    1        0.010101                    0.999967           2.60526   2.60526            1                1                           0.0263158       0.0263158                  160.526   160.526\n",
       "    2        0.020202                    0.999924           2.60526   2.60526            1                1                           0.0263158       0.0526316                  160.526   160.526\n",
       "    3        0.030303                    0.999826           2.60526   2.60526            1                1                           0.0263158       0.0789474                  160.526   160.526\n",
       "    4        0.040404                    0.999711           2.60526   2.60526            1                1                           0.0263158       0.105263                   160.526   160.526\n",
       "    5        0.0505051                   0.999523           2.60526   2.60526            1                1                           0.0263158       0.131579                   160.526   160.526\n",
       "    6        0.10101                     0.998416           2.60526   2.60526            1                1                           0.131579        0.263158                   160.526   160.526\n",
       "    7        0.151515                    0.991816           2.37368   2.52807            0.911111         0.97037                     0.119883        0.383041                   137.368   152.807\n",
       "    8        0.203143                    0.975225           2.15217   2.43254            0.826087         0.933702                    0.111111        0.494152                   115.217   143.254\n",
       "    9        0.300786                    0.890802           2.0363    2.30391            0.781609         0.884328                    0.19883         0.692982                   103.63    130.391\n",
       "    10       0.400673                    0.587701           1.22945   2.03605            0.47191          0.781513                    0.122807        0.815789                   22.945    103.605\n",
       "    11       0.52862                     0.361324           0.594183  1.68706            0.22807          0.647558                    0.0760234       0.891813                   -40.5817  68.706\n",
       "    12       0.600449                    0.188348           0.284951  1.51933            0.109375         0.583178                    0.0204678       0.912281                   -71.5049  51.9331\n",
       "    13       0.79798                     0.163766           0.266447  1.20919            0.102273         0.464135                    0.0526316       0.964912                   -73.3553  20.9194\n",
       "    14       0.801347                    0.156821           0.868421  1.20776            0.333333         0.463585                    0.00292398      0.967836                   -13.1579  20.7762\n",
       "    15       0.900112                    0.101507           0.177632  1.09473            0.0681818        0.4202                      0.0175439       0.98538                    -82.2368  9.47303\n",
       "    16       1                           5.46295e-05        0.146363  1                  0.0561798        0.383838                    0.0146199       1                          -85.3637  0"
      ]
     },
     "metadata": {},
     "output_type": "display_data"
    },
    {
     "name": "stdout",
     "output_type": "stream",
     "text": [
      "\n",
      "Scoring History: \n"
     ]
    },
    {
     "data": {
      "text/html": [
       "<div style=\"overflow:auto\"><table style=\"width:50%\"><tr><td><b></b></td>\n",
       "<td><b>timestamp</b></td>\n",
       "<td><b>duration</b></td>\n",
       "<td><b>training_speed</b></td>\n",
       "<td><b>epochs</b></td>\n",
       "<td><b>iterations</b></td>\n",
       "<td><b>samples</b></td>\n",
       "<td><b>training_rmse</b></td>\n",
       "<td><b>training_logloss</b></td>\n",
       "<td><b>training_r2</b></td>\n",
       "<td><b>training_auc</b></td>\n",
       "<td><b>training_lift</b></td>\n",
       "<td><b>training_classification_error</b></td>\n",
       "<td><b>validation_rmse</b></td>\n",
       "<td><b>validation_logloss</b></td>\n",
       "<td><b>validation_r2</b></td>\n",
       "<td><b>validation_auc</b></td>\n",
       "<td><b>validation_lift</b></td>\n",
       "<td><b>validation_classification_error</b></td></tr>\n",
       "<tr><td></td>\n",
       "<td>2018-11-01 12:28:20</td>\n",
       "<td> 0.000 sec</td>\n",
       "<td>None</td>\n",
       "<td>0.0</td>\n",
       "<td>0</td>\n",
       "<td>0.0</td>\n",
       "<td>nan</td>\n",
       "<td>nan</td>\n",
       "<td>nan</td>\n",
       "<td>nan</td>\n",
       "<td>nan</td>\n",
       "<td>nan</td>\n",
       "<td>nan</td>\n",
       "<td>nan</td>\n",
       "<td>nan</td>\n",
       "<td>nan</td>\n",
       "<td>nan</td>\n",
       "<td>nan</td></tr>\n",
       "<tr><td></td>\n",
       "<td>2018-11-01 12:28:21</td>\n",
       "<td> 0.934 sec</td>\n",
       "<td>1687 obs/sec</td>\n",
       "<td>1.0</td>\n",
       "<td>1</td>\n",
       "<td>891.0</td>\n",
       "<td>0.7130737</td>\n",
       "<td>2.6240023</td>\n",
       "<td>-1.1499372</td>\n",
       "<td>0.8433649</td>\n",
       "<td>2.6052632</td>\n",
       "<td>0.2008979</td>\n",
       "<td>0.7130737</td>\n",
       "<td>2.6240023</td>\n",
       "<td>-1.1499372</td>\n",
       "<td>0.8433542</td>\n",
       "<td>2.6052632</td>\n",
       "<td>0.2008979</td></tr>\n",
       "<tr><td></td>\n",
       "<td>2018-11-01 12:28:23</td>\n",
       "<td> 3.177 sec</td>\n",
       "<td>3382 obs/sec</td>\n",
       "<td>10.0</td>\n",
       "<td>10</td>\n",
       "<td>8910.0</td>\n",
       "<td>0.3665442</td>\n",
       "<td>0.4432826</td>\n",
       "<td>0.4319197</td>\n",
       "<td>0.8980097</td>\n",
       "<td>2.6052632</td>\n",
       "<td>0.1470258</td>\n",
       "<td>0.3665442</td>\n",
       "<td>0.4432826</td>\n",
       "<td>0.4319197</td>\n",
       "<td>0.8980097</td>\n",
       "<td>2.6052632</td>\n",
       "<td>0.1470258</td></tr></table></div>"
      ],
      "text/plain": [
       "    timestamp            duration    training_speed    epochs    iterations    samples    training_rmse    training_logloss    training_r2    training_auc    training_lift    training_classification_error    validation_rmse    validation_logloss    validation_r2    validation_auc    validation_lift    validation_classification_error\n",
       "--  -------------------  ----------  ----------------  --------  ------------  ---------  ---------------  ------------------  -------------  --------------  ---------------  -------------------------------  -----------------  --------------------  ---------------  ----------------  -----------------  ---------------------------------\n",
       "    2018-11-01 12:28:20  0.000 sec                     0         0             0          nan              nan                 nan            nan             nan              nan                              nan                nan                   nan              nan               nan                nan\n",
       "    2018-11-01 12:28:21  0.934 sec   1687 obs/sec      1         1             891        0.713074         2.624               -1.14994       0.843365        2.60526          0.200898                         0.713074           2.624                 -1.14994         0.843354          2.60526            0.200898\n",
       "    2018-11-01 12:28:23  3.177 sec   3382 obs/sec      10        10            8910       0.366544         0.443283            0.43192        0.89801         2.60526          0.147026                         0.366544           0.443283              0.43192          0.89801           2.60526            0.147026"
      ]
     },
     "metadata": {},
     "output_type": "display_data"
    },
    {
     "name": "stdout",
     "output_type": "stream",
     "text": [
      "Variable Importances: \n"
     ]
    },
    {
     "data": {
      "text/html": [
       "<div style=\"overflow:auto\"><table style=\"width:50%\"><tr><td><b>variable</b></td>\n",
       "<td><b>relative_importance</b></td>\n",
       "<td><b>scaled_importance</b></td>\n",
       "<td><b>percentage</b></td></tr>\n",
       "<tr><td>Title_Rev</td>\n",
       "<td>1.0</td>\n",
       "<td>1.0</td>\n",
       "<td>0.0475752</td></tr>\n",
       "<tr><td>Family</td>\n",
       "<td>0.9705715</td>\n",
       "<td>0.9705715</td>\n",
       "<td>0.0461752</td></tr>\n",
       "<tr><td>Pclass</td>\n",
       "<td>0.9192042</td>\n",
       "<td>0.9192042</td>\n",
       "<td>0.0437313</td></tr>\n",
       "<tr><td>Sex_female</td>\n",
       "<td>0.9009663</td>\n",
       "<td>0.9009663</td>\n",
       "<td>0.0428637</td></tr>\n",
       "<tr><td>Title_Mrs</td>\n",
       "<td>0.8942508</td>\n",
       "<td>0.8942508</td>\n",
       "<td>0.0425442</td></tr>\n",
       "<tr><td>---</td>\n",
       "<td>---</td>\n",
       "<td>---</td>\n",
       "<td>---</td></tr>\n",
       "<tr><td>Cabin_D</td>\n",
       "<td>0.7950440</td>\n",
       "<td>0.7950440</td>\n",
       "<td>0.0378244</td></tr>\n",
       "<tr><td>Title_Army</td>\n",
       "<td>0.7623226</td>\n",
       "<td>0.7623226</td>\n",
       "<td>0.0362677</td></tr>\n",
       "<tr><td>Title_Dr</td>\n",
       "<td>0.7579429</td>\n",
       "<td>0.7579429</td>\n",
       "<td>0.0360593</td></tr>\n",
       "<tr><td>Cabin_F</td>\n",
       "<td>0.7302049</td>\n",
       "<td>0.7302049</td>\n",
       "<td>0.0347397</td></tr>\n",
       "<tr><td>Cabin_G</td>\n",
       "<td>0.6647781</td>\n",
       "<td>0.6647781</td>\n",
       "<td>0.0316270</td></tr></table></div>"
      ],
      "text/plain": [
       "variable    relative_importance    scaled_importance    percentage\n",
       "----------  ---------------------  -------------------  --------------------\n",
       "Title_Rev   1.0                    1.0                  0.04757521641432669\n",
       "Family      0.9705715179443359     0.9705715179443359   0.04617515001178334\n",
       "Pclass      0.9192041754722595     0.9192041754722595   0.04373133757704547\n",
       "Sex_female  0.9009663462638855     0.9009663462638855   0.04286366890552955\n",
       "Title_Mrs   0.894250750541687      0.894250750541687    0.04254417298569483\n",
       "---         ---                    ---                  ---\n",
       "Cabin_D     0.7950440049171448     0.7950440049171448   0.037824390592846174\n",
       "Title_Army  0.7623226046562195     0.7623226046562195   0.03626766289405285\n",
       "Title_Dr    0.7579428553581238     0.7579428553581238   0.03605929537335545\n",
       "Cabin_F     0.7302048802375793     0.7302048802375793   0.03473965520410034\n",
       "Cabin_G     0.6647780537605286     0.6647780537605286   0.03162695977515205"
      ]
     },
     "metadata": {},
     "output_type": "display_data"
    },
    {
     "name": "stdout",
     "output_type": "stream",
     "text": [
      "\n",
      "See the whole table with table.as_data_frame()\n"
     ]
    },
    {
     "data": {
      "text/plain": []
     },
     "execution_count": 122,
     "metadata": {},
     "output_type": "execute_result"
    }
   ],
   "source": [
    "model3"
   ]
  },
  {
   "cell_type": "code",
   "execution_count": 124,
   "metadata": {},
   "outputs": [
    {
     "name": "stdout",
     "output_type": "stream",
     "text": [
      "\n",
      "ModelMetricsBinomial: deeplearning\n",
      "** Reported on train data. **\n",
      "\n",
      "MSE: 0.13435466803237936\n",
      "RMSE: 0.36654422384260726\n",
      "LogLoss: 0.4432826410111279\n",
      "Mean Per-Class Error: 0.16175342728405706\n",
      "AUC: 0.8980096720246274\n",
      "Gini: 0.7960193440492549\n",
      "Confusion Matrix (Act/Pred) for max f1 @ threshold = 0.7831692715010209: \n"
     ]
    },
    {
     "data": {
      "text/html": [
       "<div style=\"overflow:auto\"><table style=\"width:50%\"><tr><td><b></b></td>\n",
       "<td><b>0</b></td>\n",
       "<td><b>1</b></td>\n",
       "<td><b>Error</b></td>\n",
       "<td><b>Rate</b></td></tr>\n",
       "<tr><td>0</td>\n",
       "<td>495.0</td>\n",
       "<td>54.0</td>\n",
       "<td>0.0984</td>\n",
       "<td> (54.0/549.0)</td></tr>\n",
       "<tr><td>1</td>\n",
       "<td>77.0</td>\n",
       "<td>265.0</td>\n",
       "<td>0.2251</td>\n",
       "<td> (77.0/342.0)</td></tr>\n",
       "<tr><td>Total</td>\n",
       "<td>572.0</td>\n",
       "<td>319.0</td>\n",
       "<td>0.147</td>\n",
       "<td> (131.0/891.0)</td></tr></table></div>"
      ],
      "text/plain": [
       "       0    1    Error    Rate\n",
       "-----  ---  ---  -------  -------------\n",
       "0      495  54   0.0984   (54.0/549.0)\n",
       "1      77   265  0.2251   (77.0/342.0)\n",
       "Total  572  319  0.147    (131.0/891.0)"
      ]
     },
     "metadata": {},
     "output_type": "display_data"
    },
    {
     "name": "stdout",
     "output_type": "stream",
     "text": [
      "Maximum Metrics: Maximum metrics at their respective thresholds\n",
      "\n"
     ]
    },
    {
     "data": {
      "text/html": [
       "<div style=\"overflow:auto\"><table style=\"width:50%\"><tr><td><b>metric</b></td>\n",
       "<td><b>threshold</b></td>\n",
       "<td><b>value</b></td>\n",
       "<td><b>idx</b></td></tr>\n",
       "<tr><td>max f1</td>\n",
       "<td>0.7831693</td>\n",
       "<td>0.8018154</td>\n",
       "<td>201.0</td></tr>\n",
       "<tr><td>max f2</td>\n",
       "<td>0.3744321</td>\n",
       "<td>0.8347153</td>\n",
       "<td>269.0</td></tr>\n",
       "<tr><td>max f0point5</td>\n",
       "<td>0.8908021</td>\n",
       "<td>0.8380481</td>\n",
       "<td>177.0</td></tr>\n",
       "<tr><td>max accuracy</td>\n",
       "<td>0.7831693</td>\n",
       "<td>0.8529742</td>\n",
       "<td>201.0</td></tr>\n",
       "<tr><td>max precision</td>\n",
       "<td>0.9999921</td>\n",
       "<td>1.0</td>\n",
       "<td>0.0</td></tr>\n",
       "<tr><td>max recall</td>\n",
       "<td>0.0863745</td>\n",
       "<td>1.0</td>\n",
       "<td>340.0</td></tr>\n",
       "<tr><td>max specificity</td>\n",
       "<td>0.9999921</td>\n",
       "<td>1.0</td>\n",
       "<td>0.0</td></tr>\n",
       "<tr><td>max absolute_mcc</td>\n",
       "<td>0.7831693</td>\n",
       "<td>0.6862293</td>\n",
       "<td>201.0</td></tr>\n",
       "<tr><td>max min_per_class_accuracy</td>\n",
       "<td>0.5385060</td>\n",
       "<td>0.8306011</td>\n",
       "<td>236.0</td></tr>\n",
       "<tr><td>max mean_per_class_accuracy</td>\n",
       "<td>0.7831693</td>\n",
       "<td>0.8382466</td>\n",
       "<td>201.0</td></tr></table></div>"
      ],
      "text/plain": [
       "metric                       threshold    value     idx\n",
       "---------------------------  -----------  --------  -----\n",
       "max f1                       0.783169     0.801815  201\n",
       "max f2                       0.374432     0.834715  269\n",
       "max f0point5                 0.890802     0.838048  177\n",
       "max accuracy                 0.783169     0.852974  201\n",
       "max precision                0.999992     1         0\n",
       "max recall                   0.0863745    1         340\n",
       "max specificity              0.999992     1         0\n",
       "max absolute_mcc             0.783169     0.686229  201\n",
       "max min_per_class_accuracy   0.538506     0.830601  236\n",
       "max mean_per_class_accuracy  0.783169     0.838247  201"
      ]
     },
     "metadata": {},
     "output_type": "display_data"
    },
    {
     "name": "stdout",
     "output_type": "stream",
     "text": [
      "Gains/Lift Table: Avg response rate: 38.38 %\n",
      "\n"
     ]
    },
    {
     "data": {
      "text/html": [
       "<div style=\"overflow:auto\"><table style=\"width:50%\"><tr><td><b></b></td>\n",
       "<td><b>group</b></td>\n",
       "<td><b>cumulative_data_fraction</b></td>\n",
       "<td><b>lower_threshold</b></td>\n",
       "<td><b>lift</b></td>\n",
       "<td><b>cumulative_lift</b></td>\n",
       "<td><b>response_rate</b></td>\n",
       "<td><b>cumulative_response_rate</b></td>\n",
       "<td><b>capture_rate</b></td>\n",
       "<td><b>cumulative_capture_rate</b></td>\n",
       "<td><b>gain</b></td>\n",
       "<td><b>cumulative_gain</b></td></tr>\n",
       "<tr><td></td>\n",
       "<td>1</td>\n",
       "<td>0.0101010</td>\n",
       "<td>0.9999670</td>\n",
       "<td>2.6052632</td>\n",
       "<td>2.6052632</td>\n",
       "<td>1.0</td>\n",
       "<td>1.0</td>\n",
       "<td>0.0263158</td>\n",
       "<td>0.0263158</td>\n",
       "<td>160.5263158</td>\n",
       "<td>160.5263158</td></tr>\n",
       "<tr><td></td>\n",
       "<td>2</td>\n",
       "<td>0.0202020</td>\n",
       "<td>0.9999242</td>\n",
       "<td>2.6052632</td>\n",
       "<td>2.6052632</td>\n",
       "<td>1.0</td>\n",
       "<td>1.0</td>\n",
       "<td>0.0263158</td>\n",
       "<td>0.0526316</td>\n",
       "<td>160.5263158</td>\n",
       "<td>160.5263158</td></tr>\n",
       "<tr><td></td>\n",
       "<td>3</td>\n",
       "<td>0.0303030</td>\n",
       "<td>0.9998261</td>\n",
       "<td>2.6052632</td>\n",
       "<td>2.6052632</td>\n",
       "<td>1.0</td>\n",
       "<td>1.0</td>\n",
       "<td>0.0263158</td>\n",
       "<td>0.0789474</td>\n",
       "<td>160.5263158</td>\n",
       "<td>160.5263158</td></tr>\n",
       "<tr><td></td>\n",
       "<td>4</td>\n",
       "<td>0.0404040</td>\n",
       "<td>0.9997109</td>\n",
       "<td>2.6052632</td>\n",
       "<td>2.6052632</td>\n",
       "<td>1.0</td>\n",
       "<td>1.0</td>\n",
       "<td>0.0263158</td>\n",
       "<td>0.1052632</td>\n",
       "<td>160.5263158</td>\n",
       "<td>160.5263158</td></tr>\n",
       "<tr><td></td>\n",
       "<td>5</td>\n",
       "<td>0.0505051</td>\n",
       "<td>0.9995228</td>\n",
       "<td>2.6052632</td>\n",
       "<td>2.6052632</td>\n",
       "<td>1.0</td>\n",
       "<td>1.0</td>\n",
       "<td>0.0263158</td>\n",
       "<td>0.1315789</td>\n",
       "<td>160.5263158</td>\n",
       "<td>160.5263158</td></tr>\n",
       "<tr><td></td>\n",
       "<td>6</td>\n",
       "<td>0.1010101</td>\n",
       "<td>0.9984157</td>\n",
       "<td>2.6052632</td>\n",
       "<td>2.6052632</td>\n",
       "<td>1.0</td>\n",
       "<td>1.0</td>\n",
       "<td>0.1315789</td>\n",
       "<td>0.2631579</td>\n",
       "<td>160.5263158</td>\n",
       "<td>160.5263158</td></tr>\n",
       "<tr><td></td>\n",
       "<td>7</td>\n",
       "<td>0.1515152</td>\n",
       "<td>0.9918162</td>\n",
       "<td>2.3736842</td>\n",
       "<td>2.5280702</td>\n",
       "<td>0.9111111</td>\n",
       "<td>0.9703704</td>\n",
       "<td>0.1198830</td>\n",
       "<td>0.3830409</td>\n",
       "<td>137.3684211</td>\n",
       "<td>152.8070175</td></tr>\n",
       "<tr><td></td>\n",
       "<td>8</td>\n",
       "<td>0.2031425</td>\n",
       "<td>0.9752246</td>\n",
       "<td>2.1521739</td>\n",
       "<td>2.4325385</td>\n",
       "<td>0.8260870</td>\n",
       "<td>0.9337017</td>\n",
       "<td>0.1111111</td>\n",
       "<td>0.4941520</td>\n",
       "<td>115.2173913</td>\n",
       "<td>143.2538529</td></tr>\n",
       "<tr><td></td>\n",
       "<td>9</td>\n",
       "<td>0.3007856</td>\n",
       "<td>0.8908021</td>\n",
       "<td>2.0362976</td>\n",
       "<td>2.3039081</td>\n",
       "<td>0.7816092</td>\n",
       "<td>0.8843284</td>\n",
       "<td>0.1988304</td>\n",
       "<td>0.6929825</td>\n",
       "<td>103.6297641</td>\n",
       "<td>130.3908091</td></tr>\n",
       "<tr><td></td>\n",
       "<td>10</td>\n",
       "<td>0.4006734</td>\n",
       "<td>0.5877009</td>\n",
       "<td>1.2294500</td>\n",
       "<td>2.0360460</td>\n",
       "<td>0.4719101</td>\n",
       "<td>0.7815126</td>\n",
       "<td>0.1228070</td>\n",
       "<td>0.8157895</td>\n",
       "<td>22.9450030</td>\n",
       "<td>103.6045997</td></tr>\n",
       "<tr><td></td>\n",
       "<td>11</td>\n",
       "<td>0.5286195</td>\n",
       "<td>0.3613237</td>\n",
       "<td>0.5941828</td>\n",
       "<td>1.6870600</td>\n",
       "<td>0.2280702</td>\n",
       "<td>0.6475584</td>\n",
       "<td>0.0760234</td>\n",
       "<td>0.8918129</td>\n",
       "<td>-40.5817175</td>\n",
       "<td>68.7060007</td></tr>\n",
       "<tr><td></td>\n",
       "<td>12</td>\n",
       "<td>0.6004489</td>\n",
       "<td>0.1883483</td>\n",
       "<td>0.2849507</td>\n",
       "<td>1.5193310</td>\n",
       "<td>0.109375</td>\n",
       "<td>0.5831776</td>\n",
       "<td>0.0204678</td>\n",
       "<td>0.9122807</td>\n",
       "<td>-71.5049342</td>\n",
       "<td>51.9331038</td></tr>\n",
       "<tr><td></td>\n",
       "<td>13</td>\n",
       "<td>0.7979798</td>\n",
       "<td>0.1637664</td>\n",
       "<td>0.2664474</td>\n",
       "<td>1.2091939</td>\n",
       "<td>0.1022727</td>\n",
       "<td>0.4641350</td>\n",
       "<td>0.0526316</td>\n",
       "<td>0.9649123</td>\n",
       "<td>-73.3552632</td>\n",
       "<td>20.9193871</td></tr>\n",
       "<tr><td></td>\n",
       "<td>14</td>\n",
       "<td>0.8013468</td>\n",
       "<td>0.1568208</td>\n",
       "<td>0.8684211</td>\n",
       "<td>1.2077621</td>\n",
       "<td>0.3333333</td>\n",
       "<td>0.4635854</td>\n",
       "<td>0.0029240</td>\n",
       "<td>0.9678363</td>\n",
       "<td>-13.1578947</td>\n",
       "<td>20.7762052</td></tr>\n",
       "<tr><td></td>\n",
       "<td>15</td>\n",
       "<td>0.9001122</td>\n",
       "<td>0.1015068</td>\n",
       "<td>0.1776316</td>\n",
       "<td>1.0947303</td>\n",
       "<td>0.0681818</td>\n",
       "<td>0.4201995</td>\n",
       "<td>0.0175439</td>\n",
       "<td>0.9853801</td>\n",
       "<td>-82.2368421</td>\n",
       "<td>9.4730280</td></tr>\n",
       "<tr><td></td>\n",
       "<td>16</td>\n",
       "<td>1.0</td>\n",
       "<td>0.0000546</td>\n",
       "<td>0.1463631</td>\n",
       "<td>1.0</td>\n",
       "<td>0.0561798</td>\n",
       "<td>0.3838384</td>\n",
       "<td>0.0146199</td>\n",
       "<td>1.0</td>\n",
       "<td>-85.3636901</td>\n",
       "<td>0.0</td></tr></table></div>"
      ],
      "text/plain": [
       "    group    cumulative_data_fraction    lower_threshold    lift      cumulative_lift    response_rate    cumulative_response_rate    capture_rate    cumulative_capture_rate    gain      cumulative_gain\n",
       "--  -------  --------------------------  -----------------  --------  -----------------  ---------------  --------------------------  --------------  -------------------------  --------  -----------------\n",
       "    1        0.010101                    0.999967           2.60526   2.60526            1                1                           0.0263158       0.0263158                  160.526   160.526\n",
       "    2        0.020202                    0.999924           2.60526   2.60526            1                1                           0.0263158       0.0526316                  160.526   160.526\n",
       "    3        0.030303                    0.999826           2.60526   2.60526            1                1                           0.0263158       0.0789474                  160.526   160.526\n",
       "    4        0.040404                    0.999711           2.60526   2.60526            1                1                           0.0263158       0.105263                   160.526   160.526\n",
       "    5        0.0505051                   0.999523           2.60526   2.60526            1                1                           0.0263158       0.131579                   160.526   160.526\n",
       "    6        0.10101                     0.998416           2.60526   2.60526            1                1                           0.131579        0.263158                   160.526   160.526\n",
       "    7        0.151515                    0.991816           2.37368   2.52807            0.911111         0.97037                     0.119883        0.383041                   137.368   152.807\n",
       "    8        0.203143                    0.975225           2.15217   2.43254            0.826087         0.933702                    0.111111        0.494152                   115.217   143.254\n",
       "    9        0.300786                    0.890802           2.0363    2.30391            0.781609         0.884328                    0.19883         0.692982                   103.63    130.391\n",
       "    10       0.400673                    0.587701           1.22945   2.03605            0.47191          0.781513                    0.122807        0.815789                   22.945    103.605\n",
       "    11       0.52862                     0.361324           0.594183  1.68706            0.22807          0.647558                    0.0760234       0.891813                   -40.5817  68.706\n",
       "    12       0.600449                    0.188348           0.284951  1.51933            0.109375         0.583178                    0.0204678       0.912281                   -71.5049  51.9331\n",
       "    13       0.79798                     0.163766           0.266447  1.20919            0.102273         0.464135                    0.0526316       0.964912                   -73.3553  20.9194\n",
       "    14       0.801347                    0.156821           0.868421  1.20776            0.333333         0.463585                    0.00292398      0.967836                   -13.1579  20.7762\n",
       "    15       0.900112                    0.101507           0.177632  1.09473            0.0681818        0.4202                      0.0175439       0.98538                    -82.2368  9.47303\n",
       "    16       1                           5.46295e-05        0.146363  1                  0.0561798        0.383838                    0.0146199       1                          -85.3637  0"
      ]
     },
     "metadata": {},
     "output_type": "display_data"
    },
    {
     "name": "stdout",
     "output_type": "stream",
     "text": [
      "\n"
     ]
    },
    {
     "data": {
      "text/plain": []
     },
     "execution_count": 124,
     "metadata": {},
     "output_type": "execute_result"
    }
   ],
   "source": [
    "model3.model_performance()    "
   ]
  },
  {
   "cell_type": "code",
   "execution_count": 125,
   "metadata": {},
   "outputs": [
    {
     "name": "stdout",
     "output_type": "stream",
     "text": [
      "\n",
      "ModelMetricsBinomial: deeplearning\n",
      "** Reported on validation data. **\n",
      "\n",
      "MSE: 0.1343546680323795\n",
      "RMSE: 0.36654422384260743\n",
      "LogLoss: 0.4432826410111272\n",
      "Mean Per-Class Error: 0.16175342728405706\n",
      "AUC: 0.8980096720246274\n",
      "Gini: 0.7960193440492549\n",
      "Confusion Matrix (Act/Pred) for max f1 @ threshold = 0.7831692715010209: \n"
     ]
    },
    {
     "data": {
      "text/html": [
       "<div style=\"overflow:auto\"><table style=\"width:50%\"><tr><td><b></b></td>\n",
       "<td><b>0</b></td>\n",
       "<td><b>1</b></td>\n",
       "<td><b>Error</b></td>\n",
       "<td><b>Rate</b></td></tr>\n",
       "<tr><td>0</td>\n",
       "<td>495.0</td>\n",
       "<td>54.0</td>\n",
       "<td>0.0984</td>\n",
       "<td> (54.0/549.0)</td></tr>\n",
       "<tr><td>1</td>\n",
       "<td>77.0</td>\n",
       "<td>265.0</td>\n",
       "<td>0.2251</td>\n",
       "<td> (77.0/342.0)</td></tr>\n",
       "<tr><td>Total</td>\n",
       "<td>572.0</td>\n",
       "<td>319.0</td>\n",
       "<td>0.147</td>\n",
       "<td> (131.0/891.0)</td></tr></table></div>"
      ],
      "text/plain": [
       "       0    1    Error    Rate\n",
       "-----  ---  ---  -------  -------------\n",
       "0      495  54   0.0984   (54.0/549.0)\n",
       "1      77   265  0.2251   (77.0/342.0)\n",
       "Total  572  319  0.147    (131.0/891.0)"
      ]
     },
     "metadata": {},
     "output_type": "display_data"
    },
    {
     "name": "stdout",
     "output_type": "stream",
     "text": [
      "Maximum Metrics: Maximum metrics at their respective thresholds\n",
      "\n"
     ]
    },
    {
     "data": {
      "text/html": [
       "<div style=\"overflow:auto\"><table style=\"width:50%\"><tr><td><b>metric</b></td>\n",
       "<td><b>threshold</b></td>\n",
       "<td><b>value</b></td>\n",
       "<td><b>idx</b></td></tr>\n",
       "<tr><td>max f1</td>\n",
       "<td>0.7831693</td>\n",
       "<td>0.8018154</td>\n",
       "<td>201.0</td></tr>\n",
       "<tr><td>max f2</td>\n",
       "<td>0.3744321</td>\n",
       "<td>0.8347153</td>\n",
       "<td>269.0</td></tr>\n",
       "<tr><td>max f0point5</td>\n",
       "<td>0.8908021</td>\n",
       "<td>0.8380481</td>\n",
       "<td>177.0</td></tr>\n",
       "<tr><td>max accuracy</td>\n",
       "<td>0.7831693</td>\n",
       "<td>0.8529742</td>\n",
       "<td>201.0</td></tr>\n",
       "<tr><td>max precision</td>\n",
       "<td>0.9999921</td>\n",
       "<td>1.0</td>\n",
       "<td>0.0</td></tr>\n",
       "<tr><td>max recall</td>\n",
       "<td>0.0863745</td>\n",
       "<td>1.0</td>\n",
       "<td>340.0</td></tr>\n",
       "<tr><td>max specificity</td>\n",
       "<td>0.9999921</td>\n",
       "<td>1.0</td>\n",
       "<td>0.0</td></tr>\n",
       "<tr><td>max absolute_mcc</td>\n",
       "<td>0.7831693</td>\n",
       "<td>0.6862293</td>\n",
       "<td>201.0</td></tr>\n",
       "<tr><td>max min_per_class_accuracy</td>\n",
       "<td>0.5385060</td>\n",
       "<td>0.8306011</td>\n",
       "<td>236.0</td></tr>\n",
       "<tr><td>max mean_per_class_accuracy</td>\n",
       "<td>0.7831693</td>\n",
       "<td>0.8382466</td>\n",
       "<td>201.0</td></tr></table></div>"
      ],
      "text/plain": [
       "metric                       threshold    value     idx\n",
       "---------------------------  -----------  --------  -----\n",
       "max f1                       0.783169     0.801815  201\n",
       "max f2                       0.374432     0.834715  269\n",
       "max f0point5                 0.890802     0.838048  177\n",
       "max accuracy                 0.783169     0.852974  201\n",
       "max precision                0.999992     1         0\n",
       "max recall                   0.0863745    1         340\n",
       "max specificity              0.999992     1         0\n",
       "max absolute_mcc             0.783169     0.686229  201\n",
       "max min_per_class_accuracy   0.538506     0.830601  236\n",
       "max mean_per_class_accuracy  0.783169     0.838247  201"
      ]
     },
     "metadata": {},
     "output_type": "display_data"
    },
    {
     "name": "stdout",
     "output_type": "stream",
     "text": [
      "Gains/Lift Table: Avg response rate: 38.38 %\n",
      "\n"
     ]
    },
    {
     "data": {
      "text/html": [
       "<div style=\"overflow:auto\"><table style=\"width:50%\"><tr><td><b></b></td>\n",
       "<td><b>group</b></td>\n",
       "<td><b>cumulative_data_fraction</b></td>\n",
       "<td><b>lower_threshold</b></td>\n",
       "<td><b>lift</b></td>\n",
       "<td><b>cumulative_lift</b></td>\n",
       "<td><b>response_rate</b></td>\n",
       "<td><b>cumulative_response_rate</b></td>\n",
       "<td><b>capture_rate</b></td>\n",
       "<td><b>cumulative_capture_rate</b></td>\n",
       "<td><b>gain</b></td>\n",
       "<td><b>cumulative_gain</b></td></tr>\n",
       "<tr><td></td>\n",
       "<td>1</td>\n",
       "<td>0.0101010</td>\n",
       "<td>0.9999670</td>\n",
       "<td>2.6052632</td>\n",
       "<td>2.6052632</td>\n",
       "<td>1.0</td>\n",
       "<td>1.0</td>\n",
       "<td>0.0263158</td>\n",
       "<td>0.0263158</td>\n",
       "<td>160.5263158</td>\n",
       "<td>160.5263158</td></tr>\n",
       "<tr><td></td>\n",
       "<td>2</td>\n",
       "<td>0.0202020</td>\n",
       "<td>0.9999242</td>\n",
       "<td>2.6052632</td>\n",
       "<td>2.6052632</td>\n",
       "<td>1.0</td>\n",
       "<td>1.0</td>\n",
       "<td>0.0263158</td>\n",
       "<td>0.0526316</td>\n",
       "<td>160.5263158</td>\n",
       "<td>160.5263158</td></tr>\n",
       "<tr><td></td>\n",
       "<td>3</td>\n",
       "<td>0.0303030</td>\n",
       "<td>0.9998261</td>\n",
       "<td>2.6052632</td>\n",
       "<td>2.6052632</td>\n",
       "<td>1.0</td>\n",
       "<td>1.0</td>\n",
       "<td>0.0263158</td>\n",
       "<td>0.0789474</td>\n",
       "<td>160.5263158</td>\n",
       "<td>160.5263158</td></tr>\n",
       "<tr><td></td>\n",
       "<td>4</td>\n",
       "<td>0.0404040</td>\n",
       "<td>0.9997109</td>\n",
       "<td>2.6052632</td>\n",
       "<td>2.6052632</td>\n",
       "<td>1.0</td>\n",
       "<td>1.0</td>\n",
       "<td>0.0263158</td>\n",
       "<td>0.1052632</td>\n",
       "<td>160.5263158</td>\n",
       "<td>160.5263158</td></tr>\n",
       "<tr><td></td>\n",
       "<td>5</td>\n",
       "<td>0.0505051</td>\n",
       "<td>0.9995228</td>\n",
       "<td>2.6052632</td>\n",
       "<td>2.6052632</td>\n",
       "<td>1.0</td>\n",
       "<td>1.0</td>\n",
       "<td>0.0263158</td>\n",
       "<td>0.1315789</td>\n",
       "<td>160.5263158</td>\n",
       "<td>160.5263158</td></tr>\n",
       "<tr><td></td>\n",
       "<td>6</td>\n",
       "<td>0.1010101</td>\n",
       "<td>0.9984157</td>\n",
       "<td>2.6052632</td>\n",
       "<td>2.6052632</td>\n",
       "<td>1.0</td>\n",
       "<td>1.0</td>\n",
       "<td>0.1315789</td>\n",
       "<td>0.2631579</td>\n",
       "<td>160.5263158</td>\n",
       "<td>160.5263158</td></tr>\n",
       "<tr><td></td>\n",
       "<td>7</td>\n",
       "<td>0.1515152</td>\n",
       "<td>0.9918162</td>\n",
       "<td>2.3736842</td>\n",
       "<td>2.5280702</td>\n",
       "<td>0.9111111</td>\n",
       "<td>0.9703704</td>\n",
       "<td>0.1198830</td>\n",
       "<td>0.3830409</td>\n",
       "<td>137.3684211</td>\n",
       "<td>152.8070175</td></tr>\n",
       "<tr><td></td>\n",
       "<td>8</td>\n",
       "<td>0.2031425</td>\n",
       "<td>0.9752246</td>\n",
       "<td>2.1521739</td>\n",
       "<td>2.4325385</td>\n",
       "<td>0.8260870</td>\n",
       "<td>0.9337017</td>\n",
       "<td>0.1111111</td>\n",
       "<td>0.4941520</td>\n",
       "<td>115.2173913</td>\n",
       "<td>143.2538529</td></tr>\n",
       "<tr><td></td>\n",
       "<td>9</td>\n",
       "<td>0.3007856</td>\n",
       "<td>0.8908021</td>\n",
       "<td>2.0362976</td>\n",
       "<td>2.3039081</td>\n",
       "<td>0.7816092</td>\n",
       "<td>0.8843284</td>\n",
       "<td>0.1988304</td>\n",
       "<td>0.6929825</td>\n",
       "<td>103.6297641</td>\n",
       "<td>130.3908091</td></tr>\n",
       "<tr><td></td>\n",
       "<td>10</td>\n",
       "<td>0.4006734</td>\n",
       "<td>0.5877009</td>\n",
       "<td>1.2294500</td>\n",
       "<td>2.0360460</td>\n",
       "<td>0.4719101</td>\n",
       "<td>0.7815126</td>\n",
       "<td>0.1228070</td>\n",
       "<td>0.8157895</td>\n",
       "<td>22.9450030</td>\n",
       "<td>103.6045997</td></tr>\n",
       "<tr><td></td>\n",
       "<td>11</td>\n",
       "<td>0.5286195</td>\n",
       "<td>0.3613237</td>\n",
       "<td>0.5941828</td>\n",
       "<td>1.6870600</td>\n",
       "<td>0.2280702</td>\n",
       "<td>0.6475584</td>\n",
       "<td>0.0760234</td>\n",
       "<td>0.8918129</td>\n",
       "<td>-40.5817175</td>\n",
       "<td>68.7060007</td></tr>\n",
       "<tr><td></td>\n",
       "<td>12</td>\n",
       "<td>0.6004489</td>\n",
       "<td>0.1883483</td>\n",
       "<td>0.2849507</td>\n",
       "<td>1.5193310</td>\n",
       "<td>0.109375</td>\n",
       "<td>0.5831776</td>\n",
       "<td>0.0204678</td>\n",
       "<td>0.9122807</td>\n",
       "<td>-71.5049342</td>\n",
       "<td>51.9331038</td></tr>\n",
       "<tr><td></td>\n",
       "<td>13</td>\n",
       "<td>0.7979798</td>\n",
       "<td>0.1637664</td>\n",
       "<td>0.2664474</td>\n",
       "<td>1.2091939</td>\n",
       "<td>0.1022727</td>\n",
       "<td>0.4641350</td>\n",
       "<td>0.0526316</td>\n",
       "<td>0.9649123</td>\n",
       "<td>-73.3552632</td>\n",
       "<td>20.9193871</td></tr>\n",
       "<tr><td></td>\n",
       "<td>14</td>\n",
       "<td>0.8013468</td>\n",
       "<td>0.1568208</td>\n",
       "<td>0.8684211</td>\n",
       "<td>1.2077621</td>\n",
       "<td>0.3333333</td>\n",
       "<td>0.4635854</td>\n",
       "<td>0.0029240</td>\n",
       "<td>0.9678363</td>\n",
       "<td>-13.1578947</td>\n",
       "<td>20.7762052</td></tr>\n",
       "<tr><td></td>\n",
       "<td>15</td>\n",
       "<td>0.9001122</td>\n",
       "<td>0.1015068</td>\n",
       "<td>0.1776316</td>\n",
       "<td>1.0947303</td>\n",
       "<td>0.0681818</td>\n",
       "<td>0.4201995</td>\n",
       "<td>0.0175439</td>\n",
       "<td>0.9853801</td>\n",
       "<td>-82.2368421</td>\n",
       "<td>9.4730280</td></tr>\n",
       "<tr><td></td>\n",
       "<td>16</td>\n",
       "<td>1.0</td>\n",
       "<td>0.0000546</td>\n",
       "<td>0.1463631</td>\n",
       "<td>1.0</td>\n",
       "<td>0.0561798</td>\n",
       "<td>0.3838384</td>\n",
       "<td>0.0146199</td>\n",
       "<td>1.0</td>\n",
       "<td>-85.3636901</td>\n",
       "<td>0.0</td></tr></table></div>"
      ],
      "text/plain": [
       "    group    cumulative_data_fraction    lower_threshold    lift      cumulative_lift    response_rate    cumulative_response_rate    capture_rate    cumulative_capture_rate    gain      cumulative_gain\n",
       "--  -------  --------------------------  -----------------  --------  -----------------  ---------------  --------------------------  --------------  -------------------------  --------  -----------------\n",
       "    1        0.010101                    0.999967           2.60526   2.60526            1                1                           0.0263158       0.0263158                  160.526   160.526\n",
       "    2        0.020202                    0.999924           2.60526   2.60526            1                1                           0.0263158       0.0526316                  160.526   160.526\n",
       "    3        0.030303                    0.999826           2.60526   2.60526            1                1                           0.0263158       0.0789474                  160.526   160.526\n",
       "    4        0.040404                    0.999711           2.60526   2.60526            1                1                           0.0263158       0.105263                   160.526   160.526\n",
       "    5        0.0505051                   0.999523           2.60526   2.60526            1                1                           0.0263158       0.131579                   160.526   160.526\n",
       "    6        0.10101                     0.998416           2.60526   2.60526            1                1                           0.131579        0.263158                   160.526   160.526\n",
       "    7        0.151515                    0.991816           2.37368   2.52807            0.911111         0.97037                     0.119883        0.383041                   137.368   152.807\n",
       "    8        0.203143                    0.975225           2.15217   2.43254            0.826087         0.933702                    0.111111        0.494152                   115.217   143.254\n",
       "    9        0.300786                    0.890802           2.0363    2.30391            0.781609         0.884328                    0.19883         0.692982                   103.63    130.391\n",
       "    10       0.400673                    0.587701           1.22945   2.03605            0.47191          0.781513                    0.122807        0.815789                   22.945    103.605\n",
       "    11       0.52862                     0.361324           0.594183  1.68706            0.22807          0.647558                    0.0760234       0.891813                   -40.5817  68.706\n",
       "    12       0.600449                    0.188348           0.284951  1.51933            0.109375         0.583178                    0.0204678       0.912281                   -71.5049  51.9331\n",
       "    13       0.79798                     0.163766           0.266447  1.20919            0.102273         0.464135                    0.0526316       0.964912                   -73.3553  20.9194\n",
       "    14       0.801347                    0.156821           0.868421  1.20776            0.333333         0.463585                    0.00292398      0.967836                   -13.1579  20.7762\n",
       "    15       0.900112                    0.101507           0.177632  1.09473            0.0681818        0.4202                      0.0175439       0.98538                    -82.2368  9.47303\n",
       "    16       1                           5.46295e-05        0.146363  1                  0.0561798        0.383838                    0.0146199       1                          -85.3637  0"
      ]
     },
     "metadata": {},
     "output_type": "display_data"
    },
    {
     "name": "stdout",
     "output_type": "stream",
     "text": [
      "\n"
     ]
    },
    {
     "data": {
      "text/plain": []
     },
     "execution_count": 125,
     "metadata": {},
     "output_type": "execute_result"
    }
   ],
   "source": [
    "model3.model_performance(valid=True)"
   ]
  },
  {
   "cell_type": "code",
   "execution_count": 128,
   "metadata": {},
   "outputs": [],
   "source": [
    "#model3.model_performance(test_data=test_data)  "
   ]
  },
  {
   "cell_type": "code",
   "execution_count": 129,
   "metadata": {},
   "outputs": [
    {
     "data": {
      "text/plain": [
       "0.13435466803237936"
      ]
     },
     "execution_count": 129,
     "metadata": {},
     "output_type": "execute_result"
    }
   ],
   "source": [
    "model3.mse()           # MSE on the training data"
   ]
  },
  {
   "cell_type": "code",
   "execution_count": 130,
   "metadata": {},
   "outputs": [
    {
     "data": {
      "text/plain": [
       "0.1343546680323795"
      ]
     },
     "execution_count": 130,
     "metadata": {},
     "output_type": "execute_result"
    }
   ],
   "source": [
    "model3.mse(valid=True) # MSE on the validation data"
   ]
  },
  {
   "cell_type": "code",
   "execution_count": 131,
   "metadata": {},
   "outputs": [
    {
     "data": {
      "text/plain": [
       "0.43191971467413703"
      ]
     },
     "execution_count": 131,
     "metadata": {},
     "output_type": "execute_result"
    }
   ],
   "source": [
    "model3.r2()            # R^2 on the training data"
   ]
  },
  {
   "cell_type": "code",
   "execution_count": 132,
   "metadata": {},
   "outputs": [
    {
     "data": {
      "text/plain": [
       "0.4319197146741365"
      ]
     },
     "execution_count": 132,
     "metadata": {},
     "output_type": "execute_result"
    }
   ],
   "source": [
    "model3.r2(valid=True)  # R^2 on the validation data"
   ]
  },
  {
   "cell_type": "code",
   "execution_count": 133,
   "metadata": {},
   "outputs": [
    {
     "name": "stdout",
     "output_type": "stream",
     "text": [
      "Confusion Matrix (Act/Pred) for max f1 @ threshold = 0.7831692715010209: \n"
     ]
    },
    {
     "data": {
      "text/html": [
       "<div style=\"overflow:auto\"><table style=\"width:50%\"><tr><td><b></b></td>\n",
       "<td><b>0</b></td>\n",
       "<td><b>1</b></td>\n",
       "<td><b>Error</b></td>\n",
       "<td><b>Rate</b></td></tr>\n",
       "<tr><td>0</td>\n",
       "<td>495.0</td>\n",
       "<td>54.0</td>\n",
       "<td>0.0984</td>\n",
       "<td> (54.0/549.0)</td></tr>\n",
       "<tr><td>1</td>\n",
       "<td>77.0</td>\n",
       "<td>265.0</td>\n",
       "<td>0.2251</td>\n",
       "<td> (77.0/342.0)</td></tr>\n",
       "<tr><td>Total</td>\n",
       "<td>572.0</td>\n",
       "<td>319.0</td>\n",
       "<td>0.147</td>\n",
       "<td> (131.0/891.0)</td></tr></table></div>"
      ],
      "text/plain": [
       "       0    1    Error    Rate\n",
       "-----  ---  ---  -------  -------------\n",
       "0      495  54   0.0984   (54.0/549.0)\n",
       "1      77   265  0.2251   (77.0/342.0)\n",
       "Total  572  319  0.147    (131.0/891.0)"
      ]
     },
     "metadata": {},
     "output_type": "display_data"
    },
    {
     "data": {
      "text/plain": []
     },
     "execution_count": 133,
     "metadata": {},
     "output_type": "execute_result"
    }
   ],
   "source": [
    "model3.confusion_matrix()  # confusion matrix for max F1"
   ]
  },
  {
   "cell_type": "code",
   "execution_count": 134,
   "metadata": {},
   "outputs": [
    {
     "name": "stdout",
     "output_type": "stream",
     "text": [
      "Confusion Matrix (Act/Pred) for max accuracy @ threshold = 0.7831692715010209: \n"
     ]
    },
    {
     "data": {
      "text/html": [
       "<div style=\"overflow:auto\"><table style=\"width:50%\"><tr><td><b></b></td>\n",
       "<td><b>0</b></td>\n",
       "<td><b>1</b></td>\n",
       "<td><b>Error</b></td>\n",
       "<td><b>Rate</b></td></tr>\n",
       "<tr><td>0</td>\n",
       "<td>495.0</td>\n",
       "<td>54.0</td>\n",
       "<td>0.0984</td>\n",
       "<td> (54.0/549.0)</td></tr>\n",
       "<tr><td>1</td>\n",
       "<td>77.0</td>\n",
       "<td>265.0</td>\n",
       "<td>0.2251</td>\n",
       "<td> (77.0/342.0)</td></tr>\n",
       "<tr><td>Total</td>\n",
       "<td>572.0</td>\n",
       "<td>319.0</td>\n",
       "<td>0.147</td>\n",
       "<td> (131.0/891.0)</td></tr></table></div>"
      ],
      "text/plain": [
       "       0    1    Error    Rate\n",
       "-----  ---  ---  -------  -------------\n",
       "0      495  54   0.0984   (54.0/549.0)\n",
       "1      77   265  0.2251   (77.0/342.0)\n",
       "Total  572  319  0.147    (131.0/891.0)"
      ]
     },
     "metadata": {},
     "output_type": "display_data"
    },
    {
     "data": {
      "text/plain": []
     },
     "execution_count": 134,
     "metadata": {},
     "output_type": "execute_result"
    }
   ],
   "source": [
    "model3.confusion_matrix(metrics=\"accuracy\")  # confusion matrix for the maximum accuracy"
   ]
  },
  {
   "cell_type": "code",
   "execution_count": 135,
   "metadata": {},
   "outputs": [
    {
     "name": "stdout",
     "output_type": "stream",
     "text": [
      "Confusion Matrix (Act/Pred) for max min_per_class_accuracy @ threshold = 0.5385059879674994: \n"
     ]
    },
    {
     "data": {
      "text/html": [
       "<div style=\"overflow:auto\"><table style=\"width:50%\"><tr><td><b></b></td>\n",
       "<td><b>0</b></td>\n",
       "<td><b>1</b></td>\n",
       "<td><b>Error</b></td>\n",
       "<td><b>Rate</b></td></tr>\n",
       "<tr><td>0</td>\n",
       "<td>456.0</td>\n",
       "<td>93.0</td>\n",
       "<td>0.1694</td>\n",
       "<td> (93.0/549.0)</td></tr>\n",
       "<tr><td>1</td>\n",
       "<td>57.0</td>\n",
       "<td>285.0</td>\n",
       "<td>0.1667</td>\n",
       "<td> (57.0/342.0)</td></tr>\n",
       "<tr><td>Total</td>\n",
       "<td>513.0</td>\n",
       "<td>378.0</td>\n",
       "<td>0.1684</td>\n",
       "<td> (150.0/891.0)</td></tr></table></div>"
      ],
      "text/plain": [
       "       0    1    Error    Rate\n",
       "-----  ---  ---  -------  -------------\n",
       "0      456  93   0.1694   (93.0/549.0)\n",
       "1      57   285  0.1667   (57.0/342.0)\n",
       "Total  513  378  0.1684   (150.0/891.0)"
      ]
     },
     "metadata": {},
     "output_type": "display_data"
    },
    {
     "data": {
      "text/plain": []
     },
     "execution_count": 135,
     "metadata": {},
     "output_type": "execute_result"
    }
   ],
   "source": [
    "model3.confusion_matrix(\"min_per_class_accuracy\")   # check out the help for more!"
   ]
  },
  {
   "cell_type": "code",
   "execution_count": 160,
   "metadata": {},
   "outputs": [],
   "source": [
    "#h2o.partialPlot(object = model3, data = data_test_h2o, cols = c(\"Age\", \"Pclass\"))"
   ]
  },
  {
   "cell_type": "markdown",
   "metadata": {},
   "source": [
    "Models performed pretty well for this dataset."
   ]
  },
  {
   "cell_type": "code",
   "execution_count": null,
   "metadata": {},
   "outputs": [],
   "source": []
  }
 ],
 "metadata": {
  "kernelspec": {
   "display_name": "Python 3",
   "language": "python",
   "name": "python3"
  },
  "language_info": {
   "codemirror_mode": {
    "name": "ipython",
    "version": 3
   },
   "file_extension": ".py",
   "mimetype": "text/x-python",
   "name": "python",
   "nbconvert_exporter": "python",
   "pygments_lexer": "ipython3",
   "version": "3.6.5"
  }
 },
 "nbformat": 4,
 "nbformat_minor": 2
}
