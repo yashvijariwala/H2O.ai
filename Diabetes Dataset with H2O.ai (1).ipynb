{
 "cells": [
  {
   "cell_type": "markdown",
   "metadata": {},
   "source": [
    "# Diabetes Dataset with H2O.ai : \n",
    "\n",
    "**By: Yashasvi Jariwala**\n",
    "\n",
    "    Diabetes Dataset ( \"https://www.kaggle.com/mehdidag/pima-indians\")"
   ]
  },
  {
   "cell_type": "code",
   "execution_count": 1,
   "metadata": {},
   "outputs": [],
   "source": [
    "import h2o"
   ]
  },
  {
   "cell_type": "code",
   "execution_count": 2,
   "metadata": {},
   "outputs": [
    {
     "name": "stdout",
     "output_type": "stream",
     "text": [
      "Checking whether there is an H2O instance running at http://localhost:54321. connected.\n",
      "Warning: Your H2O cluster version is too old (3 months and 21 days)! Please download and install the latest version from http://h2o.ai/download/\n"
     ]
    },
    {
     "data": {
      "text/html": [
       "<div style=\"overflow:auto\"><table style=\"width:50%\"><tr><td>H2O cluster uptime:</td>\n",
       "<td>3 hours 55 mins</td></tr>\n",
       "<tr><td>H2O cluster timezone:</td>\n",
       "<td>America/New_York</td></tr>\n",
       "<tr><td>H2O data parsing timezone:</td>\n",
       "<td>UTC</td></tr>\n",
       "<tr><td>H2O cluster version:</td>\n",
       "<td>3.20.0.3</td></tr>\n",
       "<tr><td>H2O cluster version age:</td>\n",
       "<td>3 months and 21 days !!!</td></tr>\n",
       "<tr><td>H2O cluster name:</td>\n",
       "<td>H2O_from_python_yashasvijariwala_1ja6gp</td></tr>\n",
       "<tr><td>H2O cluster total nodes:</td>\n",
       "<td>1</td></tr>\n",
       "<tr><td>H2O cluster free memory:</td>\n",
       "<td>1.606 Gb</td></tr>\n",
       "<tr><td>H2O cluster total cores:</td>\n",
       "<td>4</td></tr>\n",
       "<tr><td>H2O cluster allowed cores:</td>\n",
       "<td>4</td></tr>\n",
       "<tr><td>H2O cluster status:</td>\n",
       "<td>locked, healthy</td></tr>\n",
       "<tr><td>H2O connection url:</td>\n",
       "<td>http://localhost:54321</td></tr>\n",
       "<tr><td>H2O connection proxy:</td>\n",
       "<td>None</td></tr>\n",
       "<tr><td>H2O internal security:</td>\n",
       "<td>False</td></tr>\n",
       "<tr><td>H2O API Extensions:</td>\n",
       "<td>XGBoost, Algos, AutoML, Core V3, Core V4</td></tr>\n",
       "<tr><td>Python version:</td>\n",
       "<td>3.6.5 final</td></tr></table></div>"
      ],
      "text/plain": [
       "--------------------------  ----------------------------------------\n",
       "H2O cluster uptime:         3 hours 55 mins\n",
       "H2O cluster timezone:       America/New_York\n",
       "H2O data parsing timezone:  UTC\n",
       "H2O cluster version:        3.20.0.3\n",
       "H2O cluster version age:    3 months and 21 days !!!\n",
       "H2O cluster name:           H2O_from_python_yashasvijariwala_1ja6gp\n",
       "H2O cluster total nodes:    1\n",
       "H2O cluster free memory:    1.606 Gb\n",
       "H2O cluster total cores:    4\n",
       "H2O cluster allowed cores:  4\n",
       "H2O cluster status:         locked, healthy\n",
       "H2O connection url:         http://localhost:54321\n",
       "H2O connection proxy:\n",
       "H2O internal security:      False\n",
       "H2O API Extensions:         XGBoost, Algos, AutoML, Core V3, Core V4\n",
       "Python version:             3.6.5 final\n",
       "--------------------------  ----------------------------------------"
      ]
     },
     "metadata": {},
     "output_type": "display_data"
    }
   ],
   "source": [
    "h2o.init(nthreads = -1, max_mem_size = 8)"
   ]
  },
  {
   "cell_type": "code",
   "execution_count": 5,
   "metadata": {},
   "outputs": [
    {
     "name": "stdout",
     "output_type": "stream",
     "text": [
      "/Users/yashasvijariwala/Desktop\n"
     ]
    }
   ],
   "source": [
    "cd Desktop"
   ]
  },
  {
   "cell_type": "code",
   "execution_count": 6,
   "metadata": {},
   "outputs": [
    {
     "name": "stdout",
     "output_type": "stream",
     "text": [
      "Parse progress: |█████████████████████████████████████████████████████████| 100%\n"
     ]
    }
   ],
   "source": [
    "# Import data \n",
    "data = h2o.import_file(\"Diabetes.csv\")"
   ]
  },
  {
   "cell_type": "code",
   "execution_count": 7,
   "metadata": {},
   "outputs": [
    {
     "data": {
      "text/plain": [
       "(768, 9)"
      ]
     },
     "execution_count": 7,
     "metadata": {},
     "output_type": "execute_result"
    }
   ],
   "source": [
    "data.shape"
   ]
  },
  {
   "cell_type": "code",
   "execution_count": 9,
   "metadata": {},
   "outputs": [
    {
     "data": {
      "text/plain": [
       "[['0', '1']]"
      ]
     },
     "execution_count": 9,
     "metadata": {},
     "output_type": "execute_result"
    }
   ],
   "source": [
    "data['C9'] = data['C9'].asfactor()\n",
    "data['C9'].levels()"
   ]
  },
  {
   "cell_type": "code",
   "execution_count": 10,
   "metadata": {},
   "outputs": [
    {
     "name": "stderr",
     "output_type": "stream",
     "text": [
      "/anaconda3/lib/python3.6/importlib/_bootstrap.py:219: RuntimeWarning: numpy.dtype size changed, may indicate binary incompatibility. Expected 96, got 88\n",
      "  return f(*args, **kwds)\n"
     ]
    }
   ],
   "source": [
    "# Splitting the data\n",
    "splits = data.split_frame(ratios = [0.7,0.15], seed = 1)\n",
    "train = splits[0]\n",
    "valid = splits[1]\n",
    "test = splits[2]"
   ]
  },
  {
   "cell_type": "code",
   "execution_count": 11,
   "metadata": {},
   "outputs": [
    {
     "name": "stdout",
     "output_type": "stream",
     "text": [
      "534\n",
      "118\n",
      "116\n"
     ]
    }
   ],
   "source": [
    "print (train.nrow)\n",
    "print (valid.nrow)\n",
    "print (test.nrow)"
   ]
  },
  {
   "cell_type": "markdown",
   "metadata": {},
   "source": [
    "# Prediction"
   ]
  },
  {
   "cell_type": "code",
   "execution_count": 14,
   "metadata": {},
   "outputs": [],
   "source": [
    "y = 'C9'\n",
    "x = list(data.columns)"
   ]
  },
  {
   "cell_type": "code",
   "execution_count": 15,
   "metadata": {},
   "outputs": [],
   "source": [
    "x.remove(y)"
   ]
  },
  {
   "cell_type": "code",
   "execution_count": 16,
   "metadata": {},
   "outputs": [
    {
     "data": {
      "text/plain": [
       "['C1', 'C2', 'C3', 'C4', 'C5', 'C6', 'C7', 'C8']"
      ]
     },
     "execution_count": 16,
     "metadata": {},
     "output_type": "execute_result"
    }
   ],
   "source": [
    "x"
   ]
  },
  {
   "cell_type": "markdown",
   "metadata": {},
   "source": [
    "# Part A - Analyze Data with H2O \n",
    "# Part B - Interpret the Results"
   ]
  },
  {
   "cell_type": "markdown",
   "metadata": {},
   "source": [
    "Generalized Linear Model (GLM)\n",
    "\n",
    "Gradient Boosting Machine (GBM)\n",
    "\n",
    "Deep Learning (DL)"
   ]
  },
  {
   "cell_type": "markdown",
   "metadata": {},
   "source": [
    "# 1. GLM"
   ]
  },
  {
   "cell_type": "code",
   "execution_count": 17,
   "metadata": {},
   "outputs": [],
   "source": [
    "#import \n",
    "from h2o.estimators.glm import H2OGeneralizedLinearEstimator"
   ]
  },
  {
   "cell_type": "code",
   "execution_count": 18,
   "metadata": {},
   "outputs": [],
   "source": [
    "# Initialize the GLM estimator:\n",
    "# Training with the default parameters \n",
    "glm_fit1 = H2OGeneralizedLinearEstimator(family='binomial', model_id='glm_fit1')"
   ]
  },
  {
   "cell_type": "code",
   "execution_count": 19,
   "metadata": {},
   "outputs": [
    {
     "name": "stdout",
     "output_type": "stream",
     "text": [
      "glm Model Build progress: |███████████████████████████████████████████████| 100%\n"
     ]
    }
   ],
   "source": [
    "glm_fit1.train(x=x, y=y, training_frame=train)"
   ]
  },
  {
   "cell_type": "markdown",
   "metadata": {},
   "source": [
    "### Training with Lambda Search = True \n",
    "\n",
    "##### Lambda search = True means that the parameter to control regularization i.e. to avoid overfitting is enabled. "
   ]
  },
  {
   "cell_type": "code",
   "execution_count": 20,
   "metadata": {},
   "outputs": [
    {
     "name": "stdout",
     "output_type": "stream",
     "text": [
      "glm Model Build progress: |███████████████████████████████████████████████| 100%\n"
     ]
    }
   ],
   "source": [
    "glm_fit2 = H2OGeneralizedLinearEstimator(family='binomial', model_id='glm_fit2', lambda_search=True)\n",
    "glm_fit2.train(x=x, y=y, training_frame=train, validation_frame=valid)"
   ]
  },
  {
   "cell_type": "markdown",
   "metadata": {},
   "source": [
    "### Evaluating the model performance "
   ]
  },
  {
   "cell_type": "code",
   "execution_count": 21,
   "metadata": {},
   "outputs": [],
   "source": [
    "glm_perf1 = glm_fit1.model_performance(train)\n",
    "glm_perf2 = glm_fit2.model_performance(train)"
   ]
  },
  {
   "cell_type": "code",
   "execution_count": 22,
   "metadata": {},
   "outputs": [
    {
     "name": "stdout",
     "output_type": "stream",
     "text": [
      "\n",
      "ModelMetricsBinomialGLM: glm\n",
      "** Reported on test data. **\n",
      "\n",
      "MSE: 0.14762720782419084\n",
      "RMSE: 0.3842228621831226\n",
      "LogLoss: 0.4486640711146414\n",
      "Null degrees of freedom: 533\n",
      "Residual degrees of freedom: 525\n",
      "Null deviance: 689.0908990332099\n",
      "Residual deviance: 479.1732279504372\n",
      "AIC: 497.1732279504372\n",
      "AUC: 0.8537133121660342\n",
      "Gini: 0.7074266243320684\n",
      "Confusion Matrix (Act/Pred) for max f1 @ threshold = 0.2915820998783687: \n"
     ]
    },
    {
     "data": {
      "text/html": [
       "<div style=\"overflow:auto\"><table style=\"width:50%\"><tr><td><b></b></td>\n",
       "<td><b>0</b></td>\n",
       "<td><b>1</b></td>\n",
       "<td><b>Error</b></td>\n",
       "<td><b>Rate</b></td></tr>\n",
       "<tr><td>0</td>\n",
       "<td>256.0</td>\n",
       "<td>93.0</td>\n",
       "<td>0.2665</td>\n",
       "<td> (93.0/349.0)</td></tr>\n",
       "<tr><td>1</td>\n",
       "<td>35.0</td>\n",
       "<td>150.0</td>\n",
       "<td>0.1892</td>\n",
       "<td> (35.0/185.0)</td></tr>\n",
       "<tr><td>Total</td>\n",
       "<td>291.0</td>\n",
       "<td>243.0</td>\n",
       "<td>0.2397</td>\n",
       "<td> (128.0/534.0)</td></tr></table></div>"
      ],
      "text/plain": [
       "       0    1    Error    Rate\n",
       "-----  ---  ---  -------  -------------\n",
       "0      256  93   0.2665   (93.0/349.0)\n",
       "1      35   150  0.1892   (35.0/185.0)\n",
       "Total  291  243  0.2397   (128.0/534.0)"
      ]
     },
     "metadata": {},
     "output_type": "display_data"
    },
    {
     "name": "stdout",
     "output_type": "stream",
     "text": [
      "Maximum Metrics: Maximum metrics at their respective thresholds\n",
      "\n"
     ]
    },
    {
     "data": {
      "text/html": [
       "<div style=\"overflow:auto\"><table style=\"width:50%\"><tr><td><b>metric</b></td>\n",
       "<td><b>threshold</b></td>\n",
       "<td><b>value</b></td>\n",
       "<td><b>idx</b></td></tr>\n",
       "<tr><td>max f1</td>\n",
       "<td>0.2915821</td>\n",
       "<td>0.7009346</td>\n",
       "<td>201.0</td></tr>\n",
       "<tr><td>max f2</td>\n",
       "<td>0.1789579</td>\n",
       "<td>0.8146067</td>\n",
       "<td>262.0</td></tr>\n",
       "<tr><td>max f0point5</td>\n",
       "<td>0.6601668</td>\n",
       "<td>0.7131280</td>\n",
       "<td>89.0</td></tr>\n",
       "<tr><td>max accuracy</td>\n",
       "<td>0.4833392</td>\n",
       "<td>0.7883895</td>\n",
       "<td>133.0</td></tr>\n",
       "<tr><td>max precision</td>\n",
       "<td>0.9966638</td>\n",
       "<td>1.0</td>\n",
       "<td>0.0</td></tr>\n",
       "<tr><td>max recall</td>\n",
       "<td>0.0811870</td>\n",
       "<td>1.0</td>\n",
       "<td>332.0</td></tr>\n",
       "<tr><td>max specificity</td>\n",
       "<td>0.9966638</td>\n",
       "<td>1.0</td>\n",
       "<td>0.0</td></tr>\n",
       "<tr><td>max absolute_mcc</td>\n",
       "<td>0.2915821</td>\n",
       "<td>0.5201341</td>\n",
       "<td>201.0</td></tr>\n",
       "<tr><td>max min_per_class_accuracy</td>\n",
       "<td>0.3122156</td>\n",
       "<td>0.7564470</td>\n",
       "<td>190.0</td></tr>\n",
       "<tr><td>max mean_per_class_accuracy</td>\n",
       "<td>0.2915821</td>\n",
       "<td>0.7721676</td>\n",
       "<td>201.0</td></tr></table></div>"
      ],
      "text/plain": [
       "metric                       threshold    value     idx\n",
       "---------------------------  -----------  --------  -----\n",
       "max f1                       0.291582     0.700935  201\n",
       "max f2                       0.178958     0.814607  262\n",
       "max f0point5                 0.660167     0.713128  89\n",
       "max accuracy                 0.483339     0.78839   133\n",
       "max precision                0.996664     1         0\n",
       "max recall                   0.081187     1         332\n",
       "max specificity              0.996664     1         0\n",
       "max absolute_mcc             0.291582     0.520134  201\n",
       "max min_per_class_accuracy   0.312216     0.756447  190\n",
       "max mean_per_class_accuracy  0.291582     0.772168  201"
      ]
     },
     "metadata": {},
     "output_type": "display_data"
    },
    {
     "name": "stdout",
     "output_type": "stream",
     "text": [
      "Gains/Lift Table: Avg response rate: 34.64 %\n",
      "\n"
     ]
    },
    {
     "data": {
      "text/html": [
       "<div style=\"overflow:auto\"><table style=\"width:50%\"><tr><td><b></b></td>\n",
       "<td><b>group</b></td>\n",
       "<td><b>cumulative_data_fraction</b></td>\n",
       "<td><b>lower_threshold</b></td>\n",
       "<td><b>lift</b></td>\n",
       "<td><b>cumulative_lift</b></td>\n",
       "<td><b>response_rate</b></td>\n",
       "<td><b>cumulative_response_rate</b></td>\n",
       "<td><b>capture_rate</b></td>\n",
       "<td><b>cumulative_capture_rate</b></td>\n",
       "<td><b>gain</b></td>\n",
       "<td><b>cumulative_gain</b></td></tr>\n",
       "<tr><td></td>\n",
       "<td>1</td>\n",
       "<td>0.0112360</td>\n",
       "<td>0.9634262</td>\n",
       "<td>2.4054054</td>\n",
       "<td>2.4054054</td>\n",
       "<td>0.8333333</td>\n",
       "<td>0.8333333</td>\n",
       "<td>0.0270270</td>\n",
       "<td>0.0270270</td>\n",
       "<td>140.5405405</td>\n",
       "<td>140.5405405</td></tr>\n",
       "<tr><td></td>\n",
       "<td>2</td>\n",
       "<td>0.0205993</td>\n",
       "<td>0.9377615</td>\n",
       "<td>2.3091892</td>\n",
       "<td>2.3616708</td>\n",
       "<td>0.8</td>\n",
       "<td>0.8181818</td>\n",
       "<td>0.0216216</td>\n",
       "<td>0.0486486</td>\n",
       "<td>130.9189189</td>\n",
       "<td>136.1670762</td></tr>\n",
       "<tr><td></td>\n",
       "<td>3</td>\n",
       "<td>0.0299625</td>\n",
       "<td>0.9204781</td>\n",
       "<td>2.8864865</td>\n",
       "<td>2.5256757</td>\n",
       "<td>1.0</td>\n",
       "<td>0.875</td>\n",
       "<td>0.0270270</td>\n",
       "<td>0.0756757</td>\n",
       "<td>188.6486486</td>\n",
       "<td>152.5675676</td></tr>\n",
       "<tr><td></td>\n",
       "<td>4</td>\n",
       "<td>0.0411985</td>\n",
       "<td>0.9001851</td>\n",
       "<td>2.8864865</td>\n",
       "<td>2.6240786</td>\n",
       "<td>1.0</td>\n",
       "<td>0.9090909</td>\n",
       "<td>0.0324324</td>\n",
       "<td>0.1081081</td>\n",
       "<td>188.6486486</td>\n",
       "<td>162.4078624</td></tr>\n",
       "<tr><td></td>\n",
       "<td>5</td>\n",
       "<td>0.0505618</td>\n",
       "<td>0.8909055</td>\n",
       "<td>2.8864865</td>\n",
       "<td>2.6726727</td>\n",
       "<td>1.0</td>\n",
       "<td>0.9259259</td>\n",
       "<td>0.0270270</td>\n",
       "<td>0.1351351</td>\n",
       "<td>188.6486486</td>\n",
       "<td>167.2672673</td></tr>\n",
       "<tr><td></td>\n",
       "<td>6</td>\n",
       "<td>0.1011236</td>\n",
       "<td>0.8049874</td>\n",
       "<td>2.2450450</td>\n",
       "<td>2.4588589</td>\n",
       "<td>0.7777778</td>\n",
       "<td>0.8518519</td>\n",
       "<td>0.1135135</td>\n",
       "<td>0.2486486</td>\n",
       "<td>124.5045045</td>\n",
       "<td>145.8858859</td></tr>\n",
       "<tr><td></td>\n",
       "<td>7</td>\n",
       "<td>0.1498127</td>\n",
       "<td>0.7366879</td>\n",
       "<td>2.2203742</td>\n",
       "<td>2.3813514</td>\n",
       "<td>0.7692308</td>\n",
       "<td>0.825</td>\n",
       "<td>0.1081081</td>\n",
       "<td>0.3567568</td>\n",
       "<td>122.0374220</td>\n",
       "<td>138.1351351</td></tr>\n",
       "<tr><td></td>\n",
       "<td>8</td>\n",
       "<td>0.2003745</td>\n",
       "<td>0.6630749</td>\n",
       "<td>2.2450450</td>\n",
       "<td>2.3469563</td>\n",
       "<td>0.7777778</td>\n",
       "<td>0.8130841</td>\n",
       "<td>0.1135135</td>\n",
       "<td>0.4702703</td>\n",
       "<td>124.5045045</td>\n",
       "<td>134.6956302</td></tr>\n",
       "<tr><td></td>\n",
       "<td>9</td>\n",
       "<td>0.2996255</td>\n",
       "<td>0.4709347</td>\n",
       "<td>1.4704742</td>\n",
       "<td>2.0566216</td>\n",
       "<td>0.5094340</td>\n",
       "<td>0.7125</td>\n",
       "<td>0.1459459</td>\n",
       "<td>0.6162162</td>\n",
       "<td>47.0474248</td>\n",
       "<td>105.6621622</td></tr>\n",
       "<tr><td></td>\n",
       "<td>10</td>\n",
       "<td>0.4007491</td>\n",
       "<td>0.3345081</td>\n",
       "<td>1.1225225</td>\n",
       "<td>1.8209144</td>\n",
       "<td>0.3888889</td>\n",
       "<td>0.6308411</td>\n",
       "<td>0.1135135</td>\n",
       "<td>0.7297297</td>\n",
       "<td>12.2522523</td>\n",
       "<td>82.0914372</td></tr>\n",
       "<tr><td></td>\n",
       "<td>11</td>\n",
       "<td>0.5</td>\n",
       "<td>0.2528770</td>\n",
       "<td>1.1437022</td>\n",
       "<td>1.6864865</td>\n",
       "<td>0.3962264</td>\n",
       "<td>0.5842697</td>\n",
       "<td>0.1135135</td>\n",
       "<td>0.8432432</td>\n",
       "<td>14.3702193</td>\n",
       "<td>68.6486486</td></tr>\n",
       "<tr><td></td>\n",
       "<td>12</td>\n",
       "<td>0.5992509</td>\n",
       "<td>0.1839405</td>\n",
       "<td>0.6535441</td>\n",
       "<td>1.5154054</td>\n",
       "<td>0.2264151</td>\n",
       "<td>0.525</td>\n",
       "<td>0.0648649</td>\n",
       "<td>0.9081081</td>\n",
       "<td>-34.6455890</td>\n",
       "<td>51.5405405</td></tr>\n",
       "<tr><td></td>\n",
       "<td>13</td>\n",
       "<td>0.7003745</td>\n",
       "<td>0.1249148</td>\n",
       "<td>0.6948949</td>\n",
       "<td>1.3969360</td>\n",
       "<td>0.2407407</td>\n",
       "<td>0.4839572</td>\n",
       "<td>0.0702703</td>\n",
       "<td>0.9783784</td>\n",
       "<td>-30.5105105</td>\n",
       "<td>39.6935973</td></tr>\n",
       "<tr><td></td>\n",
       "<td>14</td>\n",
       "<td>0.7996255</td>\n",
       "<td>0.0841981</td>\n",
       "<td>0.1633860</td>\n",
       "<td>1.2438256</td>\n",
       "<td>0.0566038</td>\n",
       "<td>0.4309133</td>\n",
       "<td>0.0162162</td>\n",
       "<td>0.9945946</td>\n",
       "<td>-83.6613972</td>\n",
       "<td>24.3825559</td></tr>\n",
       "<tr><td></td>\n",
       "<td>15</td>\n",
       "<td>0.8988764</td>\n",
       "<td>0.0457986</td>\n",
       "<td>0.0544620</td>\n",
       "<td>1.1125</td>\n",
       "<td>0.0188679</td>\n",
       "<td>0.3854167</td>\n",
       "<td>0.0054054</td>\n",
       "<td>1.0</td>\n",
       "<td>-94.5537991</td>\n",
       "<td>11.2500000</td></tr>\n",
       "<tr><td></td>\n",
       "<td>16</td>\n",
       "<td>1.0</td>\n",
       "<td>0.0010110</td>\n",
       "<td>0.0</td>\n",
       "<td>1.0</td>\n",
       "<td>0.0</td>\n",
       "<td>0.3464419</td>\n",
       "<td>0.0</td>\n",
       "<td>1.0</td>\n",
       "<td>-100.0</td>\n",
       "<td>0.0</td></tr></table></div>"
      ],
      "text/plain": [
       "    group    cumulative_data_fraction    lower_threshold    lift      cumulative_lift    response_rate    cumulative_response_rate    capture_rate    cumulative_capture_rate    gain      cumulative_gain\n",
       "--  -------  --------------------------  -----------------  --------  -----------------  ---------------  --------------------------  --------------  -------------------------  --------  -----------------\n",
       "    1        0.011236                    0.963426           2.40541   2.40541            0.833333         0.833333                    0.027027        0.027027                   140.541   140.541\n",
       "    2        0.0205993                   0.937761           2.30919   2.36167            0.8              0.818182                    0.0216216       0.0486486                  130.919   136.167\n",
       "    3        0.0299625                   0.920478           2.88649   2.52568            1                0.875                       0.027027        0.0756757                  188.649   152.568\n",
       "    4        0.0411985                   0.900185           2.88649   2.62408            1                0.909091                    0.0324324       0.108108                   188.649   162.408\n",
       "    5        0.0505618                   0.890905           2.88649   2.67267            1                0.925926                    0.027027        0.135135                   188.649   167.267\n",
       "    6        0.101124                    0.804987           2.24505   2.45886            0.777778         0.851852                    0.113514        0.248649                   124.505   145.886\n",
       "    7        0.149813                    0.736688           2.22037   2.38135            0.769231         0.825                       0.108108        0.356757                   122.037   138.135\n",
       "    8        0.200375                    0.663075           2.24505   2.34696            0.777778         0.813084                    0.113514        0.47027                    124.505   134.696\n",
       "    9        0.299625                    0.470935           1.47047   2.05662            0.509434         0.7125                      0.145946        0.616216                   47.0474   105.662\n",
       "    10       0.400749                    0.334508           1.12252   1.82091            0.388889         0.630841                    0.113514        0.72973                    12.2523   82.0914\n",
       "    11       0.5                         0.252877           1.1437    1.68649            0.396226         0.58427                     0.113514        0.843243                   14.3702   68.6486\n",
       "    12       0.599251                    0.183941           0.653544  1.51541            0.226415         0.525                       0.0648649       0.908108                   -34.6456  51.5405\n",
       "    13       0.700375                    0.124915           0.694895  1.39694            0.240741         0.483957                    0.0702703       0.978378                   -30.5105  39.6936\n",
       "    14       0.799625                    0.0841981          0.163386  1.24383            0.0566038        0.430913                    0.0162162       0.994595                   -83.6614  24.3826\n",
       "    15       0.898876                    0.0457986          0.054462  1.1125             0.0188679        0.385417                    0.00540541      1                          -94.5538  11.25\n",
       "    16       1                           0.00101096         0         1                  0                0.346442                    0               1                          -100      0"
      ]
     },
     "metadata": {},
     "output_type": "display_data"
    },
    {
     "name": "stdout",
     "output_type": "stream",
     "text": [
      "\n",
      "\n",
      "\n",
      "ModelMetricsBinomialGLM: glm\n",
      "** Reported on test data. **\n",
      "\n",
      "MSE: 0.1475683368010215\n",
      "RMSE: 0.38414624402826264\n",
      "LogLoss: 0.44876468876828174\n",
      "Null degrees of freedom: 533\n",
      "Residual degrees of freedom: 525\n",
      "Null deviance: 689.0908990332099\n",
      "Residual deviance: 479.28068760452487\n",
      "AIC: 497.28068760452487\n",
      "AUC: 0.8538604507085882\n",
      "Gini: 0.7077209014171764\n",
      "Confusion Matrix (Act/Pred) for max f1 @ threshold = 0.29807996951924187: \n"
     ]
    },
    {
     "data": {
      "text/html": [
       "<div style=\"overflow:auto\"><table style=\"width:50%\"><tr><td><b></b></td>\n",
       "<td><b>0</b></td>\n",
       "<td><b>1</b></td>\n",
       "<td><b>Error</b></td>\n",
       "<td><b>Rate</b></td></tr>\n",
       "<tr><td>0</td>\n",
       "<td>258.0</td>\n",
       "<td>91.0</td>\n",
       "<td>0.2607</td>\n",
       "<td> (91.0/349.0)</td></tr>\n",
       "<tr><td>1</td>\n",
       "<td>36.0</td>\n",
       "<td>149.0</td>\n",
       "<td>0.1946</td>\n",
       "<td> (36.0/185.0)</td></tr>\n",
       "<tr><td>Total</td>\n",
       "<td>294.0</td>\n",
       "<td>240.0</td>\n",
       "<td>0.2378</td>\n",
       "<td> (127.0/534.0)</td></tr></table></div>"
      ],
      "text/plain": [
       "       0    1    Error    Rate\n",
       "-----  ---  ---  -------  -------------\n",
       "0      258  91   0.2607   (91.0/349.0)\n",
       "1      36   149  0.1946   (36.0/185.0)\n",
       "Total  294  240  0.2378   (127.0/534.0)"
      ]
     },
     "metadata": {},
     "output_type": "display_data"
    },
    {
     "name": "stdout",
     "output_type": "stream",
     "text": [
      "Maximum Metrics: Maximum metrics at their respective thresholds\n",
      "\n"
     ]
    },
    {
     "data": {
      "text/html": [
       "<div style=\"overflow:auto\"><table style=\"width:50%\"><tr><td><b>metric</b></td>\n",
       "<td><b>threshold</b></td>\n",
       "<td><b>value</b></td>\n",
       "<td><b>idx</b></td></tr>\n",
       "<tr><td>max f1</td>\n",
       "<td>0.2980800</td>\n",
       "<td>0.7011765</td>\n",
       "<td>196.0</td></tr>\n",
       "<tr><td>max f2</td>\n",
       "<td>0.1326714</td>\n",
       "<td>0.8167870</td>\n",
       "<td>296.0</td></tr>\n",
       "<tr><td>max f0point5</td>\n",
       "<td>0.6605799</td>\n",
       "<td>0.7177814</td>\n",
       "<td>87.0</td></tr>\n",
       "<tr><td>max accuracy</td>\n",
       "<td>0.5982083</td>\n",
       "<td>0.7865169</td>\n",
       "<td>106.0</td></tr>\n",
       "<tr><td>max precision</td>\n",
       "<td>0.9960484</td>\n",
       "<td>1.0</td>\n",
       "<td>0.0</td></tr>\n",
       "<tr><td>max recall</td>\n",
       "<td>0.0854123</td>\n",
       "<td>1.0</td>\n",
       "<td>335.0</td></tr>\n",
       "<tr><td>max specificity</td>\n",
       "<td>0.9960484</td>\n",
       "<td>1.0</td>\n",
       "<td>0.0</td></tr>\n",
       "<tr><td>max absolute_mcc</td>\n",
       "<td>0.2980800</td>\n",
       "<td>0.5210089</td>\n",
       "<td>196.0</td></tr>\n",
       "<tr><td>max min_per_class_accuracy</td>\n",
       "<td>0.3142480</td>\n",
       "<td>0.7621777</td>\n",
       "<td>185.0</td></tr>\n",
       "<tr><td>max mean_per_class_accuracy</td>\n",
       "<td>0.2980800</td>\n",
       "<td>0.7723302</td>\n",
       "<td>196.0</td></tr></table></div>"
      ],
      "text/plain": [
       "metric                       threshold    value     idx\n",
       "---------------------------  -----------  --------  -----\n",
       "max f1                       0.29808      0.701176  196\n",
       "max f2                       0.132671     0.816787  296\n",
       "max f0point5                 0.66058      0.717781  87\n",
       "max accuracy                 0.598208     0.786517  106\n",
       "max precision                0.996048     1         0\n",
       "max recall                   0.0854123    1         335\n",
       "max specificity              0.996048     1         0\n",
       "max absolute_mcc             0.29808      0.521009  196\n",
       "max min_per_class_accuracy   0.314248     0.762178  185\n",
       "max mean_per_class_accuracy  0.29808      0.77233   196"
      ]
     },
     "metadata": {},
     "output_type": "display_data"
    },
    {
     "name": "stdout",
     "output_type": "stream",
     "text": [
      "Gains/Lift Table: Avg response rate: 34.64 %\n",
      "\n"
     ]
    },
    {
     "data": {
      "text/html": [
       "<div style=\"overflow:auto\"><table style=\"width:50%\"><tr><td><b></b></td>\n",
       "<td><b>group</b></td>\n",
       "<td><b>cumulative_data_fraction</b></td>\n",
       "<td><b>lower_threshold</b></td>\n",
       "<td><b>lift</b></td>\n",
       "<td><b>cumulative_lift</b></td>\n",
       "<td><b>response_rate</b></td>\n",
       "<td><b>cumulative_response_rate</b></td>\n",
       "<td><b>capture_rate</b></td>\n",
       "<td><b>cumulative_capture_rate</b></td>\n",
       "<td><b>gain</b></td>\n",
       "<td><b>cumulative_gain</b></td></tr>\n",
       "<tr><td></td>\n",
       "<td>1</td>\n",
       "<td>0.0112360</td>\n",
       "<td>0.9609286</td>\n",
       "<td>2.4054054</td>\n",
       "<td>2.4054054</td>\n",
       "<td>0.8333333</td>\n",
       "<td>0.8333333</td>\n",
       "<td>0.0270270</td>\n",
       "<td>0.0270270</td>\n",
       "<td>140.5405405</td>\n",
       "<td>140.5405405</td></tr>\n",
       "<tr><td></td>\n",
       "<td>2</td>\n",
       "<td>0.0205993</td>\n",
       "<td>0.9353068</td>\n",
       "<td>2.3091892</td>\n",
       "<td>2.3616708</td>\n",
       "<td>0.8</td>\n",
       "<td>0.8181818</td>\n",
       "<td>0.0216216</td>\n",
       "<td>0.0486486</td>\n",
       "<td>130.9189189</td>\n",
       "<td>136.1670762</td></tr>\n",
       "<tr><td></td>\n",
       "<td>3</td>\n",
       "<td>0.0299625</td>\n",
       "<td>0.9169564</td>\n",
       "<td>2.8864865</td>\n",
       "<td>2.5256757</td>\n",
       "<td>1.0</td>\n",
       "<td>0.875</td>\n",
       "<td>0.0270270</td>\n",
       "<td>0.0756757</td>\n",
       "<td>188.6486486</td>\n",
       "<td>152.5675676</td></tr>\n",
       "<tr><td></td>\n",
       "<td>4</td>\n",
       "<td>0.0411985</td>\n",
       "<td>0.8952280</td>\n",
       "<td>2.8864865</td>\n",
       "<td>2.6240786</td>\n",
       "<td>1.0</td>\n",
       "<td>0.9090909</td>\n",
       "<td>0.0324324</td>\n",
       "<td>0.1081081</td>\n",
       "<td>188.6486486</td>\n",
       "<td>162.4078624</td></tr>\n",
       "<tr><td></td>\n",
       "<td>5</td>\n",
       "<td>0.0505618</td>\n",
       "<td>0.8864012</td>\n",
       "<td>2.8864865</td>\n",
       "<td>2.6726727</td>\n",
       "<td>1.0</td>\n",
       "<td>0.9259259</td>\n",
       "<td>0.0270270</td>\n",
       "<td>0.1351351</td>\n",
       "<td>188.6486486</td>\n",
       "<td>167.2672673</td></tr>\n",
       "<tr><td></td>\n",
       "<td>6</td>\n",
       "<td>0.1011236</td>\n",
       "<td>0.8004684</td>\n",
       "<td>2.2450450</td>\n",
       "<td>2.4588589</td>\n",
       "<td>0.7777778</td>\n",
       "<td>0.8518519</td>\n",
       "<td>0.1135135</td>\n",
       "<td>0.2486486</td>\n",
       "<td>124.5045045</td>\n",
       "<td>145.8858859</td></tr>\n",
       "<tr><td></td>\n",
       "<td>7</td>\n",
       "<td>0.1498127</td>\n",
       "<td>0.7294826</td>\n",
       "<td>2.2203742</td>\n",
       "<td>2.3813514</td>\n",
       "<td>0.7692308</td>\n",
       "<td>0.825</td>\n",
       "<td>0.1081081</td>\n",
       "<td>0.3567568</td>\n",
       "<td>122.0374220</td>\n",
       "<td>138.1351351</td></tr>\n",
       "<tr><td></td>\n",
       "<td>8</td>\n",
       "<td>0.2003745</td>\n",
       "<td>0.6575980</td>\n",
       "<td>2.3519520</td>\n",
       "<td>2.3739328</td>\n",
       "<td>0.8148148</td>\n",
       "<td>0.8224299</td>\n",
       "<td>0.1189189</td>\n",
       "<td>0.4756757</td>\n",
       "<td>135.1951952</td>\n",
       "<td>137.3932811</td></tr>\n",
       "<tr><td></td>\n",
       "<td>9</td>\n",
       "<td>0.2996255</td>\n",
       "<td>0.4688671</td>\n",
       "<td>1.4160122</td>\n",
       "<td>2.0566216</td>\n",
       "<td>0.4905660</td>\n",
       "<td>0.7125</td>\n",
       "<td>0.1405405</td>\n",
       "<td>0.6162162</td>\n",
       "<td>41.6012239</td>\n",
       "<td>105.6621622</td></tr>\n",
       "<tr><td></td>\n",
       "<td>10</td>\n",
       "<td>0.4007491</td>\n",
       "<td>0.3366112</td>\n",
       "<td>1.1759760</td>\n",
       "<td>1.8344026</td>\n",
       "<td>0.4074074</td>\n",
       "<td>0.6355140</td>\n",
       "<td>0.1189189</td>\n",
       "<td>0.7351351</td>\n",
       "<td>17.5975976</td>\n",
       "<td>83.4402627</td></tr>\n",
       "<tr><td></td>\n",
       "<td>11</td>\n",
       "<td>0.5</td>\n",
       "<td>0.2576876</td>\n",
       "<td>1.0892402</td>\n",
       "<td>1.6864865</td>\n",
       "<td>0.3773585</td>\n",
       "<td>0.5842697</td>\n",
       "<td>0.1081081</td>\n",
       "<td>0.8432432</td>\n",
       "<td>8.9240184</td>\n",
       "<td>68.6486486</td></tr>\n",
       "<tr><td></td>\n",
       "<td>12</td>\n",
       "<td>0.5992509</td>\n",
       "<td>0.1873582</td>\n",
       "<td>0.7080061</td>\n",
       "<td>1.5244257</td>\n",
       "<td>0.2452830</td>\n",
       "<td>0.528125</td>\n",
       "<td>0.0702703</td>\n",
       "<td>0.9135135</td>\n",
       "<td>-29.1993881</td>\n",
       "<td>52.4425676</td></tr>\n",
       "<tr><td></td>\n",
       "<td>13</td>\n",
       "<td>0.7003745</td>\n",
       "<td>0.1264797</td>\n",
       "<td>0.6414414</td>\n",
       "<td>1.3969360</td>\n",
       "<td>0.2222222</td>\n",
       "<td>0.4839572</td>\n",
       "<td>0.0648649</td>\n",
       "<td>0.9783784</td>\n",
       "<td>-35.8558559</td>\n",
       "<td>39.6935973</td></tr>\n",
       "<tr><td></td>\n",
       "<td>14</td>\n",
       "<td>0.7996255</td>\n",
       "<td>0.0862508</td>\n",
       "<td>0.1633860</td>\n",
       "<td>1.2438256</td>\n",
       "<td>0.0566038</td>\n",
       "<td>0.4309133</td>\n",
       "<td>0.0162162</td>\n",
       "<td>0.9945946</td>\n",
       "<td>-83.6613972</td>\n",
       "<td>24.3825559</td></tr>\n",
       "<tr><td></td>\n",
       "<td>15</td>\n",
       "<td>0.8988764</td>\n",
       "<td>0.0482267</td>\n",
       "<td>0.0544620</td>\n",
       "<td>1.1125</td>\n",
       "<td>0.0188679</td>\n",
       "<td>0.3854167</td>\n",
       "<td>0.0054054</td>\n",
       "<td>1.0</td>\n",
       "<td>-94.5537991</td>\n",
       "<td>11.2500000</td></tr>\n",
       "<tr><td></td>\n",
       "<td>16</td>\n",
       "<td>1.0</td>\n",
       "<td>0.0011290</td>\n",
       "<td>0.0</td>\n",
       "<td>1.0</td>\n",
       "<td>0.0</td>\n",
       "<td>0.3464419</td>\n",
       "<td>0.0</td>\n",
       "<td>1.0</td>\n",
       "<td>-100.0</td>\n",
       "<td>0.0</td></tr></table></div>"
      ],
      "text/plain": [
       "    group    cumulative_data_fraction    lower_threshold    lift      cumulative_lift    response_rate    cumulative_response_rate    capture_rate    cumulative_capture_rate    gain      cumulative_gain\n",
       "--  -------  --------------------------  -----------------  --------  -----------------  ---------------  --------------------------  --------------  -------------------------  --------  -----------------\n",
       "    1        0.011236                    0.960929           2.40541   2.40541            0.833333         0.833333                    0.027027        0.027027                   140.541   140.541\n",
       "    2        0.0205993                   0.935307           2.30919   2.36167            0.8              0.818182                    0.0216216       0.0486486                  130.919   136.167\n",
       "    3        0.0299625                   0.916956           2.88649   2.52568            1                0.875                       0.027027        0.0756757                  188.649   152.568\n",
       "    4        0.0411985                   0.895228           2.88649   2.62408            1                0.909091                    0.0324324       0.108108                   188.649   162.408\n",
       "    5        0.0505618                   0.886401           2.88649   2.67267            1                0.925926                    0.027027        0.135135                   188.649   167.267\n",
       "    6        0.101124                    0.800468           2.24505   2.45886            0.777778         0.851852                    0.113514        0.248649                   124.505   145.886\n",
       "    7        0.149813                    0.729483           2.22037   2.38135            0.769231         0.825                       0.108108        0.356757                   122.037   138.135\n",
       "    8        0.200375                    0.657598           2.35195   2.37393            0.814815         0.82243                     0.118919        0.475676                   135.195   137.393\n",
       "    9        0.299625                    0.468867           1.41601   2.05662            0.490566         0.7125                      0.140541        0.616216                   41.6012   105.662\n",
       "    10       0.400749                    0.336611           1.17598   1.8344             0.407407         0.635514                    0.118919        0.735135                   17.5976   83.4403\n",
       "    11       0.5                         0.257688           1.08924   1.68649            0.377358         0.58427                     0.108108        0.843243                   8.92402   68.6486\n",
       "    12       0.599251                    0.187358           0.708006  1.52443            0.245283         0.528125                    0.0702703       0.913514                   -29.1994  52.4426\n",
       "    13       0.700375                    0.12648            0.641441  1.39694            0.222222         0.483957                    0.0648649       0.978378                   -35.8559  39.6936\n",
       "    14       0.799625                    0.0862508          0.163386  1.24383            0.0566038        0.430913                    0.0162162       0.994595                   -83.6614  24.3826\n",
       "    15       0.898876                    0.0482267          0.054462  1.1125             0.0188679        0.385417                    0.00540541      1                          -94.5538  11.25\n",
       "    16       1                           0.001129           0         1                  0                0.346442                    0               1                          -100      0"
      ]
     },
     "metadata": {},
     "output_type": "display_data"
    },
    {
     "name": "stdout",
     "output_type": "stream",
     "text": [
      "\n",
      "\n"
     ]
    }
   ],
   "source": [
    "# Print model performance\n",
    "print (glm_perf1)\n",
    "print (glm_perf2)"
   ]
  },
  {
   "cell_type": "markdown",
   "metadata": {},
   "source": [
    "#### For Model with defaults \n",
    "1. MSE = 0.19 is good as lower the value of Mean Squared Error better is the prediction\n",
    "2. Accuracy is 73.35%\n",
    "3. Confusion Matrix: 83 - Correct, 33 - Incorrect \n",
    "#### For Lambda Search = True \n",
    "1. MSE = 0.19 \n",
    "2. Accuracy is 73.45%\n",
    "3. Confusion Matrix: 80 - Correct, 36 - Incorrect "
   ]
  },
  {
   "cell_type": "code",
   "execution_count": 23,
   "metadata": {},
   "outputs": [
    {
     "data": {
      "text/plain": [
       "0.8537133121660342"
      ]
     },
     "execution_count": 23,
     "metadata": {},
     "output_type": "execute_result"
    }
   ],
   "source": [
    "glm_perf1.auc()"
   ]
  },
  {
   "cell_type": "code",
   "execution_count": 24,
   "metadata": {},
   "outputs": [
    {
     "data": {
      "text/plain": [
       "0.8538604507085882"
      ]
     },
     "execution_count": 24,
     "metadata": {},
     "output_type": "execute_result"
    }
   ],
   "source": [
    "glm_perf2.auc()"
   ]
  },
  {
   "cell_type": "code",
   "execution_count": 25,
   "metadata": {},
   "outputs": [
    {
     "name": "stdout",
     "output_type": "stream",
     "text": [
      "glm prediction progress: |████████████████████████████████████████████████| 100%\n"
     ]
    }
   ],
   "source": [
    "predictions1 = glm_fit1.predict(test)"
   ]
  },
  {
   "cell_type": "code",
   "execution_count": 26,
   "metadata": {},
   "outputs": [
    {
     "data": {
      "text/html": [
       "<table>\n",
       "<thead>\n",
       "<tr><th style=\"text-align: right;\">  predict</th><th style=\"text-align: right;\">      p0</th><th style=\"text-align: right;\">       p1</th></tr>\n",
       "</thead>\n",
       "<tbody>\n",
       "<tr><td style=\"text-align: right;\">        0</td><td style=\"text-align: right;\">0.980008</td><td style=\"text-align: right;\">0.0199919</td></tr>\n",
       "<tr><td style=\"text-align: right;\">        1</td><td style=\"text-align: right;\">0.557951</td><td style=\"text-align: right;\">0.442049 </td></tr>\n",
       "<tr><td style=\"text-align: right;\">        1</td><td style=\"text-align: right;\">0.445243</td><td style=\"text-align: right;\">0.554757 </td></tr>\n",
       "<tr><td style=\"text-align: right;\">        0</td><td style=\"text-align: right;\">0.92707 </td><td style=\"text-align: right;\">0.0729298</td></tr>\n",
       "<tr><td style=\"text-align: right;\">        0</td><td style=\"text-align: right;\">0.983527</td><td style=\"text-align: right;\">0.0164726</td></tr>\n",
       "<tr><td style=\"text-align: right;\">        1</td><td style=\"text-align: right;\">0.660994</td><td style=\"text-align: right;\">0.339006 </td></tr>\n",
       "<tr><td style=\"text-align: right;\">        0</td><td style=\"text-align: right;\">0.714984</td><td style=\"text-align: right;\">0.285016 </td></tr>\n",
       "<tr><td style=\"text-align: right;\">        1</td><td style=\"text-align: right;\">0.216463</td><td style=\"text-align: right;\">0.783537 </td></tr>\n",
       "<tr><td style=\"text-align: right;\">        0</td><td style=\"text-align: right;\">0.729946</td><td style=\"text-align: right;\">0.270054 </td></tr>\n",
       "<tr><td style=\"text-align: right;\">        1</td><td style=\"text-align: right;\">0.547677</td><td style=\"text-align: right;\">0.452323 </td></tr>\n",
       "</tbody>\n",
       "</table>"
      ]
     },
     "metadata": {},
     "output_type": "display_data"
    },
    {
     "data": {
      "text/plain": []
     },
     "execution_count": 26,
     "metadata": {},
     "output_type": "execute_result"
    }
   ],
   "source": [
    "predictions1"
   ]
  },
  {
   "cell_type": "code",
   "execution_count": 27,
   "metadata": {},
   "outputs": [
    {
     "name": "stdout",
     "output_type": "stream",
     "text": [
      "glm prediction progress: |████████████████████████████████████████████████| 100%\n"
     ]
    }
   ],
   "source": [
    "predictions2 = glm_fit2.predict(test)"
   ]
  },
  {
   "cell_type": "code",
   "execution_count": 28,
   "metadata": {},
   "outputs": [
    {
     "data": {
      "text/html": [
       "<table>\n",
       "<thead>\n",
       "<tr><th style=\"text-align: right;\">  predict</th><th style=\"text-align: right;\">      p0</th><th style=\"text-align: right;\">       p1</th></tr>\n",
       "</thead>\n",
       "<tbody>\n",
       "<tr><td style=\"text-align: right;\">        0</td><td style=\"text-align: right;\">0.978393</td><td style=\"text-align: right;\">0.021607 </td></tr>\n",
       "<tr><td style=\"text-align: right;\">        1</td><td style=\"text-align: right;\">0.556154</td><td style=\"text-align: right;\">0.443846 </td></tr>\n",
       "<tr><td style=\"text-align: right;\">        1</td><td style=\"text-align: right;\">0.45316 </td><td style=\"text-align: right;\">0.54684  </td></tr>\n",
       "<tr><td style=\"text-align: right;\">        0</td><td style=\"text-align: right;\">0.924989</td><td style=\"text-align: right;\">0.0750113</td></tr>\n",
       "<tr><td style=\"text-align: right;\">        0</td><td style=\"text-align: right;\">0.982463</td><td style=\"text-align: right;\">0.0175372</td></tr>\n",
       "<tr><td style=\"text-align: right;\">        1</td><td style=\"text-align: right;\">0.662454</td><td style=\"text-align: right;\">0.337546 </td></tr>\n",
       "<tr><td style=\"text-align: right;\">        0</td><td style=\"text-align: right;\">0.712968</td><td style=\"text-align: right;\">0.287032 </td></tr>\n",
       "<tr><td style=\"text-align: right;\">        1</td><td style=\"text-align: right;\">0.221083</td><td style=\"text-align: right;\">0.778917 </td></tr>\n",
       "<tr><td style=\"text-align: right;\">        0</td><td style=\"text-align: right;\">0.720893</td><td style=\"text-align: right;\">0.279107 </td></tr>\n",
       "<tr><td style=\"text-align: right;\">        1</td><td style=\"text-align: right;\">0.558422</td><td style=\"text-align: right;\">0.441578 </td></tr>\n",
       "</tbody>\n",
       "</table>"
      ]
     },
     "metadata": {},
     "output_type": "display_data"
    },
    {
     "data": {
      "text/plain": []
     },
     "execution_count": 28,
     "metadata": {},
     "output_type": "execute_result"
    }
   ],
   "source": [
    "predictions2"
   ]
  },
  {
   "cell_type": "markdown",
   "metadata": {},
   "source": [
    "# 3. Gradient Boosting Machine "
   ]
  },
  {
   "cell_type": "code",
   "execution_count": 29,
   "metadata": {},
   "outputs": [],
   "source": [
    "# Import H2O GBM:\n",
    "from h2o.estimators.gbm import H2OGradientBoostingEstimator\n",
    "from h2o.grid.grid_search import H2OGridSearch"
   ]
  },
  {
   "cell_type": "code",
   "execution_count": 30,
   "metadata": {},
   "outputs": [],
   "source": [
    "#List of parameters and their corresponding values. \n",
    "gbm_params1 = {'learn_rate': [0.01, 0.1], \n",
    "                'max_depth': [3, 5, 9],\n",
    "                'sample_rate': [0.8, 1.0],\n",
    "                'col_sample_rate': [0.2, 0.5, 1.0]}"
   ]
  },
  {
   "cell_type": "code",
   "execution_count": 31,
   "metadata": {},
   "outputs": [
    {
     "name": "stdout",
     "output_type": "stream",
     "text": [
      "gbm Grid Build progress: |████████████████████████████████████████████████| 100%\n"
     ]
    }
   ],
   "source": [
    "gbm_grid1 = H2OGridSearch(model=H2OGradientBoostingEstimator,\n",
    "                          grid_id='gbm_grid1',\n",
    "                          hyper_params=gbm_params1)\n",
    "gbm_grid1.train(x=x, y=y, \n",
    "                training_frame=train, \n",
    "                validation_frame=valid, \n",
    "                ntrees=100,\n",
    "                seed=1)"
   ]
  },
  {
   "cell_type": "code",
   "execution_count": 32,
   "metadata": {},
   "outputs": [],
   "source": [
    "gbm_gridperf1 = gbm_grid1.get_grid(sort_by='auc', decreasing=True)\n"
   ]
  },
  {
   "cell_type": "code",
   "execution_count": 33,
   "metadata": {},
   "outputs": [
    {
     "name": "stdout",
     "output_type": "stream",
     "text": [
      "     col_sample_rate learn_rate max_depth sample_rate           model_ids  \\\n",
      "0                0.2       0.01         9         1.0  gbm_grid1_model_30   \n",
      "1                0.2       0.01         5         1.0  gbm_grid1_model_24   \n",
      "2                0.2       0.01         5         0.8   gbm_grid1_model_6   \n",
      "3                0.2       0.01         9         0.8  gbm_grid1_model_12   \n",
      "4                0.2        0.1         3         0.8   gbm_grid1_model_3   \n",
      "5                0.5       0.01         3         0.8   gbm_grid1_model_1   \n",
      "6                0.5       0.01         3         1.0  gbm_grid1_model_19   \n",
      "7                0.2       0.01         3         0.8   gbm_grid1_model_0   \n",
      "8                0.5       0.01         9         0.8  gbm_grid1_model_13   \n",
      "9                0.5       0.01         5         1.0  gbm_grid1_model_25   \n",
      "10               0.5       0.01         5         0.8   gbm_grid1_model_7   \n",
      "11               0.5        0.1         9         0.8  gbm_grid1_model_16   \n",
      "12               0.2       0.01         3         1.0  gbm_grid1_model_18   \n",
      "13               1.0       0.01         3         0.8   gbm_grid1_model_2   \n",
      "14               1.0       0.01         5         1.0  gbm_grid1_model_26   \n",
      "15               0.2        0.1         3         1.0  gbm_grid1_model_21   \n",
      "16               1.0       0.01         5         0.8   gbm_grid1_model_8   \n",
      "17               1.0        0.1         5         0.8  gbm_grid1_model_11   \n",
      "18               0.5       0.01         9         1.0  gbm_grid1_model_31   \n",
      "19               0.2        0.1         9         1.0  gbm_grid1_model_33   \n",
      "20               1.0       0.01         9         0.8  gbm_grid1_model_14   \n",
      "21               0.2        0.1         5         0.8   gbm_grid1_model_9   \n",
      "22               1.0       0.01         3         1.0  gbm_grid1_model_20   \n",
      "23               1.0        0.1         9         0.8  gbm_grid1_model_17   \n",
      "24               0.2        0.1         9         0.8  gbm_grid1_model_15   \n",
      "25               0.5        0.1         3         1.0  gbm_grid1_model_22   \n",
      "26               0.5        0.1         9         1.0  gbm_grid1_model_34   \n",
      "27               1.0        0.1         9         1.0  gbm_grid1_model_35   \n",
      "28               0.5        0.1         3         0.8   gbm_grid1_model_4   \n",
      "29               1.0        0.1         3         1.0  gbm_grid1_model_23   \n",
      "30               0.2        0.1         5         1.0  gbm_grid1_model_27   \n",
      "31               1.0        0.1         3         0.8   gbm_grid1_model_5   \n",
      "32               0.5        0.1         5         0.8  gbm_grid1_model_10   \n",
      "33               0.5        0.1         5         1.0  gbm_grid1_model_28   \n",
      "34               1.0        0.1         5         1.0  gbm_grid1_model_29   \n",
      "35               1.0       0.01         9         1.0  gbm_grid1_model_32   \n",
      "\n",
      "                   auc  \n",
      "0   0.8682432432432432  \n",
      "1   0.8633292383292382  \n",
      "2   0.8621007371007371  \n",
      "3   0.8608722358722358  \n",
      "4   0.8584152334152334  \n",
      "5   0.8556511056511057  \n",
      "6   0.8538083538083537  \n",
      "7   0.8531941031941032  \n",
      "8    0.852886977886978  \n",
      "9    0.852886977886978  \n",
      "10   0.852886977886978  \n",
      "11  0.8522727272727273  \n",
      "12  0.8495085995085996  \n",
      "13  0.8495085995085996  \n",
      "14  0.8488943488943489  \n",
      "15  0.8482800982800983  \n",
      "16  0.8442874692874692  \n",
      "17  0.8433660933660934  \n",
      "18  0.8418304668304668  \n",
      "19  0.8418304668304668  \n",
      "20  0.8412162162162162  \n",
      "21  0.8372235872235873  \n",
      "22   0.835995085995086  \n",
      "23  0.8350737100737101  \n",
      "24  0.8347665847665848  \n",
      "25  0.8347665847665848  \n",
      "26  0.8335380835380836  \n",
      "27  0.8332309582309582  \n",
      "28  0.8329238329238329  \n",
      "29  0.8316953316953317  \n",
      "30  0.8313882063882064  \n",
      "31  0.8264742014742015  \n",
      "32  0.8234029484029484  \n",
      "33  0.8227886977886978  \n",
      "34  0.8221744471744472  \n",
      "35  0.8218673218673219  \n",
      "\n"
     ]
    }
   ],
   "source": [
    "print (gbm_gridperf1)"
   ]
  },
  {
   "cell_type": "markdown",
   "metadata": {},
   "source": [
    "#### The best accuracy obtained is 86.82% on paramters: \n",
    "    col_sample_rate = 0.2\n",
    "    learn_rate = 0.01\n",
    "    max_depth = 9\n",
    "    sample_rate = 1.0           "
   ]
  },
  {
   "cell_type": "code",
   "execution_count": 34,
   "metadata": {},
   "outputs": [],
   "source": [
    "best_gbm_model = gbm_gridperf1.models[0]"
   ]
  },
  {
   "cell_type": "code",
   "execution_count": 35,
   "metadata": {},
   "outputs": [
    {
     "name": "stdout",
     "output_type": "stream",
     "text": [
      "0.7535797535797536\n"
     ]
    }
   ],
   "source": [
    "# Now let's evaluate the model performance on a test set\n",
    "\n",
    "gbm_perf = best_gbm_model.model_performance(test)\n",
    "print (gbm_perf.auc())"
   ]
  },
  {
   "cell_type": "code",
   "execution_count": 36,
   "metadata": {},
   "outputs": [
    {
     "name": "stdout",
     "output_type": "stream",
     "text": [
      "gbm prediction progress: |████████████████████████████████████████████████| 100%\n",
      "gbm prediction progress: |████████████████████████████████████████████████| 100%\n",
      "gbm prediction progress: |████████████████████████████████████████████████| 100%\n",
      "gbm prediction progress: |████████████████████████████████████████████████| 100%\n",
      "gbm prediction progress: |████████████████████████████████████████████████| 100%\n",
      "gbm prediction progress: |████████████████████████████████████████████████| 100%\n",
      "gbm prediction progress: |████████████████████████████████████████████████| 100%\n",
      "gbm prediction progress: |████████████████████████████████████████████████| 100%\n",
      "gbm prediction progress: |████████████████████████████████████████████████| 100%\n",
      "gbm prediction progress: |████████████████████████████████████████████████| 100%\n",
      "gbm prediction progress: |████████████████████████████████████████████████| 100%\n",
      "gbm prediction progress: |████████████████████████████████████████████████| 100%\n",
      "gbm prediction progress: |████████████████████████████████████████████████| 100%\n",
      "gbm prediction progress: |████████████████████████████████████████████████| 100%\n",
      "gbm prediction progress: |████████████████████████████████████████████████| 100%\n",
      "gbm prediction progress: |████████████████████████████████████████████████| 100%\n",
      "gbm prediction progress: |████████████████████████████████████████████████| 100%\n",
      "gbm prediction progress: |████████████████████████████████████████████████| 100%\n",
      "gbm prediction progress: |████████████████████████████████████████████████| 100%\n",
      "gbm prediction progress: |████████████████████████████████████████████████| 100%\n",
      "gbm prediction progress: |████████████████████████████████████████████████| 100%\n",
      "gbm prediction progress: |████████████████████████████████████████████████| 100%\n",
      "gbm prediction progress: |████████████████████████████████████████████████| 100%\n",
      "gbm prediction progress: |████████████████████████████████████████████████| 100%\n",
      "gbm prediction progress: |████████████████████████████████████████████████| 100%\n",
      "gbm prediction progress: |████████████████████████████████████████████████| 100%\n",
      "gbm prediction progress: |████████████████████████████████████████████████| 100%\n",
      "gbm prediction progress: |████████████████████████████████████████████████| 100%\n",
      "gbm prediction progress: |████████████████████████████████████████████████| 100%\n",
      "gbm prediction progress: |████████████████████████████████████████████████| 100%\n",
      "gbm prediction progress: |████████████████████████████████████████████████| 100%\n",
      "gbm prediction progress: |████████████████████████████████████████████████| 100%\n",
      "gbm prediction progress: |████████████████████████████████████████████████| 100%\n",
      "gbm prediction progress: |████████████████████████████████████████████████| 100%\n",
      "gbm prediction progress: |████████████████████████████████████████████████| 100%\n",
      "gbm prediction progress: |████████████████████████████████████████████████| 100%\n"
     ]
    },
    {
     "data": {
      "text/html": [
       "<table>\n",
       "<thead>\n",
       "<tr><th style=\"text-align: right;\">  predict</th><th style=\"text-align: right;\">      p0</th><th style=\"text-align: right;\">       p1</th></tr>\n",
       "</thead>\n",
       "<tbody>\n",
       "<tr><td style=\"text-align: right;\">        0</td><td style=\"text-align: right;\">0.946529</td><td style=\"text-align: right;\">0.0534714</td></tr>\n",
       "<tr><td style=\"text-align: right;\">        1</td><td style=\"text-align: right;\">0.5221  </td><td style=\"text-align: right;\">0.4779   </td></tr>\n",
       "<tr><td style=\"text-align: right;\">        1</td><td style=\"text-align: right;\">0.323307</td><td style=\"text-align: right;\">0.676693 </td></tr>\n",
       "<tr><td style=\"text-align: right;\">        0</td><td style=\"text-align: right;\">0.974469</td><td style=\"text-align: right;\">0.0255313</td></tr>\n",
       "<tr><td style=\"text-align: right;\">        0</td><td style=\"text-align: right;\">0.98881 </td><td style=\"text-align: right;\">0.0111897</td></tr>\n",
       "<tr><td style=\"text-align: right;\">        0</td><td style=\"text-align: right;\">0.850452</td><td style=\"text-align: right;\">0.149548 </td></tr>\n",
       "<tr><td style=\"text-align: right;\">        1</td><td style=\"text-align: right;\">0.441069</td><td style=\"text-align: right;\">0.558931 </td></tr>\n",
       "<tr><td style=\"text-align: right;\">        1</td><td style=\"text-align: right;\">0.517493</td><td style=\"text-align: right;\">0.482507 </td></tr>\n",
       "<tr><td style=\"text-align: right;\">        1</td><td style=\"text-align: right;\">0.656247</td><td style=\"text-align: right;\">0.343753 </td></tr>\n",
       "<tr><td style=\"text-align: right;\">        0</td><td style=\"text-align: right;\">0.726899</td><td style=\"text-align: right;\">0.273101 </td></tr>\n",
       "</tbody>\n",
       "</table>"
      ]
     },
     "metadata": {},
     "output_type": "display_data"
    },
    {
     "data": {
      "text/html": [
       "<table>\n",
       "<thead>\n",
       "<tr><th style=\"text-align: right;\">  predict</th><th style=\"text-align: right;\">      p0</th><th style=\"text-align: right;\">       p1</th></tr>\n",
       "</thead>\n",
       "<tbody>\n",
       "<tr><td style=\"text-align: right;\">        0</td><td style=\"text-align: right;\">0.922405</td><td style=\"text-align: right;\">0.0775948</td></tr>\n",
       "<tr><td style=\"text-align: right;\">        1</td><td style=\"text-align: right;\">0.443631</td><td style=\"text-align: right;\">0.556369 </td></tr>\n",
       "<tr><td style=\"text-align: right;\">        1</td><td style=\"text-align: right;\">0.383083</td><td style=\"text-align: right;\">0.616917 </td></tr>\n",
       "<tr><td style=\"text-align: right;\">        0</td><td style=\"text-align: right;\">0.973212</td><td style=\"text-align: right;\">0.0267885</td></tr>\n",
       "<tr><td style=\"text-align: right;\">        0</td><td style=\"text-align: right;\">0.989929</td><td style=\"text-align: right;\">0.0100707</td></tr>\n",
       "<tr><td style=\"text-align: right;\">        0</td><td style=\"text-align: right;\">0.870881</td><td style=\"text-align: right;\">0.129119 </td></tr>\n",
       "<tr><td style=\"text-align: right;\">        1</td><td style=\"text-align: right;\">0.542855</td><td style=\"text-align: right;\">0.457145 </td></tr>\n",
       "<tr><td style=\"text-align: right;\">        1</td><td style=\"text-align: right;\">0.499923</td><td style=\"text-align: right;\">0.500077 </td></tr>\n",
       "<tr><td style=\"text-align: right;\">        0</td><td style=\"text-align: right;\">0.671129</td><td style=\"text-align: right;\">0.328871 </td></tr>\n",
       "<tr><td style=\"text-align: right;\">        0</td><td style=\"text-align: right;\">0.742556</td><td style=\"text-align: right;\">0.257444 </td></tr>\n",
       "</tbody>\n",
       "</table>"
      ]
     },
     "metadata": {},
     "output_type": "display_data"
    },
    {
     "data": {
      "text/html": [
       "<table>\n",
       "<thead>\n",
       "<tr><th style=\"text-align: right;\">  predict</th><th style=\"text-align: right;\">      p0</th><th style=\"text-align: right;\">        p1</th></tr>\n",
       "</thead>\n",
       "<tbody>\n",
       "<tr><td style=\"text-align: right;\">        0</td><td style=\"text-align: right;\">0.961741</td><td style=\"text-align: right;\">0.0382594 </td></tr>\n",
       "<tr><td style=\"text-align: right;\">        1</td><td style=\"text-align: right;\">0.652192</td><td style=\"text-align: right;\">0.347808  </td></tr>\n",
       "<tr><td style=\"text-align: right;\">        1</td><td style=\"text-align: right;\">0.624274</td><td style=\"text-align: right;\">0.375726  </td></tr>\n",
       "<tr><td style=\"text-align: right;\">        0</td><td style=\"text-align: right;\">0.991153</td><td style=\"text-align: right;\">0.00884719</td></tr>\n",
       "<tr><td style=\"text-align: right;\">        0</td><td style=\"text-align: right;\">0.996278</td><td style=\"text-align: right;\">0.00372192</td></tr>\n",
       "<tr><td style=\"text-align: right;\">        0</td><td style=\"text-align: right;\">0.905879</td><td style=\"text-align: right;\">0.0941211 </td></tr>\n",
       "<tr><td style=\"text-align: right;\">        1</td><td style=\"text-align: right;\">0.396105</td><td style=\"text-align: right;\">0.603895  </td></tr>\n",
       "<tr><td style=\"text-align: right;\">        1</td><td style=\"text-align: right;\">0.641616</td><td style=\"text-align: right;\">0.358384  </td></tr>\n",
       "<tr><td style=\"text-align: right;\">        1</td><td style=\"text-align: right;\">0.713105</td><td style=\"text-align: right;\">0.286895  </td></tr>\n",
       "<tr><td style=\"text-align: right;\">        0</td><td style=\"text-align: right;\">0.814541</td><td style=\"text-align: right;\">0.185459  </td></tr>\n",
       "</tbody>\n",
       "</table>"
      ]
     },
     "metadata": {},
     "output_type": "display_data"
    },
    {
     "data": {
      "text/html": [
       "<table>\n",
       "<thead>\n",
       "<tr><th style=\"text-align: right;\">  predict</th><th style=\"text-align: right;\">      p0</th><th style=\"text-align: right;\">      p1</th></tr>\n",
       "</thead>\n",
       "<tbody>\n",
       "<tr><td style=\"text-align: right;\">        0</td><td style=\"text-align: right;\">0.799091</td><td style=\"text-align: right;\">0.200909</td></tr>\n",
       "<tr><td style=\"text-align: right;\">        1</td><td style=\"text-align: right;\">0.57862 </td><td style=\"text-align: right;\">0.42138 </td></tr>\n",
       "<tr><td style=\"text-align: right;\">        1</td><td style=\"text-align: right;\">0.617914</td><td style=\"text-align: right;\">0.382086</td></tr>\n",
       "<tr><td style=\"text-align: right;\">        0</td><td style=\"text-align: right;\">0.872172</td><td style=\"text-align: right;\">0.127828</td></tr>\n",
       "<tr><td style=\"text-align: right;\">        0</td><td style=\"text-align: right;\">0.869435</td><td style=\"text-align: right;\">0.130565</td></tr>\n",
       "<tr><td style=\"text-align: right;\">        0</td><td style=\"text-align: right;\">0.791863</td><td style=\"text-align: right;\">0.208137</td></tr>\n",
       "<tr><td style=\"text-align: right;\">        1</td><td style=\"text-align: right;\">0.560381</td><td style=\"text-align: right;\">0.439619</td></tr>\n",
       "<tr><td style=\"text-align: right;\">        1</td><td style=\"text-align: right;\">0.374372</td><td style=\"text-align: right;\">0.625628</td></tr>\n",
       "<tr><td style=\"text-align: right;\">        1</td><td style=\"text-align: right;\">0.648826</td><td style=\"text-align: right;\">0.351174</td></tr>\n",
       "<tr><td style=\"text-align: right;\">        0</td><td style=\"text-align: right;\">0.720719</td><td style=\"text-align: right;\">0.279281</td></tr>\n",
       "</tbody>\n",
       "</table>"
      ]
     },
     "metadata": {},
     "output_type": "display_data"
    },
    {
     "data": {
      "text/html": [
       "<table>\n",
       "<thead>\n",
       "<tr><th style=\"text-align: right;\">  predict</th><th style=\"text-align: right;\">      p0</th><th style=\"text-align: right;\">      p1</th></tr>\n",
       "</thead>\n",
       "<tbody>\n",
       "<tr><td style=\"text-align: right;\">        0</td><td style=\"text-align: right;\">0.801508</td><td style=\"text-align: right;\">0.198492</td></tr>\n",
       "<tr><td style=\"text-align: right;\">        1</td><td style=\"text-align: right;\">0.56236 </td><td style=\"text-align: right;\">0.43764 </td></tr>\n",
       "<tr><td style=\"text-align: right;\">        1</td><td style=\"text-align: right;\">0.600931</td><td style=\"text-align: right;\">0.399069</td></tr>\n",
       "<tr><td style=\"text-align: right;\">        0</td><td style=\"text-align: right;\">0.866812</td><td style=\"text-align: right;\">0.133188</td></tr>\n",
       "<tr><td style=\"text-align: right;\">        0</td><td style=\"text-align: right;\">0.867732</td><td style=\"text-align: right;\">0.132268</td></tr>\n",
       "<tr><td style=\"text-align: right;\">        0</td><td style=\"text-align: right;\">0.763343</td><td style=\"text-align: right;\">0.236657</td></tr>\n",
       "<tr><td style=\"text-align: right;\">        1</td><td style=\"text-align: right;\">0.532833</td><td style=\"text-align: right;\">0.467167</td></tr>\n",
       "<tr><td style=\"text-align: right;\">        1</td><td style=\"text-align: right;\">0.365159</td><td style=\"text-align: right;\">0.634841</td></tr>\n",
       "<tr><td style=\"text-align: right;\">        0</td><td style=\"text-align: right;\">0.673149</td><td style=\"text-align: right;\">0.326851</td></tr>\n",
       "<tr><td style=\"text-align: right;\">        0</td><td style=\"text-align: right;\">0.702898</td><td style=\"text-align: right;\">0.297102</td></tr>\n",
       "</tbody>\n",
       "</table>"
      ]
     },
     "metadata": {},
     "output_type": "display_data"
    },
    {
     "data": {
      "text/html": [
       "<table>\n",
       "<thead>\n",
       "<tr><th style=\"text-align: right;\">  predict</th><th style=\"text-align: right;\">      p0</th><th style=\"text-align: right;\">      p1</th></tr>\n",
       "</thead>\n",
       "<tbody>\n",
       "<tr><td style=\"text-align: right;\">        0</td><td style=\"text-align: right;\">0.783917</td><td style=\"text-align: right;\">0.216083</td></tr>\n",
       "<tr><td style=\"text-align: right;\">        1</td><td style=\"text-align: right;\">0.586003</td><td style=\"text-align: right;\">0.413997</td></tr>\n",
       "<tr><td style=\"text-align: right;\">        1</td><td style=\"text-align: right;\">0.599365</td><td style=\"text-align: right;\">0.400635</td></tr>\n",
       "<tr><td style=\"text-align: right;\">        0</td><td style=\"text-align: right;\">0.865394</td><td style=\"text-align: right;\">0.134606</td></tr>\n",
       "<tr><td style=\"text-align: right;\">        0</td><td style=\"text-align: right;\">0.867833</td><td style=\"text-align: right;\">0.132167</td></tr>\n",
       "<tr><td style=\"text-align: right;\">        0</td><td style=\"text-align: right;\">0.780264</td><td style=\"text-align: right;\">0.219736</td></tr>\n",
       "<tr><td style=\"text-align: right;\">        1</td><td style=\"text-align: right;\">0.474813</td><td style=\"text-align: right;\">0.525187</td></tr>\n",
       "<tr><td style=\"text-align: right;\">        1</td><td style=\"text-align: right;\">0.37202 </td><td style=\"text-align: right;\">0.62798 </td></tr>\n",
       "<tr><td style=\"text-align: right;\">        1</td><td style=\"text-align: right;\">0.664895</td><td style=\"text-align: right;\">0.335105</td></tr>\n",
       "<tr><td style=\"text-align: right;\">        1</td><td style=\"text-align: right;\">0.692265</td><td style=\"text-align: right;\">0.307735</td></tr>\n",
       "</tbody>\n",
       "</table>"
      ]
     },
     "metadata": {},
     "output_type": "display_data"
    },
    {
     "data": {
      "text/html": [
       "<table>\n",
       "<thead>\n",
       "<tr><th style=\"text-align: right;\">  predict</th><th style=\"text-align: right;\">      p0</th><th style=\"text-align: right;\">      p1</th></tr>\n",
       "</thead>\n",
       "<tbody>\n",
       "<tr><td style=\"text-align: right;\">        0</td><td style=\"text-align: right;\">0.813246</td><td style=\"text-align: right;\">0.186754</td></tr>\n",
       "<tr><td style=\"text-align: right;\">        0</td><td style=\"text-align: right;\">0.659871</td><td style=\"text-align: right;\">0.340129</td></tr>\n",
       "<tr><td style=\"text-align: right;\">        0</td><td style=\"text-align: right;\">0.708415</td><td style=\"text-align: right;\">0.291585</td></tr>\n",
       "<tr><td style=\"text-align: right;\">        0</td><td style=\"text-align: right;\">0.873344</td><td style=\"text-align: right;\">0.126656</td></tr>\n",
       "<tr><td style=\"text-align: right;\">        0</td><td style=\"text-align: right;\">0.871633</td><td style=\"text-align: right;\">0.128367</td></tr>\n",
       "<tr><td style=\"text-align: right;\">        0</td><td style=\"text-align: right;\">0.814736</td><td style=\"text-align: right;\">0.185264</td></tr>\n",
       "<tr><td style=\"text-align: right;\">        1</td><td style=\"text-align: right;\">0.567465</td><td style=\"text-align: right;\">0.432535</td></tr>\n",
       "<tr><td style=\"text-align: right;\">        1</td><td style=\"text-align: right;\">0.390516</td><td style=\"text-align: right;\">0.609484</td></tr>\n",
       "<tr><td style=\"text-align: right;\">        0</td><td style=\"text-align: right;\">0.739649</td><td style=\"text-align: right;\">0.260351</td></tr>\n",
       "<tr><td style=\"text-align: right;\">        0</td><td style=\"text-align: right;\">0.71481 </td><td style=\"text-align: right;\">0.28519 </td></tr>\n",
       "</tbody>\n",
       "</table>"
      ]
     },
     "metadata": {},
     "output_type": "display_data"
    },
    {
     "data": {
      "text/html": [
       "<table>\n",
       "<thead>\n",
       "<tr><th style=\"text-align: right;\">  predict</th><th style=\"text-align: right;\">      p0</th><th style=\"text-align: right;\">        p1</th></tr>\n",
       "</thead>\n",
       "<tbody>\n",
       "<tr><td style=\"text-align: right;\">        0</td><td style=\"text-align: right;\">0.967651</td><td style=\"text-align: right;\">0.0323492 </td></tr>\n",
       "<tr><td style=\"text-align: right;\">        1</td><td style=\"text-align: right;\">0.629313</td><td style=\"text-align: right;\">0.370687  </td></tr>\n",
       "<tr><td style=\"text-align: right;\">        1</td><td style=\"text-align: right;\">0.521016</td><td style=\"text-align: right;\">0.478984  </td></tr>\n",
       "<tr><td style=\"text-align: right;\">        0</td><td style=\"text-align: right;\">0.971838</td><td style=\"text-align: right;\">0.0281616 </td></tr>\n",
       "<tr><td style=\"text-align: right;\">        0</td><td style=\"text-align: right;\">0.991024</td><td style=\"text-align: right;\">0.00897588</td></tr>\n",
       "<tr><td style=\"text-align: right;\">        0</td><td style=\"text-align: right;\">0.845148</td><td style=\"text-align: right;\">0.154852  </td></tr>\n",
       "<tr><td style=\"text-align: right;\">        1</td><td style=\"text-align: right;\">0.39619 </td><td style=\"text-align: right;\">0.60381   </td></tr>\n",
       "<tr><td style=\"text-align: right;\">        1</td><td style=\"text-align: right;\">0.332516</td><td style=\"text-align: right;\">0.667484  </td></tr>\n",
       "<tr><td style=\"text-align: right;\">        0</td><td style=\"text-align: right;\">0.705273</td><td style=\"text-align: right;\">0.294727  </td></tr>\n",
       "<tr><td style=\"text-align: right;\">        0</td><td style=\"text-align: right;\">0.835115</td><td style=\"text-align: right;\">0.164885  </td></tr>\n",
       "</tbody>\n",
       "</table>"
      ]
     },
     "metadata": {},
     "output_type": "display_data"
    },
    {
     "data": {
      "text/html": [
       "<table>\n",
       "<thead>\n",
       "<tr><th style=\"text-align: right;\">  predict</th><th style=\"text-align: right;\">      p0</th><th style=\"text-align: right;\">      p1</th></tr>\n",
       "</thead>\n",
       "<tbody>\n",
       "<tr><td style=\"text-align: right;\">        0</td><td style=\"text-align: right;\">0.797661</td><td style=\"text-align: right;\">0.202339</td></tr>\n",
       "<tr><td style=\"text-align: right;\">        1</td><td style=\"text-align: right;\">0.544428</td><td style=\"text-align: right;\">0.455572</td></tr>\n",
       "<tr><td style=\"text-align: right;\">        1</td><td style=\"text-align: right;\">0.595114</td><td style=\"text-align: right;\">0.404886</td></tr>\n",
       "<tr><td style=\"text-align: right;\">        0</td><td style=\"text-align: right;\">0.867747</td><td style=\"text-align: right;\">0.132253</td></tr>\n",
       "<tr><td style=\"text-align: right;\">        0</td><td style=\"text-align: right;\">0.868688</td><td style=\"text-align: right;\">0.131312</td></tr>\n",
       "<tr><td style=\"text-align: right;\">        0</td><td style=\"text-align: right;\">0.764161</td><td style=\"text-align: right;\">0.235839</td></tr>\n",
       "<tr><td style=\"text-align: right;\">        1</td><td style=\"text-align: right;\">0.580365</td><td style=\"text-align: right;\">0.419635</td></tr>\n",
       "<tr><td style=\"text-align: right;\">        1</td><td style=\"text-align: right;\">0.357764</td><td style=\"text-align: right;\">0.642236</td></tr>\n",
       "<tr><td style=\"text-align: right;\">        1</td><td style=\"text-align: right;\">0.640976</td><td style=\"text-align: right;\">0.359024</td></tr>\n",
       "<tr><td style=\"text-align: right;\">        0</td><td style=\"text-align: right;\">0.71826 </td><td style=\"text-align: right;\">0.28174 </td></tr>\n",
       "</tbody>\n",
       "</table>"
      ]
     },
     "metadata": {},
     "output_type": "display_data"
    },
    {
     "data": {
      "text/html": [
       "<table>\n",
       "<thead>\n",
       "<tr><th style=\"text-align: right;\">  predict</th><th style=\"text-align: right;\">      p0</th><th style=\"text-align: right;\">      p1</th></tr>\n",
       "</thead>\n",
       "<tbody>\n",
       "<tr><td style=\"text-align: right;\">        0</td><td style=\"text-align: right;\">0.805257</td><td style=\"text-align: right;\">0.194743</td></tr>\n",
       "<tr><td style=\"text-align: right;\">        1</td><td style=\"text-align: right;\">0.576698</td><td style=\"text-align: right;\">0.423302</td></tr>\n",
       "<tr><td style=\"text-align: right;\">        1</td><td style=\"text-align: right;\">0.5943  </td><td style=\"text-align: right;\">0.4057  </td></tr>\n",
       "<tr><td style=\"text-align: right;\">        0</td><td style=\"text-align: right;\">0.867904</td><td style=\"text-align: right;\">0.132096</td></tr>\n",
       "<tr><td style=\"text-align: right;\">        0</td><td style=\"text-align: right;\">0.868902</td><td style=\"text-align: right;\">0.131098</td></tr>\n",
       "<tr><td style=\"text-align: right;\">        0</td><td style=\"text-align: right;\">0.791172</td><td style=\"text-align: right;\">0.208828</td></tr>\n",
       "<tr><td style=\"text-align: right;\">        1</td><td style=\"text-align: right;\">0.518133</td><td style=\"text-align: right;\">0.481867</td></tr>\n",
       "<tr><td style=\"text-align: right;\">        1</td><td style=\"text-align: right;\">0.379411</td><td style=\"text-align: right;\">0.620589</td></tr>\n",
       "<tr><td style=\"text-align: right;\">        1</td><td style=\"text-align: right;\">0.649579</td><td style=\"text-align: right;\">0.350421</td></tr>\n",
       "<tr><td style=\"text-align: right;\">        0</td><td style=\"text-align: right;\">0.751056</td><td style=\"text-align: right;\">0.248944</td></tr>\n",
       "</tbody>\n",
       "</table>"
      ]
     },
     "metadata": {},
     "output_type": "display_data"
    },
    {
     "data": {
      "text/html": [
       "<table>\n",
       "<thead>\n",
       "<tr><th style=\"text-align: right;\">  predict</th><th style=\"text-align: right;\">      p0</th><th style=\"text-align: right;\">      p1</th></tr>\n",
       "</thead>\n",
       "<tbody>\n",
       "<tr><td style=\"text-align: right;\">        0</td><td style=\"text-align: right;\">0.794846</td><td style=\"text-align: right;\">0.205154</td></tr>\n",
       "<tr><td style=\"text-align: right;\">        1</td><td style=\"text-align: right;\">0.550092</td><td style=\"text-align: right;\">0.449908</td></tr>\n",
       "<tr><td style=\"text-align: right;\">        1</td><td style=\"text-align: right;\">0.574929</td><td style=\"text-align: right;\">0.425071</td></tr>\n",
       "<tr><td style=\"text-align: right;\">        0</td><td style=\"text-align: right;\">0.867203</td><td style=\"text-align: right;\">0.132797</td></tr>\n",
       "<tr><td style=\"text-align: right;\">        0</td><td style=\"text-align: right;\">0.868716</td><td style=\"text-align: right;\">0.131284</td></tr>\n",
       "<tr><td style=\"text-align: right;\">        0</td><td style=\"text-align: right;\">0.778215</td><td style=\"text-align: right;\">0.221785</td></tr>\n",
       "<tr><td style=\"text-align: right;\">        1</td><td style=\"text-align: right;\">0.591273</td><td style=\"text-align: right;\">0.408727</td></tr>\n",
       "<tr><td style=\"text-align: right;\">        1</td><td style=\"text-align: right;\">0.378159</td><td style=\"text-align: right;\">0.621841</td></tr>\n",
       "<tr><td style=\"text-align: right;\">        1</td><td style=\"text-align: right;\">0.641818</td><td style=\"text-align: right;\">0.358182</td></tr>\n",
       "<tr><td style=\"text-align: right;\">        0</td><td style=\"text-align: right;\">0.714091</td><td style=\"text-align: right;\">0.285909</td></tr>\n",
       "</tbody>\n",
       "</table>"
      ]
     },
     "metadata": {},
     "output_type": "display_data"
    },
    {
     "data": {
      "text/html": [
       "<table>\n",
       "<thead>\n",
       "<tr><th style=\"text-align: right;\">  predict</th><th style=\"text-align: right;\">      p0</th><th style=\"text-align: right;\">        p1</th></tr>\n",
       "</thead>\n",
       "<tbody>\n",
       "<tr><td style=\"text-align: right;\">        0</td><td style=\"text-align: right;\">0.955269</td><td style=\"text-align: right;\">0.0447306 </td></tr>\n",
       "<tr><td style=\"text-align: right;\">        1</td><td style=\"text-align: right;\">0.575224</td><td style=\"text-align: right;\">0.424776  </td></tr>\n",
       "<tr><td style=\"text-align: right;\">        1</td><td style=\"text-align: right;\">0.543659</td><td style=\"text-align: right;\">0.456341  </td></tr>\n",
       "<tr><td style=\"text-align: right;\">        0</td><td style=\"text-align: right;\">0.961984</td><td style=\"text-align: right;\">0.0380163 </td></tr>\n",
       "<tr><td style=\"text-align: right;\">        0</td><td style=\"text-align: right;\">0.992821</td><td style=\"text-align: right;\">0.00717943</td></tr>\n",
       "<tr><td style=\"text-align: right;\">        0</td><td style=\"text-align: right;\">0.877756</td><td style=\"text-align: right;\">0.122244  </td></tr>\n",
       "<tr><td style=\"text-align: right;\">        1</td><td style=\"text-align: right;\">0.487025</td><td style=\"text-align: right;\">0.512975  </td></tr>\n",
       "<tr><td style=\"text-align: right;\">        1</td><td style=\"text-align: right;\">0.367462</td><td style=\"text-align: right;\">0.632538  </td></tr>\n",
       "<tr><td style=\"text-align: right;\">        1</td><td style=\"text-align: right;\">0.611207</td><td style=\"text-align: right;\">0.388793  </td></tr>\n",
       "<tr><td style=\"text-align: right;\">        0</td><td style=\"text-align: right;\">0.881326</td><td style=\"text-align: right;\">0.118674  </td></tr>\n",
       "</tbody>\n",
       "</table>"
      ]
     },
     "metadata": {},
     "output_type": "display_data"
    },
    {
     "data": {
      "text/html": [
       "<table>\n",
       "<thead>\n",
       "<tr><th style=\"text-align: right;\">  predict</th><th style=\"text-align: right;\">      p0</th><th style=\"text-align: right;\">      p1</th></tr>\n",
       "</thead>\n",
       "<tbody>\n",
       "<tr><td style=\"text-align: right;\">        0</td><td style=\"text-align: right;\">0.799027</td><td style=\"text-align: right;\">0.200973</td></tr>\n",
       "<tr><td style=\"text-align: right;\">        1</td><td style=\"text-align: right;\">0.558111</td><td style=\"text-align: right;\">0.441889</td></tr>\n",
       "<tr><td style=\"text-align: right;\">        1</td><td style=\"text-align: right;\">0.606216</td><td style=\"text-align: right;\">0.393784</td></tr>\n",
       "<tr><td style=\"text-align: right;\">        0</td><td style=\"text-align: right;\">0.867501</td><td style=\"text-align: right;\">0.132499</td></tr>\n",
       "<tr><td style=\"text-align: right;\">        0</td><td style=\"text-align: right;\">0.865822</td><td style=\"text-align: right;\">0.134178</td></tr>\n",
       "<tr><td style=\"text-align: right;\">        0</td><td style=\"text-align: right;\">0.786326</td><td style=\"text-align: right;\">0.213674</td></tr>\n",
       "<tr><td style=\"text-align: right;\">        1</td><td style=\"text-align: right;\">0.532388</td><td style=\"text-align: right;\">0.467612</td></tr>\n",
       "<tr><td style=\"text-align: right;\">        1</td><td style=\"text-align: right;\">0.391191</td><td style=\"text-align: right;\">0.608809</td></tr>\n",
       "<tr><td style=\"text-align: right;\">        1</td><td style=\"text-align: right;\">0.639084</td><td style=\"text-align: right;\">0.360916</td></tr>\n",
       "<tr><td style=\"text-align: right;\">        1</td><td style=\"text-align: right;\">0.701634</td><td style=\"text-align: right;\">0.298366</td></tr>\n",
       "</tbody>\n",
       "</table>"
      ]
     },
     "metadata": {},
     "output_type": "display_data"
    },
    {
     "data": {
      "text/html": [
       "<table>\n",
       "<thead>\n",
       "<tr><th style=\"text-align: right;\">  predict</th><th style=\"text-align: right;\">      p0</th><th style=\"text-align: right;\">       p1</th></tr>\n",
       "</thead>\n",
       "<tbody>\n",
       "<tr><td style=\"text-align: right;\">        0</td><td style=\"text-align: right;\">0.978095</td><td style=\"text-align: right;\">0.0219051</td></tr>\n",
       "<tr><td style=\"text-align: right;\">        1</td><td style=\"text-align: right;\">0.530502</td><td style=\"text-align: right;\">0.469498 </td></tr>\n",
       "<tr><td style=\"text-align: right;\">        1</td><td style=\"text-align: right;\">0.563667</td><td style=\"text-align: right;\">0.436333 </td></tr>\n",
       "<tr><td style=\"text-align: right;\">        0</td><td style=\"text-align: right;\">0.973725</td><td style=\"text-align: right;\">0.0262746</td></tr>\n",
       "<tr><td style=\"text-align: right;\">        0</td><td style=\"text-align: right;\">0.99453 </td><td style=\"text-align: right;\">0.0054698</td></tr>\n",
       "<tr><td style=\"text-align: right;\">        0</td><td style=\"text-align: right;\">0.930978</td><td style=\"text-align: right;\">0.0690215</td></tr>\n",
       "<tr><td style=\"text-align: right;\">        1</td><td style=\"text-align: right;\">0.456271</td><td style=\"text-align: right;\">0.543729 </td></tr>\n",
       "<tr><td style=\"text-align: right;\">        1</td><td style=\"text-align: right;\">0.307961</td><td style=\"text-align: right;\">0.692039 </td></tr>\n",
       "<tr><td style=\"text-align: right;\">        1</td><td style=\"text-align: right;\">0.69642 </td><td style=\"text-align: right;\">0.30358  </td></tr>\n",
       "<tr><td style=\"text-align: right;\">        0</td><td style=\"text-align: right;\">0.856326</td><td style=\"text-align: right;\">0.143674 </td></tr>\n",
       "</tbody>\n",
       "</table>"
      ]
     },
     "metadata": {},
     "output_type": "display_data"
    },
    {
     "data": {
      "text/html": [
       "<table>\n",
       "<thead>\n",
       "<tr><th style=\"text-align: right;\">  predict</th><th style=\"text-align: right;\">      p0</th><th style=\"text-align: right;\">        p1</th></tr>\n",
       "</thead>\n",
       "<tbody>\n",
       "<tr><td style=\"text-align: right;\">        0</td><td style=\"text-align: right;\">0.963441</td><td style=\"text-align: right;\">0.036559  </td></tr>\n",
       "<tr><td style=\"text-align: right;\">        1</td><td style=\"text-align: right;\">0.622953</td><td style=\"text-align: right;\">0.377047  </td></tr>\n",
       "<tr><td style=\"text-align: right;\">        1</td><td style=\"text-align: right;\">0.62025 </td><td style=\"text-align: right;\">0.37975   </td></tr>\n",
       "<tr><td style=\"text-align: right;\">        0</td><td style=\"text-align: right;\">0.985165</td><td style=\"text-align: right;\">0.0148348 </td></tr>\n",
       "<tr><td style=\"text-align: right;\">        0</td><td style=\"text-align: right;\">0.992965</td><td style=\"text-align: right;\">0.00703494</td></tr>\n",
       "<tr><td style=\"text-align: right;\">        0</td><td style=\"text-align: right;\">0.882461</td><td style=\"text-align: right;\">0.117539  </td></tr>\n",
       "<tr><td style=\"text-align: right;\">        1</td><td style=\"text-align: right;\">0.401497</td><td style=\"text-align: right;\">0.598503  </td></tr>\n",
       "<tr><td style=\"text-align: right;\">        1</td><td style=\"text-align: right;\">0.544171</td><td style=\"text-align: right;\">0.455829  </td></tr>\n",
       "<tr><td style=\"text-align: right;\">        1</td><td style=\"text-align: right;\">0.715031</td><td style=\"text-align: right;\">0.284969  </td></tr>\n",
       "<tr><td style=\"text-align: right;\">        1</td><td style=\"text-align: right;\">0.680757</td><td style=\"text-align: right;\">0.319243  </td></tr>\n",
       "</tbody>\n",
       "</table>"
      ]
     },
     "metadata": {},
     "output_type": "display_data"
    },
    {
     "data": {
      "text/html": [
       "<table>\n",
       "<thead>\n",
       "<tr><th style=\"text-align: right;\">  predict</th><th style=\"text-align: right;\">      p0</th><th style=\"text-align: right;\">      p1</th></tr>\n",
       "</thead>\n",
       "<tbody>\n",
       "<tr><td style=\"text-align: right;\">        0</td><td style=\"text-align: right;\">0.745581</td><td style=\"text-align: right;\">0.254419</td></tr>\n",
       "<tr><td style=\"text-align: right;\">        1</td><td style=\"text-align: right;\">0.54943 </td><td style=\"text-align: right;\">0.45057 </td></tr>\n",
       "<tr><td style=\"text-align: right;\">        1</td><td style=\"text-align: right;\">0.535744</td><td style=\"text-align: right;\">0.464256</td></tr>\n",
       "<tr><td style=\"text-align: right;\">        0</td><td style=\"text-align: right;\">0.850483</td><td style=\"text-align: right;\">0.149517</td></tr>\n",
       "<tr><td style=\"text-align: right;\">        0</td><td style=\"text-align: right;\">0.853283</td><td style=\"text-align: right;\">0.146717</td></tr>\n",
       "<tr><td style=\"text-align: right;\">        0</td><td style=\"text-align: right;\">0.711838</td><td style=\"text-align: right;\">0.288162</td></tr>\n",
       "<tr><td style=\"text-align: right;\">        1</td><td style=\"text-align: right;\">0.580846</td><td style=\"text-align: right;\">0.419154</td></tr>\n",
       "<tr><td style=\"text-align: right;\">        1</td><td style=\"text-align: right;\">0.501713</td><td style=\"text-align: right;\">0.498287</td></tr>\n",
       "<tr><td style=\"text-align: right;\">        0</td><td style=\"text-align: right;\">0.652449</td><td style=\"text-align: right;\">0.347551</td></tr>\n",
       "<tr><td style=\"text-align: right;\">        1</td><td style=\"text-align: right;\">0.620554</td><td style=\"text-align: right;\">0.379446</td></tr>\n",
       "</tbody>\n",
       "</table>"
      ]
     },
     "metadata": {},
     "output_type": "display_data"
    },
    {
     "data": {
      "text/html": [
       "<table>\n",
       "<thead>\n",
       "<tr><th style=\"text-align: right;\">  predict</th><th style=\"text-align: right;\">      p0</th><th style=\"text-align: right;\">      p1</th></tr>\n",
       "</thead>\n",
       "<tbody>\n",
       "<tr><td style=\"text-align: right;\">        0</td><td style=\"text-align: right;\">0.737393</td><td style=\"text-align: right;\">0.262607</td></tr>\n",
       "<tr><td style=\"text-align: right;\">        1</td><td style=\"text-align: right;\">0.51155 </td><td style=\"text-align: right;\">0.48845 </td></tr>\n",
       "<tr><td style=\"text-align: right;\">        1</td><td style=\"text-align: right;\">0.634952</td><td style=\"text-align: right;\">0.365048</td></tr>\n",
       "<tr><td style=\"text-align: right;\">        0</td><td style=\"text-align: right;\">0.851169</td><td style=\"text-align: right;\">0.148831</td></tr>\n",
       "<tr><td style=\"text-align: right;\">        0</td><td style=\"text-align: right;\">0.855567</td><td style=\"text-align: right;\">0.144433</td></tr>\n",
       "<tr><td style=\"text-align: right;\">        0</td><td style=\"text-align: right;\">0.787483</td><td style=\"text-align: right;\">0.212517</td></tr>\n",
       "<tr><td style=\"text-align: right;\">        1</td><td style=\"text-align: right;\">0.647346</td><td style=\"text-align: right;\">0.352654</td></tr>\n",
       "<tr><td style=\"text-align: right;\">        1</td><td style=\"text-align: right;\">0.469128</td><td style=\"text-align: right;\">0.530872</td></tr>\n",
       "<tr><td style=\"text-align: right;\">        1</td><td style=\"text-align: right;\">0.556634</td><td style=\"text-align: right;\">0.443366</td></tr>\n",
       "<tr><td style=\"text-align: right;\">        1</td><td style=\"text-align: right;\">0.708647</td><td style=\"text-align: right;\">0.291353</td></tr>\n",
       "</tbody>\n",
       "</table>"
      ]
     },
     "metadata": {},
     "output_type": "display_data"
    },
    {
     "data": {
      "text/html": [
       "<table>\n",
       "<thead>\n",
       "<tr><th style=\"text-align: right;\">  predict</th><th style=\"text-align: right;\">      p0</th><th style=\"text-align: right;\">        p1</th></tr>\n",
       "</thead>\n",
       "<tbody>\n",
       "<tr><td style=\"text-align: right;\">        0</td><td style=\"text-align: right;\">0.991148</td><td style=\"text-align: right;\">0.00885233</td></tr>\n",
       "<tr><td style=\"text-align: right;\">        0</td><td style=\"text-align: right;\">0.808525</td><td style=\"text-align: right;\">0.191475  </td></tr>\n",
       "<tr><td style=\"text-align: right;\">        1</td><td style=\"text-align: right;\">0.44509 </td><td style=\"text-align: right;\">0.55491   </td></tr>\n",
       "<tr><td style=\"text-align: right;\">        0</td><td style=\"text-align: right;\">0.995246</td><td style=\"text-align: right;\">0.00475352</td></tr>\n",
       "<tr><td style=\"text-align: right;\">        0</td><td style=\"text-align: right;\">0.997761</td><td style=\"text-align: right;\">0.00223867</td></tr>\n",
       "<tr><td style=\"text-align: right;\">        0</td><td style=\"text-align: right;\">0.976392</td><td style=\"text-align: right;\">0.023608  </td></tr>\n",
       "<tr><td style=\"text-align: right;\">        1</td><td style=\"text-align: right;\">0.111654</td><td style=\"text-align: right;\">0.888346  </td></tr>\n",
       "<tr><td style=\"text-align: right;\">        1</td><td style=\"text-align: right;\">0.289037</td><td style=\"text-align: right;\">0.710963  </td></tr>\n",
       "<tr><td style=\"text-align: right;\">        1</td><td style=\"text-align: right;\">0.663222</td><td style=\"text-align: right;\">0.336778  </td></tr>\n",
       "<tr><td style=\"text-align: right;\">        0</td><td style=\"text-align: right;\">0.947595</td><td style=\"text-align: right;\">0.0524049 </td></tr>\n",
       "</tbody>\n",
       "</table>"
      ]
     },
     "metadata": {},
     "output_type": "display_data"
    },
    {
     "data": {
      "text/html": [
       "<table>\n",
       "<thead>\n",
       "<tr><th style=\"text-align: right;\">  predict</th><th style=\"text-align: right;\">      p0</th><th style=\"text-align: right;\">      p1</th></tr>\n",
       "</thead>\n",
       "<tbody>\n",
       "<tr><td style=\"text-align: right;\">        0</td><td style=\"text-align: right;\">0.753128</td><td style=\"text-align: right;\">0.246872</td></tr>\n",
       "<tr><td style=\"text-align: right;\">        1</td><td style=\"text-align: right;\">0.539768</td><td style=\"text-align: right;\">0.460232</td></tr>\n",
       "<tr><td style=\"text-align: right;\">        1</td><td style=\"text-align: right;\">0.602842</td><td style=\"text-align: right;\">0.397158</td></tr>\n",
       "<tr><td style=\"text-align: right;\">        0</td><td style=\"text-align: right;\">0.847812</td><td style=\"text-align: right;\">0.152188</td></tr>\n",
       "<tr><td style=\"text-align: right;\">        0</td><td style=\"text-align: right;\">0.856718</td><td style=\"text-align: right;\">0.143282</td></tr>\n",
       "<tr><td style=\"text-align: right;\">        0</td><td style=\"text-align: right;\">0.754367</td><td style=\"text-align: right;\">0.245633</td></tr>\n",
       "<tr><td style=\"text-align: right;\">        1</td><td style=\"text-align: right;\">0.643194</td><td style=\"text-align: right;\">0.356806</td></tr>\n",
       "<tr><td style=\"text-align: right;\">        1</td><td style=\"text-align: right;\">0.485186</td><td style=\"text-align: right;\">0.514814</td></tr>\n",
       "<tr><td style=\"text-align: right;\">        1</td><td style=\"text-align: right;\">0.587922</td><td style=\"text-align: right;\">0.412078</td></tr>\n",
       "<tr><td style=\"text-align: right;\">        0</td><td style=\"text-align: right;\">0.712093</td><td style=\"text-align: right;\">0.287907</td></tr>\n",
       "</tbody>\n",
       "</table>"
      ]
     },
     "metadata": {},
     "output_type": "display_data"
    },
    {
     "data": {
      "text/html": [
       "<table>\n",
       "<thead>\n",
       "<tr><th style=\"text-align: right;\">  predict</th><th style=\"text-align: right;\">      p0</th><th style=\"text-align: right;\">       p1</th></tr>\n",
       "</thead>\n",
       "<tbody>\n",
       "<tr><td style=\"text-align: right;\">        0</td><td style=\"text-align: right;\">0.964225</td><td style=\"text-align: right;\">0.035775 </td></tr>\n",
       "<tr><td style=\"text-align: right;\">        1</td><td style=\"text-align: right;\">0.46185 </td><td style=\"text-align: right;\">0.53815  </td></tr>\n",
       "<tr><td style=\"text-align: right;\">        1</td><td style=\"text-align: right;\">0.492894</td><td style=\"text-align: right;\">0.507106 </td></tr>\n",
       "<tr><td style=\"text-align: right;\">        0</td><td style=\"text-align: right;\">0.972694</td><td style=\"text-align: right;\">0.0273058</td></tr>\n",
       "<tr><td style=\"text-align: right;\">        0</td><td style=\"text-align: right;\">0.9926  </td><td style=\"text-align: right;\">0.0074   </td></tr>\n",
       "<tr><td style=\"text-align: right;\">        0</td><td style=\"text-align: right;\">0.896748</td><td style=\"text-align: right;\">0.103252 </td></tr>\n",
       "<tr><td style=\"text-align: right;\">        1</td><td style=\"text-align: right;\">0.41329 </td><td style=\"text-align: right;\">0.58671  </td></tr>\n",
       "<tr><td style=\"text-align: right;\">        1</td><td style=\"text-align: right;\">0.310578</td><td style=\"text-align: right;\">0.689422 </td></tr>\n",
       "<tr><td style=\"text-align: right;\">        1</td><td style=\"text-align: right;\">0.628548</td><td style=\"text-align: right;\">0.371452 </td></tr>\n",
       "<tr><td style=\"text-align: right;\">        0</td><td style=\"text-align: right;\">0.862717</td><td style=\"text-align: right;\">0.137283 </td></tr>\n",
       "</tbody>\n",
       "</table>"
      ]
     },
     "metadata": {},
     "output_type": "display_data"
    },
    {
     "data": {
      "text/html": [
       "<table>\n",
       "<thead>\n",
       "<tr><th style=\"text-align: right;\">  predict</th><th style=\"text-align: right;\">      p0</th><th style=\"text-align: right;\">      p1</th></tr>\n",
       "</thead>\n",
       "<tbody>\n",
       "<tr><td style=\"text-align: right;\">        0</td><td style=\"text-align: right;\">0.751997</td><td style=\"text-align: right;\">0.248003</td></tr>\n",
       "<tr><td style=\"text-align: right;\">        1</td><td style=\"text-align: right;\">0.535914</td><td style=\"text-align: right;\">0.464086</td></tr>\n",
       "<tr><td style=\"text-align: right;\">        1</td><td style=\"text-align: right;\">0.596649</td><td style=\"text-align: right;\">0.403351</td></tr>\n",
       "<tr><td style=\"text-align: right;\">        0</td><td style=\"text-align: right;\">0.848833</td><td style=\"text-align: right;\">0.151167</td></tr>\n",
       "<tr><td style=\"text-align: right;\">        0</td><td style=\"text-align: right;\">0.858495</td><td style=\"text-align: right;\">0.141505</td></tr>\n",
       "<tr><td style=\"text-align: right;\">        0</td><td style=\"text-align: right;\">0.743269</td><td style=\"text-align: right;\">0.256731</td></tr>\n",
       "<tr><td style=\"text-align: right;\">        1</td><td style=\"text-align: right;\">0.653422</td><td style=\"text-align: right;\">0.346578</td></tr>\n",
       "<tr><td style=\"text-align: right;\">        1</td><td style=\"text-align: right;\">0.465529</td><td style=\"text-align: right;\">0.534471</td></tr>\n",
       "<tr><td style=\"text-align: right;\">        1</td><td style=\"text-align: right;\">0.590732</td><td style=\"text-align: right;\">0.409268</td></tr>\n",
       "<tr><td style=\"text-align: right;\">        0</td><td style=\"text-align: right;\">0.707089</td><td style=\"text-align: right;\">0.292911</td></tr>\n",
       "</tbody>\n",
       "</table>"
      ]
     },
     "metadata": {},
     "output_type": "display_data"
    },
    {
     "data": {
      "text/html": [
       "<table>\n",
       "<thead>\n",
       "<tr><th style=\"text-align: right;\">  predict</th><th style=\"text-align: right;\">      p0</th><th style=\"text-align: right;\">      p1</th></tr>\n",
       "</thead>\n",
       "<tbody>\n",
       "<tr><td style=\"text-align: right;\">        0</td><td style=\"text-align: right;\">0.732529</td><td style=\"text-align: right;\">0.267471</td></tr>\n",
       "<tr><td style=\"text-align: right;\">        1</td><td style=\"text-align: right;\">0.540735</td><td style=\"text-align: right;\">0.459265</td></tr>\n",
       "<tr><td style=\"text-align: right;\">        1</td><td style=\"text-align: right;\">0.514315</td><td style=\"text-align: right;\">0.485685</td></tr>\n",
       "<tr><td style=\"text-align: right;\">        0</td><td style=\"text-align: right;\">0.8515  </td><td style=\"text-align: right;\">0.1485  </td></tr>\n",
       "<tr><td style=\"text-align: right;\">        0</td><td style=\"text-align: right;\">0.853149</td><td style=\"text-align: right;\">0.146851</td></tr>\n",
       "<tr><td style=\"text-align: right;\">        0</td><td style=\"text-align: right;\">0.691519</td><td style=\"text-align: right;\">0.308481</td></tr>\n",
       "<tr><td style=\"text-align: right;\">        1</td><td style=\"text-align: right;\">0.58753 </td><td style=\"text-align: right;\">0.41247 </td></tr>\n",
       "<tr><td style=\"text-align: right;\">        1</td><td style=\"text-align: right;\">0.50022 </td><td style=\"text-align: right;\">0.49978 </td></tr>\n",
       "<tr><td style=\"text-align: right;\">        0</td><td style=\"text-align: right;\">0.637048</td><td style=\"text-align: right;\">0.362952</td></tr>\n",
       "<tr><td style=\"text-align: right;\">        0</td><td style=\"text-align: right;\">0.644193</td><td style=\"text-align: right;\">0.355807</td></tr>\n",
       "</tbody>\n",
       "</table>"
      ]
     },
     "metadata": {},
     "output_type": "display_data"
    },
    {
     "data": {
      "text/html": [
       "<table>\n",
       "<thead>\n",
       "<tr><th style=\"text-align: right;\">  predict</th><th style=\"text-align: right;\">      p0</th><th style=\"text-align: right;\">      p1</th></tr>\n",
       "</thead>\n",
       "<tbody>\n",
       "<tr><td style=\"text-align: right;\">        0</td><td style=\"text-align: right;\">0.740475</td><td style=\"text-align: right;\">0.259525</td></tr>\n",
       "<tr><td style=\"text-align: right;\">        1</td><td style=\"text-align: right;\">0.514995</td><td style=\"text-align: right;\">0.485005</td></tr>\n",
       "<tr><td style=\"text-align: right;\">        1</td><td style=\"text-align: right;\">0.645448</td><td style=\"text-align: right;\">0.354552</td></tr>\n",
       "<tr><td style=\"text-align: right;\">        0</td><td style=\"text-align: right;\">0.856075</td><td style=\"text-align: right;\">0.143925</td></tr>\n",
       "<tr><td style=\"text-align: right;\">        0</td><td style=\"text-align: right;\">0.858856</td><td style=\"text-align: right;\">0.141144</td></tr>\n",
       "<tr><td style=\"text-align: right;\">        0</td><td style=\"text-align: right;\">0.790248</td><td style=\"text-align: right;\">0.209752</td></tr>\n",
       "<tr><td style=\"text-align: right;\">        1</td><td style=\"text-align: right;\">0.673896</td><td style=\"text-align: right;\">0.326104</td></tr>\n",
       "<tr><td style=\"text-align: right;\">        1</td><td style=\"text-align: right;\">0.472504</td><td style=\"text-align: right;\">0.527496</td></tr>\n",
       "<tr><td style=\"text-align: right;\">        1</td><td style=\"text-align: right;\">0.542537</td><td style=\"text-align: right;\">0.457463</td></tr>\n",
       "<tr><td style=\"text-align: right;\">        0</td><td style=\"text-align: right;\">0.725674</td><td style=\"text-align: right;\">0.274326</td></tr>\n",
       "</tbody>\n",
       "</table>"
      ]
     },
     "metadata": {},
     "output_type": "display_data"
    },
    {
     "data": {
      "text/html": [
       "<table>\n",
       "<thead>\n",
       "<tr><th style=\"text-align: right;\">  predict</th><th style=\"text-align: right;\">      p0</th><th style=\"text-align: right;\">      p1</th></tr>\n",
       "</thead>\n",
       "<tbody>\n",
       "<tr><td style=\"text-align: right;\">        0</td><td style=\"text-align: right;\">0.721434</td><td style=\"text-align: right;\">0.278566</td></tr>\n",
       "<tr><td style=\"text-align: right;\">        1</td><td style=\"text-align: right;\">0.572319</td><td style=\"text-align: right;\">0.427681</td></tr>\n",
       "<tr><td style=\"text-align: right;\">        1</td><td style=\"text-align: right;\">0.528198</td><td style=\"text-align: right;\">0.471802</td></tr>\n",
       "<tr><td style=\"text-align: right;\">        0</td><td style=\"text-align: right;\">0.83799 </td><td style=\"text-align: right;\">0.16201 </td></tr>\n",
       "<tr><td style=\"text-align: right;\">        0</td><td style=\"text-align: right;\">0.839855</td><td style=\"text-align: right;\">0.160145</td></tr>\n",
       "<tr><td style=\"text-align: right;\">        0</td><td style=\"text-align: right;\">0.695831</td><td style=\"text-align: right;\">0.304169</td></tr>\n",
       "<tr><td style=\"text-align: right;\">        1</td><td style=\"text-align: right;\">0.607596</td><td style=\"text-align: right;\">0.392404</td></tr>\n",
       "<tr><td style=\"text-align: right;\">        1</td><td style=\"text-align: right;\">0.496857</td><td style=\"text-align: right;\">0.503143</td></tr>\n",
       "<tr><td style=\"text-align: right;\">        1</td><td style=\"text-align: right;\">0.631424</td><td style=\"text-align: right;\">0.368576</td></tr>\n",
       "<tr><td style=\"text-align: right;\">        1</td><td style=\"text-align: right;\">0.636879</td><td style=\"text-align: right;\">0.363121</td></tr>\n",
       "</tbody>\n",
       "</table>"
      ]
     },
     "metadata": {},
     "output_type": "display_data"
    },
    {
     "data": {
      "text/html": [
       "<table>\n",
       "<thead>\n",
       "<tr><th style=\"text-align: right;\">  predict</th><th style=\"text-align: right;\">      p0</th><th style=\"text-align: right;\">         p1</th></tr>\n",
       "</thead>\n",
       "<tbody>\n",
       "<tr><td style=\"text-align: right;\">        0</td><td style=\"text-align: right;\">0.985576</td><td style=\"text-align: right;\">0.0144242  </td></tr>\n",
       "<tr><td style=\"text-align: right;\">        1</td><td style=\"text-align: right;\">0.677217</td><td style=\"text-align: right;\">0.322783   </td></tr>\n",
       "<tr><td style=\"text-align: right;\">        1</td><td style=\"text-align: right;\">0.563474</td><td style=\"text-align: right;\">0.436526   </td></tr>\n",
       "<tr><td style=\"text-align: right;\">        0</td><td style=\"text-align: right;\">0.998048</td><td style=\"text-align: right;\">0.00195153 </td></tr>\n",
       "<tr><td style=\"text-align: right;\">        0</td><td style=\"text-align: right;\">0.999141</td><td style=\"text-align: right;\">0.000859001</td></tr>\n",
       "<tr><td style=\"text-align: right;\">        0</td><td style=\"text-align: right;\">0.962612</td><td style=\"text-align: right;\">0.0373885  </td></tr>\n",
       "<tr><td style=\"text-align: right;\">        1</td><td style=\"text-align: right;\">0.230536</td><td style=\"text-align: right;\">0.769464   </td></tr>\n",
       "<tr><td style=\"text-align: right;\">        1</td><td style=\"text-align: right;\">0.612309</td><td style=\"text-align: right;\">0.387691   </td></tr>\n",
       "<tr><td style=\"text-align: right;\">        1</td><td style=\"text-align: right;\">0.724117</td><td style=\"text-align: right;\">0.275883   </td></tr>\n",
       "<tr><td style=\"text-align: right;\">        1</td><td style=\"text-align: right;\">0.801208</td><td style=\"text-align: right;\">0.198792   </td></tr>\n",
       "</tbody>\n",
       "</table>"
      ]
     },
     "metadata": {},
     "output_type": "display_data"
    },
    {
     "data": {
      "text/html": [
       "<table>\n",
       "<thead>\n",
       "<tr><th style=\"text-align: right;\">  predict</th><th style=\"text-align: right;\">      p0</th><th style=\"text-align: right;\">      p1</th></tr>\n",
       "</thead>\n",
       "<tbody>\n",
       "<tr><td style=\"text-align: right;\">        0</td><td style=\"text-align: right;\">0.710492</td><td style=\"text-align: right;\">0.289508</td></tr>\n",
       "<tr><td style=\"text-align: right;\">        1</td><td style=\"text-align: right;\">0.551913</td><td style=\"text-align: right;\">0.448087</td></tr>\n",
       "<tr><td style=\"text-align: right;\">        1</td><td style=\"text-align: right;\">0.525838</td><td style=\"text-align: right;\">0.474162</td></tr>\n",
       "<tr><td style=\"text-align: right;\">        0</td><td style=\"text-align: right;\">0.838012</td><td style=\"text-align: right;\">0.161988</td></tr>\n",
       "<tr><td style=\"text-align: right;\">        0</td><td style=\"text-align: right;\">0.843054</td><td style=\"text-align: right;\">0.156946</td></tr>\n",
       "<tr><td style=\"text-align: right;\">        0</td><td style=\"text-align: right;\">0.699886</td><td style=\"text-align: right;\">0.300114</td></tr>\n",
       "<tr><td style=\"text-align: right;\">        1</td><td style=\"text-align: right;\">0.616835</td><td style=\"text-align: right;\">0.383165</td></tr>\n",
       "<tr><td style=\"text-align: right;\">        1</td><td style=\"text-align: right;\">0.518828</td><td style=\"text-align: right;\">0.481172</td></tr>\n",
       "<tr><td style=\"text-align: right;\">        1</td><td style=\"text-align: right;\">0.633247</td><td style=\"text-align: right;\">0.366753</td></tr>\n",
       "<tr><td style=\"text-align: right;\">        1</td><td style=\"text-align: right;\">0.646882</td><td style=\"text-align: right;\">0.353118</td></tr>\n",
       "</tbody>\n",
       "</table>"
      ]
     },
     "metadata": {},
     "output_type": "display_data"
    },
    {
     "data": {
      "text/html": [
       "<table>\n",
       "<thead>\n",
       "<tr><th style=\"text-align: right;\">  predict</th><th style=\"text-align: right;\">      p0</th><th style=\"text-align: right;\">        p1</th></tr>\n",
       "</thead>\n",
       "<tbody>\n",
       "<tr><td style=\"text-align: right;\">        0</td><td style=\"text-align: right;\">0.981973</td><td style=\"text-align: right;\">0.0180271 </td></tr>\n",
       "<tr><td style=\"text-align: right;\">        1</td><td style=\"text-align: right;\">0.646593</td><td style=\"text-align: right;\">0.353407  </td></tr>\n",
       "<tr><td style=\"text-align: right;\">        1</td><td style=\"text-align: right;\">0.501013</td><td style=\"text-align: right;\">0.498987  </td></tr>\n",
       "<tr><td style=\"text-align: right;\">        0</td><td style=\"text-align: right;\">0.994614</td><td style=\"text-align: right;\">0.00538557</td></tr>\n",
       "<tr><td style=\"text-align: right;\">        0</td><td style=\"text-align: right;\">0.997515</td><td style=\"text-align: right;\">0.00248512</td></tr>\n",
       "<tr><td style=\"text-align: right;\">        0</td><td style=\"text-align: right;\">0.9479  </td><td style=\"text-align: right;\">0.0521    </td></tr>\n",
       "<tr><td style=\"text-align: right;\">        1</td><td style=\"text-align: right;\">0.234296</td><td style=\"text-align: right;\">0.765704  </td></tr>\n",
       "<tr><td style=\"text-align: right;\">        1</td><td style=\"text-align: right;\">0.596537</td><td style=\"text-align: right;\">0.403463  </td></tr>\n",
       "<tr><td style=\"text-align: right;\">        0</td><td style=\"text-align: right;\">0.79114 </td><td style=\"text-align: right;\">0.20886   </td></tr>\n",
       "<tr><td style=\"text-align: right;\">        0</td><td style=\"text-align: right;\">0.774621</td><td style=\"text-align: right;\">0.225379  </td></tr>\n",
       "</tbody>\n",
       "</table>"
      ]
     },
     "metadata": {},
     "output_type": "display_data"
    },
    {
     "data": {
      "text/html": [
       "<table>\n",
       "<thead>\n",
       "<tr><th style=\"text-align: right;\">  predict</th><th style=\"text-align: right;\">       p0</th><th style=\"text-align: right;\">         p1</th></tr>\n",
       "</thead>\n",
       "<tbody>\n",
       "<tr><td style=\"text-align: right;\">        0</td><td style=\"text-align: right;\">0.997591 </td><td style=\"text-align: right;\">0.00240854 </td></tr>\n",
       "<tr><td style=\"text-align: right;\">        0</td><td style=\"text-align: right;\">0.928765 </td><td style=\"text-align: right;\">0.0712351  </td></tr>\n",
       "<tr><td style=\"text-align: right;\">        1</td><td style=\"text-align: right;\">0.514735 </td><td style=\"text-align: right;\">0.485265   </td></tr>\n",
       "<tr><td style=\"text-align: right;\">        0</td><td style=\"text-align: right;\">0.999117 </td><td style=\"text-align: right;\">0.000882754</td></tr>\n",
       "<tr><td style=\"text-align: right;\">        0</td><td style=\"text-align: right;\">0.999357 </td><td style=\"text-align: right;\">0.000642894</td></tr>\n",
       "<tr><td style=\"text-align: right;\">        0</td><td style=\"text-align: right;\">0.985926 </td><td style=\"text-align: right;\">0.0140739  </td></tr>\n",
       "<tr><td style=\"text-align: right;\">        1</td><td style=\"text-align: right;\">0.0625461</td><td style=\"text-align: right;\">0.937454   </td></tr>\n",
       "<tr><td style=\"text-align: right;\">        1</td><td style=\"text-align: right;\">0.374511 </td><td style=\"text-align: right;\">0.625489   </td></tr>\n",
       "<tr><td style=\"text-align: right;\">        0</td><td style=\"text-align: right;\">0.870391 </td><td style=\"text-align: right;\">0.129609   </td></tr>\n",
       "<tr><td style=\"text-align: right;\">        0</td><td style=\"text-align: right;\">0.945411 </td><td style=\"text-align: right;\">0.0545891  </td></tr>\n",
       "</tbody>\n",
       "</table>"
      ]
     },
     "metadata": {},
     "output_type": "display_data"
    },
    {
     "data": {
      "text/html": [
       "<table>\n",
       "<thead>\n",
       "<tr><th style=\"text-align: right;\">  predict</th><th style=\"text-align: right;\">      p0</th><th style=\"text-align: right;\">      p1</th></tr>\n",
       "</thead>\n",
       "<tbody>\n",
       "<tr><td style=\"text-align: right;\">        0</td><td style=\"text-align: right;\">0.683648</td><td style=\"text-align: right;\">0.316352</td></tr>\n",
       "<tr><td style=\"text-align: right;\">        1</td><td style=\"text-align: right;\">0.525952</td><td style=\"text-align: right;\">0.474048</td></tr>\n",
       "<tr><td style=\"text-align: right;\">        1</td><td style=\"text-align: right;\">0.542932</td><td style=\"text-align: right;\">0.457068</td></tr>\n",
       "<tr><td style=\"text-align: right;\">        0</td><td style=\"text-align: right;\">0.808863</td><td style=\"text-align: right;\">0.191137</td></tr>\n",
       "<tr><td style=\"text-align: right;\">        0</td><td style=\"text-align: right;\">0.827872</td><td style=\"text-align: right;\">0.172128</td></tr>\n",
       "<tr><td style=\"text-align: right;\">        0</td><td style=\"text-align: right;\">0.680172</td><td style=\"text-align: right;\">0.319828</td></tr>\n",
       "<tr><td style=\"text-align: right;\">        1</td><td style=\"text-align: right;\">0.635544</td><td style=\"text-align: right;\">0.364456</td></tr>\n",
       "<tr><td style=\"text-align: right;\">        1</td><td style=\"text-align: right;\">0.536619</td><td style=\"text-align: right;\">0.463381</td></tr>\n",
       "<tr><td style=\"text-align: right;\">        1</td><td style=\"text-align: right;\">0.621327</td><td style=\"text-align: right;\">0.378673</td></tr>\n",
       "<tr><td style=\"text-align: right;\">        1</td><td style=\"text-align: right;\">0.639081</td><td style=\"text-align: right;\">0.360919</td></tr>\n",
       "</tbody>\n",
       "</table>"
      ]
     },
     "metadata": {},
     "output_type": "display_data"
    },
    {
     "data": {
      "text/html": [
       "<table>\n",
       "<thead>\n",
       "<tr><th style=\"text-align: right;\">  predict</th><th style=\"text-align: right;\">      p0</th><th style=\"text-align: right;\">      p1</th></tr>\n",
       "</thead>\n",
       "<tbody>\n",
       "<tr><td style=\"text-align: right;\">        0</td><td style=\"text-align: right;\">0.673423</td><td style=\"text-align: right;\">0.326577</td></tr>\n",
       "<tr><td style=\"text-align: right;\">        1</td><td style=\"text-align: right;\">0.537005</td><td style=\"text-align: right;\">0.462995</td></tr>\n",
       "<tr><td style=\"text-align: right;\">        1</td><td style=\"text-align: right;\">0.540648</td><td style=\"text-align: right;\">0.459352</td></tr>\n",
       "<tr><td style=\"text-align: right;\">        0</td><td style=\"text-align: right;\">0.805705</td><td style=\"text-align: right;\">0.194295</td></tr>\n",
       "<tr><td style=\"text-align: right;\">        0</td><td style=\"text-align: right;\">0.824687</td><td style=\"text-align: right;\">0.175313</td></tr>\n",
       "<tr><td style=\"text-align: right;\">        0</td><td style=\"text-align: right;\">0.677818</td><td style=\"text-align: right;\">0.322182</td></tr>\n",
       "<tr><td style=\"text-align: right;\">        1</td><td style=\"text-align: right;\">0.638731</td><td style=\"text-align: right;\">0.361269</td></tr>\n",
       "<tr><td style=\"text-align: right;\">        1</td><td style=\"text-align: right;\">0.534023</td><td style=\"text-align: right;\">0.465977</td></tr>\n",
       "<tr><td style=\"text-align: right;\">        1</td><td style=\"text-align: right;\">0.610131</td><td style=\"text-align: right;\">0.389869</td></tr>\n",
       "<tr><td style=\"text-align: right;\">        1</td><td style=\"text-align: right;\">0.628546</td><td style=\"text-align: right;\">0.371454</td></tr>\n",
       "</tbody>\n",
       "</table>"
      ]
     },
     "metadata": {},
     "output_type": "display_data"
    },
    {
     "data": {
      "text/html": [
       "<table>\n",
       "<thead>\n",
       "<tr><th style=\"text-align: right;\">  predict</th><th style=\"text-align: right;\">      p0</th><th style=\"text-align: right;\">        p1</th></tr>\n",
       "</thead>\n",
       "<tbody>\n",
       "<tr><td style=\"text-align: right;\">        0</td><td style=\"text-align: right;\">0.988086</td><td style=\"text-align: right;\">0.0119137 </td></tr>\n",
       "<tr><td style=\"text-align: right;\">        1</td><td style=\"text-align: right;\">0.688435</td><td style=\"text-align: right;\">0.311565  </td></tr>\n",
       "<tr><td style=\"text-align: right;\">        1</td><td style=\"text-align: right;\">0.583396</td><td style=\"text-align: right;\">0.416604  </td></tr>\n",
       "<tr><td style=\"text-align: right;\">        0</td><td style=\"text-align: right;\">0.99382 </td><td style=\"text-align: right;\">0.00618022</td></tr>\n",
       "<tr><td style=\"text-align: right;\">        0</td><td style=\"text-align: right;\">0.997651</td><td style=\"text-align: right;\">0.00234862</td></tr>\n",
       "<tr><td style=\"text-align: right;\">        0</td><td style=\"text-align: right;\">0.889619</td><td style=\"text-align: right;\">0.110381  </td></tr>\n",
       "<tr><td style=\"text-align: right;\">        1</td><td style=\"text-align: right;\">0.23025 </td><td style=\"text-align: right;\">0.76975   </td></tr>\n",
       "<tr><td style=\"text-align: right;\">        1</td><td style=\"text-align: right;\">0.421354</td><td style=\"text-align: right;\">0.578646  </td></tr>\n",
       "<tr><td style=\"text-align: right;\">        1</td><td style=\"text-align: right;\">0.795655</td><td style=\"text-align: right;\">0.204345  </td></tr>\n",
       "<tr><td style=\"text-align: right;\">        0</td><td style=\"text-align: right;\">0.957405</td><td style=\"text-align: right;\">0.0425952 </td></tr>\n",
       "</tbody>\n",
       "</table>"
      ]
     },
     "metadata": {},
     "output_type": "display_data"
    },
    {
     "data": {
      "text/html": [
       "<table>\n",
       "<thead>\n",
       "<tr><th style=\"text-align: right;\">  predict</th><th style=\"text-align: right;\">      p0</th><th style=\"text-align: right;\">        p1</th></tr>\n",
       "</thead>\n",
       "<tbody>\n",
       "<tr><td style=\"text-align: right;\">        0</td><td style=\"text-align: right;\">0.982384</td><td style=\"text-align: right;\">0.0176155 </td></tr>\n",
       "<tr><td style=\"text-align: right;\">        0</td><td style=\"text-align: right;\">0.659877</td><td style=\"text-align: right;\">0.340123  </td></tr>\n",
       "<tr><td style=\"text-align: right;\">        0</td><td style=\"text-align: right;\">0.685145</td><td style=\"text-align: right;\">0.314855  </td></tr>\n",
       "<tr><td style=\"text-align: right;\">        0</td><td style=\"text-align: right;\">0.994325</td><td style=\"text-align: right;\">0.00567475</td></tr>\n",
       "<tr><td style=\"text-align: right;\">        0</td><td style=\"text-align: right;\">0.9975  </td><td style=\"text-align: right;\">0.00249995</td></tr>\n",
       "<tr><td style=\"text-align: right;\">        0</td><td style=\"text-align: right;\">0.966672</td><td style=\"text-align: right;\">0.0333281 </td></tr>\n",
       "<tr><td style=\"text-align: right;\">        1</td><td style=\"text-align: right;\">0.210199</td><td style=\"text-align: right;\">0.789801  </td></tr>\n",
       "<tr><td style=\"text-align: right;\">        1</td><td style=\"text-align: right;\">0.195695</td><td style=\"text-align: right;\">0.804305  </td></tr>\n",
       "<tr><td style=\"text-align: right;\">        0</td><td style=\"text-align: right;\">0.843384</td><td style=\"text-align: right;\">0.156616  </td></tr>\n",
       "<tr><td style=\"text-align: right;\">        0</td><td style=\"text-align: right;\">0.940478</td><td style=\"text-align: right;\">0.0595223 </td></tr>\n",
       "</tbody>\n",
       "</table>"
      ]
     },
     "metadata": {},
     "output_type": "display_data"
    },
    {
     "data": {
      "text/html": [
       "<table>\n",
       "<thead>\n",
       "<tr><th style=\"text-align: right;\">  predict</th><th style=\"text-align: right;\">      p0</th><th style=\"text-align: right;\">        p1</th></tr>\n",
       "</thead>\n",
       "<tbody>\n",
       "<tr><td style=\"text-align: right;\">        0</td><td style=\"text-align: right;\">0.987108</td><td style=\"text-align: right;\">0.0128917 </td></tr>\n",
       "<tr><td style=\"text-align: right;\">        1</td><td style=\"text-align: right;\">0.757749</td><td style=\"text-align: right;\">0.242251  </td></tr>\n",
       "<tr><td style=\"text-align: right;\">        1</td><td style=\"text-align: right;\">0.60931 </td><td style=\"text-align: right;\">0.39069   </td></tr>\n",
       "<tr><td style=\"text-align: right;\">        0</td><td style=\"text-align: right;\">0.993269</td><td style=\"text-align: right;\">0.00673135</td></tr>\n",
       "<tr><td style=\"text-align: right;\">        0</td><td style=\"text-align: right;\">0.99807 </td><td style=\"text-align: right;\">0.00193021</td></tr>\n",
       "<tr><td style=\"text-align: right;\">        0</td><td style=\"text-align: right;\">0.879763</td><td style=\"text-align: right;\">0.120237  </td></tr>\n",
       "<tr><td style=\"text-align: right;\">        1</td><td style=\"text-align: right;\">0.287713</td><td style=\"text-align: right;\">0.712287  </td></tr>\n",
       "<tr><td style=\"text-align: right;\">        1</td><td style=\"text-align: right;\">0.153769</td><td style=\"text-align: right;\">0.846231  </td></tr>\n",
       "<tr><td style=\"text-align: right;\">        0</td><td style=\"text-align: right;\">0.871831</td><td style=\"text-align: right;\">0.128169  </td></tr>\n",
       "<tr><td style=\"text-align: right;\">        0</td><td style=\"text-align: right;\">0.870551</td><td style=\"text-align: right;\">0.129449  </td></tr>\n",
       "</tbody>\n",
       "</table>"
      ]
     },
     "metadata": {},
     "output_type": "display_data"
    },
    {
     "data": {
      "text/html": [
       "<table>\n",
       "<thead>\n",
       "<tr><th style=\"text-align: right;\">  predict</th><th style=\"text-align: right;\">       p0</th><th style=\"text-align: right;\">         p1</th></tr>\n",
       "</thead>\n",
       "<tbody>\n",
       "<tr><td style=\"text-align: right;\">        0</td><td style=\"text-align: right;\">0.998866 </td><td style=\"text-align: right;\">0.00113408 </td></tr>\n",
       "<tr><td style=\"text-align: right;\">        1</td><td style=\"text-align: right;\">0.810666 </td><td style=\"text-align: right;\">0.189334   </td></tr>\n",
       "<tr><td style=\"text-align: right;\">        1</td><td style=\"text-align: right;\">0.400298 </td><td style=\"text-align: right;\">0.599702   </td></tr>\n",
       "<tr><td style=\"text-align: right;\">        0</td><td style=\"text-align: right;\">0.997023 </td><td style=\"text-align: right;\">0.0029771  </td></tr>\n",
       "<tr><td style=\"text-align: right;\">        0</td><td style=\"text-align: right;\">0.999375 </td><td style=\"text-align: right;\">0.000625468</td></tr>\n",
       "<tr><td style=\"text-align: right;\">        0</td><td style=\"text-align: right;\">0.989668 </td><td style=\"text-align: right;\">0.0103322  </td></tr>\n",
       "<tr><td style=\"text-align: right;\">        1</td><td style=\"text-align: right;\">0.0943026</td><td style=\"text-align: right;\">0.905697   </td></tr>\n",
       "<tr><td style=\"text-align: right;\">        1</td><td style=\"text-align: right;\">0.287075 </td><td style=\"text-align: right;\">0.712925   </td></tr>\n",
       "<tr><td style=\"text-align: right;\">        1</td><td style=\"text-align: right;\">0.665766 </td><td style=\"text-align: right;\">0.334234   </td></tr>\n",
       "<tr><td style=\"text-align: right;\">        0</td><td style=\"text-align: right;\">0.968807 </td><td style=\"text-align: right;\">0.0311934  </td></tr>\n",
       "</tbody>\n",
       "</table>"
      ]
     },
     "metadata": {},
     "output_type": "display_data"
    },
    {
     "data": {
      "text/html": [
       "<table>\n",
       "<thead>\n",
       "<tr><th style=\"text-align: right;\">  predict</th><th style=\"text-align: right;\">      p0</th><th style=\"text-align: right;\">         p1</th></tr>\n",
       "</thead>\n",
       "<tbody>\n",
       "<tr><td style=\"text-align: right;\">        0</td><td style=\"text-align: right;\">0.997528</td><td style=\"text-align: right;\">0.00247184 </td></tr>\n",
       "<tr><td style=\"text-align: right;\">        1</td><td style=\"text-align: right;\">0.643501</td><td style=\"text-align: right;\">0.356499   </td></tr>\n",
       "<tr><td style=\"text-align: right;\">        1</td><td style=\"text-align: right;\">0.760757</td><td style=\"text-align: right;\">0.239243   </td></tr>\n",
       "<tr><td style=\"text-align: right;\">        0</td><td style=\"text-align: right;\">0.999112</td><td style=\"text-align: right;\">0.000887833</td></tr>\n",
       "<tr><td style=\"text-align: right;\">        0</td><td style=\"text-align: right;\">0.999604</td><td style=\"text-align: right;\">0.000395862</td></tr>\n",
       "<tr><td style=\"text-align: right;\">        0</td><td style=\"text-align: right;\">0.947061</td><td style=\"text-align: right;\">0.0529394  </td></tr>\n",
       "<tr><td style=\"text-align: right;\">        1</td><td style=\"text-align: right;\">0.161286</td><td style=\"text-align: right;\">0.838714   </td></tr>\n",
       "<tr><td style=\"text-align: right;\">        1</td><td style=\"text-align: right;\">0.190456</td><td style=\"text-align: right;\">0.809544   </td></tr>\n",
       "<tr><td style=\"text-align: right;\">        1</td><td style=\"text-align: right;\">0.799397</td><td style=\"text-align: right;\">0.200603   </td></tr>\n",
       "<tr><td style=\"text-align: right;\">        0</td><td style=\"text-align: right;\">0.953783</td><td style=\"text-align: right;\">0.0462166  </td></tr>\n",
       "</tbody>\n",
       "</table>"
      ]
     },
     "metadata": {},
     "output_type": "display_data"
    },
    {
     "data": {
      "text/html": [
       "<table>\n",
       "<thead>\n",
       "<tr><th style=\"text-align: right;\">  predict</th><th style=\"text-align: right;\">       p0</th><th style=\"text-align: right;\">         p1</th></tr>\n",
       "</thead>\n",
       "<tbody>\n",
       "<tr><td style=\"text-align: right;\">        0</td><td style=\"text-align: right;\">0.994498 </td><td style=\"text-align: right;\">0.00550232 </td></tr>\n",
       "<tr><td style=\"text-align: right;\">        0</td><td style=\"text-align: right;\">0.776317 </td><td style=\"text-align: right;\">0.223683   </td></tr>\n",
       "<tr><td style=\"text-align: right;\">        0</td><td style=\"text-align: right;\">0.801284 </td><td style=\"text-align: right;\">0.198716   </td></tr>\n",
       "<tr><td style=\"text-align: right;\">        0</td><td style=\"text-align: right;\">0.998337 </td><td style=\"text-align: right;\">0.00166285 </td></tr>\n",
       "<tr><td style=\"text-align: right;\">        0</td><td style=\"text-align: right;\">0.999465 </td><td style=\"text-align: right;\">0.000534931</td></tr>\n",
       "<tr><td style=\"text-align: right;\">        0</td><td style=\"text-align: right;\">0.984004 </td><td style=\"text-align: right;\">0.0159958  </td></tr>\n",
       "<tr><td style=\"text-align: right;\">        1</td><td style=\"text-align: right;\">0.0825227</td><td style=\"text-align: right;\">0.917477   </td></tr>\n",
       "<tr><td style=\"text-align: right;\">        1</td><td style=\"text-align: right;\">0.360686 </td><td style=\"text-align: right;\">0.639314   </td></tr>\n",
       "<tr><td style=\"text-align: right;\">        0</td><td style=\"text-align: right;\">0.754066 </td><td style=\"text-align: right;\">0.245934   </td></tr>\n",
       "<tr><td style=\"text-align: right;\">        0</td><td style=\"text-align: right;\">0.986706 </td><td style=\"text-align: right;\">0.0132939  </td></tr>\n",
       "</tbody>\n",
       "</table>"
      ]
     },
     "metadata": {},
     "output_type": "display_data"
    },
    {
     "data": {
      "text/plain": [
       "{'gbm_grid1_model_3': ,\n",
       " 'gbm_grid1_model_21': ,\n",
       " 'gbm_grid1_model_9': ,\n",
       " 'gbm_grid1_model_26': ,\n",
       " 'gbm_grid1_model_13': ,\n",
       " 'gbm_grid1_model_14': ,\n",
       " 'gbm_grid1_model_32': ,\n",
       " 'gbm_grid1_model_4': ,\n",
       " 'gbm_grid1_model_7': ,\n",
       " 'gbm_grid1_model_31': ,\n",
       " 'gbm_grid1_model_25': ,\n",
       " 'gbm_grid1_model_22': ,\n",
       " 'gbm_grid1_model_8': ,\n",
       " 'gbm_grid1_model_23': ,\n",
       " 'gbm_grid1_model_27': ,\n",
       " 'gbm_grid1_model_30': ,\n",
       " 'gbm_grid1_model_2': ,\n",
       " 'gbm_grid1_model_11': ,\n",
       " 'gbm_grid1_model_19': ,\n",
       " 'gbm_grid1_model_5': ,\n",
       " 'gbm_grid1_model_1': ,\n",
       " 'gbm_grid1_model_12': ,\n",
       " 'gbm_grid1_model_20': ,\n",
       " 'gbm_grid1_model_24': ,\n",
       " 'gbm_grid1_model_15': ,\n",
       " 'gbm_grid1_model_6': ,\n",
       " 'gbm_grid1_model_33': ,\n",
       " 'gbm_grid1_model_16': ,\n",
       " 'gbm_grid1_model_0': ,\n",
       " 'gbm_grid1_model_18': ,\n",
       " 'gbm_grid1_model_10': ,\n",
       " 'gbm_grid1_model_29': ,\n",
       " 'gbm_grid1_model_28': ,\n",
       " 'gbm_grid1_model_17': ,\n",
       " 'gbm_grid1_model_34': ,\n",
       " 'gbm_grid1_model_35': }"
      ]
     },
     "execution_count": 36,
     "metadata": {},
     "output_type": "execute_result"
    }
   ],
   "source": [
    "gbm_grid1.predict(test)"
   ]
  },
  {
   "cell_type": "markdown",
   "metadata": {},
   "source": [
    "#### Cross Validation"
   ]
  },
  {
   "cell_type": "code",
   "execution_count": 37,
   "metadata": {},
   "outputs": [],
   "source": [
    "# set the number of folds for you n-fold cross validation:\n",
    "folds = 10"
   ]
  },
  {
   "cell_type": "code",
   "execution_count": 38,
   "metadata": {},
   "outputs": [
    {
     "name": "stdout",
     "output_type": "stream",
     "text": [
      "gbm Model Build progress: |███████████████████████████████████████████████| 100%\n"
     ]
    }
   ],
   "source": [
    "cv_gbm = H2OGradientBoostingEstimator(nfolds = folds, seed = 1234)\n",
    "cv_gbm.train(x=x, y=y, training_frame=train)"
   ]
  },
  {
   "cell_type": "code",
   "execution_count": 39,
   "metadata": {},
   "outputs": [
    {
     "data": {
      "text/plain": [
       "0.8158909625958337"
      ]
     },
     "execution_count": 39,
     "metadata": {},
     "output_type": "execute_result"
    }
   ],
   "source": [
    "cv_gbm.auc(xval=True) # Accuracy for the cross validated data. "
   ]
  },
  {
   "cell_type": "markdown",
   "metadata": {},
   "source": [
    "# 3. Deep Learning "
   ]
  },
  {
   "cell_type": "code",
   "execution_count": 40,
   "metadata": {},
   "outputs": [],
   "source": [
    "# Import H2O DL:\n",
    "from h2o.estimators.deeplearning import H2ODeepLearningEstimator"
   ]
  },
  {
   "cell_type": "code",
   "execution_count": 41,
   "metadata": {},
   "outputs": [
    {
     "name": "stdout",
     "output_type": "stream",
     "text": [
      "deeplearning Model Build progress: |██████████████████████████████████████| 100%\n"
     ]
    }
   ],
   "source": [
    "# Initialize and train the DL estimator:\n",
    "# Trained using default \n",
    "\n",
    "dl_fit1 = H2ODeepLearningEstimator(model_id='dl_fit1', seed=1)\n",
    "dl_fit1.train(x=x, y=y, training_frame=train)"
   ]
  },
  {
   "cell_type": "code",
   "execution_count": 42,
   "metadata": {},
   "outputs": [
    {
     "name": "stdout",
     "output_type": "stream",
     "text": [
      "deeplearning Model Build progress: |██████████████████████████████████████| 100%\n"
     ]
    }
   ],
   "source": [
    "# No of eopchs increased to increase the efficiency of the model and also early stopping diabled. \n",
    "#Early stopping automatically chooses the number of epochs to prvent the over fitting.   \n",
    "\n",
    "dl_fit2 = H2ODeepLearningEstimator(model_id='dl_fit2', \n",
    "                                   epochs=20, \n",
    "                                   hidden=[10,10], \n",
    "                                   stopping_rounds=0,  #disabled early stopping\n",
    "                                   seed=1)\n",
    "dl_fit2.train(x=x, y=y, training_frame=train)"
   ]
  },
  {
   "cell_type": "code",
   "execution_count": 43,
   "metadata": {},
   "outputs": [
    {
     "name": "stdout",
     "output_type": "stream",
     "text": [
      "deeplearning Model Build progress: |██████████████████████████████████████| 100%\n"
     ]
    }
   ],
   "source": [
    "# Early stopping enabled to \n",
    "dl_fit3 = H2ODeepLearningEstimator(model_id='dl_fit3', \n",
    "                                   epochs=20, \n",
    "                                   hidden=[10,10],\n",
    "                                   score_interval=1,          #used for early stopping\n",
    "                                   stopping_rounds=3,         #used for early stopping\n",
    "                                   stopping_metric='AUC',     #used for early stopping\n",
    "                                   stopping_tolerance=0.0005, #used for early stopping\n",
    "                                   seed=1)\n",
    "dl_fit3.train(x=x, y=y, training_frame=train, validation_frame=valid)"
   ]
  },
  {
   "cell_type": "markdown",
   "metadata": {},
   "source": [
    "### Comparing the model performance "
   ]
  },
  {
   "cell_type": "code",
   "execution_count": 44,
   "metadata": {},
   "outputs": [],
   "source": [
    "dl_perf1 = dl_fit1.model_performance(test)\n",
    "dl_perf2 = dl_fit2.model_performance(test)\n",
    "dl_perf3 = dl_fit3.model_performance(test)"
   ]
  },
  {
   "cell_type": "code",
   "execution_count": 45,
   "metadata": {},
   "outputs": [
    {
     "name": "stdout",
     "output_type": "stream",
     "text": [
      "0.6993006993006993\n",
      "0.7246087246087246\n",
      "0.6796536796536797\n"
     ]
    }
   ],
   "source": [
    "# Retreive test set AUC\n",
    "print (dl_perf1.auc())\n",
    "print (dl_perf2.auc())\n",
    "print (dl_perf3.auc()) # The best accuray was found when early stopping is enabled. "
   ]
  },
  {
   "cell_type": "markdown",
   "metadata": {},
   "source": [
    "#### Grid Search Deep Learning"
   ]
  },
  {
   "cell_type": "code",
   "execution_count": 46,
   "metadata": {},
   "outputs": [],
   "source": [
    "# DL hyperparameters\n",
    "activation_opt = [\"Rectifier\", \"RectifierWithDropout\", \"Maxout\", \"MaxoutWithDropout\"]\n",
    "l1_opt = [0, 0.00001, 0.0001, 0.001, 0.01, 0.1]\n",
    "l2_opt = [0, 0.00001, 0.0001, 0.001, 0.01, 0.1]\n",
    "dl_params = {'activation': activation_opt, 'l1': l1_opt, 'l2': l2_opt}\n",
    "\n",
    "# Search criteria\n",
    "search_criteria = {'strategy': 'RandomDiscrete', 'max_runtime_secs': 120, 'seed':1}"
   ]
  },
  {
   "cell_type": "code",
   "execution_count": 47,
   "metadata": {},
   "outputs": [],
   "source": [
    "dl_grid = H2OGridSearch(model=H2ODeepLearningEstimator,\n",
    "                        grid_id='dl_grid1',\n",
    "                        hyper_params=dl_params,\n",
    "                        search_criteria=search_criteria)\n"
   ]
  },
  {
   "cell_type": "code",
   "execution_count": 48,
   "metadata": {},
   "outputs": [
    {
     "name": "stdout",
     "output_type": "stream",
     "text": [
      "deeplearning Grid Build progress: |███████████████████████████████████████| 100%\n"
     ]
    }
   ],
   "source": [
    "dl_grid.train(x=x, y=y,\n",
    "              training_frame=train, \n",
    "              validation_frame=valid)\n"
   ]
  },
  {
   "cell_type": "code",
   "execution_count": 49,
   "metadata": {},
   "outputs": [],
   "source": [
    "dl_gridperf = dl_grid.get_grid(sort_by='auc', decreasing=True)"
   ]
  },
  {
   "cell_type": "code",
   "execution_count": 50,
   "metadata": {},
   "outputs": [
    {
     "name": "stdout",
     "output_type": "stream",
     "text": [
      "0.7535797535797536\n"
     ]
    }
   ],
   "source": [
    "#Grab the model_id for the top GBM model, chosen by validation AUC\n",
    "best_dl_model = dl_gridperf.models[0]\n",
    "\n",
    "# Now let's evaluate the model performance on a test set\n",
    "# so we get an honest estimate of top model performance\n",
    "\n",
    "dl_perf = best_gbm_model.model_performance(test)\n",
    "print (dl_perf.auc())"
   ]
  },
  {
   "cell_type": "code",
   "execution_count": 51,
   "metadata": {},
   "outputs": [
    {
     "name": "stdout",
     "output_type": "stream",
     "text": [
      "deeplearning prediction progress: |███████████████████████████████████████| 100%\n"
     ]
    },
    {
     "data": {
      "text/html": [
       "<table>\n",
       "<thead>\n",
       "<tr><th style=\"text-align: right;\">  predict</th><th style=\"text-align: right;\">      p0</th><th style=\"text-align: right;\">         p1</th></tr>\n",
       "</thead>\n",
       "<tbody>\n",
       "<tr><td style=\"text-align: right;\">        0</td><td style=\"text-align: right;\">0.999986</td><td style=\"text-align: right;\">1.44077e-05</td></tr>\n",
       "<tr><td style=\"text-align: right;\">        1</td><td style=\"text-align: right;\">0.988162</td><td style=\"text-align: right;\">0.0118381  </td></tr>\n",
       "<tr><td style=\"text-align: right;\">        1</td><td style=\"text-align: right;\">0.971578</td><td style=\"text-align: right;\">0.0284222  </td></tr>\n",
       "<tr><td style=\"text-align: right;\">        0</td><td style=\"text-align: right;\">0.999675</td><td style=\"text-align: right;\">0.00032523 </td></tr>\n",
       "<tr><td style=\"text-align: right;\">        0</td><td style=\"text-align: right;\">0.999987</td><td style=\"text-align: right;\">1.26157e-05</td></tr>\n",
       "<tr><td style=\"text-align: right;\">        1</td><td style=\"text-align: right;\">0.992728</td><td style=\"text-align: right;\">0.00727167 </td></tr>\n",
       "<tr><td style=\"text-align: right;\">        0</td><td style=\"text-align: right;\">0.998618</td><td style=\"text-align: right;\">0.0013817  </td></tr>\n",
       "<tr><td style=\"text-align: right;\">        1</td><td style=\"text-align: right;\">0.995224</td><td style=\"text-align: right;\">0.00477638 </td></tr>\n",
       "<tr><td style=\"text-align: right;\">        1</td><td style=\"text-align: right;\">0.995448</td><td style=\"text-align: right;\">0.00455166 </td></tr>\n",
       "<tr><td style=\"text-align: right;\">        0</td><td style=\"text-align: right;\">0.99924 </td><td style=\"text-align: right;\">0.000760083</td></tr>\n",
       "</tbody>\n",
       "</table>"
      ]
     },
     "metadata": {},
     "output_type": "display_data"
    },
    {
     "data": {
      "text/plain": []
     },
     "execution_count": 51,
     "metadata": {},
     "output_type": "execute_result"
    }
   ],
   "source": [
    "dl_fit1.predict(test)"
   ]
  },
  {
   "cell_type": "code",
   "execution_count": 52,
   "metadata": {},
   "outputs": [
    {
     "name": "stdout",
     "output_type": "stream",
     "text": [
      "deeplearning prediction progress: |███████████████████████████████████████| 100%\n"
     ]
    },
    {
     "data": {
      "text/html": [
       "<table>\n",
       "<thead>\n",
       "<tr><th style=\"text-align: right;\">  predict</th><th style=\"text-align: right;\">      p0</th><th style=\"text-align: right;\">       p1</th></tr>\n",
       "</thead>\n",
       "<tbody>\n",
       "<tr><td style=\"text-align: right;\">        0</td><td style=\"text-align: right;\">0.986489</td><td style=\"text-align: right;\">0.0135114</td></tr>\n",
       "<tr><td style=\"text-align: right;\">        1</td><td style=\"text-align: right;\">0.606428</td><td style=\"text-align: right;\">0.393572 </td></tr>\n",
       "<tr><td style=\"text-align: right;\">        0</td><td style=\"text-align: right;\">0.681909</td><td style=\"text-align: right;\">0.318091 </td></tr>\n",
       "<tr><td style=\"text-align: right;\">        0</td><td style=\"text-align: right;\">0.953182</td><td style=\"text-align: right;\">0.0468182</td></tr>\n",
       "<tr><td style=\"text-align: right;\">        0</td><td style=\"text-align: right;\">0.988556</td><td style=\"text-align: right;\">0.0114439</td></tr>\n",
       "<tr><td style=\"text-align: right;\">        1</td><td style=\"text-align: right;\">0.554776</td><td style=\"text-align: right;\">0.445224 </td></tr>\n",
       "<tr><td style=\"text-align: right;\">        0</td><td style=\"text-align: right;\">0.768826</td><td style=\"text-align: right;\">0.231174 </td></tr>\n",
       "<tr><td style=\"text-align: right;\">        1</td><td style=\"text-align: right;\">0.088045</td><td style=\"text-align: right;\">0.911955 </td></tr>\n",
       "<tr><td style=\"text-align: right;\">        0</td><td style=\"text-align: right;\">0.778718</td><td style=\"text-align: right;\">0.221282 </td></tr>\n",
       "<tr><td style=\"text-align: right;\">        0</td><td style=\"text-align: right;\">0.87224 </td><td style=\"text-align: right;\">0.12776  </td></tr>\n",
       "</tbody>\n",
       "</table>"
      ]
     },
     "metadata": {},
     "output_type": "display_data"
    },
    {
     "data": {
      "text/plain": []
     },
     "execution_count": 52,
     "metadata": {},
     "output_type": "execute_result"
    }
   ],
   "source": [
    "dl_fit2.predict(test)"
   ]
  },
  {
   "cell_type": "code",
   "execution_count": 53,
   "metadata": {},
   "outputs": [
    {
     "name": "stdout",
     "output_type": "stream",
     "text": [
      "deeplearning prediction progress: |███████████████████████████████████████| 100%\n"
     ]
    },
    {
     "data": {
      "text/html": [
       "<table>\n",
       "<thead>\n",
       "<tr><th style=\"text-align: right;\">  predict</th><th style=\"text-align: right;\">       p0</th><th style=\"text-align: right;\">        p1</th></tr>\n",
       "</thead>\n",
       "<tbody>\n",
       "<tr><td style=\"text-align: right;\">        0</td><td style=\"text-align: right;\">0.996435 </td><td style=\"text-align: right;\">0.00356488</td></tr>\n",
       "<tr><td style=\"text-align: right;\">        0</td><td style=\"text-align: right;\">0.701999 </td><td style=\"text-align: right;\">0.298001  </td></tr>\n",
       "<tr><td style=\"text-align: right;\">        0</td><td style=\"text-align: right;\">0.933746 </td><td style=\"text-align: right;\">0.0662539 </td></tr>\n",
       "<tr><td style=\"text-align: right;\">        0</td><td style=\"text-align: right;\">0.989571 </td><td style=\"text-align: right;\">0.0104293 </td></tr>\n",
       "<tr><td style=\"text-align: right;\">        0</td><td style=\"text-align: right;\">0.99849  </td><td style=\"text-align: right;\">0.00150995</td></tr>\n",
       "<tr><td style=\"text-align: right;\">        0</td><td style=\"text-align: right;\">0.735845 </td><td style=\"text-align: right;\">0.264155  </td></tr>\n",
       "<tr><td style=\"text-align: right;\">        0</td><td style=\"text-align: right;\">0.677204 </td><td style=\"text-align: right;\">0.322796  </td></tr>\n",
       "<tr><td style=\"text-align: right;\">        1</td><td style=\"text-align: right;\">0.0665127</td><td style=\"text-align: right;\">0.933487  </td></tr>\n",
       "<tr><td style=\"text-align: right;\">        1</td><td style=\"text-align: right;\">0.609963 </td><td style=\"text-align: right;\">0.390037  </td></tr>\n",
       "<tr><td style=\"text-align: right;\">        0</td><td style=\"text-align: right;\">0.982623 </td><td style=\"text-align: right;\">0.0173774 </td></tr>\n",
       "</tbody>\n",
       "</table>"
      ]
     },
     "metadata": {},
     "output_type": "display_data"
    },
    {
     "data": {
      "text/plain": []
     },
     "execution_count": 53,
     "metadata": {},
     "output_type": "execute_result"
    }
   ],
   "source": [
    "dl_fit3.predict(test)"
   ]
  },
  {
   "cell_type": "markdown",
   "metadata": {},
   "source": [
    "#### Cross Validation"
   ]
  },
  {
   "cell_type": "code",
   "execution_count": 54,
   "metadata": {},
   "outputs": [],
   "source": [
    "# set the number of folds for you n-fold cross validation:\n",
    "folds = 10"
   ]
  },
  {
   "cell_type": "code",
   "execution_count": 55,
   "metadata": {},
   "outputs": [
    {
     "name": "stdout",
     "output_type": "stream",
     "text": [
      "deeplearning Model Build progress: |██████████████████████████████████████| 100%\n"
     ]
    }
   ],
   "source": [
    "cv_dl = H2ODeepLearningEstimator(nfolds = folds, seed = 1234)\n",
    "cv_dl.train(x=x, y=y, training_frame=train)"
   ]
  },
  {
   "cell_type": "code",
   "execution_count": 56,
   "metadata": {},
   "outputs": [
    {
     "data": {
      "text/plain": [
       "0.7465499883837993"
      ]
     },
     "execution_count": 56,
     "metadata": {},
     "output_type": "execute_result"
    }
   ],
   "source": [
    "cv_dl.auc(xval=True) # Accuracy for the cross validated data. "
   ]
  },
  {
   "cell_type": "markdown",
   "metadata": {},
   "source": [
    "# Part C - Prediction"
   ]
  },
  {
   "cell_type": "markdown",
   "metadata": {},
   "source": [
    "The best accuracies were obtained for Gradient Boost Machine and Deep Learning model i.e. around 75%. The Grid search method was applied for both of the models and the hyperparametes were set to the values where they performed the best. \n",
    "\n",
    "After cross validation the best accuracy was found for Gradient Boost Machine for the cross validated data. "
   ]
  },
  {
   "cell_type": "code",
   "execution_count": null,
   "metadata": {},
   "outputs": [],
   "source": []
  }
 ],
 "metadata": {
  "kernelspec": {
   "display_name": "Python 3",
   "language": "python",
   "name": "python3"
  },
  "language_info": {
   "codemirror_mode": {
    "name": "ipython",
    "version": 3
   },
   "file_extension": ".py",
   "mimetype": "text/x-python",
   "name": "python",
   "nbconvert_exporter": "python",
   "pygments_lexer": "ipython3",
   "version": "3.6.5"
  }
 },
 "nbformat": 4,
 "nbformat_minor": 2
}
