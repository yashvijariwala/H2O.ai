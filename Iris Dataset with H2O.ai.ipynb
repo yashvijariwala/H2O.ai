{
 "cells": [
  {
   "cell_type": "markdown",
   "metadata": {},
   "source": [
    "\n",
    "# Iris Dataset with H2O.ai\n",
    "\n",
    "**By - Yashasvi Jariwala**\n",
    "\n",
    "Dataset : \"https://www.kaggle.com/uciml/iris#Iris.csv\"\n"
   ]
  },
  {
   "cell_type": "markdown",
   "metadata": {},
   "source": [
    "# **Install H2O**\n",
    "\n",
    "The first step in this tutorial is to download and install the h2o Python module.\n",
    "\n",
    "The latest version is always here: http://www.h2o.ai/download/h2o/py"
   ]
  },
  {
   "cell_type": "markdown",
   "metadata": {},
   "source": [
    "# Start up the H2O Cluster\n"
   ]
  },
  {
   "cell_type": "markdown",
   "metadata": {},
   "source": [
    "Once the Python module is installed, we begin by starting up a local (on your laptop) H2O cluster.\n"
   ]
  },
  {
   "cell_type": "code",
   "execution_count": 55,
   "metadata": {},
   "outputs": [
    {
     "name": "stdout",
     "output_type": "stream",
     "text": [
      "Checking whether there is an H2O instance running at http://localhost:54321. connected.\n"
     ]
    },
    {
     "data": {
      "text/html": [
       "<div style=\"overflow:auto\"><table style=\"width:50%\"><tr><td>H2O cluster uptime:</td>\n",
       "<td>85 days 2 hours 13 mins</td></tr>\n",
       "<tr><td>H2O cluster timezone:</td>\n",
       "<td>America/New_York</td></tr>\n",
       "<tr><td>H2O data parsing timezone:</td>\n",
       "<td>UTC</td></tr>\n",
       "<tr><td>H2O cluster version:</td>\n",
       "<td>3.20.0.3</td></tr>\n",
       "<tr><td>H2O cluster version age:</td>\n",
       "<td>3 months and 8 days </td></tr>\n",
       "<tr><td>H2O cluster name:</td>\n",
       "<td>H2O_from_python_yashasvijariwala_3u6sip</td></tr>\n",
       "<tr><td>H2O cluster total nodes:</td>\n",
       "<td>1</td></tr>\n",
       "<tr><td>H2O cluster free memory:</td>\n",
       "<td>6.855 Gb</td></tr>\n",
       "<tr><td>H2O cluster total cores:</td>\n",
       "<td>4</td></tr>\n",
       "<tr><td>H2O cluster allowed cores:</td>\n",
       "<td>4</td></tr>\n",
       "<tr><td>H2O cluster status:</td>\n",
       "<td>locked, healthy</td></tr>\n",
       "<tr><td>H2O connection url:</td>\n",
       "<td>http://localhost:54321</td></tr>\n",
       "<tr><td>H2O connection proxy:</td>\n",
       "<td>None</td></tr>\n",
       "<tr><td>H2O internal security:</td>\n",
       "<td>False</td></tr>\n",
       "<tr><td>H2O API Extensions:</td>\n",
       "<td>XGBoost, Algos, AutoML, Core V3, Core V4</td></tr>\n",
       "<tr><td>Python version:</td>\n",
       "<td>3.6.5 final</td></tr></table></div>"
      ],
      "text/plain": [
       "--------------------------  ----------------------------------------\n",
       "H2O cluster uptime:         85 days 2 hours 13 mins\n",
       "H2O cluster timezone:       America/New_York\n",
       "H2O data parsing timezone:  UTC\n",
       "H2O cluster version:        3.20.0.3\n",
       "H2O cluster version age:    3 months and 8 days\n",
       "H2O cluster name:           H2O_from_python_yashasvijariwala_3u6sip\n",
       "H2O cluster total nodes:    1\n",
       "H2O cluster free memory:    6.855 Gb\n",
       "H2O cluster total cores:    4\n",
       "H2O cluster allowed cores:  4\n",
       "H2O cluster status:         locked, healthy\n",
       "H2O connection url:         http://localhost:54321\n",
       "H2O connection proxy:\n",
       "H2O internal security:      False\n",
       "H2O API Extensions:         XGBoost, Algos, AutoML, Core V3, Core V4\n",
       "Python version:             3.6.5 final\n",
       "--------------------------  ----------------------------------------"
      ]
     },
     "metadata": {},
     "output_type": "display_data"
    }
   ],
   "source": [
    "# Load the H2O library and start up the H2O cluter locally on your machine\n",
    "import h2o\n",
    "\n",
    "# Number of threads, nthreads = -1, means use all cores on your machine\n",
    "# max_mem_size is the maximum memory (in GB) to allocate to H2O\n",
    "h2o.init(nthreads = -1, max_mem_size = 8)\n"
   ]
  },
  {
   "cell_type": "markdown",
   "metadata": {},
   "source": [
    "# **Data Preparation**\n",
    "\n",
    "**Import data**\n",
    "\n",
    "Next we will import a cleaned up version of the Lending Club \"Bad Loans\" dataset. The purpose here is to predict whether a loan will be bad (i.e. not repaid to the lender). The response column, bad_loan, is 1 if the loan was bad, and 0 otherwise."
   ]
  },
  {
   "cell_type": "code",
   "execution_count": 56,
   "metadata": {},
   "outputs": [
    {
     "name": "stdout",
     "output_type": "stream",
     "text": [
      "[Errno 2] No such file or directory: 'Desktop'\n",
      "/Users/yashasvijariwala/Desktop\n"
     ]
    }
   ],
   "source": [
    "cd Desktop"
   ]
  },
  {
   "cell_type": "code",
   "execution_count": 57,
   "metadata": {},
   "outputs": [
    {
     "name": "stdout",
     "output_type": "stream",
     "text": [
      "Parse progress: |█████████████████████████████████████████████████████████| 100%\n"
     ]
    }
   ],
   "source": [
    "iris = \"https://raw.githubusercontent.com/Avkash/mldl/master/data/iris.csv\"  # Absolute path\n",
    "\n",
    "data = h2o.import_file(iris)  # 150 rows x 6 columns"
   ]
  },
  {
   "cell_type": "code",
   "execution_count": 58,
   "metadata": {},
   "outputs": [
    {
     "data": {
      "text/plain": [
       "(150, 5)"
      ]
     },
     "execution_count": 58,
     "metadata": {},
     "output_type": "execute_result"
    }
   ],
   "source": [
    "data.shape"
   ]
  },
  {
   "cell_type": "markdown",
   "metadata": {},
   "source": [
    "**Encode response variable**"
   ]
  },
  {
   "cell_type": "markdown",
   "metadata": {},
   "source": [
    "Since we want to train a binary classification model, we must ensure that the response is coded as a factor. If the response is 0/1, H2O will assume it's numeric, which means that H2O will train a regression model instead."
   ]
  },
  {
   "cell_type": "code",
   "execution_count": 59,
   "metadata": {},
   "outputs": [
    {
     "data": {
      "text/html": [
       "<table>\n",
       "<thead>\n",
       "<tr><th style=\"text-align: right;\">  C1</th><th style=\"text-align: right;\">  C2</th><th style=\"text-align: right;\">  C3</th><th style=\"text-align: right;\">  C4</th><th>C5         </th></tr>\n",
       "</thead>\n",
       "<tbody>\n",
       "<tr><td style=\"text-align: right;\"> 5.1</td><td style=\"text-align: right;\"> 3.5</td><td style=\"text-align: right;\"> 1.4</td><td style=\"text-align: right;\"> 0.2</td><td>Iris-setosa</td></tr>\n",
       "<tr><td style=\"text-align: right;\"> 4.9</td><td style=\"text-align: right;\"> 3  </td><td style=\"text-align: right;\"> 1.4</td><td style=\"text-align: right;\"> 0.2</td><td>Iris-setosa</td></tr>\n",
       "<tr><td style=\"text-align: right;\"> 4.7</td><td style=\"text-align: right;\"> 3.2</td><td style=\"text-align: right;\"> 1.3</td><td style=\"text-align: right;\"> 0.2</td><td>Iris-setosa</td></tr>\n",
       "<tr><td style=\"text-align: right;\"> 4.6</td><td style=\"text-align: right;\"> 3.1</td><td style=\"text-align: right;\"> 1.5</td><td style=\"text-align: right;\"> 0.2</td><td>Iris-setosa</td></tr>\n",
       "<tr><td style=\"text-align: right;\"> 5  </td><td style=\"text-align: right;\"> 3.6</td><td style=\"text-align: right;\"> 1.4</td><td style=\"text-align: right;\"> 0.2</td><td>Iris-setosa</td></tr>\n",
       "<tr><td style=\"text-align: right;\"> 5.4</td><td style=\"text-align: right;\"> 3.9</td><td style=\"text-align: right;\"> 1.7</td><td style=\"text-align: right;\"> 0.4</td><td>Iris-setosa</td></tr>\n",
       "<tr><td style=\"text-align: right;\"> 4.6</td><td style=\"text-align: right;\"> 3.4</td><td style=\"text-align: right;\"> 1.4</td><td style=\"text-align: right;\"> 0.3</td><td>Iris-setosa</td></tr>\n",
       "<tr><td style=\"text-align: right;\"> 5  </td><td style=\"text-align: right;\"> 3.4</td><td style=\"text-align: right;\"> 1.5</td><td style=\"text-align: right;\"> 0.2</td><td>Iris-setosa</td></tr>\n",
       "<tr><td style=\"text-align: right;\"> 4.4</td><td style=\"text-align: right;\"> 2.9</td><td style=\"text-align: right;\"> 1.4</td><td style=\"text-align: right;\"> 0.2</td><td>Iris-setosa</td></tr>\n",
       "<tr><td style=\"text-align: right;\"> 4.9</td><td style=\"text-align: right;\"> 3.1</td><td style=\"text-align: right;\"> 1.5</td><td style=\"text-align: right;\"> 0.1</td><td>Iris-setosa</td></tr>\n",
       "</tbody>\n",
       "</table>"
      ]
     },
     "metadata": {},
     "output_type": "display_data"
    },
    {
     "data": {
      "text/plain": [
       "<bound method H2OFrame.describe of >"
      ]
     },
     "execution_count": 59,
     "metadata": {},
     "output_type": "execute_result"
    }
   ],
   "source": [
    "data.describe"
   ]
  },
  {
   "cell_type": "code",
   "execution_count": 62,
   "metadata": {},
   "outputs": [],
   "source": [
    "#data=data.drop('Id',axis=1) # we need to delete the first column as it a unique serial number which \n",
    "# is of no use for the classification"
   ]
  },
  {
   "cell_type": "code",
   "execution_count": 68,
   "metadata": {},
   "outputs": [
    {
     "data": {
      "text/html": [
       "<table>\n",
       "<thead>\n",
       "<tr><th style=\"text-align: right;\">  SepalLengthCm</th><th style=\"text-align: right;\">  SepalWidthCm</th><th style=\"text-align: right;\">  PetalLengthCm</th><th style=\"text-align: right;\">  PetalWidthCm</th><th>Species    </th></tr>\n",
       "</thead>\n",
       "<tbody>\n",
       "<tr><td style=\"text-align: right;\">            5.1</td><td style=\"text-align: right;\">           3.5</td><td style=\"text-align: right;\">            1.4</td><td style=\"text-align: right;\">           0.2</td><td>Iris-setosa</td></tr>\n",
       "<tr><td style=\"text-align: right;\">            4.9</td><td style=\"text-align: right;\">           3  </td><td style=\"text-align: right;\">            1.4</td><td style=\"text-align: right;\">           0.2</td><td>Iris-setosa</td></tr>\n",
       "<tr><td style=\"text-align: right;\">            4.7</td><td style=\"text-align: right;\">           3.2</td><td style=\"text-align: right;\">            1.3</td><td style=\"text-align: right;\">           0.2</td><td>Iris-setosa</td></tr>\n",
       "<tr><td style=\"text-align: right;\">            4.6</td><td style=\"text-align: right;\">           3.1</td><td style=\"text-align: right;\">            1.5</td><td style=\"text-align: right;\">           0.2</td><td>Iris-setosa</td></tr>\n",
       "<tr><td style=\"text-align: right;\">            5  </td><td style=\"text-align: right;\">           3.6</td><td style=\"text-align: right;\">            1.4</td><td style=\"text-align: right;\">           0.2</td><td>Iris-setosa</td></tr>\n",
       "<tr><td style=\"text-align: right;\">            5.4</td><td style=\"text-align: right;\">           3.9</td><td style=\"text-align: right;\">            1.7</td><td style=\"text-align: right;\">           0.4</td><td>Iris-setosa</td></tr>\n",
       "<tr><td style=\"text-align: right;\">            4.6</td><td style=\"text-align: right;\">           3.4</td><td style=\"text-align: right;\">            1.4</td><td style=\"text-align: right;\">           0.3</td><td>Iris-setosa</td></tr>\n",
       "<tr><td style=\"text-align: right;\">            5  </td><td style=\"text-align: right;\">           3.4</td><td style=\"text-align: right;\">            1.5</td><td style=\"text-align: right;\">           0.2</td><td>Iris-setosa</td></tr>\n",
       "<tr><td style=\"text-align: right;\">            4.4</td><td style=\"text-align: right;\">           2.9</td><td style=\"text-align: right;\">            1.4</td><td style=\"text-align: right;\">           0.2</td><td>Iris-setosa</td></tr>\n",
       "<tr><td style=\"text-align: right;\">            4.9</td><td style=\"text-align: right;\">           3.1</td><td style=\"text-align: right;\">            1.5</td><td style=\"text-align: right;\">           0.1</td><td>Iris-setosa</td></tr>\n",
       "</tbody>\n",
       "</table>"
      ]
     },
     "metadata": {},
     "output_type": "display_data"
    },
    {
     "data": {
      "text/plain": []
     },
     "execution_count": 68,
     "metadata": {},
     "output_type": "execute_result"
    }
   ],
   "source": [
    "data.names\n",
    "[u'C1', u'C2', u'C3', u'C4', u'C5']\n",
    "\n",
    "data.set_names(['SepalLengthCm','SepalWidthCm','PetalLengthCm','PetalWidthCm','Species'])\n"
   ]
  },
  {
   "cell_type": "code",
   "execution_count": 69,
   "metadata": {},
   "outputs": [],
   "source": [
    "data['Species'] = data['Species'].asfactor()"
   ]
  },
  {
   "cell_type": "code",
   "execution_count": 70,
   "metadata": {},
   "outputs": [
    {
     "name": "stdout",
     "output_type": "stream",
     "text": [
      "Rows:150\n",
      "Cols:5\n",
      "\n",
      "\n"
     ]
    },
    {
     "data": {
      "text/html": [
       "<table>\n",
       "<thead>\n",
       "<tr><th>       </th><th>SepalLengthCm     </th><th>SepalWidthCm       </th><th>PetalLengthCm    </th><th>PetalWidthCm      </th><th>Species    </th></tr>\n",
       "</thead>\n",
       "<tbody>\n",
       "<tr><td>type   </td><td>real              </td><td>real               </td><td>real             </td><td>real              </td><td>enum       </td></tr>\n",
       "<tr><td>mins   </td><td>4.3               </td><td>2.0                </td><td>1.0              </td><td>0.1               </td><td>           </td></tr>\n",
       "<tr><td>mean   </td><td>5.843333333333333 </td><td>3.053999999999999  </td><td>3.758666666666667</td><td>1.1986666666666665</td><td>           </td></tr>\n",
       "<tr><td>maxs   </td><td>7.9               </td><td>4.4                </td><td>6.9              </td><td>2.5               </td><td>           </td></tr>\n",
       "<tr><td>sigma  </td><td>0.8280661279778637</td><td>0.43359431136217375</td><td>1.764420419952262</td><td>0.7631607417008414</td><td>           </td></tr>\n",
       "<tr><td>zeros  </td><td>0                 </td><td>0                  </td><td>0                </td><td>0                 </td><td>           </td></tr>\n",
       "<tr><td>missing</td><td>0                 </td><td>0                  </td><td>0                </td><td>0                 </td><td>0          </td></tr>\n",
       "<tr><td>0      </td><td>5.1               </td><td>3.5                </td><td>1.4              </td><td>0.2               </td><td>Iris-setosa</td></tr>\n",
       "<tr><td>1      </td><td>4.9               </td><td>3.0                </td><td>1.4              </td><td>0.2               </td><td>Iris-setosa</td></tr>\n",
       "<tr><td>2      </td><td>4.7               </td><td>3.2                </td><td>1.3              </td><td>0.2               </td><td>Iris-setosa</td></tr>\n",
       "<tr><td>3      </td><td>4.6               </td><td>3.1                </td><td>1.5              </td><td>0.2               </td><td>Iris-setosa</td></tr>\n",
       "<tr><td>4      </td><td>5.0               </td><td>3.6                </td><td>1.4              </td><td>0.2               </td><td>Iris-setosa</td></tr>\n",
       "<tr><td>5      </td><td>5.4               </td><td>3.9                </td><td>1.7              </td><td>0.4               </td><td>Iris-setosa</td></tr>\n",
       "<tr><td>6      </td><td>4.6               </td><td>3.4                </td><td>1.4              </td><td>0.3               </td><td>Iris-setosa</td></tr>\n",
       "<tr><td>7      </td><td>5.0               </td><td>3.4                </td><td>1.5              </td><td>0.2               </td><td>Iris-setosa</td></tr>\n",
       "<tr><td>8      </td><td>4.4               </td><td>2.9                </td><td>1.4              </td><td>0.2               </td><td>Iris-setosa</td></tr>\n",
       "<tr><td>9      </td><td>4.9               </td><td>3.1                </td><td>1.5              </td><td>0.1               </td><td>Iris-setosa</td></tr>\n",
       "</tbody>\n",
       "</table>"
      ]
     },
     "metadata": {},
     "output_type": "display_data"
    }
   ],
   "source": [
    "data.describe()"
   ]
  },
  {
   "cell_type": "code",
   "execution_count": 71,
   "metadata": {},
   "outputs": [
    {
     "data": {
      "text/plain": [
       "[4.0]"
      ]
     },
     "execution_count": 71,
     "metadata": {},
     "output_type": "execute_result"
    }
   ],
   "source": [
    "data.columns_by_type(\"categorical\")"
   ]
  },
  {
   "cell_type": "code",
   "execution_count": 72,
   "metadata": {},
   "outputs": [
    {
     "data": {
      "text/plain": [
       "['Species']"
      ]
     },
     "execution_count": 72,
     "metadata": {},
     "output_type": "execute_result"
    }
   ],
   "source": [
    "data[data.columns_by_type(\"categorical\")].col_names"
   ]
  },
  {
   "cell_type": "code",
   "execution_count": 73,
   "metadata": {},
   "outputs": [
    {
     "data": {
      "text/plain": [
       "[['Iris-setosa', 'Iris-versicolor', 'Iris-virginica']]"
      ]
     },
     "execution_count": 73,
     "metadata": {},
     "output_type": "execute_result"
    }
   ],
   "source": [
    "data['Species'].levels()"
   ]
  },
  {
   "cell_type": "code",
   "execution_count": 74,
   "metadata": {},
   "outputs": [],
   "source": [
    "response = \"Species\""
   ]
  },
  {
   "cell_type": "code",
   "execution_count": 75,
   "metadata": {},
   "outputs": [
    {
     "name": "stdout",
     "output_type": "stream",
     "text": [
      "['SepalLengthCm', 'SepalWidthCm', 'PetalLengthCm', 'PetalWidthCm']\n"
     ]
    }
   ],
   "source": [
    "features = data.col_names\n",
    "features.remove(response)\n",
    "print(features)"
   ]
  },
  {
   "cell_type": "markdown",
   "metadata": {},
   "source": [
    "# 1. Gradient Boosting Machine"
   ]
  },
  {
   "cell_type": "code",
   "execution_count": 76,
   "metadata": {},
   "outputs": [],
   "source": [
    "from h2o.estimators.gbm import H2OGradientBoostingEstimator"
   ]
  },
  {
   "cell_type": "code",
   "execution_count": 77,
   "metadata": {},
   "outputs": [],
   "source": [
    "iris_gbm = H2OGradientBoostingEstimator()"
   ]
  },
  {
   "cell_type": "code",
   "execution_count": 78,
   "metadata": {},
   "outputs": [
    {
     "name": "stdout",
     "output_type": "stream",
     "text": [
      "gbm Model Build progress: |███████████████████████████████████████████████| 100%\n"
     ]
    }
   ],
   "source": [
    "iris_gbm.train(x = features, y = response, training_frame=data)"
   ]
  },
  {
   "cell_type": "code",
   "execution_count": 79,
   "metadata": {},
   "outputs": [
    {
     "name": "stdout",
     "output_type": "stream",
     "text": [
      "Model Details\n",
      "=============\n",
      "H2OGradientBoostingEstimator :  Gradient Boosting Machine\n",
      "Model Key:  GBM_model_python_1532633295350_7386\n",
      "\n",
      "\n",
      "ModelMetricsMultinomial: gbm\n",
      "** Reported on train data. **\n",
      "\n",
      "MSE: 0.0028363898527273166\n",
      "RMSE: 0.05325776800361912\n",
      "LogLoss: 0.018812456609360567\n",
      "Mean Per-Class Error: 0.0\n",
      "Confusion Matrix: Row labels: Actual class; Column labels: Predicted class\n",
      "\n"
     ]
    },
    {
     "data": {
      "text/html": [
       "<div style=\"overflow:auto\"><table style=\"width:50%\"><tr><td><b>Iris-setosa</b></td>\n",
       "<td><b>Iris-versicolor</b></td>\n",
       "<td><b>Iris-virginica</b></td>\n",
       "<td><b>Error</b></td>\n",
       "<td><b>Rate</b></td></tr>\n",
       "<tr><td>50.0</td>\n",
       "<td>0.0</td>\n",
       "<td>0.0</td>\n",
       "<td>0.0</td>\n",
       "<td>0 / 50</td></tr>\n",
       "<tr><td>0.0</td>\n",
       "<td>50.0</td>\n",
       "<td>0.0</td>\n",
       "<td>0.0</td>\n",
       "<td>0 / 50</td></tr>\n",
       "<tr><td>0.0</td>\n",
       "<td>0.0</td>\n",
       "<td>50.0</td>\n",
       "<td>0.0</td>\n",
       "<td>0 / 50</td></tr>\n",
       "<tr><td>50.0</td>\n",
       "<td>50.0</td>\n",
       "<td>50.0</td>\n",
       "<td>0.0</td>\n",
       "<td>0 / 150</td></tr></table></div>"
      ],
      "text/plain": [
       "Iris-setosa    Iris-versicolor    Iris-virginica    Error    Rate\n",
       "-------------  -----------------  ----------------  -------  -------\n",
       "50             0                  0                 0        0 / 50\n",
       "0              50                 0                 0        0 / 50\n",
       "0              0                  50                0        0 / 50\n",
       "50             50                 50                0        0 / 150"
      ]
     },
     "metadata": {},
     "output_type": "display_data"
    },
    {
     "name": "stdout",
     "output_type": "stream",
     "text": [
      "Top-3 Hit Ratios: \n"
     ]
    },
    {
     "data": {
      "text/html": [
       "<div style=\"overflow:auto\"><table style=\"width:50%\"><tr><td><b>k</b></td>\n",
       "<td><b>hit_ratio</b></td></tr>\n",
       "<tr><td>1</td>\n",
       "<td>1.0</td></tr>\n",
       "<tr><td>2</td>\n",
       "<td>1.0</td></tr>\n",
       "<tr><td>3</td>\n",
       "<td>1.0</td></tr></table></div>"
      ],
      "text/plain": [
       "k    hit_ratio\n",
       "---  -----------\n",
       "1    1\n",
       "2    1\n",
       "3    1"
      ]
     },
     "metadata": {},
     "output_type": "display_data"
    },
    {
     "name": "stdout",
     "output_type": "stream",
     "text": [
      "Scoring History: \n"
     ]
    },
    {
     "data": {
      "text/html": [
       "<div style=\"overflow:auto\"><table style=\"width:50%\"><tr><td><b></b></td>\n",
       "<td><b>timestamp</b></td>\n",
       "<td><b>duration</b></td>\n",
       "<td><b>number_of_trees</b></td>\n",
       "<td><b>training_rmse</b></td>\n",
       "<td><b>training_logloss</b></td>\n",
       "<td><b>training_classification_error</b></td></tr>\n",
       "<tr><td></td>\n",
       "<td>2018-10-19 17:45:14</td>\n",
       "<td> 0.011 sec</td>\n",
       "<td>0.0</td>\n",
       "<td>0.6666667</td>\n",
       "<td>1.0986123</td>\n",
       "<td>0.64</td></tr>\n",
       "<tr><td></td>\n",
       "<td>2018-10-19 17:45:14</td>\n",
       "<td> 0.072 sec</td>\n",
       "<td>1.0</td>\n",
       "<td>0.6039400</td>\n",
       "<td>0.9266417</td>\n",
       "<td>0.04</td></tr>\n",
       "<tr><td></td>\n",
       "<td>2018-10-19 17:45:14</td>\n",
       "<td> 0.092 sec</td>\n",
       "<td>2.0</td>\n",
       "<td>0.5463898</td>\n",
       "<td>0.7914320</td>\n",
       "<td>0.0466667</td></tr>\n",
       "<tr><td></td>\n",
       "<td>2018-10-19 17:45:14</td>\n",
       "<td> 0.106 sec</td>\n",
       "<td>3.0</td>\n",
       "<td>0.4947885</td>\n",
       "<td>0.6835336</td>\n",
       "<td>0.0466667</td></tr>\n",
       "<tr><td></td>\n",
       "<td>2018-10-19 17:45:14</td>\n",
       "<td> 0.128 sec</td>\n",
       "<td>4.0</td>\n",
       "<td>0.4481401</td>\n",
       "<td>0.5945290</td>\n",
       "<td>0.0466667</td></tr>\n",
       "<tr><td>---</td>\n",
       "<td>---</td>\n",
       "<td>---</td>\n",
       "<td>---</td>\n",
       "<td>---</td>\n",
       "<td>---</td>\n",
       "<td>---</td></tr>\n",
       "<tr><td></td>\n",
       "<td>2018-10-19 17:45:15</td>\n",
       "<td> 1.133 sec</td>\n",
       "<td>46.0</td>\n",
       "<td>0.0603513</td>\n",
       "<td>0.0225288</td>\n",
       "<td>0.0</td></tr>\n",
       "<tr><td></td>\n",
       "<td>2018-10-19 17:45:15</td>\n",
       "<td> 1.143 sec</td>\n",
       "<td>47.0</td>\n",
       "<td>0.0581134</td>\n",
       "<td>0.0214278</td>\n",
       "<td>0.0</td></tr>\n",
       "<tr><td></td>\n",
       "<td>2018-10-19 17:45:15</td>\n",
       "<td> 1.154 sec</td>\n",
       "<td>48.0</td>\n",
       "<td>0.0563745</td>\n",
       "<td>0.0204908</td>\n",
       "<td>0.0</td></tr>\n",
       "<tr><td></td>\n",
       "<td>2018-10-19 17:45:15</td>\n",
       "<td> 1.193 sec</td>\n",
       "<td>49.0</td>\n",
       "<td>0.0546750</td>\n",
       "<td>0.0196491</td>\n",
       "<td>0.0</td></tr>\n",
       "<tr><td></td>\n",
       "<td>2018-10-19 17:45:15</td>\n",
       "<td> 1.228 sec</td>\n",
       "<td>50.0</td>\n",
       "<td>0.0532578</td>\n",
       "<td>0.0188125</td>\n",
       "<td>0.0</td></tr></table></div>"
      ],
      "text/plain": [
       "     timestamp            duration    number_of_trees    training_rmse         training_logloss      training_classification_error\n",
       "---  -------------------  ----------  -----------------  --------------------  --------------------  -------------------------------\n",
       "     2018-10-19 17:45:14  0.011 sec   0.0                0.6666666666666659    1.098612288668108     0.64\n",
       "     2018-10-19 17:45:14  0.072 sec   1.0                0.6039399664837836    0.926641673161003     0.04\n",
       "     2018-10-19 17:45:14  0.092 sec   2.0                0.5463897845347556    0.7914320464780091    0.04666666666666667\n",
       "     2018-10-19 17:45:14  0.106 sec   3.0                0.494788542404644     0.6835335555722121    0.04666666666666667\n",
       "     2018-10-19 17:45:14  0.128 sec   4.0                0.44814006827036085   0.5945289666810416    0.04666666666666667\n",
       "---  ---                  ---         ---                ---                   ---                   ---\n",
       "     2018-10-19 17:45:15  1.133 sec   46.0               0.060351260300317275  0.022528816682170317  0.0\n",
       "     2018-10-19 17:45:15  1.143 sec   47.0               0.05811335488390745   0.021427813128760298  0.0\n",
       "     2018-10-19 17:45:15  1.154 sec   48.0               0.056374480765171174  0.020490785291346805  0.0\n",
       "     2018-10-19 17:45:15  1.193 sec   49.0               0.05467498674654884   0.01964914643346242   0.0\n",
       "     2018-10-19 17:45:15  1.228 sec   50.0               0.05325776800361912   0.018812456609360567  0.0"
      ]
     },
     "metadata": {},
     "output_type": "display_data"
    },
    {
     "name": "stdout",
     "output_type": "stream",
     "text": [
      "\n",
      "See the whole table with table.as_data_frame()\n",
      "Variable Importances: \n"
     ]
    },
    {
     "data": {
      "text/html": [
       "<div style=\"overflow:auto\"><table style=\"width:50%\"><tr><td><b>variable</b></td>\n",
       "<td><b>relative_importance</b></td>\n",
       "<td><b>scaled_importance</b></td>\n",
       "<td><b>percentage</b></td></tr>\n",
       "<tr><td>PetalLengthCm</td>\n",
       "<td>227.9377289</td>\n",
       "<td>1.0</td>\n",
       "<td>0.4959819</td></tr>\n",
       "<tr><td>PetalWidthCm</td>\n",
       "<td>226.4931946</td>\n",
       "<td>0.9936626</td>\n",
       "<td>0.4928387</td></tr>\n",
       "<tr><td>SepalWidthCm</td>\n",
       "<td>2.8897071</td>\n",
       "<td>0.0126776</td>\n",
       "<td>0.0062879</td></tr>\n",
       "<tr><td>SepalLengthCm</td>\n",
       "<td>2.2479935</td>\n",
       "<td>0.0098623</td>\n",
       "<td>0.0048915</td></tr></table></div>"
      ],
      "text/plain": [
       "variable       relative_importance    scaled_importance    percentage\n",
       "-------------  ---------------------  -------------------  ------------\n",
       "PetalLengthCm  227.938                1                    0.495982\n",
       "PetalWidthCm   226.493                0.993663             0.492839\n",
       "SepalWidthCm   2.88971                0.0126776            0.00628787\n",
       "SepalLengthCm  2.24799                0.00986231           0.00489153"
      ]
     },
     "metadata": {},
     "output_type": "display_data"
    },
    {
     "data": {
      "text/plain": []
     },
     "execution_count": 79,
     "metadata": {},
     "output_type": "execute_result"
    }
   ],
   "source": [
    "iris_gbm"
   ]
  },
  {
   "cell_type": "code",
   "execution_count": 80,
   "metadata": {},
   "outputs": [
    {
     "name": "stdout",
     "output_type": "stream",
     "text": [
      "gbm prediction progress: |████████████████████████████████████████████████| 100%\n"
     ]
    }
   ],
   "source": [
    "iris_prediction = iris_gbm.predict(test_data=data)"
   ]
  },
  {
   "cell_type": "code",
   "execution_count": 81,
   "metadata": {},
   "outputs": [
    {
     "data": {
      "text/html": [
       "<table>\n",
       "<thead>\n",
       "<tr><th>predict    </th><th style=\"text-align: right;\">  Iris-setosa</th><th style=\"text-align: right;\">  Iris-versicolor</th><th style=\"text-align: right;\">  Iris-virginica</th></tr>\n",
       "</thead>\n",
       "<tbody>\n",
       "<tr><td>Iris-setosa</td><td style=\"text-align: right;\">     0.99893 </td><td style=\"text-align: right;\">      0.000565689</td><td style=\"text-align: right;\">     0.000504307</td></tr>\n",
       "<tr><td>Iris-setosa</td><td style=\"text-align: right;\">     0.998931</td><td style=\"text-align: right;\">      0.000566147</td><td style=\"text-align: right;\">     0.000502475</td></tr>\n",
       "<tr><td>Iris-setosa</td><td style=\"text-align: right;\">     0.99893 </td><td style=\"text-align: right;\">      0.00056636 </td><td style=\"text-align: right;\">     0.000503784</td></tr>\n",
       "<tr><td>Iris-setosa</td><td style=\"text-align: right;\">     0.998496</td><td style=\"text-align: right;\">      0.000651493</td><td style=\"text-align: right;\">     0.000852955</td></tr>\n",
       "<tr><td>Iris-setosa</td><td style=\"text-align: right;\">     0.99893 </td><td style=\"text-align: right;\">      0.000565701</td><td style=\"text-align: right;\">     0.000504318</td></tr>\n",
       "<tr><td>Iris-setosa</td><td style=\"text-align: right;\">     0.998345</td><td style=\"text-align: right;\">      0.00115235 </td><td style=\"text-align: right;\">     0.000502861</td></tr>\n",
       "<tr><td>Iris-setosa</td><td style=\"text-align: right;\">     0.99893 </td><td style=\"text-align: right;\">      0.000566356</td><td style=\"text-align: right;\">     0.000503835</td></tr>\n",
       "<tr><td>Iris-setosa</td><td style=\"text-align: right;\">     0.998879</td><td style=\"text-align: right;\">      0.000617457</td><td style=\"text-align: right;\">     0.000503239</td></tr>\n",
       "<tr><td>Iris-setosa</td><td style=\"text-align: right;\">     0.998947</td><td style=\"text-align: right;\">      0.000550974</td><td style=\"text-align: right;\">     0.000502437</td></tr>\n",
       "<tr><td>Iris-setosa</td><td style=\"text-align: right;\">     0.998496</td><td style=\"text-align: right;\">      0.00065149 </td><td style=\"text-align: right;\">     0.000852944</td></tr>\n",
       "</tbody>\n",
       "</table>"
      ]
     },
     "metadata": {},
     "output_type": "display_data"
    },
    {
     "data": {
      "text/plain": []
     },
     "execution_count": 81,
     "metadata": {},
     "output_type": "execute_result"
    }
   ],
   "source": [
    "iris_prediction"
   ]
  },
  {
   "cell_type": "code",
   "execution_count": 82,
   "metadata": {},
   "outputs": [
    {
     "name": "stdout",
     "output_type": "stream",
     "text": [
      "\n",
      "ModelMetricsMultinomial: gbm\n",
      "** Reported on test data. **\n",
      "\n",
      "MSE: 0.0028363898944457956\n",
      "RMSE: 0.05325776839528479\n",
      "LogLoss: 0.018812456568859062\n",
      "Mean Per-Class Error: 0.0\n",
      "Confusion Matrix: Row labels: Actual class; Column labels: Predicted class\n",
      "\n"
     ]
    },
    {
     "data": {
      "text/html": [
       "<div style=\"overflow:auto\"><table style=\"width:50%\"><tr><td><b>Iris-setosa</b></td>\n",
       "<td><b>Iris-versicolor</b></td>\n",
       "<td><b>Iris-virginica</b></td>\n",
       "<td><b>Error</b></td>\n",
       "<td><b>Rate</b></td></tr>\n",
       "<tr><td>50.0</td>\n",
       "<td>0.0</td>\n",
       "<td>0.0</td>\n",
       "<td>0.0</td>\n",
       "<td>0 / 50</td></tr>\n",
       "<tr><td>0.0</td>\n",
       "<td>50.0</td>\n",
       "<td>0.0</td>\n",
       "<td>0.0</td>\n",
       "<td>0 / 50</td></tr>\n",
       "<tr><td>0.0</td>\n",
       "<td>0.0</td>\n",
       "<td>50.0</td>\n",
       "<td>0.0</td>\n",
       "<td>0 / 50</td></tr>\n",
       "<tr><td>50.0</td>\n",
       "<td>50.0</td>\n",
       "<td>50.0</td>\n",
       "<td>0.0</td>\n",
       "<td>0 / 150</td></tr></table></div>"
      ],
      "text/plain": [
       "Iris-setosa    Iris-versicolor    Iris-virginica    Error    Rate\n",
       "-------------  -----------------  ----------------  -------  -------\n",
       "50             0                  0                 0        0 / 50\n",
       "0              50                 0                 0        0 / 50\n",
       "0              0                  50                0        0 / 50\n",
       "50             50                 50                0        0 / 150"
      ]
     },
     "metadata": {},
     "output_type": "display_data"
    },
    {
     "name": "stdout",
     "output_type": "stream",
     "text": [
      "Top-3 Hit Ratios: \n"
     ]
    },
    {
     "data": {
      "text/html": [
       "<div style=\"overflow:auto\"><table style=\"width:50%\"><tr><td><b>k</b></td>\n",
       "<td><b>hit_ratio</b></td></tr>\n",
       "<tr><td>1</td>\n",
       "<td>1.0</td></tr>\n",
       "<tr><td>2</td>\n",
       "<td>1.0</td></tr>\n",
       "<tr><td>3</td>\n",
       "<td>1.0</td></tr></table></div>"
      ],
      "text/plain": [
       "k    hit_ratio\n",
       "---  -----------\n",
       "1    1\n",
       "2    1\n",
       "3    1"
      ]
     },
     "metadata": {},
     "output_type": "display_data"
    },
    {
     "data": {
      "text/plain": []
     },
     "execution_count": 82,
     "metadata": {},
     "output_type": "execute_result"
    }
   ],
   "source": [
    "iris_gbm.model_performance(test_data=data)"
   ]
  },
  {
   "cell_type": "code",
   "execution_count": 83,
   "metadata": {},
   "outputs": [],
   "source": [
    "import pandas as pd\n",
    "import warnings\n",
    "warnings.filterwarnings('ignore')\n"
   ]
  },
  {
   "cell_type": "code",
   "execution_count": 84,
   "metadata": {},
   "outputs": [],
   "source": [
    "test_data = [{'SepalLengthCm': 3.4, 'SepalWidthCm': 3.5, 'PetalLengthCm': 5.1, 'PetalWidthCm': 4.1},\n",
    "         {'SepalLengthCm': 3.1, 'SepalWidthCm': 3.9, 'PetalLengthCm': 4.1, 'PetalWidthCm': 5.3},\n",
    "         {'SepalLengthCm': 2.9, 'SepalWidthCm': 3.7, 'PetalLengthCm': 4.6, 'PetalWidthCm': 3.5 }]\n",
    "df_test = pd.DataFrame(test_data)"
   ]
  },
  {
   "cell_type": "code",
   "execution_count": 85,
   "metadata": {},
   "outputs": [
    {
     "data": {
      "text/html": [
       "<div>\n",
       "<style scoped>\n",
       "    .dataframe tbody tr th:only-of-type {\n",
       "        vertical-align: middle;\n",
       "    }\n",
       "\n",
       "    .dataframe tbody tr th {\n",
       "        vertical-align: top;\n",
       "    }\n",
       "\n",
       "    .dataframe thead th {\n",
       "        text-align: right;\n",
       "    }\n",
       "</style>\n",
       "<table border=\"1\" class=\"dataframe\">\n",
       "  <thead>\n",
       "    <tr style=\"text-align: right;\">\n",
       "      <th></th>\n",
       "      <th>PetalLengthCm</th>\n",
       "      <th>PetalWidthCm</th>\n",
       "      <th>SepalLengthCm</th>\n",
       "      <th>SepalWidthCm</th>\n",
       "    </tr>\n",
       "  </thead>\n",
       "  <tbody>\n",
       "    <tr>\n",
       "      <th>0</th>\n",
       "      <td>5.1</td>\n",
       "      <td>4.1</td>\n",
       "      <td>3.4</td>\n",
       "      <td>3.5</td>\n",
       "    </tr>\n",
       "    <tr>\n",
       "      <th>1</th>\n",
       "      <td>4.1</td>\n",
       "      <td>5.3</td>\n",
       "      <td>3.1</td>\n",
       "      <td>3.9</td>\n",
       "    </tr>\n",
       "    <tr>\n",
       "      <th>2</th>\n",
       "      <td>4.6</td>\n",
       "      <td>3.5</td>\n",
       "      <td>2.9</td>\n",
       "      <td>3.7</td>\n",
       "    </tr>\n",
       "  </tbody>\n",
       "</table>\n",
       "</div>"
      ],
      "text/plain": [
       "   PetalLengthCm  PetalWidthCm  SepalLengthCm  SepalWidthCm\n",
       "0            5.1           4.1            3.4           3.5\n",
       "1            4.1           5.3            3.1           3.9\n",
       "2            4.6           3.5            2.9           3.7"
      ]
     },
     "execution_count": 85,
     "metadata": {},
     "output_type": "execute_result"
    }
   ],
   "source": [
    "df_test"
   ]
  },
  {
   "cell_type": "code",
   "execution_count": 86,
   "metadata": {},
   "outputs": [
    {
     "name": "stdout",
     "output_type": "stream",
     "text": [
      "Parse progress: |█████████████████████████████████████████████████████████| 100%\n"
     ]
    }
   ],
   "source": [
    "df_pred = h2o.H2OFrame(df_test)"
   ]
  },
  {
   "cell_type": "code",
   "execution_count": 87,
   "metadata": {},
   "outputs": [
    {
     "name": "stdout",
     "output_type": "stream",
     "text": [
      "gbm prediction progress: |████████████████████████████████████████████████| 100%\n"
     ]
    }
   ],
   "source": [
    "pred_result = iris_gbm.predict(test_data=df_pred)"
   ]
  },
  {
   "cell_type": "code",
   "execution_count": 88,
   "metadata": {},
   "outputs": [
    {
     "data": {
      "text/html": [
       "<table>\n",
       "<thead>\n",
       "<tr><th>predict       </th><th style=\"text-align: right;\">  Iris-setosa</th><th style=\"text-align: right;\">  Iris-versicolor</th><th style=\"text-align: right;\">  Iris-virginica</th></tr>\n",
       "</thead>\n",
       "<tbody>\n",
       "<tr><td>Iris-virginica</td><td style=\"text-align: right;\">   0.00184306</td><td style=\"text-align: right;\">        0.0162578</td><td style=\"text-align: right;\">        0.981899</td></tr>\n",
       "<tr><td>Iris-virginica</td><td style=\"text-align: right;\">   0.0105074 </td><td style=\"text-align: right;\">        0.287258 </td><td style=\"text-align: right;\">        0.702234</td></tr>\n",
       "<tr><td>Iris-virginica</td><td style=\"text-align: right;\">   0.0111248 </td><td style=\"text-align: right;\">        0.243437 </td><td style=\"text-align: right;\">        0.745439</td></tr>\n",
       "</tbody>\n",
       "</table>"
      ]
     },
     "metadata": {},
     "output_type": "display_data"
    },
    {
     "data": {
      "text/plain": []
     },
     "execution_count": 88,
     "metadata": {},
     "output_type": "execute_result"
    }
   ],
   "source": [
    "pred_result"
   ]
  },
  {
   "cell_type": "markdown",
   "metadata": {},
   "source": [
    "GBMs outperforms every other model on the list."
   ]
  },
  {
   "cell_type": "markdown",
   "metadata": {},
   "source": [
    "# 2. Generalized Linear Model\n"
   ]
  },
  {
   "cell_type": "code",
   "execution_count": 94,
   "metadata": {},
   "outputs": [
    {
     "data": {
      "text/plain": [
       "['SepalLengthCm', 'SepalWidthCm', 'PetalLengthCm', 'PetalWidthCm']"
      ]
     },
     "execution_count": 94,
     "metadata": {},
     "output_type": "execute_result"
    }
   ],
   "source": [
    "y = 'Species'\n",
    "x = list(data.columns)\n",
    "x.remove(y)\n",
    "x"
   ]
  },
  {
   "cell_type": "code",
   "execution_count": 91,
   "metadata": {},
   "outputs": [],
   "source": [
    "# Partition data into 70%, 15%, 15% chunks\n",
    "# Setting a seed will guarantee reproducibility\n",
    "\n",
    "splits = data.split_frame(ratios=[0.7, 0.15], seed=1)  \n",
    "\n",
    "train = splits[0]\n",
    "valid = splits[1]\n",
    "test = splits[2]"
   ]
  },
  {
   "cell_type": "code",
   "execution_count": 92,
   "metadata": {},
   "outputs": [
    {
     "name": "stdout",
     "output_type": "stream",
     "text": [
      "112\n",
      "19\n",
      "19\n"
     ]
    }
   ],
   "source": [
    "print(train.nrow)\n",
    "print(valid.nrow)\n",
    "print(test.nrow)"
   ]
  },
  {
   "cell_type": "code",
   "execution_count": 107,
   "metadata": {},
   "outputs": [],
   "source": [
    "# Import H2O GLM:\n",
    "from h2o.estimators.glm import H2OGeneralizedLinearEstimator"
   ]
  },
  {
   "cell_type": "markdown",
   "metadata": {},
   "source": [
    "**Train a default GLM**"
   ]
  },
  {
   "cell_type": "markdown",
   "metadata": {},
   "source": [
    "We first create an object of class, \"H2OGeneralizedLinearEstimator\". This does not actually do any training, it just sets the model up for training by specifying model parameters."
   ]
  },
  {
   "cell_type": "code",
   "execution_count": 134,
   "metadata": {},
   "outputs": [
    {
     "name": "stdout",
     "output_type": "stream",
     "text": [
      "glm Model Build progress: |███████████████████████████████████████████████| 100%\n"
     ]
    }
   ],
   "source": [
    "multinomial_fit1 = H2OGeneralizedLinearEstimator(family = \"multinomial\", model_id='multinomial_fit1')\n",
    "multinomial_fit1.train(y = response, x = features, training_frame = data)"
   ]
  },
  {
   "cell_type": "markdown",
   "metadata": {},
   "source": [
    "**Train a GLM with lambda search**"
   ]
  },
  {
   "cell_type": "markdown",
   "metadata": {},
   "source": [
    "Next we will do some automatic tuning by passing in a validation frame and setting lambda_search = True. Since we are training a GLM with regularization, we should try to find the right amount of regularization (to avoid overfitting). The model parameter, lambda, controls the amount of regularization in a GLM model and we can find the optimal value for lambda automatically by setting lambda_search = True and passing in a validation frame (which is used to evaluate model performance using a particular value of lambda)."
   ]
  },
  {
   "cell_type": "code",
   "execution_count": 135,
   "metadata": {},
   "outputs": [
    {
     "name": "stdout",
     "output_type": "stream",
     "text": [
      "glm Model Build progress: |███████████████████████████████████████████████| 100%\n"
     ]
    }
   ],
   "source": [
    "multinomial_fit2 = H2OGeneralizedLinearEstimator(family='multinomial', model_id='multinomial_fit2', lambda_search=True)\n",
    "multinomial_fit2.train(y = response, x = features, training_frame = data)"
   ]
  },
  {
   "cell_type": "markdown",
   "metadata": {},
   "source": [
    "**Evaluate model performance**"
   ]
  },
  {
   "cell_type": "code",
   "execution_count": 136,
   "metadata": {},
   "outputs": [],
   "source": [
    "multinomial_fit1 = multinomial_fit1.model_performance(test)\n",
    "multinomial_fit2 = multinomial_fit2.model_performance(test)"
   ]
  },
  {
   "cell_type": "code",
   "execution_count": 137,
   "metadata": {},
   "outputs": [
    {
     "name": "stdout",
     "output_type": "stream",
     "text": [
      "\n",
      "ModelMetricsMultinomialGLM: glm\n",
      "** Reported on test data. **\n",
      "\n",
      "MSE: 0.011560581342367475\n",
      "RMSE: 0.10752014389112151\n",
      "\n",
      "\n",
      "ModelMetricsMultinomialGLM: glm\n",
      "** Reported on test data. **\n",
      "\n",
      "MSE: 0.005446915335652197\n",
      "RMSE: 0.07380322036098558\n",
      "\n"
     ]
    }
   ],
   "source": [
    "# Print model performance\n",
    "print (multinomial_fit1)\n",
    "print (multinomial_fit2)"
   ]
  },
  {
   "cell_type": "markdown",
   "metadata": {},
   "source": [
    "Very less error observed in using the Multinomial GLMs. Partial plots and variable importance doesn't work for Multinomial classification"
   ]
  },
  {
   "cell_type": "markdown",
   "metadata": {},
   "source": [
    "# 3. Deep Learning"
   ]
  },
  {
   "cell_type": "code",
   "execution_count": 150,
   "metadata": {},
   "outputs": [
    {
     "name": "stdout",
     "output_type": "stream",
     "text": [
      "deeplearning Model Build progress: |██████████████████████████████████████| 100%\n",
      "Model Details\n",
      "=============\n",
      "H2ODeepLearningEstimator :  Deep Learning\n",
      "Model Key:  DeepLearning_model_python_1532633295350_7391\n",
      "\n",
      "\n",
      "ModelMetricsMultinomial: deeplearning\n",
      "** Reported on train data. **\n",
      "\n",
      "MSE: 0.33587273764211434\n",
      "RMSE: 0.5795452852384483\n",
      "LogLoss: 3.9990466700781653\n",
      "Mean Per-Class Error: 0.34\n",
      "Confusion Matrix: Row labels: Actual class; Column labels: Predicted class\n",
      "\n"
     ]
    },
    {
     "data": {
      "text/html": [
       "<div style=\"overflow:auto\"><table style=\"width:50%\"><tr><td><b>Iris-setosa</b></td>\n",
       "<td><b>Iris-versicolor</b></td>\n",
       "<td><b>Iris-virginica</b></td>\n",
       "<td><b>Error</b></td>\n",
       "<td><b>Rate</b></td></tr>\n",
       "<tr><td>49.0</td>\n",
       "<td>0.0</td>\n",
       "<td>1.0</td>\n",
       "<td>0.02</td>\n",
       "<td>1 / 50</td></tr>\n",
       "<tr><td>0.0</td>\n",
       "<td>0.0</td>\n",
       "<td>50.0</td>\n",
       "<td>1.0</td>\n",
       "<td>50 / 50</td></tr>\n",
       "<tr><td>0.0</td>\n",
       "<td>0.0</td>\n",
       "<td>50.0</td>\n",
       "<td>0.0</td>\n",
       "<td>0 / 50</td></tr>\n",
       "<tr><td>49.0</td>\n",
       "<td>0.0</td>\n",
       "<td>101.0</td>\n",
       "<td>0.34</td>\n",
       "<td>51 / 150</td></tr></table></div>"
      ],
      "text/plain": [
       "Iris-setosa    Iris-versicolor    Iris-virginica    Error    Rate\n",
       "-------------  -----------------  ----------------  -------  --------\n",
       "49             0                  1                 0.02     1 / 50\n",
       "0              0                  50                1        50 / 50\n",
       "0              0                  50                0        0 / 50\n",
       "49             0                  101               0.34     51 / 150"
      ]
     },
     "metadata": {},
     "output_type": "display_data"
    },
    {
     "name": "stdout",
     "output_type": "stream",
     "text": [
      "Top-3 Hit Ratios: \n"
     ]
    },
    {
     "data": {
      "text/html": [
       "<div style=\"overflow:auto\"><table style=\"width:50%\"><tr><td><b>k</b></td>\n",
       "<td><b>hit_ratio</b></td></tr>\n",
       "<tr><td>1</td>\n",
       "<td>0.66</td></tr>\n",
       "<tr><td>2</td>\n",
       "<td>0.6666667</td></tr>\n",
       "<tr><td>3</td>\n",
       "<td>1.0</td></tr></table></div>"
      ],
      "text/plain": [
       "k    hit_ratio\n",
       "---  -----------\n",
       "1    0.66\n",
       "2    0.666667\n",
       "3    1"
      ]
     },
     "metadata": {},
     "output_type": "display_data"
    },
    {
     "name": "stdout",
     "output_type": "stream",
     "text": [
      "Scoring History: \n"
     ]
    },
    {
     "data": {
      "text/html": [
       "<div style=\"overflow:auto\"><table style=\"width:50%\"><tr><td><b></b></td>\n",
       "<td><b>timestamp</b></td>\n",
       "<td><b>duration</b></td>\n",
       "<td><b>training_speed</b></td>\n",
       "<td><b>epochs</b></td>\n",
       "<td><b>iterations</b></td>\n",
       "<td><b>samples</b></td>\n",
       "<td><b>training_rmse</b></td>\n",
       "<td><b>training_logloss</b></td>\n",
       "<td><b>training_r2</b></td>\n",
       "<td><b>training_classification_error</b></td></tr>\n",
       "<tr><td></td>\n",
       "<td>2018-10-19 18:38:13</td>\n",
       "<td> 0.000 sec</td>\n",
       "<td>None</td>\n",
       "<td>0.0</td>\n",
       "<td>0</td>\n",
       "<td>0.0</td>\n",
       "<td>nan</td>\n",
       "<td>nan</td>\n",
       "<td>nan</td>\n",
       "<td>nan</td></tr>\n",
       "<tr><td></td>\n",
       "<td>2018-10-19 18:38:13</td>\n",
       "<td> 0.414 sec</td>\n",
       "<td>666 obs/sec</td>\n",
       "<td>0.12</td>\n",
       "<td>1</td>\n",
       "<td>18.0</td>\n",
       "<td>0.5795453</td>\n",
       "<td>3.9990467</td>\n",
       "<td>0.4961909</td>\n",
       "<td>0.34</td></tr>\n",
       "<tr><td></td>\n",
       "<td>2018-10-19 18:38:13</td>\n",
       "<td> 0.605 sec</td>\n",
       "<td>798 obs/sec</td>\n",
       "<td>1.08</td>\n",
       "<td>10</td>\n",
       "<td>162.0</td>\n",
       "<td>0.5780630</td>\n",
       "<td>5.2317508</td>\n",
       "<td>0.4987647</td>\n",
       "<td>0.3333333</td></tr>\n",
       "<tr><td></td>\n",
       "<td>2018-10-19 18:38:13</td>\n",
       "<td> 0.644 sec</td>\n",
       "<td>720 obs/sec</td>\n",
       "<td>1.08</td>\n",
       "<td>10</td>\n",
       "<td>162.0</td>\n",
       "<td>0.5795453</td>\n",
       "<td>3.9990467</td>\n",
       "<td>0.4961909</td>\n",
       "<td>0.34</td></tr></table></div>"
      ],
      "text/plain": [
       "    timestamp            duration    training_speed    epochs    iterations    samples    training_rmse    training_logloss    training_r2    training_classification_error\n",
       "--  -------------------  ----------  ----------------  --------  ------------  ---------  ---------------  ------------------  -------------  -------------------------------\n",
       "    2018-10-19 18:38:13  0.000 sec                     0         0             0          nan              nan                 nan            nan\n",
       "    2018-10-19 18:38:13  0.414 sec   666 obs/sec       0.12      1             18         0.579545         3.99905             0.496191       0.34\n",
       "    2018-10-19 18:38:13  0.605 sec   798 obs/sec       1.08      10            162        0.578063         5.23175             0.498765       0.333333\n",
       "    2018-10-19 18:38:13  0.644 sec   720 obs/sec       1.08      10            162        0.579545         3.99905             0.496191       0.34"
      ]
     },
     "metadata": {},
     "output_type": "display_data"
    },
    {
     "name": "stdout",
     "output_type": "stream",
     "text": [
      "Variable Importances: \n"
     ]
    },
    {
     "data": {
      "text/html": [
       "<div style=\"overflow:auto\"><table style=\"width:50%\"><tr><td><b>variable</b></td>\n",
       "<td><b>relative_importance</b></td>\n",
       "<td><b>scaled_importance</b></td>\n",
       "<td><b>percentage</b></td></tr>\n",
       "<tr><td>PetalLengthCm</td>\n",
       "<td>1.0</td>\n",
       "<td>1.0</td>\n",
       "<td>0.2623853</td></tr>\n",
       "<tr><td>SepalWidthCm</td>\n",
       "<td>0.9722013</td>\n",
       "<td>0.9722013</td>\n",
       "<td>0.2550913</td></tr>\n",
       "<tr><td>SepalLengthCm</td>\n",
       "<td>0.9436944</td>\n",
       "<td>0.9436944</td>\n",
       "<td>0.2476115</td></tr>\n",
       "<tr><td>PetalWidthCm</td>\n",
       "<td>0.8952938</td>\n",
       "<td>0.8952938</td>\n",
       "<td>0.2349119</td></tr></table></div>"
      ],
      "text/plain": [
       "variable       relative_importance    scaled_importance    percentage\n",
       "-------------  ---------------------  -------------------  ------------\n",
       "PetalLengthCm  1                      1                    0.262385\n",
       "SepalWidthCm   0.972201               0.972201             0.255091\n",
       "SepalLengthCm  0.943694               0.943694             0.247612\n",
       "PetalWidthCm   0.895294               0.895294             0.234912"
      ]
     },
     "metadata": {},
     "output_type": "display_data"
    },
    {
     "name": "stdout",
     "output_type": "stream",
     "text": [
      "deeplearning Model Build progress: |██████████████████████████████████████| 100%\n",
      "Model Details\n",
      "=============\n",
      "H2ODeepLearningEstimator :  Deep Learning\n",
      "Model Key:  DeepLearning_model_python_1532633295350_7392\n",
      "\n",
      "\n",
      "ModelMetricsMultinomial: deeplearning\n",
      "** Reported on train data. **\n",
      "\n",
      "MSE: 0.04174842476187793\n",
      "RMSE: 0.20432431270379434\n",
      "LogLoss: 0.21976041810695185\n",
      "Mean Per-Class Error: 0.05333333333333334\n",
      "Confusion Matrix: Row labels: Actual class; Column labels: Predicted class\n",
      "\n"
     ]
    },
    {
     "data": {
      "text/html": [
       "<div style=\"overflow:auto\"><table style=\"width:50%\"><tr><td><b>Iris-setosa</b></td>\n",
       "<td><b>Iris-versicolor</b></td>\n",
       "<td><b>Iris-virginica</b></td>\n",
       "<td><b>Error</b></td>\n",
       "<td><b>Rate</b></td></tr>\n",
       "<tr><td>50.0</td>\n",
       "<td>0.0</td>\n",
       "<td>0.0</td>\n",
       "<td>0.0</td>\n",
       "<td>0 / 50</td></tr>\n",
       "<tr><td>0.0</td>\n",
       "<td>50.0</td>\n",
       "<td>0.0</td>\n",
       "<td>0.0</td>\n",
       "<td>0 / 50</td></tr>\n",
       "<tr><td>0.0</td>\n",
       "<td>8.0</td>\n",
       "<td>42.0</td>\n",
       "<td>0.16</td>\n",
       "<td>8 / 50</td></tr>\n",
       "<tr><td>50.0</td>\n",
       "<td>58.0</td>\n",
       "<td>42.0</td>\n",
       "<td>0.0533333</td>\n",
       "<td>8 / 150</td></tr></table></div>"
      ],
      "text/plain": [
       "Iris-setosa    Iris-versicolor    Iris-virginica    Error      Rate\n",
       "-------------  -----------------  ----------------  ---------  -------\n",
       "50             0                  0                 0          0 / 50\n",
       "0              50                 0                 0          0 / 50\n",
       "0              8                  42                0.16       8 / 50\n",
       "50             58                 42                0.0533333  8 / 150"
      ]
     },
     "metadata": {},
     "output_type": "display_data"
    },
    {
     "name": "stdout",
     "output_type": "stream",
     "text": [
      "Top-3 Hit Ratios: \n"
     ]
    },
    {
     "data": {
      "text/html": [
       "<div style=\"overflow:auto\"><table style=\"width:50%\"><tr><td><b>k</b></td>\n",
       "<td><b>hit_ratio</b></td></tr>\n",
       "<tr><td>1</td>\n",
       "<td>0.9466667</td></tr>\n",
       "<tr><td>2</td>\n",
       "<td>1.0</td></tr>\n",
       "<tr><td>3</td>\n",
       "<td>1.0</td></tr></table></div>"
      ],
      "text/plain": [
       "k    hit_ratio\n",
       "---  -----------\n",
       "1    0.946667\n",
       "2    1\n",
       "3    1"
      ]
     },
     "metadata": {},
     "output_type": "display_data"
    },
    {
     "name": "stdout",
     "output_type": "stream",
     "text": [
      "Scoring History: \n"
     ]
    },
    {
     "data": {
      "text/html": [
       "<div style=\"overflow:auto\"><table style=\"width:50%\"><tr><td><b></b></td>\n",
       "<td><b>timestamp</b></td>\n",
       "<td><b>duration</b></td>\n",
       "<td><b>training_speed</b></td>\n",
       "<td><b>epochs</b></td>\n",
       "<td><b>iterations</b></td>\n",
       "<td><b>samples</b></td>\n",
       "<td><b>training_rmse</b></td>\n",
       "<td><b>training_logloss</b></td>\n",
       "<td><b>training_r2</b></td>\n",
       "<td><b>training_classification_error</b></td></tr>\n",
       "<tr><td></td>\n",
       "<td>2018-10-19 18:38:13</td>\n",
       "<td> 0.000 sec</td>\n",
       "<td>None</td>\n",
       "<td>0.0</td>\n",
       "<td>0</td>\n",
       "<td>0.0</td>\n",
       "<td>nan</td>\n",
       "<td>nan</td>\n",
       "<td>nan</td>\n",
       "<td>nan</td></tr>\n",
       "<tr><td></td>\n",
       "<td>2018-10-19 18:38:14</td>\n",
       "<td> 0.422 sec</td>\n",
       "<td>3978 obs/sec</td>\n",
       "<td>10.0</td>\n",
       "<td>1</td>\n",
       "<td>1500.0</td>\n",
       "<td>0.3824285</td>\n",
       "<td>0.6644393</td>\n",
       "<td>0.7806227</td>\n",
       "<td>0.1733333</td></tr>\n",
       "<tr><td></td>\n",
       "<td>2018-10-19 18:38:19</td>\n",
       "<td> 5.566 sec</td>\n",
       "<td>3815 obs/sec</td>\n",
       "<td>140.0</td>\n",
       "<td>14</td>\n",
       "<td>21000.0</td>\n",
       "<td>0.2229345</td>\n",
       "<td>0.2375138</td>\n",
       "<td>0.9254503</td>\n",
       "<td>0.0533333</td></tr>\n",
       "<tr><td></td>\n",
       "<td>2018-10-19 18:38:24</td>\n",
       "<td>10.192 sec</td>\n",
       "<td>3706 obs/sec</td>\n",
       "<td>250.0</td>\n",
       "<td>25</td>\n",
       "<td>37500.0</td>\n",
       "<td>0.2043243</td>\n",
       "<td>0.2197604</td>\n",
       "<td>0.9373774</td>\n",
       "<td>0.0533333</td></tr></table></div>"
      ],
      "text/plain": [
       "    timestamp            duration    training_speed    epochs    iterations    samples    training_rmse    training_logloss    training_r2    training_classification_error\n",
       "--  -------------------  ----------  ----------------  --------  ------------  ---------  ---------------  ------------------  -------------  -------------------------------\n",
       "    2018-10-19 18:38:13  0.000 sec                     0         0             0          nan              nan                 nan            nan\n",
       "    2018-10-19 18:38:14  0.422 sec   3978 obs/sec      10        1             1500       0.382429         0.664439            0.780623       0.173333\n",
       "    2018-10-19 18:38:19  5.566 sec   3815 obs/sec      140       14            21000      0.222934         0.237514            0.92545        0.0533333\n",
       "    2018-10-19 18:38:24  10.192 sec  3706 obs/sec      250       25            37500      0.204324         0.21976             0.937377       0.0533333"
      ]
     },
     "metadata": {},
     "output_type": "display_data"
    },
    {
     "name": "stdout",
     "output_type": "stream",
     "text": [
      "Variable Importances: \n"
     ]
    },
    {
     "data": {
      "text/html": [
       "<div style=\"overflow:auto\"><table style=\"width:50%\"><tr><td><b>variable</b></td>\n",
       "<td><b>relative_importance</b></td>\n",
       "<td><b>scaled_importance</b></td>\n",
       "<td><b>percentage</b></td></tr>\n",
       "<tr><td>PetalLengthCm</td>\n",
       "<td>1.0</td>\n",
       "<td>1.0</td>\n",
       "<td>0.2847838</td></tr>\n",
       "<tr><td>PetalWidthCm</td>\n",
       "<td>0.9983639</td>\n",
       "<td>0.9983639</td>\n",
       "<td>0.2843179</td></tr>\n",
       "<tr><td>SepalLengthCm</td>\n",
       "<td>0.7622693</td>\n",
       "<td>0.7622693</td>\n",
       "<td>0.2170820</td></tr>\n",
       "<tr><td>SepalWidthCm</td>\n",
       "<td>0.7508023</td>\n",
       "<td>0.7508023</td>\n",
       "<td>0.2138163</td></tr></table></div>"
      ],
      "text/plain": [
       "variable       relative_importance    scaled_importance    percentage\n",
       "-------------  ---------------------  -------------------  ------------\n",
       "PetalLengthCm  1                      1                    0.284784\n",
       "PetalWidthCm   0.998364               0.998364             0.284318\n",
       "SepalLengthCm  0.762269               0.762269             0.217082\n",
       "SepalWidthCm   0.750802               0.750802             0.213816"
      ]
     },
     "metadata": {},
     "output_type": "display_data"
    },
    {
     "name": "stdout",
     "output_type": "stream",
     "text": [
      "deeplearning Model Build progress: |██████████████████████████████████████| 100%\n",
      "Model Details\n",
      "=============\n",
      "H2ODeepLearningEstimator :  Deep Learning\n",
      "Model Key:  DeepLearning_model_python_1532633295350_7393\n",
      "\n",
      "\n",
      "ModelMetricsMultinomial: deeplearning\n",
      "** Reported on train data. **\n",
      "\n",
      "MSE: 0.02874677756589855\n",
      "RMSE: 0.1695487468720974\n",
      "LogLoss: 0.17551572517736536\n",
      "Mean Per-Class Error: 0.02666666666666667\n",
      "Confusion Matrix: Row labels: Actual class; Column labels: Predicted class\n",
      "\n"
     ]
    },
    {
     "data": {
      "text/html": [
       "<div style=\"overflow:auto\"><table style=\"width:50%\"><tr><td><b>Iris-setosa</b></td>\n",
       "<td><b>Iris-versicolor</b></td>\n",
       "<td><b>Iris-virginica</b></td>\n",
       "<td><b>Error</b></td>\n",
       "<td><b>Rate</b></td></tr>\n",
       "<tr><td>50.0</td>\n",
       "<td>0.0</td>\n",
       "<td>0.0</td>\n",
       "<td>0.0</td>\n",
       "<td>0 / 50</td></tr>\n",
       "<tr><td>0.0</td>\n",
       "<td>50.0</td>\n",
       "<td>0.0</td>\n",
       "<td>0.0</td>\n",
       "<td>0 / 50</td></tr>\n",
       "<tr><td>0.0</td>\n",
       "<td>4.0</td>\n",
       "<td>46.0</td>\n",
       "<td>0.08</td>\n",
       "<td>4 / 50</td></tr>\n",
       "<tr><td>50.0</td>\n",
       "<td>54.0</td>\n",
       "<td>46.0</td>\n",
       "<td>0.0266667</td>\n",
       "<td>4 / 150</td></tr></table></div>"
      ],
      "text/plain": [
       "Iris-setosa    Iris-versicolor    Iris-virginica    Error      Rate\n",
       "-------------  -----------------  ----------------  ---------  -------\n",
       "50             0                  0                 0          0 / 50\n",
       "0              50                 0                 0          0 / 50\n",
       "0              4                  46                0.08       4 / 50\n",
       "50             54                 46                0.0266667  4 / 150"
      ]
     },
     "metadata": {},
     "output_type": "display_data"
    },
    {
     "name": "stdout",
     "output_type": "stream",
     "text": [
      "Top-3 Hit Ratios: \n"
     ]
    },
    {
     "data": {
      "text/html": [
       "<div style=\"overflow:auto\"><table style=\"width:50%\"><tr><td><b>k</b></td>\n",
       "<td><b>hit_ratio</b></td></tr>\n",
       "<tr><td>1</td>\n",
       "<td>0.9733334</td></tr>\n",
       "<tr><td>2</td>\n",
       "<td>1.0</td></tr>\n",
       "<tr><td>3</td>\n",
       "<td>1.0</td></tr></table></div>"
      ],
      "text/plain": [
       "k    hit_ratio\n",
       "---  -----------\n",
       "1    0.973333\n",
       "2    1\n",
       "3    1"
      ]
     },
     "metadata": {},
     "output_type": "display_data"
    },
    {
     "name": "stdout",
     "output_type": "stream",
     "text": [
      "Scoring History: \n"
     ]
    },
    {
     "data": {
      "text/html": [
       "<div style=\"overflow:auto\"><table style=\"width:50%\"><tr><td><b></b></td>\n",
       "<td><b>timestamp</b></td>\n",
       "<td><b>duration</b></td>\n",
       "<td><b>training_speed</b></td>\n",
       "<td><b>epochs</b></td>\n",
       "<td><b>iterations</b></td>\n",
       "<td><b>samples</b></td>\n",
       "<td><b>training_rmse</b></td>\n",
       "<td><b>training_logloss</b></td>\n",
       "<td><b>training_r2</b></td>\n",
       "<td><b>training_classification_error</b></td></tr>\n",
       "<tr><td></td>\n",
       "<td>2018-10-19 18:38:24</td>\n",
       "<td> 0.000 sec</td>\n",
       "<td>None</td>\n",
       "<td>0.0</td>\n",
       "<td>0</td>\n",
       "<td>0.0</td>\n",
       "<td>nan</td>\n",
       "<td>nan</td>\n",
       "<td>nan</td>\n",
       "<td>nan</td></tr>\n",
       "<tr><td></td>\n",
       "<td>2018-10-19 18:38:24</td>\n",
       "<td> 0.531 sec</td>\n",
       "<td>3537 obs/sec</td>\n",
       "<td>10.0</td>\n",
       "<td>1</td>\n",
       "<td>1500.0</td>\n",
       "<td>0.6682032</td>\n",
       "<td>1.8684642</td>\n",
       "<td>0.3302566</td>\n",
       "<td>0.5</td></tr>\n",
       "<tr><td></td>\n",
       "<td>2018-10-19 18:38:30</td>\n",
       "<td> 5.827 sec</td>\n",
       "<td>3418 obs/sec</td>\n",
       "<td>130.0</td>\n",
       "<td>13</td>\n",
       "<td>19500.0</td>\n",
       "<td>0.2362937</td>\n",
       "<td>0.2966076</td>\n",
       "<td>0.9162480</td>\n",
       "<td>0.06</td></tr>\n",
       "<tr><td></td>\n",
       "<td>2018-10-19 18:38:35</td>\n",
       "<td>10.845 sec</td>\n",
       "<td>3920 obs/sec</td>\n",
       "<td>280.0</td>\n",
       "<td>28</td>\n",
       "<td>42000.0</td>\n",
       "<td>0.2320765</td>\n",
       "<td>0.2927421</td>\n",
       "<td>0.9192108</td>\n",
       "<td>0.06</td></tr>\n",
       "<tr><td></td>\n",
       "<td>2018-10-19 18:38:40</td>\n",
       "<td>15.999 sec</td>\n",
       "<td>4161 obs/sec</td>\n",
       "<td>440.0</td>\n",
       "<td>44</td>\n",
       "<td>66000.0</td>\n",
       "<td>0.2084025</td>\n",
       "<td>0.2562013</td>\n",
       "<td>0.9348526</td>\n",
       "<td>0.0466667</td></tr>\n",
       "<tr><td></td>\n",
       "<td>2018-10-19 18:38:42</td>\n",
       "<td>17.980 sec</td>\n",
       "<td>4206 obs/sec</td>\n",
       "<td>500.0</td>\n",
       "<td>50</td>\n",
       "<td>75000.0</td>\n",
       "<td>0.1695487</td>\n",
       "<td>0.1755157</td>\n",
       "<td>0.9568798</td>\n",
       "<td>0.0266667</td></tr></table></div>"
      ],
      "text/plain": [
       "    timestamp            duration    training_speed    epochs    iterations    samples    training_rmse    training_logloss    training_r2    training_classification_error\n",
       "--  -------------------  ----------  ----------------  --------  ------------  ---------  ---------------  ------------------  -------------  -------------------------------\n",
       "    2018-10-19 18:38:24  0.000 sec                     0         0             0          nan              nan                 nan            nan\n",
       "    2018-10-19 18:38:24  0.531 sec   3537 obs/sec      10        1             1500       0.668203         1.86846             0.330257       0.5\n",
       "    2018-10-19 18:38:30  5.827 sec   3418 obs/sec      130       13            19500      0.236294         0.296608            0.916248       0.06\n",
       "    2018-10-19 18:38:35  10.845 sec  3920 obs/sec      280       28            42000      0.232076         0.292742            0.919211       0.06\n",
       "    2018-10-19 18:38:40  15.999 sec  4161 obs/sec      440       44            66000      0.208402         0.256201            0.934853       0.0466667\n",
       "    2018-10-19 18:38:42  17.980 sec  4206 obs/sec      500       50            75000      0.169549         0.175516            0.95688        0.0266667"
      ]
     },
     "metadata": {},
     "output_type": "display_data"
    },
    {
     "name": "stdout",
     "output_type": "stream",
     "text": [
      "Variable Importances: \n"
     ]
    },
    {
     "data": {
      "text/html": [
       "<div style=\"overflow:auto\"><table style=\"width:50%\"><tr><td><b>variable</b></td>\n",
       "<td><b>relative_importance</b></td>\n",
       "<td><b>scaled_importance</b></td>\n",
       "<td><b>percentage</b></td></tr>\n",
       "<tr><td>PetalLengthCm</td>\n",
       "<td>1.0</td>\n",
       "<td>1.0</td>\n",
       "<td>0.3163113</td></tr>\n",
       "<tr><td>PetalWidthCm</td>\n",
       "<td>0.8831847</td>\n",
       "<td>0.8831847</td>\n",
       "<td>0.2793613</td></tr>\n",
       "<tr><td>SepalLengthCm</td>\n",
       "<td>0.6403560</td>\n",
       "<td>0.6403560</td>\n",
       "<td>0.2025518</td></tr>\n",
       "<tr><td>SepalWidthCm</td>\n",
       "<td>0.6379023</td>\n",
       "<td>0.6379023</td>\n",
       "<td>0.2017757</td></tr></table></div>"
      ],
      "text/plain": [
       "variable       relative_importance    scaled_importance    percentage\n",
       "-------------  ---------------------  -------------------  ------------\n",
       "PetalLengthCm  1                      1                    0.316311\n",
       "PetalWidthCm   0.883185               0.883185             0.279361\n",
       "SepalLengthCm  0.640356               0.640356             0.202552\n",
       "SepalWidthCm   0.637902               0.637902             0.201776"
      ]
     },
     "metadata": {},
     "output_type": "display_data"
    },
    {
     "name": "stdout",
     "output_type": "stream",
     "text": [
      "deeplearning Model Build progress: |██████████████████████████████████████| 100%\n"
     ]
    }
   ],
   "source": [
    "from h2o.estimators.deeplearning import H2OAutoEncoderEstimator, H2ODeepLearningEstimator\n",
    "dl_1 = H2ODeepLearningEstimator(epochs=1)\n",
    "dl_1.train(features, response, data)\n",
    "\n",
    "dl_250 = H2ODeepLearningEstimator(checkpoint=dl_1, epochs=250)\n",
    "dl_250.train(features, response, data)\n",
    "\n",
    "dl_500 = H2ODeepLearningEstimator(checkpoint=dl_250, epochs=500)\n",
    "dl_500.train(features, response, data)\n",
    "\n",
    "dl_750 = H2ODeepLearningEstimator(checkpoint=dl_500, epochs=750)\n",
    "dl_750.train(features,response, data)"
   ]
  },
  {
   "cell_type": "markdown",
   "metadata": {},
   "source": [
    "There's a gradual increase in the model performace with increasing epochs "
   ]
  },
  {
   "cell_type": "markdown",
   "metadata": {},
   "source": [
    "# Conclusion"
   ]
  },
  {
   "cell_type": "markdown",
   "metadata": {},
   "source": [
    "The best performance is found in Gradiant Boosting Machines which has zero error rate and even the other models does well enough with gives close to 100% accuracy. The Variable importance of Petal Length is observed in every model."
   ]
  },
  {
   "cell_type": "code",
   "execution_count": null,
   "metadata": {},
   "outputs": [],
   "source": []
  }
 ],
 "metadata": {
  "kernelspec": {
   "display_name": "Python 3",
   "language": "python",
   "name": "python3"
  },
  "language_info": {
   "codemirror_mode": {
    "name": "ipython",
    "version": 3
   },
   "file_extension": ".py",
   "mimetype": "text/x-python",
   "name": "python",
   "nbconvert_exporter": "python",
   "pygments_lexer": "ipython3",
   "version": "3.6.5"
  }
 },
 "nbformat": 4,
 "nbformat_minor": 2
}
